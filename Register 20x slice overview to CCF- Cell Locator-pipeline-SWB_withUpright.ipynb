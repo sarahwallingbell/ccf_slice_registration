{
 "cells": [
  {
   "cell_type": "code",
   "execution_count": 1,
   "metadata": {},
   "outputs": [],
   "source": [
    "import os \n",
    "import numpy as np\n",
    "import pandas as pd\n",
    "import SimpleITK as sitk\n",
    "import matplotlib.pyplot as plt\n",
    "import datetime\n",
    "\n",
    "import sys\n",
    "sys.path.append(r'\\\\allen\\programs\\celltypes\\workgroups\\mousecelltypes\\SarahWB\\ccf_slice_registration')\n",
    "from ccf_slice_registration_functions_withUpright import *\n",
    "from soma_and_fiducial_pins_new import *\n",
    "\n",
    "%matplotlib inline\n"
   ]
  },
  {
   "cell_type": "markdown",
   "metadata": {},
   "source": [
    "Inputs"
   ]
  },
  {
   "cell_type": "code",
   "execution_count": 2,
   "metadata": {},
   "outputs": [],
   "source": [
    "current_date = datetime.datetime.now().strftime('%Y%m%d')\n",
    "out = r'\\\\allen\\programs\\celltypes\\workgroups\\mousecelltypes\\SarahWB\\ccf_slice_registration\\ccf_reg_output_{}'.format(current_date) #root for ccf registration output \n",
    "\n",
    "os.makedirs(out, exist_ok=True)"
   ]
  },
  {
   "cell_type": "markdown",
   "metadata": {},
   "source": [
    "Get pins"
   ]
  },
  {
   "cell_type": "code",
   "execution_count": 3,
   "metadata": {},
   "outputs": [
    {
     "name": "stdout",
     "output_type": "stream",
     "text": [
      "{'slide_specimen_id': 1208614358, 'specimen_name': 'Curve'}\n",
      "WARNING: control point list empty, skipping\n",
      "{'slide_specimen_id': 1266114320, 'specimen_name': 'Gad2-IRES-Cre;Ai14-670842.06.02.01'}\n",
      "WARNING: more than one control point, using the first\n",
      "{'slide_specimen_id': 1374540601, 'specimen_name': 'C57BL6J-742760.03.02.01'}\n",
      "WARNING: more than one control point, using the first\n",
      "{'slide_specimen_id': 1262448162, 'specimen_name': 'Sst-IRES-Cre;Ai14-670419.09.03.02'}\n",
      "WARNING: more than one control point, using the first\n",
      "342 slices with fiducials\n"
     ]
    }
   ],
   "source": [
    "pins_path = get_soma_and_fiducial_pins()\n",
    "pins = pd.read_csv(pins_path)\n",
    "\n",
    "pins['specimen_name'] = pins['specimen_name'].str.strip() #strip any erroneous white space from the start and end fo specimen names\n",
    "pins = pins[pins['specimen_name'] != 'Point'] #remove one random pin on a cortical slice. \n",
    "\n",
    "#pins contains fiducial pins (specimen name ends in a letter) and soma pins (specimen name ends in a number)\n",
    "#break up pins into fiducial vs soma pin dataframes\n",
    "fiducials_dict = {}\n",
    "somas_dict = {}\n",
    "for i, p in pins.iterrows():\n",
    "    last_pin_char = p['specimen_name'][-1]\n",
    "    if last_pin_char.isalpha(): fiducials_dict[i] = p #the last char of the pin name is a letter, so this is a fiducial (not a soma) pin \n",
    "    else: somas_dict[i] = p #the last char of the pin name is a number, so this is a soma (not a fiducial) pin\n",
    "        \n",
    "somas = pd.DataFrame.from_dict(somas_dict, orient='index').reset_index().drop(['index'], axis=1)\n",
    "fiducials = pd.DataFrame.from_dict(fiducials_dict, orient='index').reset_index().drop(['index'], axis=1)\n",
    "\n",
    "slices = fiducials.slide_specimen_id.unique() #get the slices that have fiducials\n",
    "print('{} slices with fiducials'.format(len(slices)))"
   ]
  },
  {
   "cell_type": "code",
   "execution_count": 4,
   "metadata": {},
   "outputs": [],
   "source": [
    "somas.to_csv(os.path.join(out, '20241119_somas.csv'), index=False)\n",
    "fiducials.to_csv(os.path.join(out, '20241119_fiducials.csv'), index=False)\n"
   ]
  },
  {
   "cell_type": "markdown",
   "metadata": {},
   "source": [
    "Filter registration list"
   ]
  },
  {
   "cell_type": "code",
   "execution_count": 5,
   "metadata": {},
   "outputs": [],
   "source": [
    "# #load a csv and filter the cells and slices to register just those cells\n",
    "# want_to_register = pd.read_csv(r'\\\\allen\\programs\\celltypes\\workgroups\\mousecelltypes\\SarahWB\\datasets\\mouse_bg\\20241023\\20241023_mouse_BG.csv')\n",
    "# want_to_register['slide_specimen_id'] = want_to_register['Cell Specimen Id'].apply(lambda x: get_id_by_name(get_name_by_id(x).rsplit('.',1)[0]))\n",
    "# register_slices = want_to_register['slide_specimen_id'].unique().tolist()\n",
    "\n",
    "# #make note of any cells/slices that we wanted to register that don't have the fiducials to do so\n",
    "# missing_fiducials = list(set(register_slices) - set(slices))\n",
    "# print('missing_fiducials: {}'.format(missing_fiducials))\n",
    "\n",
    "# #update slices/cells to register\n",
    "# slices = list(set(slices).intersection(set(register_slices))) #only need to update the slices list - then only cells from these slices are registered #TODO is that true??? I don't actually think it is. "
   ]
  },
  {
   "cell_type": "markdown",
   "metadata": {},
   "source": [
    "Load CCF"
   ]
  },
  {
   "cell_type": "code",
   "execution_count": 6,
   "metadata": {},
   "outputs": [],
   "source": [
    "# read in CCF (with fixed headers)\n",
    "image_directory =  r'\\\\allen\\programs\\celltypes\\workgroups\\mousecelltypes\\_UPENN_fMOST\\mouse_ccf_fixed_headers_um\\average_template'\n",
    "ccf_file = os.path.join(image_directory, \"average_template_10.nii.gz\" )\n",
    "resolution = 10\n",
    "ccf = sitk.ReadImage( ccf_file )\n",
    "volume_shape = ccf.GetSize()\n",
    "z_size = volume_shape[2]*resolution\n",
    "z_midline = z_size / 2"
   ]
  },
  {
   "cell_type": "markdown",
   "metadata": {},
   "source": [
    "Transform slices to CCF"
   ]
  },
  {
   "cell_type": "code",
   "execution_count": 7,
   "metadata": {},
   "outputs": [
    {
     "name": "stdout",
     "output_type": "stream",
     "text": [
      "Crh-IRES-Cre_ZJH;Sst-IRES-FlpO;Ai65-561250.06.06\n",
      "Htr3a-Cre_NO152;Ai14-672490.06.03\n",
      "Vip-IRES-Cre;Ai14-548766.08.06\n",
      "Nos1-CreERT2;Sst-IRES-FlpO;Ai65-553472.08.06\n",
      "Crh-IRES-Cre_ZJH;Sst-IRES-FlpO;Ai65-561244.07.05\n",
      "\tissue with this slice 1075814440\n",
      "Sst-IRES-Cre;Ai14-554002.07.06\n",
      "Htr3a-Cre_NO152;Ai14-672490.08.04\n",
      "Chat-IRES-Cre-neo;Ai14-623124.07.03\n",
      "Sst-IRES-Cre;Ai14-572054.06.10\n",
      "Htr3a-Cre_NO152;Ai14-673660.08.03\n",
      "Ndnf-IRES2-dgCre;Ai14-597333.09.01\n",
      "Chat-IRES-Cre-neo;Ai14-627361.08.03\n",
      "Ndnf-IRES2-dgCre;Ai14-659660.06.10\n",
      "Penk-IRES2-Cre-neo;Slc17a6-IRES2-FlpO-557544-Ai65.05.09\n",
      "Pvalb-IRES-Cre;Ai14-553660.05.06\n",
      "Vip-IRES-Cre;Ai14-633751.14.04\n",
      "C57BL6J-576333.08.04\n",
      "Pvalb-IRES-Cre;Ai14-601230.11.01\n",
      "Rbp4-Cre_KL100;Ai14-601911.05.03\n",
      "C57BL6J-622938.07.03\n",
      "Pvalb-IRES-Cre;Ai14-553660.08.06\n",
      "Htr3a-Cre_NO152;Ai14-609164.05.03\n"
     ]
    },
    {
     "name": "stderr",
     "output_type": "stream",
     "text": [
      "C:\\Users\\sarah.wallingbell\\AppData\\Local\\Temp\\ipykernel_48184\\3774322932.py:164: RuntimeWarning: More than 20 figures have been opened. Figures created through the pyplot interface (`matplotlib.pyplot.figure`) are retained until explicitly closed and may consume too much memory. (To control this warning, see the rcParam `figure.max_open_warning`). Consider using `matplotlib.pyplot.close()`.\n",
      "  fig, axes = plt.subplots(nrows=1,ncols=4,figsize=(20,5))\n"
     ]
    },
    {
     "name": "stdout",
     "output_type": "stream",
     "text": [
      "Pvalb-IRES-Cre;Ai14-577972.06.03\n",
      "Pvalb-IRES-Cre;Ai14-577972.05.04\n",
      "Gad2-IRES-Cre;Ai14-600203.07.04\n",
      "C57BL6J-631344.05.03\n",
      "Vip-IRES-Cre;Ai14-579327.07.04\n",
      "Vip-IRES-Cre;Ai14-579326.07.03\n",
      "C57BL6J-581848.07.04\n",
      "Pvalb-IRES-Cre;Ai14-609302.05.04\n",
      "Pvalb-IRES-Cre;Ai14-609302.08.04\n",
      "C57BL6J-665266.07.06\n",
      "Pvalb-IRES-Cre;Ai14-609902.08.03\n",
      "Chat-IRES-Cre-neo;Ai14-591848.07.03\n",
      "Chat-IRES-Cre-neo;Ai14-582721.07.03\n",
      "C57BL6J-618127.06.03\n",
      "Pvalb-IRES-Cre;Ai14-609903.07.04\n",
      "Pvalb-IRES-Cre;Ai14-610299.08.04\n",
      "Rorb-IRES2-Cre-neo;Ai14-556727.06.06\n",
      "Htr3a-Cre_NO152;Ai14-617732.06.03\n",
      "C57BL6J-631344.08.04\n",
      "Pvalb-IRES-Cre;Ai14-621141.13.09\n",
      "Pvalb-IRES-Cre;Ai14-621142.14.09\n",
      "Pvalb-IRES-Cre;Ai14-621143.05.03\n",
      "C57BL6J-581849.06.03\n",
      "Pvalb-IRES-Cre;Ai14-621143.08.04\n",
      "Pvalb-IRES-Cre;Ai14-627393.07.03\n",
      "Pvalb-IRES-Cre;Ai14-629895.13.03\n",
      "C57BL6J-618128.07.03\n",
      "C57BL6J-581849.07.03\n",
      "Pvalb-IRES-Cre;Ai14-635532.12.04\n",
      "Chat-IRES-Cre-neo;Ai14-628761.08.03\n",
      "Slc17a8-iCre;Slc32a1-IRES2-FlpO;Ai65-560686.12.09\n",
      "Vip-IRES-Cre;Ai14-579325.07.04\n",
      "Chat-IRES-Cre-neo;Ai14-600096.07.04\n",
      "Pvalb-IRES-Cre;Ai14-610299.06.03\n",
      "Chat-IRES-Cre-neo;Ai14-611536.07.03\n",
      "Pvalb-IRES-Cre;Ai14-644261.12.03\n",
      "Pvalb-IRES-Cre;Ai14-650958.12.04\n",
      "Chat-IRES-Cre-neo;Ai14-606032.08.04\n",
      "Pvalb-IRES-Cre;Ai14-660325.07.01\n",
      "Htr3a-Cre_NO152;Ai14-640652.08.04\n",
      "C57BL6J-581850.06.03\n",
      "C57BL6J-588656.06.04\n",
      "C57BL6J-617127.16.09\n",
      "C57BL6J-617128.08.09\n",
      "C57BL6J-617129.15.09\n",
      "Slc17a8-iCre;Slc32a1-IRES2-FlpO;Ai65-560685.07.06\n",
      "Pvalb-IRES-Cre;Ai14-660326.08.01\n",
      "C57BL6J-618015.08.09\n",
      "Pvalb-IRES-Cre;Ai14-660825.06.01\n",
      "Slc17a6-IRES-Cre;Ai14-705107.12.10\n",
      "\tissue with this slice 1312459554\n",
      "Slc17a6-IRES-Cre;Ai14-705108.06.02\n",
      "Chat-IRES-Cre-neo;Ai14-624495.09.04\n",
      "Vip-IRES-Cre;Ai14-618853.07.04\n",
      "C57BL6J-661503.08.02\n",
      "Sncg-IRES2-FlpO-neo;Ai65F-546568.07.06\n",
      "Chat-IRES-Cre-neo;Ai14-624496.06.04\n",
      "Pvalb-IRES-Cre;Ai14-660825.06.02\n",
      "Pvalb-IRES-Cre;Ai14-673120.05.02\n",
      "Rbp4-Cre_KL100;Ai14-601911.06.04\n",
      "C57BL6J-618016.14.09\n",
      "C57BL6J-618128.06.03\n",
      "C57BL6J-581851.08.03\n",
      "Rbp4-Cre_KL100;Ai14-613769.06.04\n",
      "Sst-IRES-Cre;Ai14-657809.06.03\n",
      "C57BL6J-713765.06.01\n",
      "C57BL6J-719331.07.10\n",
      "Rbp4-Cre_KL100;Ai14-613769.07.03\n",
      "Rbp4-Cre_KL100;Ai14-669335.07.02\n",
      "\tnot enough fiducials\n",
      "Slc17a8-iCre;Slc32a1-IRES2-FlpO;Ai65-560685.08.06\n",
      "Vip-IRES-Cre;Ai14-580199.07.02\n",
      "Vip-IRES-Cre;Ai14-579324.07.04\n",
      "C57BL6J-618128.07.04\n",
      "Htr3a-Cre_NO152;Ai14-572779.04.10\n",
      "Chat-IRES-Cre-neo;Ai14-564233.06.09\n",
      "Ctgf-T2A-dgCre;Ai14-553529.08.06\n",
      "Rbp4-Cre_KL100;Ai14-613771.06.09\n",
      "C57BL6J-622939.06.04\n",
      "Esr2-IRES2-Cre;Ai14-557044.05.09\n",
      "\tissue with this slice 1068927614\n",
      "Rbp4-Cre_KL100;Ai14-618348.05.03\n",
      "C57BL6J-622939.07.04\n",
      "C57BL6J-622939.08.04\n",
      "C57BL6J-631343.08.04\n",
      "Rbp4-Cre_KL100;Ai14-618348.05.04\n",
      "Rbp4-Cre_KL100;Ai14-618348.07.03\n",
      "Rbp4-Cre_KL100;Ai14-618348.07.04\n",
      "Rbp4-Cre_KL100;Ai14-618349.05.04\n",
      "Rbp4-Cre_KL100;Ai14-618349.06.03\n",
      "Rbp4-Cre_KL100;Ai14-618349.06.04\n",
      "Rbp4-Cre_KL100;Ai14-658999.06.09\n",
      "Rbp4-Cre_KL100;Ai14-669338.06.01\n",
      "Chat-IRES-Cre-neo;Ai14-586529.06.04\n",
      "Rbp4-Cre_KL100;Ai14-669338.07.01\n",
      "C57BL6J-667414.10.10\n",
      "C57BL6J-631344.06.03\n",
      "\tnot enough fiducials\n",
      "C57BL6J-667556.08.06\n",
      "C57BL6J-631344.09.04\n",
      "C57BL6J-631345.08.03\n",
      "C57BL6J-631345.09.04\n",
      "Chat-IRES-Cre-neo;Ai14-585474.07.04\n",
      "Rbp4-Cre_KL100;Ai14-718901.05.01\n",
      "C57BL6J-645069.08.09\n",
      "Rbp4-Cre_KL100;Ai14-718902.10.03\n",
      "\tnot enough fiducials\n",
      "C57BL6J-647683.06.04\n",
      "C57BL6J-647685.06.06\n",
      "C57BL6J-650546.10.04\n",
      "C57BL6J-651700.08.09\n",
      "C57BL6J-661503.06.02\n",
      "C57BL6J-665262.18.10\n",
      "Rorb-IRES2-Cre-neo;Ai14-553330.09.09\n",
      "C57BL6J-665266.10.06\n",
      "Chat-IRES-Cre-neo;Ai14-609252.07.03\n",
      "C57BL6J-704702.13.10\n",
      "C57BL6J-718782.14.10\n",
      "\tnot enough fiducials\n",
      "Chat-IRES-Cre-neo;Ai14-576497.03.03\n",
      "Chat-IRES-Cre-neo;Ai14-576499.04.03\n",
      "Rorb-IRES2-Cre-neo;Ai14-553330.11.09\n",
      "Chat-IRES-Cre-neo;Ai14-573899.03.10\n",
      "Chat-IRES-Cre-neo;Ai14-576499.01.04\n",
      "Chat-IRES-Cre-neo;Ai14-576499.02.04\n",
      "Chat-IRES-Cre-neo;Ai14-585474.07.03\n",
      "Chat-IRES-Cre-neo;Ai14-585474.08.03\n",
      "Chat-IRES-Cre-neo;Ai14-585475.06.03\n",
      "Chat-IRES-Cre-neo;Ai14-585475.06.04\n",
      "Chat-IRES-Cre-neo;Ai14-585475.07.03\n",
      "Rorb-IRES2-Cre-neo;Ai14-556723.08.06\n",
      "Chat-IRES-Cre-neo;Ai14-586528.04.03\n",
      "Rorb-IRES2-Cre-neo;Ai14-556725.06.09\n",
      "Chat-IRES-Cre-neo;Ai14-586528.05.04\n",
      "Chat-IRES-Cre-neo;Ai14-586529.07.04\n",
      "Dbh-Cre-KI;Ai65-725229.09.06\n",
      "Chat-IRES-Cre-neo;Ai14-595718.07.04\n",
      "Chat-IRES-Cre-neo;Ai14-592380.05.03\n",
      "Chat-IRES-Cre-neo;Ai14-592380.06.03\n",
      "Rorb-IRES2-Cre-neo;Ai14-556727.08.06\n",
      "Chat-IRES-Cre-neo;Ai14-600091.05.03\n",
      "Chat-IRES-Cre-neo;Ai14-600092.06.03\n",
      "Chat-IRES-Cre-neo;Ai14-600095.06.03\n",
      "Chat-IRES-Cre-neo;Ai14-600095.06.04\n",
      "Chat-IRES-Cre-neo;Ai14-606032.07.04\n",
      "Chat-IRES-Cre-neo;Ai14-600091.07.03\n",
      "Chat-IRES-Cre-neo;Ai14-606033.04.04\n",
      "Chat-IRES-Cre-neo;Ai14-609252.05.03\n",
      "Chat-IRES-Cre-neo;Ai14-609252.06.04\n",
      "Chat-IRES-Cre-neo;Ai14-623124.07.04\n",
      "Chat-IRES-Cre-neo;Ai14-623127.07.03\n",
      "Chat-IRES-Cre-neo;Ai14-624495.09.03\n",
      "Rorb-IRES2-Cre-neo;Ai14-556806.05.09\n",
      "Chat-IRES-Cre-neo;Ai14-624496.06.03\n",
      "Rorb-IRES2-Cre-neo;Ai14-571899.05.10\n",
      "Chat-IRES-Cre-neo;Ai14-627361.07.04\n",
      "Chat-IRES-Cre-neo;Ai14-624496.07.03\n",
      "Rorb-IRES2-Cre-neo;Ai14-575331.06.03\n",
      "Chat-IRES-Cre-neo;Ai14-624496.07.04\n",
      "Rorb-IRES2-Cre-neo;Ai14-598710.12.02\n",
      "Chat-IRES-Cre-neo;Ai14-627366.08.03\n",
      "Chat-IRES-Cre-neo;Ai14-628761.06.04\n",
      "Rorb-IRES2-Cre-neo;Ai14-611981.05.03\n",
      "Chat-IRES-Cre-neo;Ai14-627361.09.03\n",
      "Rorb-IRES2-Cre-neo;Ai14-611981.07.03\n",
      "Chat-IRES-Cre-neo;Ai14-631351.12.03\n",
      "Ctgf-T2A-dgCre;Ai14-553528.09.09\n",
      "Chat-IRES-Cre-neo;Ai14-631353.15.03\n",
      "Gad2-IRES-Cre;Ai14-580680.07.04\n",
      "Gad2-IRES-Cre;Ai14-609670.05.03\n",
      "Chat-IRES-Cre-neo;Ai14-631355.12.03\n",
      "Dbh-Cre_KH212;RCL-H2B-GFP-657884.08.06\n",
      "\tnot enough fiducials\n",
      "Chat-IRES-Cre-neo;Ai14-631355.13.04\n",
      "Chat-IRES-Cre-neo;Ai14-645932.08.04\n",
      "\tnot enough fiducials\n",
      "Slc17a6-IRES-Cre;Ai14-564186.08.09\n",
      "Crh-IRES-Cre_ZJH;Sst-IRES-FlpO;Ai65-558386.05.09\n",
      "Slc17a6-IRES-Cre;Ai14-564187.03.09\n",
      "Slc17a6-IRES-Cre;Ai14-591476.09.09\n",
      "Ctgf-T2A-dgCre;Ai14-553529.08.06.02\n",
      "\tissue with this slice 1063002851\n",
      "Ctgf-T2A-dgCre;Ai14-571204.05.10\n",
      "Slc17a6-IRES-Cre;Ai14-578133.07.03\n",
      "Dbh-Cre_KH212;RCL-Sun1sfGFP-neo-650884.08.06\n",
      "Slc17a6-IRES-Cre;Ai14-578139.15.10\n",
      "Slc17a6-IRES-Cre;Ai14-612219.07.03\n",
      "Esr2-IRES2-Cre;Ai14-557045.04.09\n",
      "Etv1-CreERT2;Sst-IRES-FlpO;Ai65-555534.04.09\n",
      "Gad2-IRES-Cre;Ai14-643792.09.06\n",
      "Esr2-IRES2-Cre;Ai14-557045.05.09\n",
      "Slc17a6-IRES-Cre;Ai14-591727.10.09\n",
      "Esr2-IRES2-Cre;Ai14-566833.04.10\n",
      "Gad2-IRES-Cre;Ai14-600203.06.03\n",
      "Slc17a6-IRES-Cre;Ai14-596266.09.01\n",
      "Gad2-IRES-Cre;Ai14-663819.06.02\n",
      "Htr3a-Cre_NO152;Ai14-622819.08.03\n",
      "Gad2-IRES-Cre;Ai14-574192.10.09\n",
      "Gad2-IRES-Cre;Ai14-574194.04.10\n",
      "Gad2-IRES-Cre;Ai14-609670.04.03\n",
      "Gad2-IRES-Cre;Ai14-670843.06.01\n",
      "Gad2-IRES-Cre;Ai14-600203.06.04\n",
      "Gad2-IRES-Cre;Ai14-600206.05.03\n",
      "Gad2-IRES-Cre;Ai14-609670.07.03\n",
      "Gad2-IRES-Cre;Ai14-623716.09.01\n",
      "Gad2-IRES-Cre;Ai14-670842.05.02\n",
      "Gad2-IRES-Cre;Ai14-709271.06.02\n",
      "Gad2-IRES-Cre;Ai14-715659.07.02\n",
      "Glt25d2-Cre_NF107;Ai14-570372.07.09\n",
      "Slc17a6-IRES-Cre;Ai14-612219.07.04\n",
      "Glt25d2-Cre_NF107;Ai14-556826.04.09\n",
      "Htr3a-Cre_NO152;Ai14-621162.05.03\n",
      "Htr3a-Cre_NO152;Ai14-558491.08.06\n",
      "Htr3a-Cre_NO152;Ai14-563515.08.09\n",
      "Htr3a-Cre_NO152;Ai14-609165.07.04\n",
      "Htr3a-Cre_NO152;Ai14-563514.10.09\n",
      "Htr3a-Cre_NO152;Ai14-563515.04.09\n",
      "Slc17a6-IRES-Cre;Ai14-622106.07.03\n",
      "Htr3a-Cre_NO152;Ai14-612284.05.04\n",
      "Htr3a-Cre_NO152;Ai14-621162.08.04\n",
      "Slc17a6-IRES-Cre;Ai14-622107.08.03\n",
      "Htr3a-Cre_NO152;Ai14-622820.08.04\n",
      "Htr3a-Cre_NO152;Ai14-621163.06.04\n",
      "Htr3a-Cre_NO152;Ai14-622819.06.03\n",
      "Htr3a-Cre_NO152;Ai14-622819.08.04\n",
      "Htr3a-Cre_NO152;Ai14-622820.08.03\n",
      "Slc17a8-IRES2-Cre;Slc32a1-IRES2-FlpO;Ai65-354751.03.01\n",
      "Htr3a-Cre_NO152;Ai14-639654.06.04\n",
      "Htr3a-Cre_NO152;Ai14-640653.04.03\n",
      "Slc17a6-IRES-Cre;Ai14-634162.10.01\n",
      "Slc17a6-IRES-Cre;Ai14-634163.10.02\n",
      "Slc17a6-IRES-Cre;Ai14-651167.14.09\n",
      "Slc32a1-IRES-Cre;Ai14-570209.03.10\n",
      "Slc17a6-IRES-Cre;Ai14-680262.09.06\n",
      "Slc17a7-IRES2-Cre;Ai14-561511.06.09\n",
      "Slc17a7-IRES2-Cre;Ai14-561511.11.09\n",
      "Slc17a7-IRES2-Cre;Ai14-564812.04.10\n",
      "Slc32a1-IRES-Cre;Ai14-562359.09.09\n",
      "Slc32a1-IRES-Cre;Ai14-562359.11.09\n",
      "Sncg-IRES2-FlpO-neo;Ai65F-551971.07.06\n",
      "Sst-IRES-Cre;Ai14-572053.04.10\n",
      "Sst-IRES-Cre;Ai14-577300.05.04\n",
      "Sst-IRES-Cre;Ai14-552310.11.09\n",
      "Vip-IRES-Cre;Ai14-614426.06.03\n",
      "Vip-IRES-Cre;Ai14-627402.09.03\n",
      "Vip-IRES-Cre;Ai14-627403.08.04\n",
      "Sst-IRES-Cre;Ai14-572056.04.10\n",
      "Sst-IRES-Cre;Ai14-577302.07.03\n",
      "Sst-IRES-Cre;Ai14-577302.07.04\n",
      "Sst-IRES-Cre;Ai14-577302.06.03\n",
      "Sst-IRES-Cre;Ai14-577302.08.03\n",
      "Sst-IRES-Cre;Ai14-579950.09.03\n",
      "Sst-IRES-Cre;Ai14-579951.05.03\n",
      "Sst-IRES-Cre;Ai14-581872.15.10\n",
      "Sst-IRES-Cre;Ai14-586759.09.06\n",
      "Sst-IRES-Cre;Ai14-581873.18.10\n",
      "Sst-IRES-Cre;Ai14-594119.11.02\n",
      "Sst-IRES-Cre;Ai14-597071.12.02\n",
      "Sst-IRES-Cre;Ai14-597074.09.02\n",
      "Sst-IRES-Cre;Ai14-601711.05.03\n",
      "Sst-IRES-Cre;Ai14-601711.06.04\n",
      "Sst-IRES-Cre;Ai14-650712.09.04\n",
      "Sst-IRES-Cre;Ai14-724692.12.03\n",
      "Tlx3-Cre_PL56-603283.07.09\n",
      "\tnot enough fiducials\n",
      "Sst-IRES-Cre;Ai14-657809.07.04\n",
      "Sst-IRES-Cre;Ai14-659100.06.03\n",
      "Sst-IRES-Cre;Ai14-670419.09.03\n",
      "Sst-IRES-Cre;Th-P2A-FlpO;Ai65-561491.04.09\n",
      "Sst-IRES-Cre;Th-P2A-FlpO;Ai65-561491.10.09\n",
      "Th-P2A-FlpO;Ai65-575280.02.01\n",
      "Vip-IRES-Cre;Ai14-560422.06.09\n",
      "Vip-IRES-Cre;Ai14-563145.08.09\n",
      "Vipr2-IRES2-Cre;Slc32a1-IRES2-FlpO;Ai65-561070.06.09\n",
      "Vip-IRES-Cre;Ai14-579325.06.03\n",
      "Vip-IRES-Cre;Ai14-579326.08.03\n",
      "Vip-IRES-Cre;Ai14-579327.06.03\n",
      "Vip-IRES-Cre;Ai14-563145.10.09\n",
      "Vip-IRES-Cre;Ai14-579326.06.03\n",
      "Vip-IRES-Cre;Ai14-579328.06.03\n",
      "Vip-IRES-Cre;Ai14-585633.07.04\n",
      "Vip-IRES-Cre;Ai14-614430.05.04\n",
      "Vip-IRES-Cre;Ai14-579327.08.04\n",
      "Vip-IRES-Cre;Ai14-580792.05.04\n",
      "Vip-IRES-Cre;Ai14-585633.05.04\n",
      "Vip-IRES-Cre;Ai14-594742.11.01\n",
      "Vip-IRES-Cre;Ai14-597353.09.01\n",
      "Vip-IRES-Cre;Ai14-609322.06.03\n",
      "Vip-IRES-Cre;Ai14-585798.07.03\n",
      "Vip-IRES-Cre;Ai14-609321.07.03\n",
      "Vip-IRES-Cre;Ai14-614430.07.04\n",
      "Vip-IRES-Cre;Ai14-618853.06.04\n",
      "Vip-IRES-Cre;Ai14-609322.06.04\n",
      "Vip-IRES-Cre;Ai14-614426.05.03\n",
      "Vip-IRES-Cre;Ai14-614429.08.03\n",
      "Vip-IRES-Cre;Ai14-614430.08.04\n",
      "Vip-IRES-Cre;Ai14-616172.06.09\n",
      "Vip-IRES-Cre;Ai14-618853.05.04\n",
      "Vip-IRES-Cre;Ai14-624389.09.01\n",
      "Vip-IRES-Cre;Ai14-627402.08.04\n",
      "Vipr2-IRES2-Cre;Slc32a1-IRES2-FlpO;Ai65-561070.03.09\n",
      "Vipr2-IRES2-Cre;Slc32a1-IRES2-FlpO;Ai65-561070.05.09\n",
      "Vip-IRES-Cre;Ai14-633751.12.04\n",
      "Vipr2-IRES2-Cre;Slc32a1-IRES2-FlpO;Ai65-562071.12.09\n",
      "Htr3a-Cre_NO152;Ai14-578482.07.03\n",
      "Rbp4-Cre_KL100;Ai14-601913.06.04\n",
      "Ctgf-T2A-dgCre;Ai14-560652.09.06\n",
      "Dbh-Cre_KH212;RCL-H2B-GFP-705577.07.06\n",
      "Chat-IRES-Cre-neo;Ai14-600096.07.03\n",
      "\tissue with this slice 1137760437\n",
      "Sst-IRES-Cre;Ai14-670417.06.03\n",
      "Slc17a6-IRES-Cre;Ai14-660758.08.09\n",
      "Sst-IRES-Cre;Ai14-581875.06.04\n",
      "Dbh-Cre_KH212;RCL-H2B-GFP-657884.09.06\n",
      "Dbh-Cre_KH212;RCL-H2B-GFP-692026.09.10\n",
      "Dbh-Cre_KH212;RCL-Sun1sfGFP-neo-650884.09.06\n",
      "C57BL6J-665266.11.06\n",
      "Dbh-Cre_KH212;RCL-H2B-GFP-692026.10.10\n",
      "Slc17a8-IRES2-Cre-neo;Ai14-744794.01.09\n",
      "Dbh-Cre_KH212;RCL-H2B-GFP-705577.10.06\n",
      "Dbh-Cre_KH212;RCL-H2B-GFP-705581.10.06\n",
      "Dbh-Cre_KH212;RCL-H2B-GFP-724916.11.06\n",
      "Ndnf-IRES2-dgCre;Ai14-659663.11.06\n",
      "Rbp4-Cre_KL100;Ai14-659002.11.06\n",
      "Ndnf-IRES2-dgCre;Ai14-659661.11.06\n",
      "Pvalb-IRES-Cre;Ai14-650959.11.06\n",
      "Rbp4-Cre_KL100;Ai14-658998.09.06\n",
      "Slc17a6-IRES-Cre;Ai14-651169.10.06\n",
      "Slc17a6-IRES-Cre;Ai14-670828.09.06\n",
      "\tnot enough fiducials\n",
      "Slc17a8-IRES2-Cre-neo;Ai14-744792.04.09\n",
      "Slc17a6-IRES-Cre;Ai14-651168.10.06\n"
     ]
    },
    {
     "data": {
      "text/plain": [
       "<Figure size 2000x500 with 0 Axes>"
      ]
     },
     "metadata": {},
     "output_type": "display_data"
    },
    {
     "data": {
      "text/plain": [
       "<Figure size 2000x500 with 0 Axes>"
      ]
     },
     "metadata": {},
     "output_type": "display_data"
    },
    {
     "data": {
      "text/plain": [
       "<Figure size 2000x500 with 0 Axes>"
      ]
     },
     "metadata": {},
     "output_type": "display_data"
    },
    {
     "data": {
      "text/plain": [
       "<Figure size 2000x500 with 0 Axes>"
      ]
     },
     "metadata": {},
     "output_type": "display_data"
    },
    {
     "data": {
      "text/plain": [
       "<Figure size 2000x500 with 0 Axes>"
      ]
     },
     "metadata": {},
     "output_type": "display_data"
    },
    {
     "data": {
      "text/plain": [
       "<Figure size 2000x500 with 0 Axes>"
      ]
     },
     "metadata": {},
     "output_type": "display_data"
    },
    {
     "data": {
      "text/plain": [
       "<Figure size 2000x500 with 0 Axes>"
      ]
     },
     "metadata": {},
     "output_type": "display_data"
    },
    {
     "data": {
      "text/plain": [
       "<Figure size 2000x500 with 0 Axes>"
      ]
     },
     "metadata": {},
     "output_type": "display_data"
    },
    {
     "data": {
      "text/plain": [
       "<Figure size 2000x500 with 0 Axes>"
      ]
     },
     "metadata": {},
     "output_type": "display_data"
    },
    {
     "data": {
      "text/plain": [
       "<Figure size 2000x500 with 0 Axes>"
      ]
     },
     "metadata": {},
     "output_type": "display_data"
    },
    {
     "data": {
      "text/plain": [
       "<Figure size 2000x500 with 0 Axes>"
      ]
     },
     "metadata": {},
     "output_type": "display_data"
    },
    {
     "data": {
      "text/plain": [
       "<Figure size 2000x500 with 0 Axes>"
      ]
     },
     "metadata": {},
     "output_type": "display_data"
    },
    {
     "data": {
      "text/plain": [
       "<Figure size 2000x500 with 0 Axes>"
      ]
     },
     "metadata": {},
     "output_type": "display_data"
    },
    {
     "data": {
      "text/plain": [
       "<Figure size 2000x500 with 0 Axes>"
      ]
     },
     "metadata": {},
     "output_type": "display_data"
    },
    {
     "data": {
      "text/plain": [
       "<Figure size 2000x500 with 0 Axes>"
      ]
     },
     "metadata": {},
     "output_type": "display_data"
    },
    {
     "data": {
      "text/plain": [
       "<Figure size 2000x500 with 0 Axes>"
      ]
     },
     "metadata": {},
     "output_type": "display_data"
    },
    {
     "data": {
      "text/plain": [
       "<Figure size 2000x500 with 0 Axes>"
      ]
     },
     "metadata": {},
     "output_type": "display_data"
    },
    {
     "data": {
      "text/plain": [
       "<Figure size 2000x500 with 0 Axes>"
      ]
     },
     "metadata": {},
     "output_type": "display_data"
    },
    {
     "data": {
      "text/plain": [
       "<Figure size 2000x500 with 0 Axes>"
      ]
     },
     "metadata": {},
     "output_type": "display_data"
    },
    {
     "data": {
      "text/plain": [
       "<Figure size 2000x500 with 0 Axes>"
      ]
     },
     "metadata": {},
     "output_type": "display_data"
    },
    {
     "data": {
      "text/plain": [
       "<Figure size 2000x500 with 0 Axes>"
      ]
     },
     "metadata": {},
     "output_type": "display_data"
    },
    {
     "data": {
      "text/plain": [
       "<Figure size 2000x500 with 0 Axes>"
      ]
     },
     "metadata": {},
     "output_type": "display_data"
    },
    {
     "data": {
      "text/plain": [
       "<Figure size 2000x500 with 0 Axes>"
      ]
     },
     "metadata": {},
     "output_type": "display_data"
    },
    {
     "data": {
      "text/plain": [
       "<Figure size 2000x500 with 0 Axes>"
      ]
     },
     "metadata": {},
     "output_type": "display_data"
    },
    {
     "data": {
      "text/plain": [
       "<Figure size 2000x500 with 0 Axes>"
      ]
     },
     "metadata": {},
     "output_type": "display_data"
    },
    {
     "data": {
      "text/plain": [
       "<Figure size 2000x500 with 0 Axes>"
      ]
     },
     "metadata": {},
     "output_type": "display_data"
    },
    {
     "data": {
      "text/plain": [
       "<Figure size 2000x500 with 0 Axes>"
      ]
     },
     "metadata": {},
     "output_type": "display_data"
    },
    {
     "data": {
      "text/plain": [
       "<Figure size 2000x500 with 0 Axes>"
      ]
     },
     "metadata": {},
     "output_type": "display_data"
    },
    {
     "data": {
      "text/plain": [
       "<Figure size 2000x500 with 0 Axes>"
      ]
     },
     "metadata": {},
     "output_type": "display_data"
    },
    {
     "data": {
      "text/plain": [
       "<Figure size 2000x500 with 0 Axes>"
      ]
     },
     "metadata": {},
     "output_type": "display_data"
    },
    {
     "data": {
      "text/plain": [
       "<Figure size 2000x500 with 0 Axes>"
      ]
     },
     "metadata": {},
     "output_type": "display_data"
    },
    {
     "data": {
      "text/plain": [
       "<Figure size 2000x500 with 0 Axes>"
      ]
     },
     "metadata": {},
     "output_type": "display_data"
    },
    {
     "data": {
      "text/plain": [
       "<Figure size 2000x500 with 0 Axes>"
      ]
     },
     "metadata": {},
     "output_type": "display_data"
    },
    {
     "data": {
      "text/plain": [
       "<Figure size 2000x500 with 0 Axes>"
      ]
     },
     "metadata": {},
     "output_type": "display_data"
    },
    {
     "data": {
      "text/plain": [
       "<Figure size 2000x500 with 0 Axes>"
      ]
     },
     "metadata": {},
     "output_type": "display_data"
    },
    {
     "data": {
      "text/plain": [
       "<Figure size 2000x500 with 0 Axes>"
      ]
     },
     "metadata": {},
     "output_type": "display_data"
    },
    {
     "data": {
      "text/plain": [
       "<Figure size 2000x500 with 0 Axes>"
      ]
     },
     "metadata": {},
     "output_type": "display_data"
    },
    {
     "data": {
      "text/plain": [
       "<Figure size 2000x500 with 0 Axes>"
      ]
     },
     "metadata": {},
     "output_type": "display_data"
    },
    {
     "data": {
      "text/plain": [
       "<Figure size 2000x500 with 0 Axes>"
      ]
     },
     "metadata": {},
     "output_type": "display_data"
    },
    {
     "data": {
      "text/plain": [
       "<Figure size 2000x500 with 0 Axes>"
      ]
     },
     "metadata": {},
     "output_type": "display_data"
    },
    {
     "data": {
      "text/plain": [
       "<Figure size 2000x500 with 0 Axes>"
      ]
     },
     "metadata": {},
     "output_type": "display_data"
    },
    {
     "data": {
      "text/plain": [
       "<Figure size 2000x500 with 0 Axes>"
      ]
     },
     "metadata": {},
     "output_type": "display_data"
    },
    {
     "data": {
      "text/plain": [
       "<Figure size 2000x500 with 0 Axes>"
      ]
     },
     "metadata": {},
     "output_type": "display_data"
    },
    {
     "data": {
      "text/plain": [
       "<Figure size 2000x500 with 0 Axes>"
      ]
     },
     "metadata": {},
     "output_type": "display_data"
    },
    {
     "data": {
      "text/plain": [
       "<Figure size 2000x500 with 0 Axes>"
      ]
     },
     "metadata": {},
     "output_type": "display_data"
    },
    {
     "data": {
      "text/plain": [
       "<Figure size 2000x500 with 0 Axes>"
      ]
     },
     "metadata": {},
     "output_type": "display_data"
    },
    {
     "data": {
      "text/plain": [
       "<Figure size 2000x500 with 0 Axes>"
      ]
     },
     "metadata": {},
     "output_type": "display_data"
    },
    {
     "data": {
      "text/plain": [
       "<Figure size 2000x500 with 0 Axes>"
      ]
     },
     "metadata": {},
     "output_type": "display_data"
    },
    {
     "data": {
      "text/plain": [
       "<Figure size 2000x500 with 0 Axes>"
      ]
     },
     "metadata": {},
     "output_type": "display_data"
    },
    {
     "data": {
      "text/plain": [
       "<Figure size 2000x500 with 0 Axes>"
      ]
     },
     "metadata": {},
     "output_type": "display_data"
    },
    {
     "data": {
      "text/plain": [
       "<Figure size 2000x500 with 0 Axes>"
      ]
     },
     "metadata": {},
     "output_type": "display_data"
    },
    {
     "data": {
      "text/plain": [
       "<Figure size 2000x500 with 0 Axes>"
      ]
     },
     "metadata": {},
     "output_type": "display_data"
    },
    {
     "data": {
      "text/plain": [
       "<Figure size 2000x500 with 0 Axes>"
      ]
     },
     "metadata": {},
     "output_type": "display_data"
    },
    {
     "data": {
      "text/plain": [
       "<Figure size 2000x500 with 0 Axes>"
      ]
     },
     "metadata": {},
     "output_type": "display_data"
    },
    {
     "data": {
      "text/plain": [
       "<Figure size 2000x500 with 0 Axes>"
      ]
     },
     "metadata": {},
     "output_type": "display_data"
    },
    {
     "data": {
      "text/plain": [
       "<Figure size 2000x500 with 0 Axes>"
      ]
     },
     "metadata": {},
     "output_type": "display_data"
    },
    {
     "data": {
      "text/plain": [
       "<Figure size 2000x500 with 0 Axes>"
      ]
     },
     "metadata": {},
     "output_type": "display_data"
    },
    {
     "data": {
      "text/plain": [
       "<Figure size 2000x500 with 0 Axes>"
      ]
     },
     "metadata": {},
     "output_type": "display_data"
    },
    {
     "data": {
      "text/plain": [
       "<Figure size 2000x500 with 0 Axes>"
      ]
     },
     "metadata": {},
     "output_type": "display_data"
    },
    {
     "data": {
      "text/plain": [
       "<Figure size 2000x500 with 0 Axes>"
      ]
     },
     "metadata": {},
     "output_type": "display_data"
    },
    {
     "data": {
      "text/plain": [
       "<Figure size 2000x500 with 0 Axes>"
      ]
     },
     "metadata": {},
     "output_type": "display_data"
    },
    {
     "data": {
      "text/plain": [
       "<Figure size 2000x500 with 0 Axes>"
      ]
     },
     "metadata": {},
     "output_type": "display_data"
    },
    {
     "data": {
      "text/plain": [
       "<Figure size 2000x500 with 0 Axes>"
      ]
     },
     "metadata": {},
     "output_type": "display_data"
    },
    {
     "data": {
      "text/plain": [
       "<Figure size 2000x500 with 0 Axes>"
      ]
     },
     "metadata": {},
     "output_type": "display_data"
    },
    {
     "data": {
      "text/plain": [
       "<Figure size 2000x500 with 0 Axes>"
      ]
     },
     "metadata": {},
     "output_type": "display_data"
    },
    {
     "data": {
      "text/plain": [
       "<Figure size 2000x500 with 0 Axes>"
      ]
     },
     "metadata": {},
     "output_type": "display_data"
    },
    {
     "data": {
      "text/plain": [
       "<Figure size 2000x500 with 0 Axes>"
      ]
     },
     "metadata": {},
     "output_type": "display_data"
    },
    {
     "data": {
      "text/plain": [
       "<Figure size 2000x500 with 0 Axes>"
      ]
     },
     "metadata": {},
     "output_type": "display_data"
    },
    {
     "data": {
      "text/plain": [
       "<Figure size 2000x500 with 0 Axes>"
      ]
     },
     "metadata": {},
     "output_type": "display_data"
    },
    {
     "data": {
      "text/plain": [
       "<Figure size 2000x500 with 0 Axes>"
      ]
     },
     "metadata": {},
     "output_type": "display_data"
    },
    {
     "data": {
      "text/plain": [
       "<Figure size 2000x500 with 0 Axes>"
      ]
     },
     "metadata": {},
     "output_type": "display_data"
    },
    {
     "data": {
      "text/plain": [
       "<Figure size 2000x500 with 0 Axes>"
      ]
     },
     "metadata": {},
     "output_type": "display_data"
    },
    {
     "data": {
      "text/plain": [
       "<Figure size 2000x500 with 0 Axes>"
      ]
     },
     "metadata": {},
     "output_type": "display_data"
    },
    {
     "data": {
      "text/plain": [
       "<Figure size 2000x500 with 0 Axes>"
      ]
     },
     "metadata": {},
     "output_type": "display_data"
    },
    {
     "data": {
      "text/plain": [
       "<Figure size 2000x500 with 0 Axes>"
      ]
     },
     "metadata": {},
     "output_type": "display_data"
    },
    {
     "data": {
      "text/plain": [
       "<Figure size 2000x500 with 0 Axes>"
      ]
     },
     "metadata": {},
     "output_type": "display_data"
    },
    {
     "data": {
      "text/plain": [
       "<Figure size 2000x500 with 0 Axes>"
      ]
     },
     "metadata": {},
     "output_type": "display_data"
    },
    {
     "data": {
      "text/plain": [
       "<Figure size 2000x500 with 0 Axes>"
      ]
     },
     "metadata": {},
     "output_type": "display_data"
    },
    {
     "data": {
      "text/plain": [
       "<Figure size 2000x500 with 0 Axes>"
      ]
     },
     "metadata": {},
     "output_type": "display_data"
    },
    {
     "data": {
      "text/plain": [
       "<Figure size 2000x500 with 0 Axes>"
      ]
     },
     "metadata": {},
     "output_type": "display_data"
    },
    {
     "data": {
      "text/plain": [
       "<Figure size 2000x500 with 0 Axes>"
      ]
     },
     "metadata": {},
     "output_type": "display_data"
    },
    {
     "data": {
      "text/plain": [
       "<Figure size 2000x500 with 0 Axes>"
      ]
     },
     "metadata": {},
     "output_type": "display_data"
    },
    {
     "data": {
      "text/plain": [
       "<Figure size 2000x500 with 0 Axes>"
      ]
     },
     "metadata": {},
     "output_type": "display_data"
    },
    {
     "data": {
      "text/plain": [
       "<Figure size 2000x500 with 0 Axes>"
      ]
     },
     "metadata": {},
     "output_type": "display_data"
    },
    {
     "data": {
      "text/plain": [
       "<Figure size 2000x500 with 0 Axes>"
      ]
     },
     "metadata": {},
     "output_type": "display_data"
    },
    {
     "data": {
      "text/plain": [
       "<Figure size 2000x500 with 0 Axes>"
      ]
     },
     "metadata": {},
     "output_type": "display_data"
    },
    {
     "data": {
      "text/plain": [
       "<Figure size 2000x500 with 0 Axes>"
      ]
     },
     "metadata": {},
     "output_type": "display_data"
    },
    {
     "data": {
      "text/plain": [
       "<Figure size 2000x500 with 0 Axes>"
      ]
     },
     "metadata": {},
     "output_type": "display_data"
    },
    {
     "data": {
      "text/plain": [
       "<Figure size 2000x500 with 0 Axes>"
      ]
     },
     "metadata": {},
     "output_type": "display_data"
    },
    {
     "data": {
      "text/plain": [
       "<Figure size 2000x500 with 0 Axes>"
      ]
     },
     "metadata": {},
     "output_type": "display_data"
    },
    {
     "data": {
      "text/plain": [
       "<Figure size 2000x500 with 0 Axes>"
      ]
     },
     "metadata": {},
     "output_type": "display_data"
    },
    {
     "data": {
      "text/plain": [
       "<Figure size 2000x500 with 0 Axes>"
      ]
     },
     "metadata": {},
     "output_type": "display_data"
    },
    {
     "data": {
      "text/plain": [
       "<Figure size 2000x500 with 0 Axes>"
      ]
     },
     "metadata": {},
     "output_type": "display_data"
    },
    {
     "data": {
      "text/plain": [
       "<Figure size 2000x500 with 0 Axes>"
      ]
     },
     "metadata": {},
     "output_type": "display_data"
    },
    {
     "data": {
      "text/plain": [
       "<Figure size 2000x500 with 0 Axes>"
      ]
     },
     "metadata": {},
     "output_type": "display_data"
    },
    {
     "data": {
      "text/plain": [
       "<Figure size 2000x500 with 0 Axes>"
      ]
     },
     "metadata": {},
     "output_type": "display_data"
    },
    {
     "data": {
      "text/plain": [
       "<Figure size 2000x500 with 0 Axes>"
      ]
     },
     "metadata": {},
     "output_type": "display_data"
    },
    {
     "data": {
      "text/plain": [
       "<Figure size 2000x500 with 0 Axes>"
      ]
     },
     "metadata": {},
     "output_type": "display_data"
    },
    {
     "data": {
      "text/plain": [
       "<Figure size 2000x500 with 0 Axes>"
      ]
     },
     "metadata": {},
     "output_type": "display_data"
    },
    {
     "data": {
      "text/plain": [
       "<Figure size 2000x500 with 0 Axes>"
      ]
     },
     "metadata": {},
     "output_type": "display_data"
    },
    {
     "data": {
      "text/plain": [
       "<Figure size 2000x500 with 0 Axes>"
      ]
     },
     "metadata": {},
     "output_type": "display_data"
    },
    {
     "data": {
      "text/plain": [
       "<Figure size 2000x500 with 0 Axes>"
      ]
     },
     "metadata": {},
     "output_type": "display_data"
    },
    {
     "data": {
      "text/plain": [
       "<Figure size 2000x500 with 0 Axes>"
      ]
     },
     "metadata": {},
     "output_type": "display_data"
    },
    {
     "data": {
      "text/plain": [
       "<Figure size 2000x500 with 0 Axes>"
      ]
     },
     "metadata": {},
     "output_type": "display_data"
    },
    {
     "data": {
      "text/plain": [
       "<Figure size 2000x500 with 0 Axes>"
      ]
     },
     "metadata": {},
     "output_type": "display_data"
    },
    {
     "data": {
      "text/plain": [
       "<Figure size 2000x500 with 0 Axes>"
      ]
     },
     "metadata": {},
     "output_type": "display_data"
    },
    {
     "data": {
      "text/plain": [
       "<Figure size 2000x500 with 0 Axes>"
      ]
     },
     "metadata": {},
     "output_type": "display_data"
    },
    {
     "data": {
      "text/plain": [
       "<Figure size 2000x500 with 0 Axes>"
      ]
     },
     "metadata": {},
     "output_type": "display_data"
    },
    {
     "data": {
      "text/plain": [
       "<Figure size 2000x500 with 0 Axes>"
      ]
     },
     "metadata": {},
     "output_type": "display_data"
    },
    {
     "data": {
      "text/plain": [
       "<Figure size 2000x500 with 0 Axes>"
      ]
     },
     "metadata": {},
     "output_type": "display_data"
    },
    {
     "data": {
      "text/plain": [
       "<Figure size 2000x500 with 0 Axes>"
      ]
     },
     "metadata": {},
     "output_type": "display_data"
    },
    {
     "data": {
      "text/plain": [
       "<Figure size 2000x500 with 0 Axes>"
      ]
     },
     "metadata": {},
     "output_type": "display_data"
    },
    {
     "data": {
      "text/plain": [
       "<Figure size 2000x500 with 0 Axes>"
      ]
     },
     "metadata": {},
     "output_type": "display_data"
    },
    {
     "data": {
      "text/plain": [
       "<Figure size 2000x500 with 0 Axes>"
      ]
     },
     "metadata": {},
     "output_type": "display_data"
    },
    {
     "data": {
      "text/plain": [
       "<Figure size 2000x500 with 0 Axes>"
      ]
     },
     "metadata": {},
     "output_type": "display_data"
    },
    {
     "data": {
      "text/plain": [
       "<Figure size 2000x500 with 0 Axes>"
      ]
     },
     "metadata": {},
     "output_type": "display_data"
    },
    {
     "data": {
      "text/plain": [
       "<Figure size 2000x500 with 0 Axes>"
      ]
     },
     "metadata": {},
     "output_type": "display_data"
    },
    {
     "data": {
      "text/plain": [
       "<Figure size 2000x500 with 0 Axes>"
      ]
     },
     "metadata": {},
     "output_type": "display_data"
    },
    {
     "data": {
      "text/plain": [
       "<Figure size 2000x500 with 0 Axes>"
      ]
     },
     "metadata": {},
     "output_type": "display_data"
    },
    {
     "data": {
      "text/plain": [
       "<Figure size 2000x500 with 0 Axes>"
      ]
     },
     "metadata": {},
     "output_type": "display_data"
    },
    {
     "data": {
      "text/plain": [
       "<Figure size 2000x500 with 0 Axes>"
      ]
     },
     "metadata": {},
     "output_type": "display_data"
    },
    {
     "data": {
      "text/plain": [
       "<Figure size 2000x500 with 0 Axes>"
      ]
     },
     "metadata": {},
     "output_type": "display_data"
    },
    {
     "data": {
      "text/plain": [
       "<Figure size 2000x500 with 0 Axes>"
      ]
     },
     "metadata": {},
     "output_type": "display_data"
    },
    {
     "data": {
      "text/plain": [
       "<Figure size 2000x500 with 0 Axes>"
      ]
     },
     "metadata": {},
     "output_type": "display_data"
    },
    {
     "data": {
      "text/plain": [
       "<Figure size 2000x500 with 0 Axes>"
      ]
     },
     "metadata": {},
     "output_type": "display_data"
    },
    {
     "data": {
      "text/plain": [
       "<Figure size 2000x500 with 0 Axes>"
      ]
     },
     "metadata": {},
     "output_type": "display_data"
    },
    {
     "data": {
      "text/plain": [
       "<Figure size 2000x500 with 0 Axes>"
      ]
     },
     "metadata": {},
     "output_type": "display_data"
    },
    {
     "data": {
      "text/plain": [
       "<Figure size 2000x500 with 0 Axes>"
      ]
     },
     "metadata": {},
     "output_type": "display_data"
    },
    {
     "data": {
      "text/plain": [
       "<Figure size 2000x500 with 0 Axes>"
      ]
     },
     "metadata": {},
     "output_type": "display_data"
    },
    {
     "data": {
      "text/plain": [
       "<Figure size 2000x500 with 0 Axes>"
      ]
     },
     "metadata": {},
     "output_type": "display_data"
    },
    {
     "data": {
      "text/plain": [
       "<Figure size 2000x500 with 0 Axes>"
      ]
     },
     "metadata": {},
     "output_type": "display_data"
    },
    {
     "data": {
      "text/plain": [
       "<Figure size 2000x500 with 0 Axes>"
      ]
     },
     "metadata": {},
     "output_type": "display_data"
    },
    {
     "data": {
      "text/plain": [
       "<Figure size 2000x500 with 0 Axes>"
      ]
     },
     "metadata": {},
     "output_type": "display_data"
    },
    {
     "data": {
      "text/plain": [
       "<Figure size 2000x500 with 0 Axes>"
      ]
     },
     "metadata": {},
     "output_type": "display_data"
    },
    {
     "data": {
      "text/plain": [
       "<Figure size 2000x500 with 0 Axes>"
      ]
     },
     "metadata": {},
     "output_type": "display_data"
    },
    {
     "data": {
      "text/plain": [
       "<Figure size 2000x500 with 0 Axes>"
      ]
     },
     "metadata": {},
     "output_type": "display_data"
    },
    {
     "data": {
      "text/plain": [
       "<Figure size 2000x500 with 0 Axes>"
      ]
     },
     "metadata": {},
     "output_type": "display_data"
    },
    {
     "data": {
      "text/plain": [
       "<Figure size 2000x500 with 0 Axes>"
      ]
     },
     "metadata": {},
     "output_type": "display_data"
    },
    {
     "data": {
      "text/plain": [
       "<Figure size 2000x500 with 0 Axes>"
      ]
     },
     "metadata": {},
     "output_type": "display_data"
    },
    {
     "data": {
      "text/plain": [
       "<Figure size 2000x500 with 0 Axes>"
      ]
     },
     "metadata": {},
     "output_type": "display_data"
    },
    {
     "data": {
      "text/plain": [
       "<Figure size 2000x500 with 0 Axes>"
      ]
     },
     "metadata": {},
     "output_type": "display_data"
    },
    {
     "data": {
      "text/plain": [
       "<Figure size 2000x500 with 0 Axes>"
      ]
     },
     "metadata": {},
     "output_type": "display_data"
    },
    {
     "data": {
      "text/plain": [
       "<Figure size 2000x500 with 0 Axes>"
      ]
     },
     "metadata": {},
     "output_type": "display_data"
    },
    {
     "data": {
      "text/plain": [
       "<Figure size 2000x500 with 0 Axes>"
      ]
     },
     "metadata": {},
     "output_type": "display_data"
    },
    {
     "data": {
      "text/plain": [
       "<Figure size 2000x500 with 0 Axes>"
      ]
     },
     "metadata": {},
     "output_type": "display_data"
    },
    {
     "data": {
      "text/plain": [
       "<Figure size 2000x500 with 0 Axes>"
      ]
     },
     "metadata": {},
     "output_type": "display_data"
    },
    {
     "data": {
      "text/plain": [
       "<Figure size 2000x500 with 0 Axes>"
      ]
     },
     "metadata": {},
     "output_type": "display_data"
    },
    {
     "data": {
      "text/plain": [
       "<Figure size 2000x500 with 0 Axes>"
      ]
     },
     "metadata": {},
     "output_type": "display_data"
    },
    {
     "data": {
      "text/plain": [
       "<Figure size 2000x500 with 0 Axes>"
      ]
     },
     "metadata": {},
     "output_type": "display_data"
    },
    {
     "data": {
      "text/plain": [
       "<Figure size 2000x500 with 0 Axes>"
      ]
     },
     "metadata": {},
     "output_type": "display_data"
    },
    {
     "data": {
      "text/plain": [
       "<Figure size 2000x500 with 0 Axes>"
      ]
     },
     "metadata": {},
     "output_type": "display_data"
    },
    {
     "data": {
      "text/plain": [
       "<Figure size 2000x500 with 0 Axes>"
      ]
     },
     "metadata": {},
     "output_type": "display_data"
    },
    {
     "data": {
      "text/plain": [
       "<Figure size 2000x500 with 0 Axes>"
      ]
     },
     "metadata": {},
     "output_type": "display_data"
    },
    {
     "data": {
      "text/plain": [
       "<Figure size 2000x500 with 0 Axes>"
      ]
     },
     "metadata": {},
     "output_type": "display_data"
    },
    {
     "data": {
      "text/plain": [
       "<Figure size 2000x500 with 0 Axes>"
      ]
     },
     "metadata": {},
     "output_type": "display_data"
    },
    {
     "data": {
      "text/plain": [
       "<Figure size 2000x500 with 0 Axes>"
      ]
     },
     "metadata": {},
     "output_type": "display_data"
    },
    {
     "data": {
      "text/plain": [
       "<Figure size 2000x500 with 0 Axes>"
      ]
     },
     "metadata": {},
     "output_type": "display_data"
    },
    {
     "data": {
      "text/plain": [
       "<Figure size 2000x500 with 0 Axes>"
      ]
     },
     "metadata": {},
     "output_type": "display_data"
    },
    {
     "data": {
      "text/plain": [
       "<Figure size 2000x500 with 0 Axes>"
      ]
     },
     "metadata": {},
     "output_type": "display_data"
    },
    {
     "data": {
      "text/plain": [
       "<Figure size 2000x500 with 0 Axes>"
      ]
     },
     "metadata": {},
     "output_type": "display_data"
    },
    {
     "data": {
      "text/plain": [
       "<Figure size 2000x500 with 0 Axes>"
      ]
     },
     "metadata": {},
     "output_type": "display_data"
    },
    {
     "data": {
      "text/plain": [
       "<Figure size 2000x500 with 0 Axes>"
      ]
     },
     "metadata": {},
     "output_type": "display_data"
    },
    {
     "data": {
      "text/plain": [
       "<Figure size 2000x500 with 0 Axes>"
      ]
     },
     "metadata": {},
     "output_type": "display_data"
    },
    {
     "data": {
      "text/plain": [
       "<Figure size 2000x500 with 0 Axes>"
      ]
     },
     "metadata": {},
     "output_type": "display_data"
    },
    {
     "data": {
      "text/plain": [
       "<Figure size 2000x500 with 0 Axes>"
      ]
     },
     "metadata": {},
     "output_type": "display_data"
    },
    {
     "data": {
      "text/plain": [
       "<Figure size 2000x500 with 0 Axes>"
      ]
     },
     "metadata": {},
     "output_type": "display_data"
    },
    {
     "data": {
      "text/plain": [
       "<Figure size 2000x500 with 0 Axes>"
      ]
     },
     "metadata": {},
     "output_type": "display_data"
    },
    {
     "data": {
      "text/plain": [
       "<Figure size 2000x500 with 0 Axes>"
      ]
     },
     "metadata": {},
     "output_type": "display_data"
    },
    {
     "data": {
      "text/plain": [
       "<Figure size 2000x500 with 0 Axes>"
      ]
     },
     "metadata": {},
     "output_type": "display_data"
    },
    {
     "data": {
      "text/plain": [
       "<Figure size 2000x500 with 0 Axes>"
      ]
     },
     "metadata": {},
     "output_type": "display_data"
    },
    {
     "data": {
      "text/plain": [
       "<Figure size 2000x500 with 0 Axes>"
      ]
     },
     "metadata": {},
     "output_type": "display_data"
    },
    {
     "data": {
      "text/plain": [
       "<Figure size 2000x500 with 0 Axes>"
      ]
     },
     "metadata": {},
     "output_type": "display_data"
    },
    {
     "data": {
      "text/plain": [
       "<Figure size 2000x500 with 0 Axes>"
      ]
     },
     "metadata": {},
     "output_type": "display_data"
    },
    {
     "data": {
      "text/plain": [
       "<Figure size 2000x500 with 0 Axes>"
      ]
     },
     "metadata": {},
     "output_type": "display_data"
    },
    {
     "data": {
      "text/plain": [
       "<Figure size 2000x500 with 0 Axes>"
      ]
     },
     "metadata": {},
     "output_type": "display_data"
    },
    {
     "data": {
      "text/plain": [
       "<Figure size 2000x500 with 0 Axes>"
      ]
     },
     "metadata": {},
     "output_type": "display_data"
    },
    {
     "data": {
      "text/plain": [
       "<Figure size 2000x500 with 0 Axes>"
      ]
     },
     "metadata": {},
     "output_type": "display_data"
    },
    {
     "data": {
      "text/plain": [
       "<Figure size 2000x500 with 0 Axes>"
      ]
     },
     "metadata": {},
     "output_type": "display_data"
    },
    {
     "data": {
      "text/plain": [
       "<Figure size 2000x500 with 0 Axes>"
      ]
     },
     "metadata": {},
     "output_type": "display_data"
    },
    {
     "data": {
      "text/plain": [
       "<Figure size 2000x500 with 0 Axes>"
      ]
     },
     "metadata": {},
     "output_type": "display_data"
    },
    {
     "data": {
      "text/plain": [
       "<Figure size 2000x500 with 0 Axes>"
      ]
     },
     "metadata": {},
     "output_type": "display_data"
    },
    {
     "data": {
      "text/plain": [
       "<Figure size 2000x500 with 0 Axes>"
      ]
     },
     "metadata": {},
     "output_type": "display_data"
    },
    {
     "data": {
      "text/plain": [
       "<Figure size 2000x500 with 0 Axes>"
      ]
     },
     "metadata": {},
     "output_type": "display_data"
    },
    {
     "data": {
      "text/plain": [
       "<Figure size 2000x500 with 0 Axes>"
      ]
     },
     "metadata": {},
     "output_type": "display_data"
    },
    {
     "data": {
      "text/plain": [
       "<Figure size 2000x500 with 0 Axes>"
      ]
     },
     "metadata": {},
     "output_type": "display_data"
    },
    {
     "data": {
      "text/plain": [
       "<Figure size 2000x500 with 0 Axes>"
      ]
     },
     "metadata": {},
     "output_type": "display_data"
    },
    {
     "data": {
      "text/plain": [
       "<Figure size 2000x500 with 0 Axes>"
      ]
     },
     "metadata": {},
     "output_type": "display_data"
    },
    {
     "data": {
      "text/plain": [
       "<Figure size 2000x500 with 0 Axes>"
      ]
     },
     "metadata": {},
     "output_type": "display_data"
    },
    {
     "data": {
      "text/plain": [
       "<Figure size 2000x500 with 0 Axes>"
      ]
     },
     "metadata": {},
     "output_type": "display_data"
    },
    {
     "data": {
      "text/plain": [
       "<Figure size 2000x500 with 0 Axes>"
      ]
     },
     "metadata": {},
     "output_type": "display_data"
    },
    {
     "data": {
      "text/plain": [
       "<Figure size 2000x500 with 0 Axes>"
      ]
     },
     "metadata": {},
     "output_type": "display_data"
    },
    {
     "data": {
      "text/plain": [
       "<Figure size 2000x500 with 0 Axes>"
      ]
     },
     "metadata": {},
     "output_type": "display_data"
    },
    {
     "data": {
      "text/plain": [
       "<Figure size 2000x500 with 0 Axes>"
      ]
     },
     "metadata": {},
     "output_type": "display_data"
    },
    {
     "data": {
      "text/plain": [
       "<Figure size 2000x500 with 0 Axes>"
      ]
     },
     "metadata": {},
     "output_type": "display_data"
    },
    {
     "data": {
      "text/plain": [
       "<Figure size 2000x500 with 0 Axes>"
      ]
     },
     "metadata": {},
     "output_type": "display_data"
    },
    {
     "data": {
      "text/plain": [
       "<Figure size 2000x500 with 0 Axes>"
      ]
     },
     "metadata": {},
     "output_type": "display_data"
    },
    {
     "data": {
      "text/plain": [
       "<Figure size 2000x500 with 0 Axes>"
      ]
     },
     "metadata": {},
     "output_type": "display_data"
    },
    {
     "data": {
      "text/plain": [
       "<Figure size 2000x500 with 0 Axes>"
      ]
     },
     "metadata": {},
     "output_type": "display_data"
    },
    {
     "data": {
      "text/plain": [
       "<Figure size 2000x500 with 0 Axes>"
      ]
     },
     "metadata": {},
     "output_type": "display_data"
    },
    {
     "data": {
      "text/plain": [
       "<Figure size 2000x500 with 0 Axes>"
      ]
     },
     "metadata": {},
     "output_type": "display_data"
    },
    {
     "data": {
      "text/plain": [
       "<Figure size 2000x500 with 0 Axes>"
      ]
     },
     "metadata": {},
     "output_type": "display_data"
    },
    {
     "data": {
      "text/plain": [
       "<Figure size 2000x500 with 0 Axes>"
      ]
     },
     "metadata": {},
     "output_type": "display_data"
    },
    {
     "data": {
      "text/plain": [
       "<Figure size 2000x500 with 0 Axes>"
      ]
     },
     "metadata": {},
     "output_type": "display_data"
    },
    {
     "data": {
      "text/plain": [
       "<Figure size 2000x500 with 0 Axes>"
      ]
     },
     "metadata": {},
     "output_type": "display_data"
    },
    {
     "data": {
      "text/plain": [
       "<Figure size 2000x500 with 0 Axes>"
      ]
     },
     "metadata": {},
     "output_type": "display_data"
    },
    {
     "data": {
      "text/plain": [
       "<Figure size 2000x500 with 0 Axes>"
      ]
     },
     "metadata": {},
     "output_type": "display_data"
    },
    {
     "data": {
      "text/plain": [
       "<Figure size 2000x500 with 0 Axes>"
      ]
     },
     "metadata": {},
     "output_type": "display_data"
    },
    {
     "data": {
      "text/plain": [
       "<Figure size 2000x500 with 0 Axes>"
      ]
     },
     "metadata": {},
     "output_type": "display_data"
    },
    {
     "data": {
      "text/plain": [
       "<Figure size 2000x500 with 0 Axes>"
      ]
     },
     "metadata": {},
     "output_type": "display_data"
    },
    {
     "data": {
      "text/plain": [
       "<Figure size 2000x500 with 0 Axes>"
      ]
     },
     "metadata": {},
     "output_type": "display_data"
    },
    {
     "data": {
      "text/plain": [
       "<Figure size 2000x500 with 0 Axes>"
      ]
     },
     "metadata": {},
     "output_type": "display_data"
    },
    {
     "data": {
      "text/plain": [
       "<Figure size 2000x500 with 0 Axes>"
      ]
     },
     "metadata": {},
     "output_type": "display_data"
    },
    {
     "data": {
      "text/plain": [
       "<Figure size 2000x500 with 0 Axes>"
      ]
     },
     "metadata": {},
     "output_type": "display_data"
    },
    {
     "data": {
      "text/plain": [
       "<Figure size 2000x500 with 0 Axes>"
      ]
     },
     "metadata": {},
     "output_type": "display_data"
    },
    {
     "data": {
      "text/plain": [
       "<Figure size 2000x500 with 0 Axes>"
      ]
     },
     "metadata": {},
     "output_type": "display_data"
    },
    {
     "data": {
      "text/plain": [
       "<Figure size 2000x500 with 0 Axes>"
      ]
     },
     "metadata": {},
     "output_type": "display_data"
    },
    {
     "data": {
      "text/plain": [
       "<Figure size 2000x500 with 0 Axes>"
      ]
     },
     "metadata": {},
     "output_type": "display_data"
    },
    {
     "data": {
      "text/plain": [
       "<Figure size 2000x500 with 0 Axes>"
      ]
     },
     "metadata": {},
     "output_type": "display_data"
    },
    {
     "data": {
      "text/plain": [
       "<Figure size 2000x500 with 0 Axes>"
      ]
     },
     "metadata": {},
     "output_type": "display_data"
    },
    {
     "data": {
      "text/plain": [
       "<Figure size 2000x500 with 0 Axes>"
      ]
     },
     "metadata": {},
     "output_type": "display_data"
    },
    {
     "data": {
      "text/plain": [
       "<Figure size 2000x500 with 0 Axes>"
      ]
     },
     "metadata": {},
     "output_type": "display_data"
    },
    {
     "data": {
      "text/plain": [
       "<Figure size 2000x500 with 0 Axes>"
      ]
     },
     "metadata": {},
     "output_type": "display_data"
    },
    {
     "data": {
      "text/plain": [
       "<Figure size 2000x500 with 0 Axes>"
      ]
     },
     "metadata": {},
     "output_type": "display_data"
    },
    {
     "data": {
      "text/plain": [
       "<Figure size 2000x500 with 0 Axes>"
      ]
     },
     "metadata": {},
     "output_type": "display_data"
    },
    {
     "data": {
      "text/plain": [
       "<Figure size 2000x500 with 0 Axes>"
      ]
     },
     "metadata": {},
     "output_type": "display_data"
    },
    {
     "data": {
      "text/plain": [
       "<Figure size 2000x500 with 0 Axes>"
      ]
     },
     "metadata": {},
     "output_type": "display_data"
    },
    {
     "data": {
      "text/plain": [
       "<Figure size 2000x500 with 0 Axes>"
      ]
     },
     "metadata": {},
     "output_type": "display_data"
    },
    {
     "data": {
      "text/plain": [
       "<Figure size 2000x500 with 0 Axes>"
      ]
     },
     "metadata": {},
     "output_type": "display_data"
    },
    {
     "data": {
      "text/plain": [
       "<Figure size 2000x500 with 0 Axes>"
      ]
     },
     "metadata": {},
     "output_type": "display_data"
    },
    {
     "data": {
      "text/plain": [
       "<Figure size 2000x500 with 0 Axes>"
      ]
     },
     "metadata": {},
     "output_type": "display_data"
    },
    {
     "data": {
      "text/plain": [
       "<Figure size 2000x500 with 0 Axes>"
      ]
     },
     "metadata": {},
     "output_type": "display_data"
    },
    {
     "data": {
      "text/plain": [
       "<Figure size 2000x500 with 0 Axes>"
      ]
     },
     "metadata": {},
     "output_type": "display_data"
    },
    {
     "data": {
      "text/plain": [
       "<Figure size 2000x500 with 0 Axes>"
      ]
     },
     "metadata": {},
     "output_type": "display_data"
    },
    {
     "data": {
      "text/plain": [
       "<Figure size 2000x500 with 0 Axes>"
      ]
     },
     "metadata": {},
     "output_type": "display_data"
    },
    {
     "data": {
      "text/plain": [
       "<Figure size 2000x500 with 0 Axes>"
      ]
     },
     "metadata": {},
     "output_type": "display_data"
    },
    {
     "data": {
      "text/plain": [
       "<Figure size 2000x500 with 0 Axes>"
      ]
     },
     "metadata": {},
     "output_type": "display_data"
    },
    {
     "data": {
      "text/plain": [
       "<Figure size 2000x500 with 0 Axes>"
      ]
     },
     "metadata": {},
     "output_type": "display_data"
    },
    {
     "data": {
      "text/plain": [
       "<Figure size 2000x500 with 0 Axes>"
      ]
     },
     "metadata": {},
     "output_type": "display_data"
    },
    {
     "data": {
      "text/plain": [
       "<Figure size 2000x500 with 0 Axes>"
      ]
     },
     "metadata": {},
     "output_type": "display_data"
    },
    {
     "data": {
      "text/plain": [
       "<Figure size 2000x500 with 0 Axes>"
      ]
     },
     "metadata": {},
     "output_type": "display_data"
    },
    {
     "data": {
      "text/plain": [
       "<Figure size 2000x500 with 0 Axes>"
      ]
     },
     "metadata": {},
     "output_type": "display_data"
    },
    {
     "data": {
      "text/plain": [
       "<Figure size 2000x500 with 0 Axes>"
      ]
     },
     "metadata": {},
     "output_type": "display_data"
    },
    {
     "data": {
      "text/plain": [
       "<Figure size 2000x500 with 0 Axes>"
      ]
     },
     "metadata": {},
     "output_type": "display_data"
    },
    {
     "data": {
      "text/plain": [
       "<Figure size 2000x500 with 0 Axes>"
      ]
     },
     "metadata": {},
     "output_type": "display_data"
    },
    {
     "data": {
      "text/plain": [
       "<Figure size 2000x500 with 0 Axes>"
      ]
     },
     "metadata": {},
     "output_type": "display_data"
    },
    {
     "data": {
      "text/plain": [
       "<Figure size 2000x500 with 0 Axes>"
      ]
     },
     "metadata": {},
     "output_type": "display_data"
    },
    {
     "data": {
      "text/plain": [
       "<Figure size 2000x500 with 0 Axes>"
      ]
     },
     "metadata": {},
     "output_type": "display_data"
    },
    {
     "data": {
      "text/plain": [
       "<Figure size 2000x500 with 0 Axes>"
      ]
     },
     "metadata": {},
     "output_type": "display_data"
    },
    {
     "data": {
      "text/plain": [
       "<Figure size 2000x500 with 0 Axes>"
      ]
     },
     "metadata": {},
     "output_type": "display_data"
    },
    {
     "data": {
      "text/plain": [
       "<Figure size 2000x500 with 0 Axes>"
      ]
     },
     "metadata": {},
     "output_type": "display_data"
    },
    {
     "data": {
      "text/plain": [
       "<Figure size 2000x500 with 0 Axes>"
      ]
     },
     "metadata": {},
     "output_type": "display_data"
    },
    {
     "data": {
      "text/plain": [
       "<Figure size 2000x500 with 0 Axes>"
      ]
     },
     "metadata": {},
     "output_type": "display_data"
    },
    {
     "data": {
      "text/plain": [
       "<Figure size 2000x500 with 0 Axes>"
      ]
     },
     "metadata": {},
     "output_type": "display_data"
    },
    {
     "data": {
      "text/plain": [
       "<Figure size 2000x500 with 0 Axes>"
      ]
     },
     "metadata": {},
     "output_type": "display_data"
    },
    {
     "data": {
      "text/plain": [
       "<Figure size 2000x500 with 0 Axes>"
      ]
     },
     "metadata": {},
     "output_type": "display_data"
    },
    {
     "data": {
      "text/plain": [
       "<Figure size 2000x500 with 0 Axes>"
      ]
     },
     "metadata": {},
     "output_type": "display_data"
    },
    {
     "data": {
      "text/plain": [
       "<Figure size 2000x500 with 0 Axes>"
      ]
     },
     "metadata": {},
     "output_type": "display_data"
    },
    {
     "data": {
      "text/plain": [
       "<Figure size 2000x500 with 0 Axes>"
      ]
     },
     "metadata": {},
     "output_type": "display_data"
    },
    {
     "data": {
      "text/plain": [
       "<Figure size 2000x500 with 0 Axes>"
      ]
     },
     "metadata": {},
     "output_type": "display_data"
    },
    {
     "data": {
      "text/plain": [
       "<Figure size 2000x500 with 0 Axes>"
      ]
     },
     "metadata": {},
     "output_type": "display_data"
    },
    {
     "data": {
      "text/plain": [
       "<Figure size 2000x500 with 0 Axes>"
      ]
     },
     "metadata": {},
     "output_type": "display_data"
    },
    {
     "data": {
      "text/plain": [
       "<Figure size 2000x500 with 0 Axes>"
      ]
     },
     "metadata": {},
     "output_type": "display_data"
    },
    {
     "data": {
      "text/plain": [
       "<Figure size 2000x500 with 0 Axes>"
      ]
     },
     "metadata": {},
     "output_type": "display_data"
    },
    {
     "data": {
      "text/plain": [
       "<Figure size 2000x500 with 0 Axes>"
      ]
     },
     "metadata": {},
     "output_type": "display_data"
    },
    {
     "data": {
      "text/plain": [
       "<Figure size 2000x500 with 0 Axes>"
      ]
     },
     "metadata": {},
     "output_type": "display_data"
    },
    {
     "data": {
      "text/plain": [
       "<Figure size 2000x500 with 0 Axes>"
      ]
     },
     "metadata": {},
     "output_type": "display_data"
    },
    {
     "data": {
      "text/plain": [
       "<Figure size 2000x500 with 0 Axes>"
      ]
     },
     "metadata": {},
     "output_type": "display_data"
    },
    {
     "data": {
      "text/plain": [
       "<Figure size 2000x500 with 0 Axes>"
      ]
     },
     "metadata": {},
     "output_type": "display_data"
    },
    {
     "data": {
      "text/plain": [
       "<Figure size 2000x500 with 0 Axes>"
      ]
     },
     "metadata": {},
     "output_type": "display_data"
    },
    {
     "data": {
      "text/plain": [
       "<Figure size 2000x500 with 0 Axes>"
      ]
     },
     "metadata": {},
     "output_type": "display_data"
    },
    {
     "data": {
      "text/plain": [
       "<Figure size 2000x500 with 0 Axes>"
      ]
     },
     "metadata": {},
     "output_type": "display_data"
    },
    {
     "data": {
      "text/plain": [
       "<Figure size 2000x500 with 0 Axes>"
      ]
     },
     "metadata": {},
     "output_type": "display_data"
    },
    {
     "data": {
      "text/plain": [
       "<Figure size 2000x500 with 0 Axes>"
      ]
     },
     "metadata": {},
     "output_type": "display_data"
    },
    {
     "data": {
      "text/plain": [
       "<Figure size 2000x500 with 0 Axes>"
      ]
     },
     "metadata": {},
     "output_type": "display_data"
    },
    {
     "data": {
      "text/plain": [
       "<Figure size 2000x500 with 0 Axes>"
      ]
     },
     "metadata": {},
     "output_type": "display_data"
    },
    {
     "data": {
      "text/plain": [
       "<Figure size 2000x500 with 0 Axes>"
      ]
     },
     "metadata": {},
     "output_type": "display_data"
    },
    {
     "data": {
      "text/plain": [
       "<Figure size 2000x500 with 0 Axes>"
      ]
     },
     "metadata": {},
     "output_type": "display_data"
    },
    {
     "data": {
      "text/plain": [
       "<Figure size 2000x500 with 0 Axes>"
      ]
     },
     "metadata": {},
     "output_type": "display_data"
    },
    {
     "data": {
      "text/plain": [
       "<Figure size 2000x500 with 0 Axes>"
      ]
     },
     "metadata": {},
     "output_type": "display_data"
    },
    {
     "data": {
      "text/plain": [
       "<Figure size 2000x500 with 0 Axes>"
      ]
     },
     "metadata": {},
     "output_type": "display_data"
    },
    {
     "data": {
      "text/plain": [
       "<Figure size 2000x500 with 0 Axes>"
      ]
     },
     "metadata": {},
     "output_type": "display_data"
    },
    {
     "data": {
      "text/plain": [
       "<Figure size 2000x500 with 0 Axes>"
      ]
     },
     "metadata": {},
     "output_type": "display_data"
    },
    {
     "data": {
      "text/plain": [
       "<Figure size 2000x500 with 0 Axes>"
      ]
     },
     "metadata": {},
     "output_type": "display_data"
    },
    {
     "data": {
      "text/plain": [
       "<Figure size 2000x500 with 0 Axes>"
      ]
     },
     "metadata": {},
     "output_type": "display_data"
    },
    {
     "data": {
      "text/plain": [
       "<Figure size 2000x500 with 0 Axes>"
      ]
     },
     "metadata": {},
     "output_type": "display_data"
    },
    {
     "data": {
      "text/plain": [
       "<Figure size 2000x500 with 0 Axes>"
      ]
     },
     "metadata": {},
     "output_type": "display_data"
    },
    {
     "data": {
      "text/plain": [
       "<Figure size 2000x500 with 0 Axes>"
      ]
     },
     "metadata": {},
     "output_type": "display_data"
    },
    {
     "data": {
      "text/plain": [
       "<Figure size 2000x500 with 0 Axes>"
      ]
     },
     "metadata": {},
     "output_type": "display_data"
    },
    {
     "data": {
      "text/plain": [
       "<Figure size 2000x500 with 0 Axes>"
      ]
     },
     "metadata": {},
     "output_type": "display_data"
    },
    {
     "data": {
      "text/plain": [
       "<Figure size 2000x500 with 0 Axes>"
      ]
     },
     "metadata": {},
     "output_type": "display_data"
    },
    {
     "data": {
      "text/plain": [
       "<Figure size 2000x500 with 0 Axes>"
      ]
     },
     "metadata": {},
     "output_type": "display_data"
    },
    {
     "data": {
      "text/plain": [
       "<Figure size 2000x500 with 0 Axes>"
      ]
     },
     "metadata": {},
     "output_type": "display_data"
    },
    {
     "data": {
      "text/plain": [
       "<Figure size 2000x500 with 0 Axes>"
      ]
     },
     "metadata": {},
     "output_type": "display_data"
    },
    {
     "data": {
      "text/plain": [
       "<Figure size 2000x500 with 0 Axes>"
      ]
     },
     "metadata": {},
     "output_type": "display_data"
    },
    {
     "data": {
      "text/plain": [
       "<Figure size 2000x500 with 0 Axes>"
      ]
     },
     "metadata": {},
     "output_type": "display_data"
    },
    {
     "data": {
      "text/plain": [
       "<Figure size 2000x500 with 0 Axes>"
      ]
     },
     "metadata": {},
     "output_type": "display_data"
    },
    {
     "data": {
      "text/plain": [
       "<Figure size 2000x500 with 0 Axes>"
      ]
     },
     "metadata": {},
     "output_type": "display_data"
    },
    {
     "data": {
      "text/plain": [
       "<Figure size 2000x500 with 0 Axes>"
      ]
     },
     "metadata": {},
     "output_type": "display_data"
    },
    {
     "data": {
      "text/plain": [
       "<Figure size 2000x500 with 0 Axes>"
      ]
     },
     "metadata": {},
     "output_type": "display_data"
    },
    {
     "data": {
      "text/plain": [
       "<Figure size 2000x500 with 0 Axes>"
      ]
     },
     "metadata": {},
     "output_type": "display_data"
    },
    {
     "data": {
      "text/plain": [
       "<Figure size 2000x500 with 0 Axes>"
      ]
     },
     "metadata": {},
     "output_type": "display_data"
    },
    {
     "data": {
      "text/plain": [
       "<Figure size 2000x500 with 0 Axes>"
      ]
     },
     "metadata": {},
     "output_type": "display_data"
    },
    {
     "data": {
      "text/plain": [
       "<Figure size 2000x500 with 0 Axes>"
      ]
     },
     "metadata": {},
     "output_type": "display_data"
    },
    {
     "data": {
      "text/plain": [
       "<Figure size 2000x500 with 0 Axes>"
      ]
     },
     "metadata": {},
     "output_type": "display_data"
    },
    {
     "data": {
      "text/plain": [
       "<Figure size 2000x500 with 0 Axes>"
      ]
     },
     "metadata": {},
     "output_type": "display_data"
    },
    {
     "data": {
      "text/plain": [
       "<Figure size 2000x500 with 0 Axes>"
      ]
     },
     "metadata": {},
     "output_type": "display_data"
    },
    {
     "data": {
      "text/plain": [
       "<Figure size 2000x500 with 0 Axes>"
      ]
     },
     "metadata": {},
     "output_type": "display_data"
    },
    {
     "data": {
      "text/plain": [
       "<Figure size 2000x500 with 0 Axes>"
      ]
     },
     "metadata": {},
     "output_type": "display_data"
    },
    {
     "data": {
      "text/plain": [
       "<Figure size 2000x500 with 0 Axes>"
      ]
     },
     "metadata": {},
     "output_type": "display_data"
    },
    {
     "data": {
      "text/plain": [
       "<Figure size 2000x500 with 0 Axes>"
      ]
     },
     "metadata": {},
     "output_type": "display_data"
    },
    {
     "data": {
      "text/plain": [
       "<Figure size 2000x500 with 0 Axes>"
      ]
     },
     "metadata": {},
     "output_type": "display_data"
    },
    {
     "data": {
      "text/plain": [
       "<Figure size 2000x500 with 0 Axes>"
      ]
     },
     "metadata": {},
     "output_type": "display_data"
    },
    {
     "data": {
      "text/plain": [
       "<Figure size 2000x500 with 0 Axes>"
      ]
     },
     "metadata": {},
     "output_type": "display_data"
    },
    {
     "data": {
      "text/plain": [
       "<Figure size 2000x500 with 0 Axes>"
      ]
     },
     "metadata": {},
     "output_type": "display_data"
    },
    {
     "data": {
      "text/plain": [
       "<Figure size 2000x500 with 0 Axes>"
      ]
     },
     "metadata": {},
     "output_type": "display_data"
    },
    {
     "data": {
      "text/plain": [
       "<Figure size 2000x500 with 0 Axes>"
      ]
     },
     "metadata": {},
     "output_type": "display_data"
    },
    {
     "data": {
      "text/plain": [
       "<Figure size 2000x500 with 0 Axes>"
      ]
     },
     "metadata": {},
     "output_type": "display_data"
    },
    {
     "data": {
      "text/plain": [
       "<Figure size 2000x500 with 0 Axes>"
      ]
     },
     "metadata": {},
     "output_type": "display_data"
    },
    {
     "data": {
      "text/plain": [
       "<Figure size 2000x500 with 0 Axes>"
      ]
     },
     "metadata": {},
     "output_type": "display_data"
    },
    {
     "data": {
      "text/plain": [
       "<Figure size 2000x500 with 0 Axes>"
      ]
     },
     "metadata": {},
     "output_type": "display_data"
    },
    {
     "data": {
      "text/plain": [
       "<Figure size 2000x500 with 0 Axes>"
      ]
     },
     "metadata": {},
     "output_type": "display_data"
    },
    {
     "data": {
      "text/plain": [
       "<Figure size 2000x500 with 0 Axes>"
      ]
     },
     "metadata": {},
     "output_type": "display_data"
    },
    {
     "data": {
      "text/plain": [
       "<Figure size 2000x500 with 0 Axes>"
      ]
     },
     "metadata": {},
     "output_type": "display_data"
    },
    {
     "data": {
      "text/plain": [
       "<Figure size 2000x500 with 0 Axes>"
      ]
     },
     "metadata": {},
     "output_type": "display_data"
    },
    {
     "data": {
      "text/plain": [
       "<Figure size 2000x500 with 0 Axes>"
      ]
     },
     "metadata": {},
     "output_type": "display_data"
    },
    {
     "data": {
      "text/plain": [
       "<Figure size 2000x500 with 0 Axes>"
      ]
     },
     "metadata": {},
     "output_type": "display_data"
    },
    {
     "data": {
      "text/plain": [
       "<Figure size 2000x500 with 0 Axes>"
      ]
     },
     "metadata": {},
     "output_type": "display_data"
    },
    {
     "data": {
      "text/plain": [
       "<Figure size 2000x500 with 0 Axes>"
      ]
     },
     "metadata": {},
     "output_type": "display_data"
    },
    {
     "data": {
      "text/plain": [
       "<Figure size 2000x500 with 0 Axes>"
      ]
     },
     "metadata": {},
     "output_type": "display_data"
    }
   ],
   "source": [
    "#loop through all slices, finding transforms to register and upright them to the ccf \n",
    "slices_with_issues = {}\n",
    "for specimen_id in slices:\n",
    "    specimen_id = int(specimen_id)\n",
    "\n",
    "    #get slice name \n",
    "    specimen_name = get_name_by_id(specimen_id)\n",
    "    print(specimen_name)\n",
    "\n",
    "    try:\n",
    "\n",
    "        #make folder to store transform for this slice \n",
    "        working_directory = os.path.join(out, specimen_name)\n",
    "        if not os.path.exists(working_directory):\n",
    "            os.mkdir(working_directory)\n",
    "\n",
    "        # read in pinning tool output - virtual slice definition and cell ccf locations\n",
    "        pinning_info = get_pinning(specimen_name)[4]\n",
    "\n",
    "        # virtual_slice_to_ccf_transform: transform a 3D point (in micron) in the virtual slice to ccf (in micron)\n",
    "        # ccf_to_virtual_slice_transform: transform a 3D point in ccf (in micron) to virtual slice (in micron)\n",
    "        # (note: each point can have its own orientation - we are taking the first one only #TODO is this an issue? (swb))\n",
    "        virtual_slice_to_ccf_transform = initialize_transform( pinning_info['markups'][0]['orientation'] )\n",
    "        ccf_to_virtual_slice_transform = virtual_slice_to_ccf_transform.GetInverse()\n",
    "\n",
    "        # write out the virtual_slice_to_ccf_transform\n",
    "        file = os.path.join(working_directory, 'virtual_slice_to_ccf_transform.txt')\n",
    "        sitk.WriteTransform( virtual_slice_to_ccf_transform, file )\n",
    "\n",
    "\n",
    "        # generate a virtual slice from the transforms\n",
    "        #   virtual_slice_3d is a 3D volume with a single z slice\n",
    "        #   virtual_slice    is a 2D volume created by extracting out the single slice\n",
    "        virtual_slice_size = [1250,1250,1] # 3D volume with one slice\n",
    "        virtual_slice_spacing = ccf.GetSpacing()\n",
    "        virtual_slice_3d = sitk.Resample(ccf, \n",
    "                                        virtual_slice_size, \n",
    "                                        virtual_slice_to_ccf_transform, \n",
    "                                        sitk.sitkLinear,\n",
    "                                        [0,0,0], \n",
    "                                        virtual_slice_spacing, \n",
    "                                        [1,0,0,0,1,0,0,0,1], \n",
    "                                        0.0, \n",
    "                                        ccf.GetPixelID())#, False )\n",
    "\n",
    "\n",
    "        virtual_slice = virtual_slice_3d[:,:,0] # 2D image version\n",
    "\n",
    "        # read in the 2D overview image and associate metadata\n",
    "        img_info = [list(get_20x_info(specimen_name))]\n",
    "\n",
    "        odf = pd.DataFrame(img_info, columns = ['specimen_name', 'sub_image_id', 'width', 'height', 'resolution', 'treatment_id'])\n",
    "        overview_info = odf.loc[0]\n",
    "        sub_image = odf['sub_image_id'].values[0]\n",
    "        get_20x_img(sub_image, specimen_name, working_directory)   \n",
    "        file = os.path.join(working_directory, '{}_overview.jpg'.format(specimen_name))\n",
    "        overview = sitk.ReadImage( file )\n",
    "        overview_spacing = [overview_info['resolution'],overview_info['resolution']]\n",
    "        overview.SetSpacing(overview_spacing)\n",
    "\n",
    "        # downsample the 2D overview image\n",
    "        downsampled_overview = sitk.BinShrink( sitk.VectorIndexSelectionCast(overview,0), [25,25])\n",
    "\n",
    "        # write the downsampled overview to file\n",
    "        file = os.path.join(working_directory,'downsampled_overview.nii.gz')\n",
    "        sitk.WriteImage( downsampled_overview, file, True )\n",
    "\n",
    "        # Read in drawn soma polygons to create matching landmarks set\n",
    "        df = get_soma_polygons(specimen_id)\n",
    "\n",
    "        # For each cell\n",
    "        #  - compute cell soma from polyline in pixels\n",
    "        #  - convert cell soma location to microns\n",
    "        #  - join with cell soma location in CCF\n",
    "        #  - compute cell soma location in virtual slice\n",
    "        df['center_pixel'] = [compute_center_from_polyline(p) for p in df['poly_coords']]\n",
    "        df['center_micron'] = [np.multiply(p,overview_spacing) for p in df['center_pixel']]\n",
    "\n",
    "        jdict = {}\n",
    "        for m in pinning_info['markups'] :\n",
    "            jdict[m['name'].strip()] = m['markup']['controlPoints'][0]['position']\n",
    "            \n",
    "        df['ccf_coordinate'] = [jdict[p] for p in df['specimen_name']]\n",
    "        df['virtual_slice_coordinate'] = [ ccf_to_virtual_slice_transform.TransformPoint(p)[:2] for p in df['ccf_coordinate'] ]\n",
    "        df.to_csv(os.path.join(working_directory, 'alignment_output.csv'), index=False)\n",
    "\n",
    "        lndmrks = get_landmark_ids(specimen_id)\n",
    "        ldf = pd.DataFrame()\n",
    "        for c in lndmrks:\n",
    "            # print(c)\n",
    "            this_lndmrk = get_landmark_location(c[0])\n",
    "            ldf = pd.concat([ldf, this_lndmrk])\n",
    "            \n",
    "        ldf['center_pixel'] = [compute_center_from_polyline(p) for p in ldf['poly_coords']]\n",
    "        ldf['overview_coordinate'] = [np.multiply(p,overview_spacing) for p in ldf['center_pixel']]\n",
    "\n",
    "        ldf['ccf_coordinate'] = [jdict[p] for p in ldf['specimen_name']]\n",
    "        ldf['virtual_slice_coordinate'] = [ ccf_to_virtual_slice_transform.TransformPoint(p)[:2] for p in ldf['ccf_coordinate'] ]\n",
    "\n",
    "        if len(ldf) < 3:\n",
    "            print('\\tnot enough fiducials')\n",
    "            continue\n",
    "\n",
    "        # determine if slice was flipped, if so fix virtual to ccf transform \n",
    "        flip = False\n",
    "        if slice_flipped(ldf):\n",
    "            transform = virtual_slice_to_ccf_transform.GetParameters()\n",
    "            transform = list(transform)\n",
    "            idx = -1\n",
    "            if pinning_info['referenceView'].lower() == 'sagittal': idx = 2 #flip coronal axis in PIL to LPS transform \n",
    "            if pinning_info['referenceView'].lower() == 'coronal': idx = 5 #flip saggital axis in RIA to LPS transform \n",
    "            if idx > -1: \n",
    "                transform[idx] = transform[idx]*-1 #flip axis\n",
    "                flip = True \n",
    "            transform = tuple(transform)\n",
    "            virtual_slice_to_ccf_transform.SetParameters(transform)\n",
    "\n",
    "            # write out the virtual_slice_to_ccf_transform\n",
    "            file = os.path.join(working_directory, 'virtual_slice_to_ccf_transform.txt')\n",
    "            sitk.WriteTransform( virtual_slice_to_ccf_transform, file )\n",
    "\n",
    "        # Concatentate landmarks (cell soma + additional) for registration\n",
    "        # virtual slice (fixed) landmarks\n",
    "        fixed_landmarks = [tuple(p) for p in df['virtual_slice_coordinate']]\n",
    "        fixed_landmarks.extend([tuple(p) for p in ldf['virtual_slice_coordinate']] )\n",
    "\n",
    "        # overview (moving) landmarks\n",
    "        moving_landmarks = [tuple(p) for p in df['center_micron']]\n",
    "        moving_landmarks.extend([tuple(p) for p in ldf['overview_coordinate']] )\n",
    "\n",
    "        # virtual_slice_to_overview_transform: transform a 2D point (in microns) in the virtual slice to overview image (in microns)\n",
    "        # overview_to_virtual_slice_transform: transform a 3D point in overview image (in microns) to virtual slice (in microns)\n",
    "        virtual_slice_to_overview_transform = \\\n",
    "            sitk.LandmarkBasedTransformInitializer( sitk.AffineTransform(2), flatten(fixed_landmarks), flatten(moving_landmarks) )\n",
    "        overview_to_virtual_slice_transform = virtual_slice_to_overview_transform.GetInverse()\n",
    "\n",
    "        # write out the overview_to_virtual_slice_transform\n",
    "        file = os.path.join(working_directory,'overview_to_virtual_slice_transform.txt')\n",
    "        sitk.WriteTransform( overview_to_virtual_slice_transform, file )\n",
    "\n",
    "        # generate resampled overview image\n",
    "        resampled_overview = \\\n",
    "            sitk.Resample(downsampled_overview, virtual_slice, virtual_slice_to_overview_transform, \\\n",
    "                        sitk.sitkLinear, 0, downsampled_overview.GetPixelID())\n",
    "\n",
    "        # write the downsampled overview to file\n",
    "        file = os.path.join(working_directory,'resampled_overview.nii.gz')\n",
    "        sitk.WriteImage( resampled_overview, file, True ) \n",
    "\n",
    "        # get the upright-only transformation\n",
    "        overview_to_virtual_slice_upright_transform = get_upright_transformation(downsampled_overview, ccf_to_virtual_slice_transform, virtual_slice_to_overview_transform, flip)\n",
    "        moving_landmarks_upright = [overview_to_virtual_slice_upright_transform.TransformPoint(xy) for xy in moving_landmarks]\n",
    "\n",
    "        # upright downsampled overview and save to file\n",
    "        upright_overview = sitk.Resample(downsampled_overview, overview_to_virtual_slice_upright_transform, sitk.sitkLinear, 0.0, downsampled_overview.GetPixelID())\n",
    "        file = os.path.join(working_directory,'upright_overview.nii.gz')\n",
    "        sitk.WriteImage( upright_overview, file, True ) \n",
    "\n",
    "        #save the upright transform to use on morphologies \n",
    "        file = os.path.join(working_directory,'overview_to_virtual_slice_upright_transform.txt')\n",
    "        sitk.WriteTransform( overview_to_virtual_slice_upright_transform, file )\n",
    "\n",
    "\n",
    "        fig, axes = plt.subplots(nrows=1,ncols=4,figsize=(20,5)) \n",
    "        visualize_landmarks(downsampled_overview, axes[0], moving_landmarks)\n",
    "        axes[0].set_title('20x with fiducials')\n",
    "        visualize_landmarks( virtual_slice, axes[1], fixed_landmarks)\n",
    "        axes[1].set_title('virtual slice with fiducials')\n",
    "        visualize_landmarks( resampled_overview, axes[2], fixed_landmarks)\n",
    "        axes[2].set_title('resampled 20x')\n",
    "        visualize_landmarks( upright_overview, axes[3], moving_landmarks_upright)\n",
    "        axes[3].set_title('upright 20x')\n",
    "        plt.savefig(os.path.join(working_directory, 'transformation_overview.jpg'))\n",
    "        # plt.show() \n",
    "        plt.clf()\n",
    "\n",
    "\n",
    "    except: \n",
    "        print('\\tissue with this slice {}'.format(specimen_id))\n",
    "        slices_with_issues[specimen_name] = 'issue with this slice'\n",
    "        continue\n"
   ]
  },
  {
   "cell_type": "code",
   "execution_count": 8,
   "metadata": {},
   "outputs": [],
   "source": [
    "\n",
    "slices_with_issues_df = pd.DataFrame.from_dict(slices_with_issues.items())\n",
    "slices_with_issues_df.to_csv(os.path.join(out, 'slices_with_issues_{}.csv'.format(current_date)), index=False)\n"
   ]
  },
  {
   "cell_type": "markdown",
   "metadata": {},
   "source": [
    "Transform cell morphologies to CCF"
   ]
  },
  {
   "cell_type": "code",
   "execution_count": 9,
   "metadata": {},
   "outputs": [
    {
     "data": {
      "text/html": [
       "<div>\n",
       "<style scoped>\n",
       "    .dataframe tbody tr th:only-of-type {\n",
       "        vertical-align: middle;\n",
       "    }\n",
       "\n",
       "    .dataframe tbody tr th {\n",
       "        vertical-align: top;\n",
       "    }\n",
       "\n",
       "    .dataframe thead th {\n",
       "        text-align: right;\n",
       "    }\n",
       "</style>\n",
       "<table border=\"1\" class=\"dataframe\">\n",
       "  <thead>\n",
       "    <tr style=\"text-align: right;\">\n",
       "      <th></th>\n",
       "      <th>slide_specimen_id</th>\n",
       "      <th>specimen_name</th>\n",
       "      <th>x</th>\n",
       "      <th>y</th>\n",
       "      <th>z</th>\n",
       "      <th>structure_id</th>\n",
       "      <th>structure_acronym</th>\n",
       "    </tr>\n",
       "  </thead>\n",
       "  <tbody>\n",
       "    <tr>\n",
       "      <th>0</th>\n",
       "      <td>1254192732</td>\n",
       "      <td>C57BL6J-667412.13.10.01</td>\n",
       "      <td>6725.000000</td>\n",
       "      <td>3807.984131</td>\n",
       "      <td>6180.958496</td>\n",
       "      <td>362</td>\n",
       "      <td>MD</td>\n",
       "    </tr>\n",
       "    <tr>\n",
       "      <th>1</th>\n",
       "      <td>1254192732</td>\n",
       "      <td>C57BL6J-667412.13.10.02</td>\n",
       "      <td>6725.000000</td>\n",
       "      <td>3685.511719</td>\n",
       "      <td>6276.875000</td>\n",
       "      <td>362</td>\n",
       "      <td>MD</td>\n",
       "    </tr>\n",
       "    <tr>\n",
       "      <th>2</th>\n",
       "      <td>1254192732</td>\n",
       "      <td>C57BL6J-667412.13.10.03</td>\n",
       "      <td>6725.000000</td>\n",
       "      <td>3607.036133</td>\n",
       "      <td>6302.043457</td>\n",
       "      <td>362</td>\n",
       "      <td>MD</td>\n",
       "    </tr>\n",
       "    <tr>\n",
       "      <th>3</th>\n",
       "      <td>1189282403</td>\n",
       "      <td>C57BL6J-634112.05.01.01</td>\n",
       "      <td>8846.905344</td>\n",
       "      <td>1215.824000</td>\n",
       "      <td>2322.970703</td>\n",
       "      <td>821</td>\n",
       "      <td>VISp2/3</td>\n",
       "    </tr>\n",
       "    <tr>\n",
       "      <th>4</th>\n",
       "      <td>1189282403</td>\n",
       "      <td>C57BL6J-634112.05.01.02</td>\n",
       "      <td>8698.307617</td>\n",
       "      <td>1624.090698</td>\n",
       "      <td>2576.191895</td>\n",
       "      <td>778</td>\n",
       "      <td>VISp5</td>\n",
       "    </tr>\n",
       "    <tr>\n",
       "      <th>...</th>\n",
       "      <td>...</td>\n",
       "      <td>...</td>\n",
       "      <td>...</td>\n",
       "      <td>...</td>\n",
       "      <td>...</td>\n",
       "      <td>...</td>\n",
       "      <td>...</td>\n",
       "    </tr>\n",
       "    <tr>\n",
       "      <th>4336</th>\n",
       "      <td>1381879715</td>\n",
       "      <td>Slc17a8-IRES2-Cre-neo;Ai14-744792.04.09.01</td>\n",
       "      <td>9400.000000</td>\n",
       "      <td>3390.569580</td>\n",
       "      <td>5675.099609</td>\n",
       "      <td>872</td>\n",
       "      <td>DR</td>\n",
       "    </tr>\n",
       "    <tr>\n",
       "      <th>4337</th>\n",
       "      <td>1381879715</td>\n",
       "      <td>Slc17a8-IRES2-Cre-neo;Ai14-744792.04.09.02</td>\n",
       "      <td>9400.000000</td>\n",
       "      <td>3500.603760</td>\n",
       "      <td>5664.691895</td>\n",
       "      <td>872</td>\n",
       "      <td>DR</td>\n",
       "    </tr>\n",
       "    <tr>\n",
       "      <th>4338</th>\n",
       "      <td>1225979537</td>\n",
       "      <td>Slc17a6-IRES-Cre;Ai14-651168.10.06.01</td>\n",
       "      <td>10347.208008</td>\n",
       "      <td>4123.347168</td>\n",
       "      <td>4529.000000</td>\n",
       "      <td>867</td>\n",
       "      <td>PB</td>\n",
       "    </tr>\n",
       "    <tr>\n",
       "      <th>4339</th>\n",
       "      <td>1225979537</td>\n",
       "      <td>Slc17a6-IRES-Cre;Ai14-651168.10.06.02</td>\n",
       "      <td>10288.272461</td>\n",
       "      <td>4340.153320</td>\n",
       "      <td>4529.000000</td>\n",
       "      <td>867</td>\n",
       "      <td>PB</td>\n",
       "    </tr>\n",
       "    <tr>\n",
       "      <th>4340</th>\n",
       "      <td>1225979537</td>\n",
       "      <td>Slc17a6-IRES-Cre;Ai14-651168.10.06.03</td>\n",
       "      <td>10276.733398</td>\n",
       "      <td>4231.104492</td>\n",
       "      <td>4529.000000</td>\n",
       "      <td>867</td>\n",
       "      <td>PB</td>\n",
       "    </tr>\n",
       "  </tbody>\n",
       "</table>\n",
       "<p>4341 rows × 7 columns</p>\n",
       "</div>"
      ],
      "text/plain": [
       "      slide_specimen_id                               specimen_name  \\\n",
       "0            1254192732                     C57BL6J-667412.13.10.01   \n",
       "1            1254192732                     C57BL6J-667412.13.10.02   \n",
       "2            1254192732                     C57BL6J-667412.13.10.03   \n",
       "3            1189282403                     C57BL6J-634112.05.01.01   \n",
       "4            1189282403                     C57BL6J-634112.05.01.02   \n",
       "...                 ...                                         ...   \n",
       "4336         1381879715  Slc17a8-IRES2-Cre-neo;Ai14-744792.04.09.01   \n",
       "4337         1381879715  Slc17a8-IRES2-Cre-neo;Ai14-744792.04.09.02   \n",
       "4338         1225979537       Slc17a6-IRES-Cre;Ai14-651168.10.06.01   \n",
       "4339         1225979537       Slc17a6-IRES-Cre;Ai14-651168.10.06.02   \n",
       "4340         1225979537       Slc17a6-IRES-Cre;Ai14-651168.10.06.03   \n",
       "\n",
       "                 x            y            z  structure_id structure_acronym  \n",
       "0      6725.000000  3807.984131  6180.958496           362                MD  \n",
       "1      6725.000000  3685.511719  6276.875000           362                MD  \n",
       "2      6725.000000  3607.036133  6302.043457           362                MD  \n",
       "3      8846.905344  1215.824000  2322.970703           821           VISp2/3  \n",
       "4      8698.307617  1624.090698  2576.191895           778             VISp5  \n",
       "...            ...          ...          ...           ...               ...  \n",
       "4336   9400.000000  3390.569580  5675.099609           872                DR  \n",
       "4337   9400.000000  3500.603760  5664.691895           872                DR  \n",
       "4338  10347.208008  4123.347168  4529.000000           867                PB  \n",
       "4339  10288.272461  4340.153320  4529.000000           867                PB  \n",
       "4340  10276.733398  4231.104492  4529.000000           867                PB  \n",
       "\n",
       "[4341 rows x 7 columns]"
      ]
     },
     "execution_count": 9,
     "metadata": {},
     "output_type": "execute_result"
    }
   ],
   "source": [
    "somas"
   ]
  },
  {
   "cell_type": "code",
   "execution_count": 10,
   "metadata": {},
   "outputs": [
    {
     "name": "stdout",
     "output_type": "stream",
     "text": [
      "C57BL6J-667412.13.10.01\n",
      "C57BL6J-667412.13.10.02\n",
      "C57BL6J-667412.13.10.03\n",
      "C57BL6J-634112.05.01.01\n",
      "C57BL6J-634112.05.01.02\n",
      "C57BL6J-634112.05.01.03\n",
      "C57BL6J-634221.05.01.01\n",
      "Rbp4-Cre_KL100;Ai14-659000.10.06.02\n",
      "Rbp4-Cre_KL100;Ai14-659000.10.06.03\n",
      "Rbp4-Cre_KL100;Ai14-659000.10.06.04\n",
      "Pvalb-IRES-Cre;Ai14-593556.12.02.02\n",
      "C57BL6J-634222.04.01.01\n",
      "Rorb-IRES2-Cre-neo;Ai14-604947.14.02.01\n",
      "Pvalb-IRES-Cre;Ai14-593558.04.01.01\n",
      "Pvalb-IRES-Cre;Ai14-593558.04.01.02\n",
      "Pvalb-IRES-Cre;Ai14-593558.04.01.03\n",
      "Pvalb-IRES-Cre;Ai14-593558.04.01.04\n",
      "Pvalb-IRES-Cre;Ai14-593558.04.02.01\n",
      "Pvalb-IRES-Cre;Ai14-593558.04.02.02\n",
      "Pvalb-IRES-Cre;Ai14-593558.04.02.04\n",
      "Vip-IRES-Cre;Ai14-594741.14.02.01\n",
      "Vip-IRES-Cre;Ai14-594741.14.02.02\n",
      "Vip-IRES-Cre;Ai14-594741.14.02.03\n",
      "C57BL6J-625941.04.02.01\n",
      "Slc17a6-IRES-Cre;Ai14-634163.11.02.01\n",
      "Slc17a6-IRES-Cre;Ai14-634163.11.02.02\n",
      "Slc17a6-IRES-Cre;Ai14-634163.11.02.03\n",
      "Gad2-IRES-Cre;Ai14-626576.03.01.02\n",
      "Gad2-IRES-Cre;Ai14-626576.03.01.04\n",
      "Gad2-IRES-Cre;Ai14-626576.03.01.06\n",
      "Gad2-IRES-Cre;Ai14-626576.03.01.05\n",
      "Slc17a6-IRES-Cre;Ai14-606635.09.01.01\n",
      "Vip-IRES-Cre;Ai14-594743.11.02.01\n",
      "Vip-IRES-Cre;Ai14-594743.11.02.02\n",
      "C57BL6J-640170.12.02.02\n",
      "C57BL6J-640170.12.02.03\n",
      "C57BL6J-640170.12.02.04\n",
      "Slc17a6-IRES-Cre;Ai14-599403.11.02.01\n",
      "Slc17a6-IRES-Cre;Ai14-599403.11.02.02\n",
      "Slc17a6-IRES-Cre;Ai14-599403.11.02.03\n",
      "Pvalb-IRES-Cre;Ai14-606805.03.01.01\n",
      "Vip-IRES-Cre;Ai14-594744.12.02.01\n",
      "Vip-IRES-Cre;Ai14-594744.12.02.02\n",
      "Pvalb-IRES-Cre;Ai14-586105.05.06.02\n",
      "C57BL6J-639264.11.02.01\n",
      "C57BL6J-639264.11.02.02\n",
      "C57BL6J-639264.11.02.03\n",
      "Sst-IRES-Cre;Ai14-601711.06.03.01\n",
      "Sst-IRES-Cre;Ai14-601711.06.03.02\n",
      "Sst-IRES-Cre;Ai14-601711.06.03.03\n",
      "Sst-IRES-Cre;Ai14-595003.12.02.01\n",
      "Sst-IRES-Cre;Ai14-595003.12.02.02\n",
      "Slc17a6-IRES-Cre;Ai14-674994.10.06.01\n",
      "Slc17a6-IRES-Cre;Ai14-674994.10.06.02\n",
      "Slc17a6-IRES-Cre;Ai14-674994.10.06.03\n",
      "Slc17a6-IRES-Cre;Ai14-674994.10.06.04\n",
      "Slc17a6-IRES-Cre;Ai14-674994.10.06.05\n",
      "C57BL6J-595220.05.02.01\n",
      "C57BL6J-595220.05.02.02\n",
      "C57BL6J-595220.05.02.03\n",
      "Slc17a6-IRES-Cre;Ai14-612219.08.03.01\n",
      "Slc17a6-IRES-Cre;Ai14-612219.08.03.02\n",
      "Slc17a6-IRES-Cre;Ai14-612219.08.03.03\n",
      "Chat-IRES-Cre-neo;Ai14-609251.06.03.01\n",
      "Chat-IRES-Cre-neo;Ai14-609252.06.03.01\n",
      "Chat-IRES-Cre-neo;Ai14-609252.06.03.02\n",
      "Chat-IRES-Cre-neo;Ai14-609252.06.03.03\n",
      "Pvalb-IRES-Cre;Ai14-595322.05.01.01\n",
      "Pvalb-IRES-Cre;Ai14-593186.10.01.02\n",
      "Rorb-IRES2-Cre-neo;Ai14-604947.11.01.01\n",
      "Gad2-IRES-Cre;Ai14-626578.08.01.01\n",
      "Gad2-IRES-Cre;Ai14-626578.08.01.02\n",
      "Gad2-IRES-Cre;Ai14-626578.08.01.03\n",
      "Htr3a-Cre_NO152;Ai14-596878.12.02.01\n",
      "Chat-IRES-Cre-neo;Ai14-609252.08.03.01\n",
      "Pvalb-IRES-Cre;Ai14-608866.15.09.01\n",
      "Pvalb-IRES-Cre;Ai14-608866.15.09.03\n",
      "Pvalb-IRES-Cre;Ai14-608866.15.09.02\n",
      "Vipr2-IRES2-Cre;Slc32a1-IRES2-FlpO;Ai65-557381.08.09.01\n",
      "Pvalb-IRES-Cre;Ai14-609302.07.03.01\n",
      "Pvalb-IRES-Cre;Ai14-609302.07.03.02\n",
      "Pvalb-IRES-Cre;Ai14-609302.07.03.03\n",
      "Vip-IRES-Cre;Ai14-614429.06.04.01\n",
      "Vip-IRES-Cre;Ai14-614429.06.04.02\n",
      "Vip-IRES-Cre;Ai14-614429.06.04.03\n",
      "Pvalb-IRES-Cre;Ai14-609305.05.02.01\n",
      "Htr3a-Cre_NO152;Ai14-596879.12.02.01\n",
      "Htr3a-Cre_NO152;Ai14-596879.12.02.02\n",
      "Vip-IRES-Cre;Ai14-614426.08.03.01\n",
      "Vip-IRES-Cre;Ai14-614426.08.03.02\n",
      "Vip-IRES-Cre;Ai14-614426.08.03.03\n",
      "C57BL6J-634222.05.01.01\n",
      "C57BL6J-634222.05.01.02\n",
      "Gad2-IRES-Cre;Ai14-626577.04.01.01\n",
      "Gad2-IRES-Cre;Ai14-626577.04.01.02\n",
      "Vip-IRES-Cre;Ai14-589352.11.09.02\n",
      "Pvalb-IRES-Cre;Ai14-577973.07.06.01\n",
      "Gad2-IRES-Cre;Ai14-626577.04.02.01\n",
      "Gad2-IRES-Cre;Ai14-626577.04.02.02\n",
      "Gad2-IRES-Cre;Ai14-626577.04.02.03\n",
      "C57BL6J-634111.03.01.01\n",
      "C57BL6J-634111.03.01.02\n",
      "C57BL6J-634111.03.01.03\n",
      "Vip-IRES-Cre;Ai14-597352.12.02.01\n",
      "Vip-IRES-Cre;Ai14-597352.12.02.02\n",
      "Vip-IRES-Cre;Ai14-597352.12.02.03\n",
      "C57BL6J-634111.06.01.01\n",
      "C57BL6J-634111.06.01.02\n",
      "C57BL6J-634111.06.01.03\n",
      "Vip-IRES-Cre;Ai14-633751.10.03.01\n",
      "Slc17a6-IRES-Cre;Ai14-670828.07.06.01\n",
      "Slc17a6-IRES-Cre;Ai14-670828.07.06.02\n",
      "Slc17a6-IRES-Cre;Ai14-670828.07.06.03\n",
      "Vip-IRES-Cre;Ai14-633751.13.03.01\n",
      "Slc17a6-IRES-Cre;Ai14-634163.11.01.01\n",
      "Slc17a6-IRES-Cre;Ai14-634163.11.01.02\n",
      "Slc17a6-IRES-Cre;Ai14-634163.11.01.03\n",
      "C57BL6J-732444.06.04.01\n",
      "C57BL6J-732444.06.04.02\n",
      "C57BL6J-732444.06.04.04\n",
      "Pvalb-IRES-Cre-611109.13.09.01\n",
      "Pvalb-IRES-Cre-611109.13.09.02\n",
      "Pvalb-IRES-Cre-611109.13.09.03\n",
      "Pvalb-IRES-Cre-611109.13.09.04\n",
      "Pvalb-IRES-Cre-611109.15.09.01\n",
      "Pvalb-IRES-Cre-611109.15.09.02\n",
      "Pvalb-IRES-Cre-611109.15.09.03\n",
      "Ndnf-IRES2-dgCre;Ai14-597333.12.02.01\n",
      "Ndnf-IRES2-dgCre;Ai14-597333.12.02.02\n",
      "Ndnf-IRES2-dgCre;Ai14-597333.12.02.03\n",
      "Sst-IRES-Cre;Ai14-597073.04.01.01\n",
      "Sst-IRES-Cre;Ai14-597073.04.02.01\n",
      "Sst-IRES-Cre;Ai14-597073.04.02.02\n",
      "Rorb-IRES2-Cre-neo;Ai14-598708.10.01.01\n",
      "C57BL6J-625936.06.04.01\n",
      "C57BL6J-625936.06.04.02\n",
      "C57BL6J-625936.06.04.03\n",
      "Pvalb-IRES-Cre-593995.05.02.01\n",
      "Sst-IRES-Cre;Ai14-594118.04.02.01\n",
      "Sst-IRES-Cre;Ai14-594118.04.02.02\n",
      "Sst-IRES-Cre;Ai14-594118.04.02.03\n",
      "Pvalb-IRES-Cre;Ai14-593556.12.01.01\n",
      "Pvalb-IRES-Cre-611110.12.09.01\n",
      "Pvalb-IRES-Cre-611110.12.09.02\n",
      "Pvalb-IRES-Cre-611110.12.09.03\n",
      "Pvalb-IRES-Cre;Ai14-611951.05.02.01\n",
      "C57BL6J-588651.10.09.01\n",
      "Pvalb-IRES-Cre-611110.15.09.01\n",
      "Pvalb-IRES-Cre-611110.15.09.02\n",
      "Vip-IRES-Cre;Ai14-648654.11.09.01\n",
      "Vip-IRES-Cre;Ai14-648654.11.09.02\n",
      "Vip-IRES-Cre;Ai14-648654.11.09.03\n",
      "Vip-IRES-Cre;Ai14-648654.11.09.04\n",
      "C57BL6J-625941.03.01.01\n",
      "C57BL6J-625941.03.01.02\n",
      "C57BL6J-625941.03.01.03\n",
      "Vip-IRES-Cre;Ai14-639433.09.01.01\n",
      "Vip-IRES-Cre;Ai14-639433.09.01.02\n",
      "Vip-IRES-Cre;Ai14-639433.09.01.03\n",
      "Vip-IRES-Cre;Ai14-648654.12.09.01\n",
      "Vip-IRES-Cre;Ai14-648654.12.09.02\n",
      "Vip-IRES-Cre;Ai14-648654.12.09.03\n",
      "Pvalb-IRES-Cre;Ai14-610300.03.01.01\n",
      "Pvalb-IRES-Cre;Ai14-610300.03.01.02\n",
      "Pvalb-IRES-Cre;Ai14-610300.03.02.01\n",
      "Gad2-IRES-Cre;Ai14-580681.08.06.01\n",
      "Pvalb-IRES-Cre;Ai14-610301.06.03.01\n",
      "Pvalb-IRES-Cre;Ai14-610301.06.03.02\n",
      "Gad2-IRES-Cre;Ai14-626578.09.02.01\n",
      "Gad2-IRES-Cre;Ai14-626578.09.02.02\n",
      "Gad2-IRES-Cre;Ai14-626578.11.01.01\n",
      "Vip-IRES-Cre;Ai14-627402.06.04.01\n",
      "Vip-IRES-Cre;Ai14-611969.06.03.01\n",
      "Vip-IRES-Cre;Ai14-611969.06.03.02\n",
      "Htr3a-Cre_NO152;Ai14-612284.06.03.01\n",
      "Htr3a-Cre_NO152;Ai14-612284.06.03.02\n",
      "Htr3a-Cre_NO152;Ai14-612284.06.03.03\n",
      "Htr3a-Cre_NO152;Ai14-612284.06.03.04\n",
      "Htr3a-Cre_NO152;Ai14-612284.06.03.05\n",
      "Htr3a-Cre_NO152;Ai14-612284.06.04.01\n",
      "Htr3a-Cre_NO152;Ai14-612284.06.04.02\n",
      "Htr3a-Cre_NO152;Ai14-612284.06.04.03\n",
      "Htr3a-Cre_NO152;Ai14-612284.06.04.04\n",
      "Htr3a-Cre_NO152;Ai14-612284.06.04.05\n",
      "Htr3a-Cre_NO152;Ai14-612284.07.03.01\n",
      "C57BL6J-613674.12.09.01\n",
      "Htr3a-Cre_NO152;Ai14-612285.07.03.01\n",
      "Htr3a-Cre_NO152;Ai14-612285.07.03.02\n",
      "Htr3a-Cre_NO152;Ai14-612285.07.03.03\n",
      "Htr3a-Cre_NO152;Ai14-612285.07.03.04\n",
      "Pvalb-IRES-Cre;Ai14-612347.03.01.01\n",
      "Pvalb-IRES-Cre;Ai14-612347.03.01.02\n",
      "Pvalb-IRES-Cre;Ai14-613480.04.02.01\n",
      "Pvalb-IRES-Cre;Ai14-613480.04.02.02\n",
      "Pvalb-IRES-Cre;Ai14-613480.04.02.03\n",
      "Pvalb-IRES-Cre;Ai14-613480.05.02.01\n",
      "Pvalb-IRES-Cre;Ai14-613480.05.02.02\n",
      "Pvalb-IRES-Cre;Ai14-613480.05.02.03\n",
      "Gad2-IRES-Cre;Ai14-600204.10.02.01\n",
      "Gad2-IRES-Cre;Ai14-600204.10.02.02\n",
      "Gad2-IRES-Cre;Ai14-600204.10.02.03\n",
      "Scnn1a-Tg2-Cre;Ai14-358945.0.03.01.01\n",
      "Vip-IRES-Cre;Ai14-359503.04.01.01\n",
      "Vip-IRES-Cre;Ai14-359503.04.01.02\n",
      "Sst-IRES-Cre;Th-P2A-FlpO;Ai65-553115.07.09.01\n",
      "Sst-IRES-Cre;Th-P2A-FlpO;Ai65-553115.07.09.02\n",
      "Sst-IRES-Cre;Th-P2A-FlpO;Ai65-553115.07.09.03\n",
      "Sst-IRES-Cre;Ai14-586747.04.01.01\n",
      "Sst-IRES-Cre;Ai14-508745.07.06.01\n",
      "Sst-IRES-Cre;Ai14-508745.07.06.02\n",
      "Oxtr-T2A-Cre;Ai14-550838.10.09.01\n",
      "Pvalb-IRES-Cre;Ai14-553660.06.06.01\n",
      "Glt25d2-Cre_NF107;Ai14-562121.08.09.03\n",
      "Vip-IRES-Cre;Ai14-567749.04.10.02\n",
      "Gad2-IRES-Cre;Ai14-580680.06.03.01\n",
      "Gad2-IRES-Cre;Ai14-580680.06.03.02\n",
      "Rorb-IRES2-Cre-neo;Ai14-569045.04.10.01\n",
      "Slc32a1-IRES-Cre;Ai14-568450.06.10.01\n",
      "Slc32a1-IRES-Cre;Ai14-568450.06.10.02\n",
      "Vip-IRES-Cre;Ai14-580200.06.02.01\n",
      "Sst-IRES-Cre;Ai14-586748.03.01.02\n",
      "Sst-IRES-Cre;Ai14-588278.04.02.01\n",
      "Pvalb-IRES-Cre;Ai14-589127.06.01.02\n",
      "C57BL6J-581844.07.03.02\n",
      "Chat-IRES-Cre-neo;Ai14-586529.06.03.02\n",
      "Sst-IRES-Cre;Ai14-587456.03.02.02\n",
      "Sst-IRES-Cre;Ai14-588278.03.01.02\n",
      "Sst-IRES-Cre;Ai14-587456.02.02.01\n",
      "Sst-IRES-Cre;Ai14-587456.02.02.02\n",
      "C57BL6J-613672.16.09.01\n",
      "C57BL6J-613672.16.09.02\n",
      "Sst-IRES-Cre;Ai14-588280.10.09.01\n",
      "Sst-IRES-Cre;Ai14-588280.10.09.02\n",
      "Sst-IRES-Cre;Ai14-588280.10.09.03\n",
      "Sst-IRES-Cre;Ai14-588280.13.09.01\n",
      "Sst-IRES-Cre;Ai14-588280.13.09.02\n",
      "Pvalb-IRES-Cre;Ai14-589126.03.01.01\n",
      "Rbp4-Cre_KL100;Ai14-613769.06.03.01\n",
      "Rbp4-Cre_KL100;Ai14-613769.06.03.02\n",
      "Rbp4-Cre_KL100;Ai14-613769.06.03.03\n",
      "Rbp4-Cre_KL100;Ai14-613769.06.03.04\n",
      "Rbp4-Cre_KL100;Ai14-613769.06.03.05\n",
      "Rbp4-Cre_KL100;Ai14-613769.06.03.06\n",
      "Rbp4-Cre_KL100;Ai14-613771.11.09.01\n",
      "C57BL6J-625936.07.04.01\n",
      "C57BL6J-625936.07.04.02\n",
      "C57BL6J-625936.07.04.03\n",
      "C57BL6J-625936.07.04.04\n",
      "Sst-IRES-Cre;Ai14-670418.12.10.01\n",
      "Vip-IRES-Cre;Ai14-614425.07.04.01\n",
      "Rbp4-Cre_KL100;Ai14-613772.10.09.01\n",
      "Rbp4-Cre_KL100;Ai14-613772.10.09.02\n",
      "C57BL6J-625940.06.01.01\n",
      "C57BL6J-625940.06.01.02\n",
      "C57BL6J-625940.06.01.03\n",
      "Slc17a6-IRES-Cre;Ai14-591476.13.09.01\n",
      "Sst-IRES-Cre;Ai14-591332.12.09.02\n",
      "Sst-IRES-Cre;Ai14-591332.12.09.03\n",
      "Sst-IRES-Cre;Ai14-591332.12.09.04\n",
      "Sst-IRES-Cre;Ai14-614599.05.09.01\n",
      "Sst-IRES-Cre;Ai14-614599.05.09.02\n",
      "Sst-IRES-Cre;Ai14-614599.10.09.01\n",
      "Sst-IRES-Cre;Ai14-614599.10.09.02\n",
      "Sst-IRES-Cre;Ai14-614601.16.09.01\n",
      "Sst-IRES-Cre;Ai14-614601.16.09.02\n",
      "Vip-IRES-Cre;Ai14-614429.07.04.01\n",
      "Vip-IRES-Cre;Ai14-614429.07.04.02\n",
      "Vip-IRES-Cre;Ai14-614429.08.04.01\n",
      "Vip-IRES-Cre;Ai14-616171.09.09.01\n",
      "Chat-IRES-Cre-neo;Ai14-592379.05.04.01\n",
      "Vip-IRES-Cre;Ai14-616171.13.09.01\n",
      "Vip-IRES-Cre;Ai14-616171.13.09.02\n",
      "Vip-IRES-Cre;Ai14-616172.11.09.01\n",
      "Vip-IRES-Cre;Ai14-616172.11.09.02\n",
      "Vip-IRES-Cre;Ai14-616172.15.09.01\n",
      "Vip-IRES-Cre;Ai14-616172.15.09.02\n",
      "Vip-IRES-Cre;Ai14-616172.15.09.03\n",
      "Vip-IRES-Cre;Ai14-616172.15.09.04\n",
      "Slc17a6-IRES-Cre;Ai14-616582.16.09.01\n",
      "Crh-IRES-Cre_ZJH;Sst-IRES-FlpO;Ai65-561250.06.06.01\n",
      "Htr3a-Cre_NO152;Ai14-672490.06.03.01\n",
      "\t\tno manual swc to register\n",
      "\t\tno pp14 autotrace swc to register\n",
      "\t\tno raw autotrace swc to register\n",
      "Htr3a-Cre_NO152;Ai14-672490.06.03.02\n",
      "\t\tno manual swc to register\n",
      "Htr3a-Cre_NO152;Ai14-672490.06.03.03\n",
      "\t\tno manual swc to register\n",
      "\t\tno pp14 autotrace swc to register\n",
      "\t\tno raw autotrace swc to register\n",
      "C57BL6J-631342.07.04.01\n",
      "C57BL6J-631342.07.04.02\n",
      "C57BL6J-631342.07.04.03\n",
      "Rbp4-Cre_KL100;Ai14-618348.06.03.01\n",
      "Rbp4-Cre_KL100;Ai14-618348.06.03.02\n",
      "Rbp4-Cre_KL100;Ai14-618348.06.03.03\n",
      "Rbp4-Cre_KL100;Ai14-618348.06.03.04\n",
      "C57BL6J-631342.08.03.01\n",
      "C57BL6J-631342.08.03.02\n",
      "C57BL6J-631342.08.03.03\n",
      "C57BL6J-631342.09.04.01\n",
      "C57BL6J-631342.09.04.02\n",
      "C57BL6J-625940.04.01.01\n",
      "C57BL6J-625940.04.01.02\n",
      "C57BL6J-625940.04.01.03\n",
      "C57BL6J-625940.04.01.04\n",
      "C57BL6J-625940.03.01.01\n",
      "C57BL6J-625940.03.01.02\n",
      "C57BL6J-625940.03.01.03\n",
      "Pvalb-IRES-Cre;Ai14-627392.07.04.01\n",
      "Pvalb-IRES-Cre;Ai14-627392.07.04.02\n",
      "Pvalb-IRES-Cre;Ai14-627392.07.04.03\n",
      "Vip-IRES-Cre;Ai14-627403.07.04.01\n",
      "Vip-IRES-Cre;Ai14-627403.07.04.02\n",
      "Vip-IRES-Cre;Ai14-551879.08.06.01\n",
      "Vip-IRES-Cre;Ai14-551879.08.06.02\n",
      "Vip-IRES-Cre;Ai14-548766.08.06.01\n",
      "Sst-IRES-Cre;Ai14-641059.04.01.02\n",
      "Sst-IRES-Cre;Ai14-641059.04.01.03\n",
      "Sst-IRES-Cre;Ai14-641059.04.01.04\n",
      "Vip-IRES-Cre;Ai14-627403.09.04.01\n",
      "Vip-IRES-Cre;Ai14-627404.09.03.01\n",
      "Chat-IRES-Cre-neo;Ai14-627366.07.04.01\n",
      "Chat-IRES-Cre-neo;Ai14-627366.07.04.02\n",
      "Chat-IRES-Cre-neo;Ai14-627366.07.04.03\n",
      "Ndnf-IRES2-dgCre;Ai14-597334.12.02.01\n",
      "Pvalb-IRES-Cre;Ai14-598675.03.02.01\n",
      "Pvalb-IRES-Cre;Ai14-598675.03.02.02\n",
      "Pvalb-IRES-Cre;Ai14-598675.03.02.03\n",
      "Pvalb-IRES-Cre;Ai14-598675.04.01.01\n",
      "C57BL6J-704704.14.10.01\n",
      "C57BL6J-704704.14.10.02\n",
      "C57BL6J-704704.14.10.03\n",
      "Ndnf-IRES2-dgCre;Ai14-594621.13.01.01\n",
      "Ndnf-IRES2-dgCre;Ai14-594621.13.01.02\n",
      "Sst-IRES-Cre;Ai14-641058.02.01.01\n",
      "Sst-IRES-Cre;Ai14-641058.02.01.02\n",
      "Sst-IRES-Cre;Ai14-641058.02.01.03\n",
      "Sncg-IRES2-FlpO-neo;Ai65F-598725.10.01.01\n",
      "Sncg-IRES2-FlpO-neo;Ai65F-598725.10.02.01\n",
      "Sncg-IRES2-FlpO-neo;Ai65F-598725.10.02.02\n",
      "Sncg-IRES2-FlpO-neo;Ai65F-598725.10.02.03\n",
      "Rorb-IRES2-Cre-neo;Ai14-598708.09.02.01\n",
      "Rorb-IRES2-Cre-neo;Ai14-598708.09.02.02\n",
      "Slc17a6-IRES-Cre;Ai14-599402.09.02.01\n",
      "Slc17a6-IRES-Cre;Ai14-599402.09.02.02\n",
      "Htr3a-Cre_NO152;Ai14-599393.10.02.01\n",
      "Htr3a-Cre_NO152;Ai14-599393.10.02.02\n",
      "Htr3a-Cre_NO152;Ai14-599393.10.02.03\n",
      "Slc17a6-IRES-Cre;Ai14-599402.10.01.01\n",
      "Slc17a6-IRES-Cre;Ai14-599402.10.01.02\n",
      "Slc17a6-IRES-Cre;Ai14-599402.10.01.03\n",
      "Slc17a6-IRES-Cre;Ai14-599402.10.01.04\n",
      "C57BL6J-634112.06.01.01\n",
      "C57BL6J-634112.06.01.02\n",
      "C57BL6J-634112.06.01.03\n",
      "C57BL6J-634112.06.01.04\n",
      "Pvalb-IRES-Cre;Ai14-510675.07.06.01\n",
      "Pvalb-IRES-Cre;Ai14-510675.07.06.03\n",
      "Pvalb-IRES-Cre;Ai14-510675.07.06.02\n",
      "Sst-IRES-Cre-599592.09.09.01\n",
      "Sst-IRES-Cre-599592.09.09.02\n",
      "C57BL6J-625941.04.01.01\n",
      "C57BL6J-625941.04.01.02\n",
      "C57BL6J-625941.04.01.03\n",
      "C57BL6J-628261.01.01.01\n",
      "C57BL6J-628261.01.01.02\n",
      "C57BL6J-628261.01.01.03\n",
      "C57BL6J-628261.01.01.04\n",
      "C57BL6J-625941.05.01.01\n",
      "C57BL6J-625941.05.01.02\n",
      "C57BL6J-629713.04.01.01\n",
      "C57BL6J-629713.04.01.02\n",
      "C57BL6J-629713.04.01.03\n",
      "C57BL6J-634221.03.01.01\n",
      "C57BL6J-634221.03.01.02\n",
      "Sst-IRES-Cre;Ai14-591334.09.09.01\n",
      "Pvalb-IRES-Cre;Ai14-359332.06.01.02\n",
      "Nos1-CreERT2;Sst-IRES-FlpO;Ai65-553472.08.06.02\n",
      "Nos1-CreERT2;Sst-IRES-FlpO;Ai65-553472.08.06.01\n",
      "\t\tno manual swc to register\n",
      "\t\tno pp14 autotrace swc to register\n",
      "\t\tno raw autotrace swc to register\n",
      "Sst-IRES-Cre-599592.10.09.01\n",
      "Sst-IRES-Cre-599592.10.09.02\n",
      "Pvalb-IRES-Cre;Ai14-595321.11.01.01\n",
      "Pvalb-IRES-Cre;Ai14-595321.11.01.03\n",
      "Pvalb-IRES-Cre;Ai14-595321.11.01.04\n",
      "Pvalb-IRES-Cre;Ai14-595321.11.01.06\n",
      "Sst-IRES-Cre;Ai14-554002.07.06.01\n",
      "Htr3a-Cre_NO152;Ai14-578482.07.04.01\n",
      "Htr3a-Cre_NO152;Ai14-578484.06.10.01\n",
      "Rorb-IRES2-Cre-neo;Ai14-598710.10.01.01\n",
      "Rorb-IRES2-Cre-neo;Ai14-598710.10.01.02\n",
      "Rorb-IRES2-Cre-neo;Ai14-598710.10.01.03\n",
      "Sst-IRES-Cre;Ai14-554002.08.06.01\n",
      "Sst-IRES-Cre;Ai14-554002.08.06.02\n",
      "Htr3a-Cre_NO152;Ai14-672490.08.04.01\n",
      "\t\tno manual swc to register\n",
      "\t\tno pp14 autotrace swc to register\n",
      "\t\tno raw autotrace swc to register\n",
      "Htr3a-Cre_NO152;Ai14-672490.08.04.02\n",
      "\t\tno manual swc to register\n"
     ]
    },
    {
     "name": "stderr",
     "output_type": "stream",
     "text": [
      "c:\\Users\\sarah.wallingbell\\AppData\\Local\\anaconda3\\envs\\morph_utils_v3\\lib\\site-packages\\scipy\\interpolate\\_interpolate.py:698: RuntimeWarning: invalid value encountered in divide\n",
      "  slope = (y_hi - y_lo) / (x_hi - x_lo)[:, None]\n",
      "c:\\Users\\sarah.wallingbell\\AppData\\Local\\anaconda3\\envs\\morph_utils_v3\\lib\\site-packages\\scipy\\interpolate\\_interpolate.py:698: RuntimeWarning: invalid value encountered in divide\n",
      "  slope = (y_hi - y_lo) / (x_hi - x_lo)[:, None]\n",
      "c:\\Users\\sarah.wallingbell\\AppData\\Local\\anaconda3\\envs\\morph_utils_v3\\lib\\site-packages\\scipy\\interpolate\\_interpolate.py:698: RuntimeWarning: invalid value encountered in divide\n",
      "  slope = (y_hi - y_lo) / (x_hi - x_lo)[:, None]\n",
      "c:\\Users\\sarah.wallingbell\\AppData\\Local\\anaconda3\\envs\\morph_utils_v3\\lib\\site-packages\\scipy\\interpolate\\_interpolate.py:698: RuntimeWarning: invalid value encountered in divide\n",
      "  slope = (y_hi - y_lo) / (x_hi - x_lo)[:, None]\n",
      "c:\\Users\\sarah.wallingbell\\AppData\\Local\\anaconda3\\envs\\morph_utils_v3\\lib\\site-packages\\scipy\\interpolate\\_interpolate.py:698: RuntimeWarning: invalid value encountered in divide\n",
      "  slope = (y_hi - y_lo) / (x_hi - x_lo)[:, None]\n"
     ]
    },
    {
     "name": "stdout",
     "output_type": "stream",
     "text": [
      "Htr3a-Cre_NO152;Ai14-672490.08.04.03\n",
      "\t\tno manual swc to register\n",
      "\t\tno pp14 autotrace swc to register\n",
      "\t\tno raw autotrace swc to register\n",
      "Gad2-IRES-Cre;Ai14-600202.11.02.01\n",
      "Gad2-IRES-Cre;Ai14-600202.11.02.02\n",
      "Gad2-IRES-Cre;Ai14-600202.11.02.03\n",
      "Slc17a6-IRES-Cre;Ai14-599403.11.01.01\n",
      "Slc17a6-IRES-Cre;Ai14-599403.11.01.02\n",
      "Slc17a6-IRES-Cre;Ai14-599403.11.01.03\n",
      "Gad2-IRES-Cre;Ai14-600204.10.01.01\n",
      "Gad2-IRES-Cre;Ai14-600204.10.01.02\n",
      "C57BL6J-628260.02.01.01\n",
      "C57BL6J-628260.02.01.02\n",
      "C57BL6J-628261.03.01.01\n",
      "C57BL6J-628261.03.01.02\n",
      "C57BL6J-628261.03.01.03\n",
      "Pvalb-IRES-Cre;Ai14-606194.10.02.02\n",
      "Pvalb-IRES-Cre;Ai14-606194.10.02.03\n",
      "Pvalb-IRES-Cre;Ai14-606194.10.02.04\n",
      "Pvalb-IRES-Cre;Ai14-606194.10.02.05\n",
      "Pvalb-IRES-Cre;Ai14-606194.10.02.01\n",
      "C57BL6J-628261.04.01.01\n",
      "C57BL6J-628261.04.01.02\n",
      "C57BL6J-628261.04.01.03\n",
      "Rorb-IRES2-Cre-neo;Ai14-598708.09.01.01\n",
      "Rorb-IRES2-Cre-neo;Ai14-598708.09.01.02\n",
      "Sst-IRES-Cre;Ai14-508748.07.06.01\n",
      "Sst-IRES-Cre;Ai14-508748.07.06.02\n",
      "Sst-IRES-Cre;Ai14-508748.07.06.03\n",
      "Rorb-IRES2-Cre-neo;Ai14-598709.12.02.01\n",
      "Rorb-IRES2-Cre-neo;Ai14-598709.12.02.02\n",
      "Rorb-IRES2-Cre-neo;Ai14-598709.12.02.03\n",
      "Rorb-IRES2-Cre-neo;Ai14-604947.10.02.01\n",
      "Rorb-IRES2-Cre-neo;Ai14-604947.10.02.02\n",
      "Rorb-IRES2-Cre-neo;Ai14-604947.10.02.03\n",
      "Rorb-IRES2-Cre-neo;Ai14-604947.10.02.04\n",
      "Slc17a6-IRES-Cre;Ai14-599402.10.02.01\n",
      "Slc17a6-IRES-Cre;Ai14-599402.10.02.02\n",
      "Nos1-CreERT2;Sst-IRES-FlpO;Ai65-553472.06.06.01\n",
      "Slc17a6-IRES-Cre;Ai14-599404.11.02.01\n",
      "Slc17a6-IRES-Cre;Ai14-599404.11.02.02\n",
      "Slc17a6-IRES-Cre;Ai14-599404.11.02.03\n",
      "C57BL6J-628261.05.01.01\n",
      "Vip-IRES-Cre;Ai14-597352.11.01.01\n",
      "Vip-IRES-Cre;Ai14-597352.11.01.02\n",
      "Vip-IRES-Cre;Ai14-597353.10.01.01\n",
      "Vip-IRES-Cre;Ai14-597353.10.01.02\n",
      "Vip-IRES-Cre;Ai14-597353.10.01.03\n",
      "Vip-IRES-Cre;Ai14-601385.10.01.01\n",
      "Vip-IRES-Cre;Ai14-601385.10.01.02\n",
      "Vip-IRES-Cre;Ai14-601385.10.01.03\n",
      "Pvalb-IRES-Cre;Ai14-629890.06.04.01\n",
      "Pvalb-IRES-Cre;Ai14-629890.06.04.02\n",
      "Sst-IRES-Cre;Ai14-508746.06.06.01\n",
      "Sst-IRES-Cre;Ai14-508746.06.06.02\n",
      "Sncg-IRES2-FlpO-neo;Ai65F-606663.13.01.01\n",
      "Sncg-IRES2-FlpO-neo;Ai65F-606663.13.01.02\n",
      "Sncg-IRES2-FlpO-neo;Ai65F-606663.13.01.03\n",
      "Pvalb-IRES-Cre;Ai14-609902.06.04.01\n",
      "Pvalb-IRES-Cre;Ai14-609902.06.04.02\n",
      "Pvalb-IRES-Cre;Ai14-609902.06.04.03\n",
      "Pvalb-IRES-Cre;Ai14-609902.06.04.04\n",
      "Pvalb-IRES-Cre;Ai14-609902.06.04.05\n",
      "Vip-IRES-Cre;Ai14-614426.05.04.01\n",
      "Vip-IRES-Cre;Ai14-614426.05.04.02\n",
      "Vip-IRES-Cre;Ai14-614426.05.04.03\n",
      "Sncg-IRES2-FlpO-neo;Ai65F-606663.10.02.01\n",
      "Sncg-IRES2-FlpO-neo;Ai65F-606663.10.02.02\n",
      "Sncg-IRES2-FlpO-neo;Ai65F-606663.10.02.03\n",
      "Chat-IRES-Cre-neo;Ai14-609252.05.04.01\n",
      "C57BL6J-604147.10.09.01\n",
      "C57BL6J-604146.09.09.01\n",
      "C57BL6J-604146.09.09.02\n",
      "Htr3a-Cre_NO152;Ai14-609165.06.04.01\n",
      "Htr3a-Cre_NO152;Ai14-609165.06.04.02\n",
      "Htr3a-Cre_NO152;Ai14-609165.06.04.03\n",
      "C57BL6J-604146.10.09.01\n",
      "C57BL6J-604146.10.09.02\n",
      "Slc17a6-IRES-Cre;Ai14-599403.12.01.01\n",
      "Slc17a6-IRES-Cre;Ai14-599403.12.01.02\n",
      "Slc17a6-IRES-Cre;Ai14-599403.12.01.03\n",
      "Slc17a6-IRES-Cre;Ai14-599403.12.01.04\n",
      "Slc17a6-IRES-Cre;Ai14-599403.12.01.05\n",
      "Slc17a6-IRES-Cre;Ai14-616582.14.09.01\n",
      "Slc17a6-IRES-Cre;Ai14-616582.14.09.02\n",
      "Slc17a6-IRES-Cre;Ai14-616582.14.09.03\n",
      "Rbp4-Cre_KL100;Ai14-576458.05.02.01\n",
      "Pvalb-IRES-Cre;Ai14-609903.06.04.01\n",
      "Pvalb-IRES-Cre;Ai14-609903.06.04.02\n",
      "Pvalb-IRES-Cre;Ai14-609903.06.04.03\n",
      "Pvalb-IRES-Cre;Ai14-609903.06.04.04\n",
      "Slc17a6-IRES-Cre;Ai14-599403.12.02.01\n",
      "Slc17a6-IRES-Cre;Ai14-599403.12.02.02\n",
      "Slc17a6-IRES-Cre;Ai14-599403.12.02.03\n",
      "Pvalb-IRES-Cre;Ai14-629890.07.04.01\n",
      "Pvalb-IRES-Cre;Ai14-629890.07.04.02\n",
      "Pvalb-IRES-Cre;Ai14-629894.12.03.01\n",
      "Pvalb-IRES-Cre;Ai14-629894.12.03.02\n",
      "Vip-IRES-Cre;Ai14-614425.06.04.01\n",
      "Vip-IRES-Cre;Ai14-614425.06.04.02\n",
      "Vip-IRES-Cre;Ai14-614425.06.04.03\n",
      "Vip-IRES-Cre;Ai14-614425.06.04.04\n",
      "Pvalb-IRES-Cre;Ai14-359335.04.01.01\n",
      "Slc17a7-IRES2-Cre;Ai14-562346.06.09.01\n",
      "Rorb-IRES2-Cre-neo;Ai14-598710.10.02.01\n",
      "C57BL6J-629713.03.01.01\n",
      "C57BL6J-629713.03.01.02\n",
      "Pvalb-IRES-Cre-611110.14.09.01\n",
      "Pvalb-IRES-Cre-611110.14.09.02\n",
      "Pvalb-IRES-Cre-611110.14.09.03\n",
      "Pvalb-IRES-Cre-611110.14.09.04\n",
      "Rorb-IRES2-Cre-neo;Ai14-598710.12.01.01\n",
      "Rorb-IRES2-Cre-neo;Ai14-598710.12.01.02\n",
      "Rorb-IRES2-Cre-neo;Ai14-598710.12.01.03\n",
      "C57BL6J-604147.09.09.01\n",
      "C57BL6J-604147.09.09.02\n",
      "Slc17a7-IRES2-Cre;Ai14-506270.08.06.01\n",
      "Slc17a7-IRES2-Cre;Ai14-506270.08.06.02\n",
      "Slc17a7-IRES2-Cre;Ai14-506270.08.06.03\n",
      "C57BL6J-629713.05.01.01\n",
      "C57BL6J-629713.05.01.02\n",
      "Chat-IRES-Cre-neo;Ai14-611536.06.04.01\n",
      "Chat-IRES-Cre-neo;Ai14-611536.06.04.02\n",
      "Chat-IRES-Cre-neo;Ai14-611536.06.04.03\n",
      "Htr3a-Cre_NO152;Ai14-609164.05.04.01\n",
      "Htr3a-Cre_NO152;Ai14-609164.05.04.02\n",
      "Htr3a-Cre_NO152;Ai14-609164.05.04.03\n",
      "Pvalb-IRES-Cre;Ai14-629895.11.03.01\n",
      "Pvalb-IRES-Cre;Ai14-629895.11.03.02\n",
      "Pvalb-IRES-Cre;Ai14-629896.13.03.01\n",
      "Sst-IRES-Cre;Ai14-603452.11.01.01\n",
      "Sst-IRES-Cre;Ai14-603452.11.01.02\n",
      "Sst-IRES-Cre;Ai14-603452.11.01.03\n",
      "Pvalb-IRES-Cre;Ai14-629896.13.04.01\n",
      "Pvalb-IRES-Cre;Ai14-629896.13.04.02\n",
      "Chat-IRES-Cre-neo;Ai14-623124.07.03.01\n",
      "\t\tno manual swc to register\n",
      "\t\tno pp14 autotrace swc to register\n",
      "\t\tno raw autotrace swc to register\n",
      "Chat-IRES-Cre-neo;Ai14-623124.07.03.02\n",
      "\t\tno manual swc to register\n",
      "\t\tno pp14 autotrace swc to register\n",
      "\t\tno raw autotrace swc to register\n",
      "Chat-IRES-Cre-neo;Ai14-623124.07.03.03\n",
      "\t\tno manual swc to register\n"
     ]
    },
    {
     "name": "stderr",
     "output_type": "stream",
     "text": [
      "c:\\Users\\sarah.wallingbell\\AppData\\Local\\anaconda3\\envs\\morph_utils_v3\\lib\\site-packages\\scipy\\interpolate\\_interpolate.py:698: RuntimeWarning: invalid value encountered in divide\n",
      "  slope = (y_hi - y_lo) / (x_hi - x_lo)[:, None]\n",
      "c:\\Users\\sarah.wallingbell\\AppData\\Local\\anaconda3\\envs\\morph_utils_v3\\lib\\site-packages\\scipy\\interpolate\\_interpolate.py:698: RuntimeWarning: invalid value encountered in divide\n",
      "  slope = (y_hi - y_lo) / (x_hi - x_lo)[:, None]\n",
      "c:\\Users\\sarah.wallingbell\\AppData\\Local\\anaconda3\\envs\\morph_utils_v3\\lib\\site-packages\\scipy\\interpolate\\_interpolate.py:698: RuntimeWarning: invalid value encountered in divide\n",
      "  slope = (y_hi - y_lo) / (x_hi - x_lo)[:, None]\n",
      "c:\\Users\\sarah.wallingbell\\AppData\\Local\\anaconda3\\envs\\morph_utils_v3\\lib\\site-packages\\scipy\\interpolate\\_interpolate.py:698: RuntimeWarning: invalid value encountered in divide\n",
      "  slope = (y_hi - y_lo) / (x_hi - x_lo)[:, None]\n",
      "c:\\Users\\sarah.wallingbell\\AppData\\Local\\anaconda3\\envs\\morph_utils_v3\\lib\\site-packages\\scipy\\interpolate\\_interpolate.py:698: RuntimeWarning: invalid value encountered in divide\n",
      "  slope = (y_hi - y_lo) / (x_hi - x_lo)[:, None]\n"
     ]
    },
    {
     "name": "stdout",
     "output_type": "stream",
     "text": [
      "C57BL6J-613674.13.09.01\n",
      "C57BL6J-613674.13.09.02\n",
      "C57BL6J-613674.13.09.03\n",
      "Slc17a6-IRES-Cre;Ai14-591727.12.09.03\n",
      "Slc17a6-IRES-Cre;Ai14-616582.13.09.01\n",
      "Slc17a6-IRES-Cre;Ai14-616582.13.09.02\n",
      "Slc17a6-IRES-Cre;Ai14-616582.13.09.03\n",
      "Chat-IRES-Cre-neo;Ai14-606032.07.03.01\n",
      "Chat-IRES-Cre-neo;Ai14-606032.07.03.02\n",
      "Chat-IRES-Cre-neo;Ai14-606032.07.03.03\n",
      "C57BL6J-640171.10.01.01\n",
      "C57BL6J-640171.10.01.02\n",
      "Pvalb-IRES-Cre;Ai14-604427.10.01.01\n",
      "Sst-IRES-Cre;Ai14-572054.06.10.01\n",
      "Sst-IRES-Cre;Ai14-572054.06.10.02\n",
      "\t\tno manual swc to register\n",
      "\t\tno pp14 autotrace swc to register\n",
      "\t\tno raw autotrace swc to register\n",
      "Pvalb-IRES-Cre-591411.07.09.01\n",
      "Pvalb-IRES-Cre-591411.07.09.02\n",
      "Pvalb-IRES-Cre-591411.07.09.03\n",
      "Pvalb-IRES-Cre-591411.07.09.04\n",
      "Sst-IRES-Cre-599593.10.09.01\n",
      "Sst-IRES-Cre-599593.10.09.02\n",
      "Slc17a6-IRES-Cre;Ai14-612219.06.03.01\n",
      "Slc17a6-IRES-Cre;Ai14-612219.06.03.02\n",
      "Slc17a6-IRES-Cre;Ai14-612219.06.03.03\n",
      "Slc17a6-IRES-Cre;Ai14-612219.06.03.04\n",
      "Slc17a6-IRES-Cre;Ai14-606635.12.02.01\n",
      "C57BL6J-639264.11.01.01\n",
      "C57BL6J-639264.11.01.02\n",
      "C57BL6J-617127.13.09.01\n",
      "C57BL6J-618018.13.09.01\n",
      "C57BL6J-618018.13.09.02\n",
      "C57BL6J-618018.13.09.03\n",
      "Ndnf-IRES2-dgCre;Ai14-597333.11.01.01\n",
      "Ndnf-IRES2-dgCre;Ai14-597333.11.01.02\n",
      "C57BL6J-617127.15.09.01\n",
      "C57BL6J-617127.15.09.02\n",
      "C57BL6J-617127.15.09.03\n",
      "C57BL6J-617127.15.09.04\n",
      "C57BL6J-617127.15.09.05\n",
      "Chat-IRES-Cre-neo;Ai14-631355.12.04.01\n",
      "Chat-IRES-Cre-neo;Ai14-631355.12.04.02\n",
      "C57BL6J-617129.08.09.01\n",
      "C57BL6J-617129.08.09.02\n",
      "Htr3a-Cre_NO152;Ai14-640653.08.04.01\n",
      "Htr3a-Cre_NO152;Ai14-640653.08.04.02\n",
      "Htr3a-Cre_NO152;Ai14-640653.08.04.03\n",
      "C57BL6J-618127.05.04.01\n",
      "C57BL6J-618127.05.04.02\n",
      "C57BL6J-618127.05.04.03\n",
      "Slc17a6-IRES-Cre;Ai14-606633.12.01.01\n",
      "Slc17a6-IRES-Cre;Ai14-606633.12.01.02\n",
      "Slc17a6-IRES-Cre;Ai14-606633.12.01.03\n",
      "C57BL6J-618128.08.03.01\n",
      "C57BL6J-618128.08.03.02\n",
      "C57BL6J-618128.08.03.03\n",
      "Htr3a-Cre_NO152;Ai14-612285.05.03.01\n",
      "Htr3a-Cre_NO152;Ai14-612285.05.03.02\n",
      "Htr3a-Cre_NO152;Ai14-612285.05.03.03\n",
      "Htr3a-Cre_NO152;Ai14-612285.05.03.04\n",
      "Gad2-IRES-Cre;Ai14-623716.10.01.01\n",
      "Gad2-IRES-Cre;Ai14-623716.10.01.02\n",
      "Gad2-IRES-Cre;Ai14-623716.10.01.03\n",
      "Gad2-IRES-Cre;Ai14-623716.10.01.04\n",
      "Gad2-IRES-Cre;Ai14-623716.10.01.05\n",
      "Htr3a-Cre_NO152;Ai14-617732.06.04.01\n",
      "Htr3a-Cre_NO152;Ai14-617732.06.04.02\n",
      "Htr3a-Cre_NO152;Ai14-617732.06.04.03\n",
      "Htr3a-Cre_NO152;Ai14-617732.06.04.04\n",
      "Htr3a-Cre_NO152;Ai14-621161.06.03.01\n",
      "Htr3a-Cre_NO152;Ai14-621161.06.03.02\n",
      "Htr3a-Cre_NO152;Ai14-622819.07.03.01\n",
      "Htr3a-Cre_NO152;Ai14-622819.07.03.02\n",
      "Htr3a-Cre_NO152;Ai14-622819.07.03.03\n",
      "Htr3a-Cre_NO152;Ai14-622819.07.03.04\n",
      "Pvalb-IRES-Cre;Ai14-627392.08.03.01\n",
      "Pvalb-IRES-Cre;Ai14-627392.08.03.02\n",
      "Slc17a6-IRES-Cre;Ai14-599404.12.01.01\n",
      "Slc17a6-IRES-Cre;Ai14-599404.12.01.02\n",
      "Htr3a-Cre_NO152;Ai14-599393.09.02.01\n",
      "C57BL6J-631344.05.04.01\n",
      "Rbp4-Cre_KL100;Ai14-618349.05.03.01\n",
      "Rbp4-Cre_KL100;Ai14-618349.05.03.02\n",
      "Rbp4-Cre_KL100;Ai14-618349.05.03.03\n",
      "Slc17a6-IRES-Cre;Ai14-599402.11.01.01\n",
      "Slc17a6-IRES-Cre;Ai14-599402.11.01.02\n",
      "Slc17a6-IRES-Cre;Ai14-599402.11.01.03\n",
      "Slc17a6-IRES-Cre;Ai14-622106.08.03.01\n",
      "Slc17a6-IRES-Cre;Ai14-622106.08.03.02\n",
      "Slc17a6-IRES-Cre;Ai14-622107.05.04.01\n",
      "Slc17a6-IRES-Cre;Ai14-622107.05.04.02\n",
      "Slc17a6-IRES-Cre;Ai14-622107.05.04.03\n",
      "Slc17a6-IRES-Cre;Ai14-622107.05.04.04\n",
      "Slc17a6-IRES-Cre;Ai14-622107.08.04.01\n",
      "Slc17a6-IRES-Cre;Ai14-622107.08.04.02\n",
      "Slc17a6-IRES-Cre;Ai14-622107.08.04.03\n",
      "Slc17a6-IRES-Cre;Ai14-622107.08.04.04\n",
      "Slc17a6-IRES-Cre;Ai14-622107.08.04.05\n",
      "Sst-IRES-Cre;Ai14-650712.07.03.01\n",
      "Sst-IRES-Cre;Ai14-650712.07.03.02\n",
      "Vip-IRES-Cre;Ai14-627403.08.03.01\n",
      "Vip-IRES-Cre;Ai14-627403.08.03.02\n",
      "Htr3a-Cre_NO152;Ai14-673660.08.03.01\n",
      "\t\tno manual swc to register\n",
      "\t\tno pp14 autotrace swc to register\n",
      "\t\tno raw autotrace swc to register\n",
      "Htr3a-Cre_NO152;Ai14-673660.08.03.02\n",
      "\t\tno manual swc to register\n",
      "\t\tno pp14 autotrace swc to register\n",
      "C57BL6J-618128.05.04.01\n",
      "C57BL6J-618128.05.04.02\n",
      "C57BL6J-618128.05.04.03\n",
      "C57BL6J-618128.05.04.04\n",
      "C57BL6J-618128.08.04.01\n",
      "C57BL6J-618128.08.04.02\n",
      "Chat-IRES-Cre-neo;Ai14-631353.12.03.01\n",
      "Chat-IRES-Cre-neo;Ai14-631353.12.03.02\n",
      "Chat-IRES-Cre-neo;Ai14-631353.12.03.03\n",
      "Htr3a-Cre_NO152;Ai14-609165.05.03.02\n",
      "Htr3a-Cre_NO152;Ai14-609165.05.03.01\n",
      "Htr3a-Cre_NO152;Ai14-609165.05.03.03\n",
      "Htr3a-Cre_NO152;Ai14-609165.05.03.04\n",
      "Htr3a-Cre_NO152;Ai14-609165.05.03.05\n",
      "Slc17a6-IRES-Cre;Ai14-606633.10.01.01\n",
      "Pvalb-IRES-Cre;Ai14-599564.05.02.01\n",
      "Pvalb-IRES-Cre;Ai14-599564.05.02.02\n",
      "Rbp4-Cre_KL100;Ai14-618349.04.04.01\n",
      "Rbp4-Cre_KL100;Ai14-618349.04.04.02\n",
      "Slc17a6-IRES-Cre;Ai14-622106.06.04.01\n",
      "Slc17a6-IRES-Cre;Ai14-622106.06.04.02\n",
      "Sst-IRES-Cre;Ai14-594119.13.01.01\n",
      "Chat-IRES-Cre-neo;Ai14-600096.08.04.01\n",
      "Chat-IRES-Cre-neo;Ai14-600096.08.04.02\n",
      "Chat-IRES-Cre-neo;Ai14-600096.08.04.03\n",
      "Chat-IRES-Cre-neo;Ai14-600096.08.04.04\n",
      "Chat-IRES-Cre-neo;Ai14-600096.08.04.05\n",
      "Gad2-IRES-Cre;Ai14-600201.10.01.01\n",
      "Gad2-IRES-Cre;Ai14-600201.10.01.02\n",
      "Gad2-IRES-Cre-605674.05.09.01\n",
      "Gad2-IRES-Cre-605674.05.09.02\n",
      "Gad2-IRES-Cre-605674.05.09.03\n",
      "Gad2-IRES-Cre-605674.05.09.04\n",
      "Slc17a6-IRES-Cre;Ai14-599404.10.01.01\n",
      "Slc17a6-IRES-Cre;Ai14-599404.10.01.02\n",
      "Slc17a6-IRES-Cre;Ai14-599404.10.01.03\n",
      "Gad2-IRES-Cre;Ai14-600206.06.04.01\n",
      "Gad2-IRES-Cre;Ai14-600206.06.04.01\n",
      "Gad2-IRES-Cre;Ai14-600206.06.04.03\n",
      "Gad2-IRES-Cre;Ai14-600206.06.04.04\n",
      "Pvalb-IRES-Cre;Ai14-599565.14.01.01\n",
      "valb-IRES-Cre;Ai14-599565.14.01.02\n",
      "Pvalb-IRES-Cre;Ai14-599565.14.01.03\n",
      "Htr3a-Cre_NO152;Ai14-596879.09.01\n",
      "Htr3a-Cre_NO152;Ai14-596879.09.02\n",
      "Vip-IRES-Cre;Ai14-599734.09.01.01\n",
      "Pvalb-IRES-Cre;Ai14-606194.11.01.01\n",
      "Pvalb-IRES-Cre;Ai14-606194.11.01.02\n",
      "Pvalb-IRES-Cre;Ai14-607123.11.01.01\n",
      "Pvalb-IRES-Cre;Ai14-607123.11.01.02\n",
      "Pvalb-IRES-Cre;Ai14-607123.11.01.03\n",
      "Rbp4-Cre_KL100;Ai14-601913.06.03.01\n",
      "Rbp4-Cre_KL100;Ai14-601913.06.03.02\n",
      "Rorb-IRES2-Cre-neo;Ai14-601631.10.02.01\n",
      "Rorb-IRES2-Cre-neo;Ai14-601631.10.02.02\n",
      "Rorb-IRES2-Cre-neo;Ai14-601631.10.02.03\n",
      "Rorb-IRES2-Cre-neo;Ai14-601631.11.02.01\n",
      "Rorb-IRES2-Cre-neo;Ai14-601631.11.02.02\n",
      "C57BL6J-631345.07.04.01\n",
      "C57BL6J-631345.07.04.02\n",
      "C57BL6J-617127.12.09.01\n",
      "Sst-IRES-Cre;Ai14-597071.10.01.01\n",
      "Sst-IRES-Cre;Ai14-597071.10.01.02\n",
      "Sst-IRES-Cre;Ai14-597074.10.02.01\n",
      "Sst-IRES-Cre;Ai14-597074.10.02.02\n",
      "Vip-IRES-Cre;Ai14-599735.09.02.01\n",
      "Vip-IRES-Cre;Ai14-599735.09.02.02\n",
      "Rorb-IRES2-Cre-neo;Ai14-553332.09.06.01\n",
      "Vip-IRES-Cre;Ai14-601384.11.02.01\n",
      "Vip-IRES-Cre;Ai14-601384.11.02.02\n",
      "Htr3a-Cre_NO152;Ai14-596879.10.01.01\n",
      "Htr3a-Cre_NO152;Ai14-596879.10.01.02\n",
      "C57BL6J-617127.08.09.01\n",
      "C57BL6J-617127.09.09.01\n",
      "C57BL6J-617127.09.09.02\n",
      "C57BL6J-617127.09.09.03\n",
      "C57BL6J-617128.14.09.01\n",
      "C57BL6J-617128.14.09.02\n",
      "C57BL6J-617128.14.09.03\n",
      "C57BL6J-617128.16.09.01\n",
      "Htr3a-Cre_NO152;Ai14-617732.07.04.01\n",
      "Htr3a-Cre_NO152;Ai14-617732.07.04.02\n",
      "Htr3a-Cre_NO152;Ai14-617732.07.04.03\n",
      "Gad2-IRES-Cre;Ai14-623717.10.01.01\n",
      "C57BL6J-618018.14.09.01\n",
      "C57BL6J-618018.14.09.02\n",
      "C57BL6J-618127.07.03.01\n",
      "C57BL6J-618127.07.03.02\n",
      "C57BL6J-618127.07.03.03\n",
      "C57BL6J-618124.13.09.01\n",
      "C57BL6J-618124.13.09.02\n",
      "C57BL6J-618124.13.09.03\n",
      "Vip-IRES-Cre;Ai14-618853.05.03.01\n",
      "Vip-IRES-Cre;Ai14-618853.05.03.02\n",
      "Vip-IRES-Cre;Ai14-618853.05.03.03\n",
      "Vip-IRES-Cre;Ai14-618853.05.03.04\n",
      "Vip-IRES-Cre;Ai14-618853.05.03.05\n",
      "Vip-IRES-Cre;Ai14-624389.08.01.01\n",
      "Vip-IRES-Cre;Ai14-624389.08.01.02\n",
      "Vip-IRES-Cre;Ai14-624389.08.01.03\n",
      "Vip-IRES-Cre;Ai14-618854.06.04.01\n",
      "Vip-IRES-Cre;Ai14-618854.06.04.02\n",
      "Vip-IRES-Cre;Ai14-618854.07.03.01\n",
      "Vip-IRES-Cre;Ai14-618854.07.03.02\n",
      "Vip-IRES-Cre;Ai14-618854.07.03.03\n",
      "Pvalb-IRES-Cre;Ai14-621142.15.09.01\n",
      "Pvalb-IRES-Cre;Ai14-621142.15.09.02\n",
      "Pvalb-IRES-Cre;Ai14-621142.15.09.03\n",
      "Pvalb-IRES-Cre;Ai14-621142.15.09.04\n",
      "Pvalb-IRES-Cre;Ai14-621142.16.09.01\n",
      "Pvalb-IRES-Cre;Ai14-621142.16.09.02\n",
      "Htr3a-Cre_NO152;Ai14-621162.06.03.01\n",
      "Htr3a-Cre_NO152;Ai14-621162.06.03.02\n",
      "Htr3a-Cre_NO152;Ai14-621162.06.03.03\n",
      "Vip-IRES-Cre;Ai14-624389.09.02.01\n",
      "Pvalb-IRES-Cre;Ai14-621143.06.04.01\n",
      "Pvalb-IRES-Cre;Ai14-621143.06.04.02\n",
      "Htr3a-Cre_NO152;Ai14-622820.07.04.01\n",
      "Htr3a-Cre_NO152;Ai14-622820.07.04.02\n",
      "Gad2-IRES-Cre;Ai14-623715.08.02.01\n",
      "Gad2-IRES-Cre;Ai14-623715.08.02.02\n",
      "Gad2-IRES-Cre;Ai14-623715.08.02.03\n",
      "Gad2-IRES-Cre;Ai14-623716.10.02.01\n",
      "Gad2-IRES-Cre;Ai14-623716.10.02.02\n",
      "Gad2-IRES-Cre;Ai14-623716.10.02.03\n",
      "Chat-IRES-Cre-neo;Ai14-624495.08.04.01\n",
      "Chat-IRES-Cre-neo;Ai14-624495.08.04.02\n",
      "Chat-IRES-Cre-neo;Ai14-624495.08.04.03\n",
      "Chat-IRES-Cre-neo;Ai14-624495.08.04.04\n",
      "Vip-IRES-Cre;Ai14-624388.05.03.01\n",
      "Vip-IRES-Cre;Ai14-624388.05.03.02\n",
      "Vip-IRES-Cre;Ai14-599734.11.01.01\n",
      "C57BL6J-631342.09.03.01\n",
      "C57BL6J-631342.09.03.02\n",
      "C57BL6J-631342.09.03.03\n",
      "C57BL6J-631342.09.03.04\n",
      "Vip-IRES-Cre;Ai14-627402.07.04.01\n",
      "Vip-IRES-Cre;Ai14-627402.07.04.02\n",
      "Vip-IRES-Cre;Ai14-627402.09.04.01\n",
      "Vip-IRES-Cre;Ai14-599735.09.01.01\n",
      "Vip-IRES-Cre;Ai14-599735.09.01.02\n",
      "Vip-IRES-Cre;Ai14-599735.09.01.03\n",
      "Pvalb-IRES-Cre;Ai14-627392.07.03.01\n",
      "Pvalb-IRES-Cre;Ai14-627392.07.03.02\n",
      "Pvalb-IRES-Cre;Ai14-627392.08.04.01\n",
      "Vip-IRES-Cre;Ai14-599735.10.01.01\n",
      "Vip-IRES-Cre;Ai14-599735.10.01.02\n",
      "Vip-IRES-Cre;Ai14-627404.06.03.01\n",
      "Pvalb-IRES-Cre;Ai14-629890.08.04.01\n",
      "Pvalb-IRES-Cre;Ai14-629890.09.04.01\n",
      "Pvalb-IRES-Cre;Ai14-629890.09.04.02\n",
      "Vip-IRES-Cre;Ai14-599735.10.02.01\n",
      "Vip-IRES-Cre;Ai14-599735.10.02.02\n",
      "Vip-IRES-Cre;Ai14-599735.10.02.03\n",
      "Vip-IRES-Cre;Ai14-599735.10.02.04\n",
      "Rbp4-Cre_KL100;Ai14-613769.05.04.01\n",
      "Rbp4-Cre_KL100;Ai14-613769.05.04.02\n",
      "Rbp4-Cre_KL100;Ai14-613769.05.04.03\n",
      "Rbp4-Cre_KL100;Ai14-613769.05.04.04\n",
      "Chat-IRES-Cre-neo;Ai14-600092.05.03.01\n",
      "Chat-IRES-Cre-neo;Ai14-600092.05.03.02\n",
      "Sst-IRES-Cre;Ai14-600022.04.02.03\n",
      "Chat-IRES-Cre-neo;Ai14-600092.05.04.01\n",
      "Chat-IRES-Cre-neo;Ai14-600092.05.04.02\n",
      "C57BL6J-631344.08.03.01\n",
      "C57BL6J-631344.08.03.02\n",
      "C57BL6J-631344.08.03.03\n",
      "Rbp4-Cre_KL100;Ai14-548735.07.06.01\n",
      "C57BL6J-631345.06.04.01\n",
      "C57BL6J-631345.06.04.02\n",
      "Ndnf-IRES2-dgCre;Ai14-597333.09.01.01\n",
      "Sst-IRES-Cre;Ai14-600001.09.01.01\n",
      "Sst-IRES-Cre;Ai14-600001.09.01.02\n",
      "Sst-IRES-Cre;Ai14-600001.09.01.03\n",
      "Gad2-IRES-Cre;Ai14-600201.11.02.01\n",
      "Sst-IRES-Cre;Ai14-600022.05.02.01\n",
      "Sst-IRES-Cre;Ai14-600022.05.02.02\n",
      "Sst-IRES-Cre;Ai14-600022.05.02.03\n",
      "Sst-IRES-Cre;Ai14-600001.10.01.01\n",
      "Sst-IRES-Cre;Ai14-600001.10.01.02\n",
      "Sst-IRES-Cre;Ai14-600001.10.01.03\n",
      "Sst-IRES-Cre;Ai14-600023.03.02.01\n",
      "Sst-IRES-Cre;Ai14-600023.03.02.02\n",
      "Pvalb-IRES-Cre;Ai14-635532.12.03.01\n",
      "Pvalb-IRES-Cre;Ai14-635532.12.03.02\n",
      "Pvalb-IRES-Cre;Ai14-635532.12.03.03\n",
      "Pvalb-IRES-Cre;Ai14-635532.12.03.04\n",
      "Vip-IRES-Cre;Ai14-639433.10.02.01\n",
      "Vip-IRES-Cre;Ai14-639433.10.02.02\n",
      "Vip-IRES-Cre;Ai14-639433.10.02.03\n",
      "C57BL6J-618128.06.04.01\n",
      "Sst-IRES-Cre-591831.06.09.01\n",
      "Sst-IRES-Cre-591831.06.09.02\n",
      "Sst-IRES-Cre-591831.06.09.03\n",
      "Htr3a-Cre_NO152;Ai14-639655.05.03.01\n",
      "Htr3a-Cre_NO152;Ai14-639655.05.03.02\n",
      "Htr3a-Cre_NO152;Ai14-639655.05.03.03\n",
      "Htr3a-Cre_NO152;Ai14-639655.05.03.04\n",
      "Htr3a-Cre_NO152;Ai14-639655.05.03.05\n",
      "Sst-IRES-Cre;Ai14-600023.05.01.01\n",
      "Htr3a-Cre_NO152;Ai14-640652.06.04.01\n",
      "Htr3a-Cre_NO152;Ai14-640652.06.04.02\n",
      "Htr3a-Cre_NO152;Ai14-640652.06.04.03\n",
      "Slc17a6-IRES-Cre;Ai14-640221.09.01.01\n",
      "Slc17a6-IRES-Cre;Ai14-640221.09.01.02\n",
      "Slc17a6-IRES-Cre;Ai14-640221.09.01.03\n",
      "Slc17a6-IRES-Cre;Ai14-640221.09.01.04\n",
      "Slc17a6-IRES-Cre;Ai14-640221.09.01.05\n",
      "Slc17a6-IRES-Cre;Ai14-640221.09.02.01\n",
      "Slc17a6-IRES-Cre;Ai14-640221.09.02.02\n",
      "Slc17a6-IRES-Cre;Ai14-640221.09.02.03\n",
      "Slc17a6-IRES-Cre;Ai14-640221.10.01.01\n",
      "C57BL6J-640170.11.01.01\n",
      "C57BL6J-640170.11.01.02\n",
      "C57BL6J-640170.12.01.01\n",
      "C57BL6J-640170.12.01.02\n",
      "C57BL6J-640170.12.01.03\n",
      "C57BL6J-640170.12.01.04\n",
      "C57BL6J-640170.12.01.05\n",
      "Sst-IRES-Cre;Ai14-637920.06.05.01\n",
      "Sst-IRES-Cre;Ai14-637920.06.05.02\n",
      "Sst-IRES-Cre;Ai14-637920.06.05.03\n",
      "Sst-IRES-Cre;Ai14-641059.05.01.01\n",
      "Sst-IRES-Cre;Ai14-641059.05.01.02\n",
      "Sst-IRES-Cre;Ai14-641059.05.01.03\n",
      "C57BL6J-631345.08.04.01\n",
      "C57BL6J-631345.08.04.02\n",
      "C57BL6J-631343.07.03.01\n",
      "C57BL6J-631343.07.03.02\n",
      "C57BL6J-631343.07.03.03\n",
      "C57BL6J-625936.06.03.01\n",
      "C57BL6J-625936.06.03.02\n",
      "C57BL6J-625936.06.03.03\n",
      "Sst-IRES-Cre-591831.07.09.01\n",
      "Sst-IRES-Cre-591831.07.09.02\n",
      "Sst-IRES-Cre-591831.07.09.03\n",
      "C57BL6J-634221.06.01.01\n",
      "C57BL6J-634221.04.01.01\n",
      "C57BL6J-634222.02.01.01\n",
      "C57BL6J-634222.02.01.02\n",
      "C57BL6J-634111.02.01.01\n",
      "C57BL6J-634111.02.01.02\n",
      "C57BL6J-634111.02.01.03\n",
      "C57BL6J-634112.03.01.01\n",
      "C57BL6J-634112.03.01.02\n",
      "C57BL6J-634112.03.01.03\n",
      "C57BL6J-634112.03.01.04\n",
      "C57BL6J-634112.02.01.01\n",
      "C57BL6J-634112.02.01.02\n",
      "C57BL6J-634112.02.01.03\n",
      "Slc17a6-IRES-Cre;Ai14-634162.10.02.01\n",
      "Slc17a6-IRES-Cre;Ai14-634162.10.02.02\n",
      "Slc17a6-IRES-Cre;Ai14-634162.10.02.03\n",
      "Slc17a6-IRES-Cre;Ai14-634162.10.02.03\n",
      "Pvalb-IRES-Cre;Ai14-635529.13.04.01\n",
      "Slc17a6-IRES-Cre;Ai14-634162.09.02.01\n",
      "Slc17a6-IRES-Cre;Ai14-634162.09.02.02\n",
      "C57BL6J-638771.01.01.01\n",
      "C57BL6J-638771.01.01.02\n",
      "Vip-IRES-Cre;Ai14-636526.11.04.01\n",
      "Vip-IRES-Cre;Ai14-636526.11.04.02\n",
      "Vip-IRES-Cre;Ai14-636526.11.04.03\n",
      "C57BL6J-638771.03.01.01\n",
      "C57BL6J-638771.03.01.02\n",
      "C57BL6J-638771.03.01.03\n",
      "Htr3a-Cre_NO152;Ai14-639654.06.03.01\n",
      "Htr3a-Cre_NO152;Ai14-639654.06.03.02\n",
      "Htr3a-Cre_NO152;Ai14-639654.06.03.03\n",
      "Gad2-IRES-Cre;Ai14-636826.10.02.01\n",
      "Gad2-IRES-Cre;Ai14-636826.10.02.01\n",
      "C57BL6J-638771.04.01.01\n",
      "C57BL6J-638771.04.01.02\n",
      "C57BL6J-742740.11.10.01\n",
      "C57BL6J-742740.11.10.02\n",
      "C57BL6J-742740.11.10.03\n",
      "Sst-IRES-Cre;Ai14-641059.03.01.01\n",
      "Sst-IRES-Cre;Ai14-641059.03.01.02\n",
      "Sst-IRES-Cre;Ai14-641059.03.01.03\n",
      "Sst-IRES-Cre;Ai14-641059.03.01.04\n",
      "Sst-IRES-Cre;Ai14-641059.03.01.05\n",
      "Sst-IRES-Cre;Ai14-600023.06.01.01\n",
      "C57BL6J-618125.09.09.01\n",
      "C57BL6J-618125.09.09.02\n",
      "Htr3a-Cre_NO152;Ai14-639655.06.03.01\n",
      "Htr3a-Cre_NO152;Ai14-639655.06.03.02\n",
      "Vip-IRES-Cre;Ai14-618854.08.04.01\n",
      "Htr3a-Cre_NO152;Ai14-640652.05.03.01\n",
      "Htr3a-Cre_NO152;Ai14-640652.05.03.02\n",
      "Slc17a6-IRES-Cre;Ai14-640221.14.01.01\n",
      "Slc17a6-IRES-Cre;Ai14-640221.14.01.02\n",
      "Htr3a-Cre_NO152;Ai14-640653.05.04.01\n",
      "Htr3a-Cre_NO152;Ai14-640653.05.04.02\n",
      "Htr3a-Cre_NO152;Ai14-640653.05.04.03\n",
      "Sst-IRES-Cre;Ai14-641058.03.01.01\n",
      "Sst-IRES-Cre;Ai14-641058.03.01.02\n",
      "Sst-IRES-Cre;Ai14-641058.04.01.01\n",
      "Sst-IRES-Cre;Ai14-641058.04.01.02\n",
      "Gad2-IRES-Cre;Ai14-600202.10.01.01\n",
      "Gad2-IRES-Cre;Ai14-600202.10.01.02\n",
      "Gad2-IRES-Cre;Ai14-600203.07.03.01\n",
      "Gad2-IRES-Cre;Ai14-600203.07.03.02\n",
      "Sst-IRES-Cre;Ai14-675490.05.03.01\n",
      "Sst-IRES-Cre;Ai14-675490.05.03.02\n",
      "Sst-IRES-Cre;Ai14-675490.05.03.03\n",
      "Htr3a-Cre_NO152;Ai14-589340.11.09.01\n",
      "Gad2-IRES-Cre;Ai14-600204.09.02.01\n",
      "Gad2-IRES-Cre;Ai14-600204.09.02.02\n",
      "Gad2-IRES-Cre;Ai14-600204.09.02.03\n",
      "Tlx3-Cre_PL56-603283.11.09.01\n",
      "Tlx3-Cre_PL56-603283.11.09.02\n",
      "Gad2-IRES-Cre;Ai14-600205.09.01.01\n",
      "Gad2-IRES-Cre;Ai14-600205.09.01.02\n",
      "Gad2-IRES-Cre;Ai14-600205.09.01.03\n",
      "Sst-IRES-Cre;Ai14-590254.05.02.01\n",
      "Gad2-IRES-Cre;Ai14-590304.11.09.02\n",
      "Gad2-IRES-Cre;Ai14-590304.11.09.03\n",
      "Pvalb-IRES-Cre;Ai14-621143.06.03.01\n",
      "Pvalb-IRES-Cre;Ai14-621143.06.03.02\n",
      "Pvalb-IRES-Cre;Ai14-621143.06.03.03\n",
      "Pvalb-IRES-Cre;Ai14-621143.06.03.04\n",
      "Sst-IRES-Cre;Ai14-590256.04.02.02\n",
      "Sst-IRES-Cre;Ai14-590256.04.02.03\n",
      "Sst-IRES-Cre;Ai14-590256.04.02.04\n",
      "Sst-IRES-Cre;Ai14-590256.04.02.05\n",
      "Slc17a6-IRES-Cre;Ai14-622107.07.04.01\n",
      "Slc17a6-IRES-Cre;Ai14-622107.07.04.02\n",
      "Slc17a6-IRES-Cre;Ai14-622107.07.04.03\n",
      "Slc17a6-IRES-Cre;Ai14-622107.07.04.04\n",
      "Slc17a6-IRES-Cre;Ai14-622107.07.04.05\n",
      "Sst-IRES-Cre;Ai14-590254.06.02.02\n",
      "Sst-IRES-Cre;Ai14-590254.06.02.03\n",
      "Sst-IRES-Cre;Ai14-590256.03.02.02\n",
      "Sst-IRES-Cre;Ai14-590256.03.02.01\n",
      "Slc17a6-IRES-Cre;Ai14-657699.10.05.01\n",
      "Slc17a6-IRES-Cre;Ai14-657699.10.05.02\n",
      "Slc17a6-IRES-Cre;Ai14-657699.10.05.03\n",
      "Gad2-IRES-Cre;Ai14-600206.05.04.02\n",
      "Gad2-IRES-Cre;Ai14-600206.05.04.03\n",
      "Gad2-IRES-Cre;Ai14-600206.05.04.01\n",
      "Pvalb-IRES-Cre;Ai14-601230.12.02.01\n",
      "Pvalb-IRES-Cre;Ai14-601230.12.02.02\n",
      "Slc17a6-IRES-Cre;Ai14-622107.07.03.01\n",
      "Slc17a6-IRES-Cre;Ai14-622107.07.03.02\n",
      "Slc17a6-IRES-Cre;Ai14-622107.07.03.03\n",
      "Slc17a6-IRES-Cre;Ai14-622107.07.03.04\n",
      "Vip-IRES-Cre;Ai14-601384.11.01.01\n",
      "Vip-IRES-Cre;Ai14-601384.11.01.02\n",
      "Sst-IRES-Cre;Ai14-601711.04.03.01\n",
      "Sst-IRES-Cre;Ai14-601711.04.03.02\n",
      "Pvalb-IRES-Cre;Ai14-592064.11.09.01\n",
      "Rbp4-Cre_KL100;Ai14-601911.06.03.01\n",
      "Rbp4-Cre_KL100;Ai14-601911.06.03.02\n",
      "Rorb-IRES2-Cre-neo;Ai14-604949.04.02.01\n",
      "Rorb-IRES2-Cre-neo;Ai14-604949.04.02.02\n",
      "Chat-IRES-Cre-neo;Ai14-592382.05.04.01\n",
      "Chat-IRES-Cre-neo;Ai14-592382.05.04.02\n",
      "C57BL6J-622938.07.04.01\n",
      "C57BL6J-622938.07.04.02\n",
      "C57BL6J-622938.07.04.03\n",
      "C57BL6J-622939.06.03.01\n",
      "C57BL6J-622939.06.03.02\n",
      "C57BL6J-622939.06.03.03\n",
      "Vip-IRES-Cre;Ai14-597353.11.01.01\n",
      "Pvalb-IRES-Cre-593993.04.04.01\n",
      "Pvalb-IRES-Cre-593993.04.04.02\n",
      "Vip-IRES-Cre;Ai14-601385.10.02.01\n",
      "Vip-IRES-Cre;Ai14-601385.10.02.02\n",
      "Sst-IRES-Cre;Ai14-601713.06.04.01\n",
      "Htr3a-Cre_NO152;Ai14-602117.11.01.01\n",
      "Htr3a-Cre_NO152;Ai14-602117.11.01.02\n",
      "Pvalb-IRES-Cre-593993.06.04.01\n",
      "Pvalb-IRES-Cre-593993.06.04.02\n",
      "Pvalb-IRES-Cre-593993.06.04.03\n",
      "Vip-IRES-Cre;Ai14-639433.11.02.01\n",
      "Vip-IRES-Cre;Ai14-639433.11.02.02\n",
      "Vip-IRES-Cre;Ai14-639433.11.02.03\n",
      "Vip-IRES-Cre;Ai14-639433.11.02.04\n",
      "Sst-IRES-Cre;Ai14-603451.06.02.01\n",
      "Sst-IRES-Cre;Ai14-603451.06.02.02\n",
      "Pvalb-IRES-Cre;Ai14-603706.04.01.01\n",
      "Pvalb-IRES-Cre;Ai14-603706.04.01.02\n",
      "Pvalb-IRES-Cre;Ai14-593186.11.02.01\n",
      "Rorb-IRES2-Cre-neo;Ai14-604947.09.02.01\n",
      "Rorb-IRES2-Cre-neo;Ai14-604947.09.02.02\n",
      "Rorb-IRES2-Cre-neo;Ai14-604947.09.02.03\n",
      "Sst-IRES-Cre;Ai14-605087.04.02.01\n",
      "Sst-IRES-Cre;Ai14-605087.04.02.02\n",
      "Gad2-IRES-Cre-605673.09.09.01\n",
      "Gad2-IRES-Cre-605673.09.09.02\n",
      "Gad2-IRES-Cre-605673.09.09.03\n",
      "Rorb-IRES2-Cre-neo;Ai14-604949.06.02.01\n",
      "Rorb-IRES2-Cre-neo;Ai14-604949.06.02.02\n",
      "Pvalb-IRES-Cre-606875.13.09.01\n",
      "Sncg-IRES2-FlpO-neo;Ai65F-606663.11.02.01\n",
      "Sncg-IRES2-FlpO-neo;Ai65F-606663.11.02.02\n",
      "Sncg-IRES2-FlpO-neo;Ai65F-606663.11.02.03\n",
      "Slc17a6-IRES-Cre;Ai14-606633.09.01.01\n",
      "Slc17a6-IRES-Cre;Ai14-606633.09.01.02\n",
      "Pvalb-IRES-Cre-606875.16.09.01\n",
      "Sncg-IRES2-FlpO-neo;Ai65F-606663.12.01.01\n",
      "Sncg-IRES2-FlpO-neo;Ai65F-606663.12.01.02\n",
      "Vip-IRES-Cre;Ai14-607073.03.01.01\n",
      "Vip-IRES-Cre;Ai14-607073.03.01.02\n",
      "Vip-IRES-Cre;Ai14-607073.03.01.03\n",
      "Pvalb-IRES-Cre;Ai14-606805.04.02.01\n",
      "Pvalb-IRES-Cre;Ai14-606805.04.02.02\n",
      "Gad2-IRES-Cre;Ai14-606845.13.02.01\n",
      "Gad2-IRES-Cre;Ai14-606845.13.02.02\n",
      "Gad2-IRES-Cre;Ai14-606845.13.02.03\n",
      "Rbp4-Cre_KL100;Ai14-623194.11.01.01\n",
      "Rbp4-Cre_KL100;Ai14-623194.11.01.02\n",
      "Rbp4-Cre_KL100;Ai14-623194.11.01.03\n",
      "Gad2-IRES-Cre;Ai14-606845.10.01.01\n",
      "Gad2-IRES-Cre;Ai14-606845.10.01.02\n",
      "Vip-IRES-Cre;Ai14-607073.03.02.01\n",
      "Vip-IRES-Cre;Ai14-607073.03.02.02\n",
      "Vip-IRES-Cre;Ai14-607073.03.02.03\n",
      "Pvalb-IRES-Cre;Ai14-607123.09.02.01\n",
      "Pvalb-IRES-Cre;Ai14-607123.09.02.02\n",
      "Pvalb-IRES-Cre;Ai14-607236.11.02.01\n",
      "Pvalb-IRES-Cre;Ai14-607236.11.02.02\n",
      "Pvalb-IRES-Cre;Ai14-607236.11.02.03\n",
      "Htr3a-Cre_NO152;Ai14-609164.04.03.01\n",
      "Htr3a-Cre_NO152;Ai14-609164.04.03.02\n",
      "Vip-IRES-Cre;Ai14-624389.07.02.01\n",
      "Vip-IRES-Cre;Ai14-624389.07.02.02\n",
      "Vip-IRES-Cre;Ai14-624389.07.02.03\n",
      "Vip-IRES-Cre;Ai14-609321.06.03.01\n",
      "Vip-IRES-Cre;Ai14-609321.06.03.02\n",
      "Vip-IRES-Cre;Ai14-609321.06.03.03\n",
      "Chat-IRES-Cre-neo;Ai14-624495.08.03.01\n",
      "Chat-IRES-Cre-neo;Ai14-624495.08.03.02\n",
      "Chat-IRES-Cre-neo;Ai14-624495.08.03.03\n",
      "Vip-IRES-Cre;Ai14-609322.07.03.01\n",
      "Vip-IRES-Cre;Ai14-609322.07.03.02\n",
      "Pvalb-IRES-Cre;Ai14-609902.07.03.01\n",
      "Pvalb-IRES-Cre;Ai14-609902.07.03.02\n",
      "Pvalb-IRES-Cre;Ai14-609902.07.03.03\n",
      "Pvalb-IRES-Cre;Ai14-609902.07.03.04\n",
      "Sst-IRES-Cre;Ai14-724692.12.04.01\n",
      "Sst-IRES-Cre;Ai14-724692.12.04.02\n",
      "Sst-IRES-Cre;Ai14-724692.12.04.03\n",
      "Pvalb-IRES-Cre;Ai14-609903.06.03.01\n",
      "Pvalb-IRES-Cre;Ai14-609903.06.03.02\n",
      "Pvalb-IRES-Cre;Ai14-609903.07.03.01\n",
      "Pvalb-IRES-Cre;Ai14-609903.07.03.02\n",
      "C57BL6J-634112.01.01.01\n",
      "C57BL6J-634112.01.01.02\n",
      "C57BL6J-634112.01.01.03\n",
      "C57BL6J-634112.01.01.04\n",
      "Pvalb-IRES-Cre;Ai14-593187.04.02.01\n",
      "Pvalb-IRES-Cre;Ai14-593187.04.02.02\n",
      "Pvalb-IRES-Cre;Ai14-593187.04.02.03\n",
      "Glt25d2-Cre_NF107;Ai14-562121.10.09.01\n",
      "Glt25d2-Cre_NF107;Ai14-562121.10.09.02\n",
      "C57BL6J-573680.09.09.01\n",
      "Pvalb-IRES-Cre-593995.04.01.01\n",
      "Pvalb-IRES-Cre-593995.04.01.02\n",
      "Pvalb-IRES-Cre-593995.04.01.03\n",
      "Pvalb-IRES-Cre-593995.04.01.04\n",
      "Sst-IRES-Cre;Ai14-594118.05.02.01\n",
      "Sst-IRES-Cre;Ai14-594118.05.02.02\n",
      "C57BL6J-625940.05.01.01\n",
      "C57BL6J-625940.05.01.02\n",
      "Gad2-IRES-Cre;Ai14-626576.04.02.01\n",
      "Gad2-IRES-Cre;Ai14-626576.04.02.02\n",
      "Gad2-IRES-Cre;Ai14-626576.04.02.03\n",
      "Gad2-IRES-Cre;Ai14-626576.04.02.04\n",
      "Htr3a-Cre_NO152;Ai14-589340.12.09.01\n",
      "Htr3a-Cre_NO152;Ai14-589340.12.09.02\n",
      "Vip-IRES-Cre;Ai14-648654.10.09.01\n",
      "Vip-IRES-Cre;Ai14-648654.10.09.02\n",
      "Vip-IRES-Cre;Ai14-648654.10.09.03\n",
      "Vip-IRES-Cre;Ai14-648654.10.09.04\n",
      "C57BL6J-625941.03.02.01\n",
      "C57BL6J-625941.03.02.02\n",
      "Pvalb-IRES-Cre;Ai14-629894.10.04.01\n",
      "Pvalb-IRES-Cre;Ai14-629894.10.04.02\n",
      "Pvalb-IRES-Cre;Ai14-607236.11.01.01\n",
      "C57BL6J-640171.11.01.01\n",
      "C57BL6J-640171.11.01.02\n",
      "C57BL6J-642274.12.09.01\n",
      "C57BL6J-642274.12.09.02\n",
      "C57BL6J-642274.12.09.03\n",
      "C57BL6J-642274.12.09.04\n",
      "C57BL6J-642274.10.09.01\n",
      "C57BL6J-642274.10.09.02\n",
      "C57BL6J-642274.10.09.03\n",
      "C57BL6J-642274.10.09.04\n",
      "C57BL6J-642274.10.09.05\n",
      "Rbp4-Cre_KL100;Ai14-647651.11.09.01\n",
      "Rbp4-Cre_KL100;Ai14-647651.11.09.02\n",
      "Rbp4-Cre_KL100;Ai14-647651.11.09.03\n",
      "C57BL6J-640171.13.01.01\n",
      "C57BL6J-640171.13.01.02\n",
      "C57BL6J-640170.10.01.01\n",
      "C57BL6J-640170.10.01.02\n",
      "Htr3a-Cre_NO152;Ai14-506092.07.06.02\n",
      "C57BL6J-642470.10.09.01\n",
      "C57BL6J-642470.10.09.02\n",
      "C57BL6J-642470.10.09.03\n",
      "C57BL6J-642470.10.09.04\n",
      "C57BL6J-642470.10.09.05\n",
      "Gad2-IRES-Cre;Ai14-593596.12.09.02\n",
      "Gad2-IRES-Cre;Ai14-593596.12.09.01\n",
      "Gad2-IRES-Cre;Ai14-643794.12.09.01\n",
      "Gad2-IRES-Cre;Ai14-643794.12.09.02\n",
      "Gad2-IRES-Cre;Ai14-643794.12.09.03\n",
      "Gad2-IRES-Cre;Ai14-643794.12.09.04\n",
      "Pvalb-IRES-Cre;Ai14-646905.14.03.01\n",
      "Pvalb-IRES-Cre;Ai14-646905.14.03.02\n",
      "C57BL6J-642470.09.09.01\n",
      "C57BL6J-642470.09.09.02\n",
      "C57BL6J-642470.09.09.03\n",
      "C57BL6J-642470.09.09.04\n",
      "C57BL6J-642470.09.09.05\n",
      "Htr3a-Cre_NO152;Ai14-502372.09.06.01\n",
      "Htr3a-Cre_NO152;Ai14-502372.09.06.03\n",
      "Gad2-IRES-Cre;Ai14-643793.10.06.01\n",
      "Pvalb-IRES-Cre-591412.09.09.01\n",
      "Pvalb-IRES-Cre-591412.09.09.02\n",
      "Gad2-IRES-Cre;Ai14-636826.11.01.01\n",
      "Gad2-IRES-Cre;Ai14-636826.11.01.02\n",
      "Gad2-IRES-Cre;Ai14-623717.09.01.01\n",
      "Gad2-IRES-Cre;Ai14-623717.09.01.02\n",
      "Gad2-IRES-Cre;Ai14-593597.10.01.02\n",
      "Gad2-IRES-Cre;Ai14-593597.10.01.01\n",
      "C57BL6J-638771.02.01.02\n",
      "C57BL6J-638771.02.01.03\n",
      "C57BL6J-638771.02.01.04\n",
      "Gad2-IRES-Cre;Ai14-590304.10.09.01\n",
      "Gad2-IRES-Cre;Ai14-560882.10.05.01\n",
      "Gad2-IRES-Cre;Ai14-560882.10.05.02\n",
      "Ctgf-T2A-dgCre;Ai14-560647.09.06.01\n",
      "Ctgf-T2A-dgCre;Ai14-560647.09.06.02\n",
      "C57BL6J-638771.05.01.01\n",
      "C57BL6J-638771.05.01.02\n",
      "C57BL6J-634221.02.01.01\n",
      "C57BL6J-634221.02.01.02\n",
      "Vip-IRES-Cre;Ai14-594742.12.01.01\n",
      "Vip-IRES-Cre;Ai14-594742.12.01.02\n",
      "C57BL6J-628261.02.01.01\n",
      "C57BL6J-628261.02.01.02\n",
      "C57BL6J-628261.02.01.03\n",
      "Chat-IRES-Cre-neo;Ai14-627361.08.03.01\n",
      "\t\tno manual swc to register\n",
      "\t\tno pp14 autotrace swc to register\n",
      "\t\tno raw autotrace swc to register\n",
      "Chat-IRES-Cre-neo;Ai14-627361.08.03.02\n",
      "C57BL6J-613672.08.09.01\n",
      "C57BL6J-613672.08.09.02\n",
      "Slc17a6-IRES-Cre;Ai14-596266.10.02.01\n",
      "Slc17a6-IRES-Cre;Ai14-596266.10.02.02\n",
      "Rbp4-Cre_KL100;Ai14-647651.10.09.01\n",
      "Rbp4-Cre_KL100;Ai14-647651.10.09.02\n",
      "Pvalb-IRES-Cre;Ai14-589126.05.02.01\n",
      "Pvalb-IRES-Cre;Ai14-589126.05.02.02\n",
      "Pvalb-IRES-Cre;Ai14-589126.05.02.04\n",
      "Gad2-IRES-Cre;Ai14-626577.03.02.01\n",
      "Gad2-IRES-Cre;Ai14-626577.03.02.02\n",
      "Gad2-IRES-Cre;Ai14-626577.03.02.03\n",
      "Gad2-IRES-Cre;Ai14-626577.03.02.04\n",
      "Pvalb-IRES-Cre-591411.09.09.01\n",
      "Pvalb-IRES-Cre-591411.09.09.02\n",
      "C57BL6J-625940.02.01.01\n",
      "C57BL6J-625940.02.01.02\n",
      "C57BL6J-625940.02.01.03\n",
      "C57BL6J-625940.02.01.04\n",
      "Pvalb-IRES-Cre;Ai14-646904.13.03.01\n",
      "Pvalb-IRES-Cre;Ai14-646904.13.03.02\n",
      "Pvalb-IRES-Cre;Ai14-646904.13.03.03\n",
      "Vip-IRES-Cre;Ai14-597352.10.02.01\n",
      "Vip-IRES-Cre;Ai14-597352.10.02.02\n",
      "Pvalb-IRES-Cre;Ai14-607123.12.01.01\n",
      "Pvalb-IRES-Cre;Ai14-607123.12.01.02\n",
      "C57BL6J-650545.12.10.01\n",
      "C57BL6J-650545.12.10.02\n",
      "C57BL6J-650545.12.10.03\n",
      "Ndnf-IRES2-dgCre;Ai14-594621.13.02.01\n",
      "Ndnf-IRES2-dgCre;Ai14-594621.13.02.02\n",
      "Ndnf-IRES2-dgCre;Ai14-594621.13.02.03\n",
      "Ndnf-IRES2-dgCre;Ai14-594621.13.02.04\n",
      "Sst-IRES-Cre;Ai14-597074.10.01.01\n",
      "Sst-IRES-Cre;Ai14-597074.10.01.02\n",
      "Sst-IRES-Cre-590674.06.01\n",
      "Sst-IRES-Cre-590674.06.02\n",
      "Htr3a-Cre_NO152;Ai14-602117.10.01.01\n",
      "Htr3a-Cre_NO152;Ai14-602117.10.01.02\n",
      "Slc17a6-IRES-Cre;Ai14-599402.11.02.01\n",
      "Slc17a6-IRES-Cre;Ai14-599402.11.02.02\n",
      "Slc17a6-IRES-Cre;Ai14-599402.11.02.03\n",
      "Rbp4-Cre_KL100;Ai14-613772.15.09.01\n",
      "Rbp4-Cre_KL100;Ai14-613772.15.09.02\n",
      "Rbp4-Cre_KL100;Ai14-613772.15.09.03\n",
      "Gad2-IRES-Cre;Ai14-623716.11.02.01\n",
      "Gad2-IRES-Cre;Ai14-623716.11.02.02\n",
      "Sst-IRES-Cre-590676.05.09.01\n",
      "Sst-IRES-Cre-590676.05.09.02\n",
      "Ndnf-IRES2-dgCre;Ai14-659660.06.10.01\n",
      "\t\tno manual swc to register\n",
      "Ndnf-IRES2-dgCre;Ai14-659660.06.10.02\n",
      "\t\tno manual swc to register\n",
      "\t\tno pp14 autotrace swc to register\n",
      "\t\tno raw autotrace swc to register\n",
      "Sst-IRES-Cre;Ai14-637919.12.03.01\n",
      "Sst-IRES-Cre;Ai14-637919.12.03.02\n",
      "Sst-IRES-Cre;Ai14-637919.12.03.03\n",
      "Vip-IRES-Cre;Ai14-589353.11.09.02\n",
      "Vip-IRES-Cre;Ai14-589353.11.09.03\n",
      "Vip-IRES-Cre;Ai14-589353.11.09.01\n",
      "Sst-IRES-Cre;Ai14-650712.08.03.01\n",
      "Sst-IRES-Cre;Ai14-650712.08.03.02\n",
      "Sst-IRES-Cre;Ai14-650712.08.03.03\n",
      "Gad2-IRES-Cre;Ai14-590305.10.09.01\n",
      "Gad2-IRES-Cre;Ai14-643794.13.09.01\n",
      "Gad2-IRES-Cre;Ai14-643794.13.09.02\n",
      "Gad2-IRES-Cre;Ai14-643794.13.09.03\n",
      "Gad2-IRES-Cre;Ai14-643794.13.09.04\n",
      "C57BL6J-647687.06.06.01\n",
      "C57BL6J-647687.06.06.02\n",
      "C57BL6J-647687.07.06.01\n",
      "C57BL6J-647687.07.06.02\n",
      "C57BL6J-645069.09.09.01\n",
      "C57BL6J-645069.09.09.02\n",
      "C57BL6J-645069.09.09.03\n",
      "C57BL6J-645069.09.09.04\n",
      "C57BL6J-645069.09.09.05\n",
      "C57BL6J-645072.08.09.01\n",
      "C57BL6J-645072.08.09.02\n",
      "C57BL6J-645072.08.09.03\n",
      "C57BL6J-742760.02.02.01\n",
      "C57BL6J-742760.02.02.03\n",
      "C57BL6J-742760.02.02.02\n",
      "Gad2-IRES-Cre;Ai14-574858.04.03.02\n",
      "Gad2-IRES-Cre;Ai14-574858.04.03.01\n",
      "Gad2-IRES-Cre;Ai14-574858.04.03.03\n",
      "C57BL6J-645071.09.09.01\n",
      "Pvalb-IRES-Cre;Ai14-650958.12.03.01\n",
      "Pvalb-IRES-Cre;Ai14-650958.12.03.02\n",
      "C57BL6J-645070.09.09.01\n",
      "C57BL6J-645070.09.09.02\n",
      "C57BL6J-645070.10.09.01\n",
      "C57BL6J-645070.10.09.02\n",
      "C57BL6J-645070.10.09.03\n",
      "C57BL6J-645070.10.09.04\n",
      "Vip-IRES-Cre;Ai14-645549.13.03.01\n",
      "Vip-IRES-Cre;Ai14-645548.15.09.01\n",
      "Sst-IRES-Cre;Ai14-650713.06.04.01\n",
      "Sst-IRES-Cre;Ai14-650713.06.04.02\n",
      "Vip-IRES-Cre;Ai14-645549.12.03.01\n",
      "Vip-IRES-Cre;Ai14-645549.12.03.02\n",
      "Vip-IRES-Cre;Ai14-645549.12.03.03\n",
      "Vip-IRES-Cre;Ai14-645547.09.09.01\n",
      "Vip-IRES-Cre;Ai14-645547.09.09.02\n",
      "Vip-IRES-Cre;Ai14-645547.09.09.03\n",
      "C57BL6J-647015.07.04.01\n",
      "C57BL6J-647015.07.04.02\n",
      "C57BL6J-647015.07.04.03\n",
      "Vip-IRES-Cre;Ai14-645549.13.04.01\n",
      "Vip-IRES-Cre;Ai14-645547.10.09.01\n",
      "Vip-IRES-Cre;Ai14-645547.10.09.02\n",
      "Vip-IRES-Cre;Ai14-645547.10.09.03\n",
      "Vip-IRES-Cre;Ai14-645547.10.09.04\n",
      "Vip-IRES-Cre;Ai14-645547.10.09.05\n",
      "Chat-IRES-Cre-neo;Ai14-645932.08.03.01\n",
      "Chat-IRES-Cre-neo;Ai14-645932.08.03.02\n",
      "Chat-IRES-Cre-neo;Ai14-645932.08.03.03\n",
      "C57BL6J-647683.07.04.01\n",
      "C57BL6J-647683.07.04.02\n",
      "C57BL6J-647015.06.03.01\n",
      "C57BL6J-647015.06.03.02\n",
      "C57BL6J-647015.06.03.03\n",
      "C57BL6J-647015.06.03.04\n",
      "C57BL6J-647015.06.03.05\n",
      "C57BL6J-647015.06.04.01\n",
      "C57BL6J-647015.06.04.02\n",
      "C57BL6J-647015.06.04.03\n",
      "C57BL6J-647015.06.04.04\n",
      "C57BL6J-647015.06.04.05\n",
      "Sst-IRES-Cre;Ai14-650713.07.04.01\n",
      "Sst-IRES-Cre;Ai14-650713.07.04.02\n",
      "Sst-IRES-Cre;Ai14-650713.07.04.03\n",
      "C57BL6J-647683.08.04.01\n",
      "C57BL6J-647683.08.04.02\n",
      "C57BL6J-647683.08.04.03\n",
      "Sst-IRES-Cre;Ai14-650713.09.04.01\n",
      "Sst-IRES-Cre;Ai14-650713.09.04.02\n",
      "Pvalb-IRES-Cre;Ai14-646904.12.03.01\n",
      "C57BL6J-647685.07.06.01\n",
      "Pvalb-IRES-Cre;Ai14-646905.10.04.01\n",
      "Pvalb-IRES-Cre;Ai14-646905.10.04.02\n",
      "C57BL6J-650546.12.04.01\n",
      "C57BL6J-650546.12.04.02\n",
      "Pvalb-IRES-Cre;Ai14-646904.14.03.01\n",
      "C57BL6J-647686.15.09.01\n",
      "C57BL6J-647686.15.09.02\n",
      "Pvalb-IRES-Cre;Ai14-550088.12.09.01\n",
      "C57BL6J-650547.12.04.01\n",
      "C57BL6J-650547.12.04.02\n",
      "C57BL6J-650547.12.04.03\n",
      "Vip-IRES-Cre;Ai14-548767.07.06.01\n",
      "Vip-IRES-Cre;Ai14-548767.07.06.02\n",
      "Rbp4-Cre_KL100;Ai14-552218.05.06.01\n",
      "Etv1-CreERT2;Sst-IRES-FlpO;Ai65-555534.05.09.01\n",
      "Sncg-IRES2-FlpO-neo;Ai65F-551971.08.06.01\n",
      "Ctgf-T2A-dgCre;Ai14-553529.06.06.01\n",
      "Ctgf-T2A-dgCre;Ai14-553529.06.06.02\n",
      "Penk-IRES2-Cre-neo;Slc17a6-IRES2-FlpO-557544-Ai65.05.09.02\n",
      "Crh-IRES-Cre_ZJH;Sst-IRES-FlpO;Ai65-561244.09.05.01\n",
      "Slc17a8-iCre;Slc32a1-IRES2-FlpO;Ai65-560685.06.06.01\n",
      "Sst-IRES-Cre;Ai14-586759.10.06.01\n",
      "Gad2-IRES-Cre;Ai14-574859.04.02.01\n",
      "Htr3a-Cre_NO152;Ai14-589338.12.09.01\n",
      "Htr3a-Cre_NO152;Ai14-589338.12.09.02\n",
      "Htr3a-Cre_NO152;Ai14-589338.12.09.03\n",
      "Htr3a-Cre_NO152;Ai14-589339.07.09.01\n",
      "Htr3a-Cre_NO152;Ai14-589339.07.09.02\n",
      "Htr3a-Cre_NO152;Ai14-589339.07.09.03\n",
      "Sst-IRES-Cre;Ai14-590255.10.09.01\n",
      "Sst-IRES-Cre;Ai14-590255.10.09.03\n",
      "Sst-IRES-Cre;Ai14-590255.10.09.02\n",
      "Slc17a6-IRES-Cre;Ai14-591476.10.09.02\n",
      "Slc17a6-IRES-Cre;Ai14-591476.10.09.01\n",
      "Slc17a6-IRES-Cre;Ai14-591476.10.09.03\n",
      "Slc17a6-IRES-Cre;Ai14-591726.12.09.01\n",
      "Slc17a6-IRES-Cre;Ai14-591726.12.09.02\n",
      "Pvalb-IRES-Cre;Ai14-592064.14.09.01\n",
      "Pvalb-IRES-Cre;Ai14-593556.11.01.01\n",
      "Pvalb-IRES-Cre;Ai14-593556.11.01.02\n",
      "Pvalb-IRES-Cre;Ai14-593186.09.02.01\n",
      "Pvalb-IRES-Cre;Ai14-593186.11.01.02\n",
      "Pvalb-IRES-Cre;Ai14-593186.11.01.01\n",
      "Gad2-IRES-Cre;Ai14-593597.11.02.01\n",
      "Gad2-IRES-Cre;Ai14-593597.11.02.02\n",
      "C57BL6J-647014.06.03.02\n",
      "C57BL6J-647014.06.03.04\n",
      "C57BL6J-642274.11.09.03\n",
      "C57BL6J-642274.11.09.04\n",
      "C57BL6J-625941.02.01.01\n",
      "C57BL6J-625941.02.01.03\n",
      "Pvalb-IRES-Cre;Ai14-606805.02.01.01\n",
      "Sst-IRES-Cre;Ai14-614601.12.09.01\n",
      "Sst-IRES-Cre;Ai14-614601.12.09.02\n",
      "Sst-IRES-Cre;Ai14-614601.12.09.04\n",
      "Pvalb-IRES-Cre;Ai14-607236.12.01.01\n",
      "Pvalb-IRES-Cre;Ai14-607236.12.01.03\n",
      "Pvalb-IRES-Cre;Ai14-612347.03.02.03\n",
      "Pvalb-IRES-Cre;Ai14-612347.03.02.04\n",
      "Pvalb-IRES-Cre;Ai14-613480.02.01.01\n",
      "Pvalb-IRES-Cre;Ai14-613480.02.01.02\n",
      "Pvalb-IRES-Cre;Ai14-613480.02.01.04\n",
      "Htr3a-Cre_NO152;Ai14-602118.07.04.03\n",
      "Sst-IRES-Cre;Ai14-508750.05.06.01\n",
      "Htr3a-Cre_NO152;Ai14-506092.09.06.01\n",
      "Htr3a-Cre_NO152;Ai14-506092.09.06.02\n",
      "Htr3a-Cre_NO152;Ai14-506092.09.06.03\n",
      "Htr3a-Cre_NO152;Ai14-506092.09.06.04\n",
      "Htr3a-Cre_NO152;Ai14-506092.09.06.05\n",
      "Htr3a-Cre_NO152;Ai14-596878.10.01.01\n",
      "Htr3a-Cre_NO152;Ai14-596878.10.01.02\n",
      "Htr3a-Cre_NO152;Ai14-596878.10.01.03\n",
      "Htr3a-Cre_NO152;Ai14-596880.09.02.01\n",
      "Htr3a-Cre_NO152;Ai14-640655.06.03.01\n",
      "Htr3a-Cre_NO152;Ai14-640655.06.03.02\n",
      "Htr3a-Cre_NO152;Ai14-640655.06.03.03\n",
      "Htr3a-Cre_NO152;Ai14-640655.06.03.04\n",
      "Slc17a6-IRES-Cre;Ai14-651168.09.06.01\n",
      "Slc17a6-IRES-Cre;Ai14-651168.09.06.02\n",
      "Slc17a7-IRES2-Cre;Ai14-506270.06.06.01\n",
      "Slc32a1-IRES-Cre;Ai14-511086.06.06.02\n",
      "Slc32a1-IRES-Cre;Ai14-511086.06.06.01\n",
      "Sst-IRES-Cre;Ai14-508744.07.06.01\n",
      "Sst-IRES-Cre;Ai14-508744.07.06.02\n",
      "Sst-IRES-Cre;Ai14-508744.07.06.03\n",
      "Sst-IRES-Cre;Ai14-508744.06.06.01\n",
      "Sst-IRES-Cre;Ai14-508745.11.06.01\n",
      "Sst-IRES-Cre;Ai14-508746.05.06.01\n",
      "Sst-IRES-Cre;Ai14-508746.05.06.02\n",
      "Sst-IRES-Cre;Ai14-508750.04.06.01\n",
      "Sst-IRES-Cre;Ai14-508750.11.06.01\n",
      "Sst-IRES-Cre;Ai14-508750.08.06.01\n",
      "Sst-IRES-Cre;Ai14-508750.08.06.02\n",
      "Sst-IRES-Cre;Ai14-508750.09.06.01\n",
      "Gad2-IRES-Cre;Ai14-643793.09.06.01\n",
      "Gad2-IRES-Cre;Ai14-643793.09.06.02\n",
      "Gad2-IRES-Cre;Ai14-643793.09.06.03\n",
      "Vip-IRES-Cre;Ai14-618854.08.03.01\n",
      "Ndnf-IRES2-dgCre;Ai14-594622.09.02.02\n",
      "Ndnf-IRES2-dgCre;Ai14-594622.09.02.01\n",
      "Ndnf-IRES2-dgCre;Ai14-594622.10.02.01\n",
      "Pvalb-IRES-Cre;Ai14-510678.10.06.02\n",
      "Pvalb-IRES-Cre;Ai14-510678.10.06.01\n",
      "Pvalb-IRES-Cre;Ai14-510678.10.06.03\n",
      "Ndnf-IRES2-dgCre;Ai14-597333.10.02.01\n",
      "Oxtr-T2A-Cre;Ai14-507642.09.06.01\n",
      "C57BL6J-618016.08.09.01\n",
      "Pvalb-IRES-Cre-611110.08.09.01\n",
      "Pvalb-IRES-Cre-591412.10.09.01\n",
      "Sst-IRES-Cre;Ai14-510706.07.06.01\n",
      "Sst-IRES-Cre;Ai14-510706.07.06.02\n",
      "C57BL6J-618125.10.09.01\n",
      "C57BL6J-642468.07.06.01\n",
      "C57BL6J-642468.07.06.02\n",
      "C57BL6J-642468.07.06.03\n",
      "C57BL6J-642275.03.06.01\n",
      "C57BL6J-642468.06.06.01\n",
      "C57BL6J-642468.06.06.02\n",
      "Sst-IRES-Cre;Ai14-587456.03.01.01\n",
      "Pvalb-IRES-Cre;Ai14-640621.14.03.01\n",
      "Pvalb-IRES-Cre;Ai14-640621.14.03.02\n",
      "Pvalb-IRES-Cre;Ai14-640621.14.03.03\n",
      "C57BL6J-645068.09.06.01\n",
      "C57BL6J-645067.09.09.01\n",
      "C57BL6J-645067.09.09.02\n",
      "C57BL6J-645067.09.09.03\n",
      "C57BL6J-645067.09.09.04\n",
      "Chat-IRES-Cre-neo;Ai14-646204.10.06.01\n",
      "Chat-IRES-Cre-neo;Ai14-646204.10.06.02\n",
      "Chat-IRES-Cre-neo;Ai14-646204.10.06.03\n",
      "C57BL6J-645067.10.09.01\n",
      "C57BL6J-645067.10.09.02\n",
      "C57BL6J-645067.10.09.03\n",
      "C57BL6J-645067.10.09.04\n",
      "Chat-IRES-Cre-neo;Ai14-592379.06.04.01\n",
      "Chat-IRES-Cre-neo;Ai14-592379.06.04.02\n",
      "Sst-IRES-Cre;Ai14-510707.10.06.02\n",
      "Sst-IRES-Cre;Ai14-510707.10.06.01\n",
      "Sst-IRES-Cre;Ai14-510707.10.06.03\n",
      "Rorb-IRES2-Cre-neo;Ai14-530250.07.06.02\n",
      "Rorb-IRES2-Cre-neo;Ai14-530250.07.06.01\n",
      "C57BL6J-647687.09.06.01\n",
      "C57BL6J-647687.09.06.02\n",
      "C57BL6J-647687.09.06.03\n",
      "C57BL6J-651701.03.06.01\n",
      "C57BL6J-651701.03.06.02\n",
      "C57BL6J-654834.10.04.01\n",
      "C57BL6J-651701.07.06.01\n",
      "C57BL6J-651701.07.06.02\n",
      "C57BL6J-651701.07.06.03\n",
      "C57BL6J-651700.16.09.01\n",
      "C57BL6J-651700.16.09.02\n",
      "Chat-IRES-Cre-neo;Ai14-576497.05.04.01\n",
      "Rorb-IRES2-Cre-neo;Ai14-580546.03.02.01\n",
      "Rorb-IRES2-Cre-neo;Ai14-580546.03.02.02\n",
      "Gad2-IRES-Cre;Ai14-596768.10.01.02\n",
      "Gad2-IRES-Cre;Ai14-596768.10.01.01\n",
      "Vipr2-IRES2-Cre;Slc32a1-IRES2-FlpO;Ai65-529234.07.09.01\n",
      "Dbh-Cre_KH212;RCL-Sun1sfGFP-neo-650884.04.06.01\n",
      "Chrna2-Cre_OE25;Sst-IRES-FlpO;Ai65-528451.09.02.01\n",
      "Chrna2-Cre_OE25;Sst-IRES-FlpO;Ai65-528451.09.02.02\n",
      "Chrna2-Cre_OE25;Sst-IRES-FlpO;Ai65-544370.03.02.01\n",
      "Gad2-IRES-Cre;Ai14-643791.08.06.01\n",
      "Gad2-IRES-Cre;Ai14-643791.08.06.02\n",
      "Ctgf-T2A-dgCre;Ai14-532608.09.06.01\n",
      "Ctgf-T2A-dgCre;Ai14-532608.09.06.02\n",
      "Dbh-Cre_KH212;RCL-Sun1sfGFP-neo-650884.07.06.01\n",
      "Dbh-Cre_KH212;RCL-Sun1sfGFP-neo-650884.07.06.02\n",
      "Dbh-Cre_KH212;RCL-Sun1sfGFP-neo-650884.07.06.03\n",
      "Gad2-IRES-Cre;Ai14-504551.07.06.02\n",
      "Gad2-IRES-Cre;Ai14-504551.07.06.01\n",
      "Gad2-IRES-Cre;Ai14-504551.07.06.03\n",
      "Slc17a6-IRES-Cre;Ai14-596267.09.01.02\n",
      "Slc17a6-IRES-Cre;Ai14-596267.09.01.03\n",
      "Slc17a6-IRES-Cre;Ai14-596267.09.01.01\n",
      "Slc17a6-IRES-Cre;Ai14-651167.10.09.01\n",
      "Slc17a6-IRES-Cre;Ai14-651167.10.09.02\n",
      "Slc17a6-IRES-Cre;Ai14-651167.10.09.03\n",
      "Slc17a6-IRES-Cre;Ai14-651167.09.09.01\n",
      "Slc17a6-IRES-Cre;Ai14-651167.09.09.02\n",
      "slc17a6-IRES-Cre;Ai14-651167.09.09.03\n",
      "Slc17a6-IRES-Cre;Ai14-651167.09.09.04\n",
      "Slc17a6-IRES-Cre;Ai14-651167.08.09.01\n",
      "Slc17a6-IRES-Cre;Ai14-651167.08.09.02\n",
      "Slc17a6-IRES-Cre;Ai14-651167.08.09.03\n",
      "Slc17a6-IRES-Cre;Ai14-651167.08.09.04\n",
      "Slc17a6-IRES-Cre;Ai14-651167.08.09.05\n",
      "Slc17a6-IRES-Cre;Ai14-651168.08.06.01\n",
      "Slc17a6-IRES-Cre;Ai14-651168.08.06.02\n",
      "Slc17a6-IRES-Cre;Ai14-651168.08.06.03\n",
      "Sst-IRES-Cre;Ai14-587456.04.01.01\n",
      "Gad2-IRES-Cre;Ai14-643793.07.06.01\n",
      "Gad2-IRES-Cre;Ai14-643793.07.06.02\n",
      "Sst-IRES-Cre;Ai14-510709.09.06.02\n",
      "Sst-IRES-Cre;Ai14-510709.09.06.01\n",
      "Sst-IRES-Cre;Ai14-596327.09.02.01\n",
      "Sst-IRES-Cre;Ai14-596327.09.02.02\n",
      "Sst-IRES-Cre;Ai14-596327.09.02.03\n",
      "Sst-IRES-Cre;Ai14-587456.04.02.02\n",
      "Sst-IRES-Cre;Ai14-587456.04.02.04\n",
      "Sst-IRES-Cre;Ai14-587456.04.02.01\n",
      "Sst-IRES-Cre;Ai14-587456.04.02.03\n",
      "Sst-IRES-Cre;Ai14-590254.04.01.01\n",
      "Sst-IRES-Cre;Ai14-590254.04.01.02\n",
      "Sst-IRES-Cre;Ai14-590254.04.01.03\n",
      "Sst-IRES-Cre;Ai14-590254.04.01.04\n",
      "Sst-IRES-Cre;Ai14-590256.05.01.01\n",
      "Sst-IRES-Cre;Ai14-590256.05.01.02\n",
      "Sst-IRES-Cre;Ai14-596327.09.01.01\n",
      "Sst-IRES-Cre;Ai14-596327.09.01.02\n",
      "Sst-IRES-Cre;Ai14-596327.10.01.01\n",
      "Sst-IRES-Cre;Ai14-596327.10.01.02\n",
      "Sst-IRES-Cre;Ai14-596327.10.01.03\n",
      "Sst-IRES-Cre;Ai14-597073.05.01.01\n",
      "Sst-IRES-Cre;Ai14-650713.08.03.01\n",
      "Sst-IRES-Cre;Ai14-650713.08.03.02\n",
      "Sst-IRES-Cre;Ai14-650713.08.03.03\n",
      "Sst-IRES-Cre;Ai14-650713.08.03.04\n",
      "Vip-IRES-Cre;Ai14-363633.03.01.03\n",
      "Vip-IRES-Cre;Ai14-363633.03.01.01\n",
      "Vip-IRES-Cre;Ai14-363633.03.01.02\n",
      "Vip-IRES-Cre;Ai14-548765.05.06.01\n",
      "Vip-IRES-Cre;Ai14-585800.15.10.03\n",
      "Vip-IRES-Cre;Ai14-585800.15.10.02\n",
      "Vip-IRES-Cre;Ai14-585800.15.10.01\n",
      "Slc17a6-IRES-Cre;Ai14-651167.11.09.01\n",
      "C57BL6J-613673.09.09.01\n",
      "Slc17a6-IRES-Cre;Ai14-670829.11.06.01\n",
      "Slc17a6-IRES-Cre;Ai14-670829.11.06.02\n",
      "Slc17a6-IRES-Cre;Ai14-670829.11.06.03\n",
      "C57BL6J-665265.09.04.01\n",
      "Pvalb-IRES-Cre;Ai14-660825.08.01.01\n",
      "C57BL6J-627282.07.03.01\n",
      "C57BL6J-627282.07.03.02\n",
      "C57BL6J-627282.07.03.03\n",
      "C57BL6J-627282.07.03.04\n",
      "C57BL6J-665266.04.06.01\n",
      "Ndnf-IRES2-dgCre;Ai14-659660.11.10.01\n",
      "Rbp4-Cre_KL100;Ai14-613771.16.09.01\n",
      "Rbp4-Cre_KL100;Ai14-613771.16.09.02\n",
      "Rbp4-Cre_KL100;Ai14-613771.16.09.03\n",
      "Rbp4-Cre_KL100;Ai14-613771.16.09.04\n",
      "C57BL6J-643018.09.04.01\n",
      "C57BL6J-643018.09.04.02\n",
      "C57BL6J-643018.09.04.03\n",
      "C57BL6J-643018.09.04.04\n",
      "Htr3a-Cre_NO152;Ai14-664646.07.04.01\n",
      "Htr3a-Cre_NO152;Ai14-664646.07.04.02\n",
      "C57BL6J-642276.09.03.01\n",
      "C57BL6J-642276.09.03.02\n",
      "C57BL6J-642276.09.03.03\n",
      "C57BL6J-642272.08.03.01\n",
      "C57BL6J-642272.08.03.02\n",
      "C57BL6J-642272.08.03.03\n",
      "C57BL6J-642272.08.03.04\n",
      "C57BL6J-627280.08.04.01\n",
      "C57BL6J-627280.08.04.02\n",
      "C57BL6J-627280.08.04.03\n",
      "C57BL6J-627280.08.04.04\n",
      "C57BL6J-627280.08.04.05\n",
      "C57BL6J-647684.09.03.01\n",
      "C57BL6J-647014.08.03.01\n",
      "C57BL6J-647014.08.03.02\n",
      "C57BL6J-654835.11.04.01\n",
      "C57BL6J-660501.12.10.01\n",
      "C57BL6J-660501.12.10.02\n",
      "Gad2-IRES-Cre;Ai14-663819.08.02.01\n",
      "Gad2-IRES-Cre;Ai14-663820.05.01.01\n",
      "C57BL6J-660501.13.10.01\n",
      "C57BL6J-660501.13.10.02\n",
      "C57BL6J-664479.08.01.01\n",
      "C57BL6J-660502.13.10.01\n",
      "C57BL6J-660502.13.10.02\n",
      "C57BL6J-661501.07.10.01\n",
      "C57BL6J-665263.13.10.01\n",
      "C57BL6J-665263.13.10.02\n",
      "Htr3a-Cre_NO152;Ai14-673660.09.04.01\n",
      "Htr3a-Cre_NO152;Ai14-673660.09.04.02\n",
      "Htr3a-Cre_NO152;Ai14-673660.09.04.03\n",
      "Htr3a-Cre_NO152;Ai14-602117.09.02.01\n",
      "Htr3a-Cre_NO152;Ai14-602117.09.02.02\n",
      "Htr3a-Cre_NO152;Ai14-658321.06.03.01\n",
      "Htr3a-Cre_NO152;Ai14-658321.06.03.02\n",
      "Htr3a-Cre_NO152;Ai14-658321.07.03.01\n",
      "Htr3a-Cre_NO152;Ai14-658321.07.04.01\n",
      "Htr3a-Cre_NO152;Ai14-658321.07.04.02\n",
      "Htr3a-Cre_NO152;Ai14-658321.07.04.03\n",
      "Htr3a-Cre_NO152;Ai14-658321.07.04.04\n",
      "Htr3a-Cre_NO152;Ai14-664646.06.03.01\n",
      "Htr3a-Cre_NO152;Ai14-658321.08.03.01\n",
      "Htr3a-Cre_NO152;Ai14-658321.08.03.02\n",
      "Ndnf-IRES2-dgCre;Ai14-659660.07.10.02\n",
      "Ndnf-IRES2-dgCre;Ai14-659660.07.10.01\n",
      "Htr3a-Cre_NO152;Ai14-672487.06.03.01\n",
      "Htr3a-Cre_NO152;Ai14-672487.06.03.02\n",
      "Htr3a-Cre_NO152;Ai14-672487.06.03.03\n",
      "Rbp4-Cre_KL100;Ai14-613772.14.09.01\n",
      "Rbp4-Cre_KL100;Ai14-613772.14.09.02\n",
      "Rbp4-Cre_KL100;Ai14-613772.14.09.04\n",
      "Rbp4-Cre_KL100;Ai14-613772.14.09.05\n",
      "Rbp4-Cre_KL100;Ai14-613772.14.09.06\n",
      "Slc17a6-IRES-Cre;Ai14-599404.10.02.01\n",
      "Slc17a6-IRES-Cre;Ai14-634162.14.02.01\n",
      "Slc17a6-IRES-Cre;Ai14-657700.09.09.01\n",
      "Rbp4-Cre_KL100;Ai14-613772.16.09.01\n",
      "Rbp4-Cre_KL100;Ai14-613772.16.09.02\n",
      "Rbp4-Cre_KL100;Ai14-659000.08.06.01\n",
      "Rbp4-Cre_KL100;Ai14-659000.08.06.02\n",
      "Rbp4-Cre_KL100;Ai14-659000.08.06.03\n",
      "Sst-IRES-Cre;Ai14-659101.06.01.01\n",
      "Sst-IRES-Cre;Ai14-659101.06.01.02\n",
      "Sst-IRES-Cre;Ai14-659101.06.01.03\n",
      "Sst-IRES-Cre;Ai14-659101.06.01.04\n",
      "Pvalb-IRES-Cre;Ai14-553660.05.06.01\n",
      "\t\tno manual swc to register\n",
      "\t\tno pp14 autotrace swc to register\n",
      "\t\tno raw autotrace swc to register\n",
      "Pvalb-IRES-Cre;Ai14-553660.05.06.02\n",
      "Rbp4-Cre_KL100;Ai14-658999.10.09.01\n",
      "Rbp4-Cre_KL100;Ai14-658999.10.09.02\n",
      "Vip-IRES-Cre;Ai14-601384.10.01.01\n",
      "Rbp4-Cre_KL100;Ai14-659001.10.09.01\n",
      "Rbp4-Cre_KL100;Ai14-661820.08.06.01\n",
      "Rbp4-Cre_KL100;Ai14-661820.08.06.02\n",
      "Rbp4-Cre_KL100;Ai14-661820.08.06.03\n",
      "Rbp4-Cre_KL100;Ai14-661820.08.06.04\n",
      "Rbp4-Cre_KL100;Ai14-661820.08.06.05\n",
      "Rbp4-Cre_KL100;Ai14-661820.08.06.06\n",
      "Slc17a6-IRES-Cre;Ai14-660759.08.09.02\n",
      "Slc17a6-IRES-Cre;Ai14-660759.08.09.03\n",
      "Slc17a6-IRES-Cre;Ai14-660759.08.09.04\n",
      "Rbp4-Cre_KL100;Ai14-661820.09.06.01\n",
      "Rbp4-Cre_KL100;Ai14-664219.09.06.01\n",
      "Rbp4-Cre_KL100;Ai14-664219.09.06.02\n",
      "Rbp4-Cre_KL100;Ai14-664219.09.06.03\n",
      "Vip-IRES-Cre;Ai14-616171.14.09.01\n",
      "Vip-IRES-Cre;Ai14-616171.14.09.02\n",
      "Vip-IRES-Cre;Ai14-616171.14.09.03\n",
      "Vip-IRES-Cre;Ai14-616171.14.09.04\n",
      "Sst-IRES-Cre;Ai14-691515.14.10.01\n",
      "Sst-IRES-Cre;Ai14-691515.14.10.02\n",
      "Sst-IRES-Cre;Ai14-691515.14.10.03\n",
      "Rbp4-Cre_KL100;Ai14-664219.05.06.01\n",
      "Rbp4-Cre_KL100;Ai14-664219.05.06.02\n",
      "Rbp4-Cre_KL100;Ai14-664219.05.06.03\n",
      "Slc17a6-IRES-Cre;Ai14-657700.10.09.01\n",
      "Rbp4-Cre_KL100;Ai14-664219.11.06.01\n",
      "Rbp4-Cre_KL100;Ai14-658998.08.06.01\n",
      "Rbp4-Cre_KL100;Ai14-658998.08.06.02\n",
      "Sst-IRES-Cre;Ai14-595004.11.01.01\n",
      "Sst-IRES-Cre;Ai14-595004.11.01.02\n",
      "Sst-IRES-Cre;Ai14-657806.07.03.01\n",
      "Sst-IRES-Cre;Ai14-657806.09.03.01\n",
      "Sst-IRES-Cre;Ai14-657806.09.03.02\n",
      "Sst-IRES-Cre;Ai14-657806.09.03.03\n",
      "Sst-IRES-Cre;Ai14-657809.07.03.01\n",
      "Sst-IRES-Cre;Ai14-657809.07.03.02\n",
      "Sst-IRES-Cre;Ai14-614599.14.09.01\n",
      "Sst-IRES-Cre;Ai14-614599.14.09.02\n",
      "Sst-IRES-Cre;Ai14-657806.08.04.01\n",
      "Sst-IRES-Cre;Ai14-657806.08.04.02\n",
      "Ndnf-IRES2-dgCre;Ai14-659663.06.06.01\n",
      "Vip-IRES-Cre;Ai14-627404.09.04.01\n",
      "Vip-IRES-Cre;Ai14-616172.14.09.01\n",
      "Vip-IRES-Cre;Ai14-616172.14.09.02\n",
      "Vip-IRES-Cre;Ai14-616172.14.09.03\n",
      "Vip-IRES-Cre;Ai14-616172.14.09.04\n",
      "Vip-IRES-Cre;Ai14-616172.14.09.05\n",
      "Vip-IRES-Cre;Ai14-616172.14.09.06\n",
      "Pvalb-IRES-Cre;Ai14-660324.10.04.01\n",
      "Pvalb-IRES-Cre;Ai14-607236.14.02.01\n",
      "Vip-IRES-Cre;Ai14-657307.07.10.01\n",
      "Vip-IRES-Cre;Ai14-657307.07.10.02\n",
      "Ndnf-IRES2-dgCre;Ai14-659661.09.06.01\n",
      "Ndnf-IRES2-dgCre;Ai14-659661.09.06.02\n",
      "Ndnf-IRES2-dgCre;Ai14-659663.09.06.01\n",
      "Ndnf-IRES2-dgCre;Ai14-659663.09.06.02\n",
      "Ndnf-IRES2-dgCre;Ai14-659663.09.06.03\n",
      "Ndnf-IRES2-dgCre;Ai14-664674.04.01.01\n",
      "Ndnf-IRES2-dgCre;Ai14-664674.04.01.02\n",
      "Ndnf-IRES2-dgCre;Ai14-664677.06.02.01\n",
      "Ndnf-IRES2-dgCre;Ai14-664677.06.02.02\n",
      "Ndnf-IRES2-dgCre;Ai14-664677.06.02.03\n",
      "Ndnf-IRES2-dgCre;Ai14-664674.05.02.01\n",
      "Ndnf-IRES2-dgCre;Ai14-664674.05.02.02\n",
      "Ndnf-IRES2-dgCre;Ai14-664678.06.01.01\n",
      "Ndnf-IRES2-dgCre;Ai14-664678.06.01.02\n",
      "Ndnf-IRES2-dgCre;Ai14-664678.06.01.03\n",
      "Ndnf-IRES2-dgCre;Ai14-664678.09.01.01\n",
      "Ndnf-IRES2-dgCre;Ai14-664678.09.01.02\n",
      "Pvalb-IRES-Cre;Ai14-648183.11.03.01\n",
      "Pvalb-IRES-Cre;Ai14-648183.11.03.02\n",
      "Pvalb-IRES-Cre;Ai14-606194.09.01.01\n",
      "Pvalb-IRES-Cre;Ai14-606194.09.01.02\n",
      "C57BL6J-703624.10.03.01\n",
      "C57BL6J-703624.10.03.02\n",
      "C57BL6J-703624.10.03.03\n",
      "Pvalb-IRES-Cre;Ai14-660324.12.03.01\n",
      "Pvalb-IRES-Cre;Ai14-660821.06.01.01\n",
      "Pvalb-IRES-Cre;Ai14-660821.06.01.02\n",
      "Dbh-Cre_KH212;RCL-H2B-GFP-696409.09.06.01\n",
      "Dbh-Cre_KH212;RCL-H2B-GFP-696409.09.06.02\n",
      "Dbh-Cre_KH212;RCL-H2B-GFP-696409.09.06.03\n",
      "Pvalb-IRES-Cre;Ai14-650958.11.03.01\n",
      "Pvalb-IRES-Cre;Ai14-650958.11.03.02\n",
      "Pvalb-IRES-Cre;Ai14-650959.06.06.01\n",
      "Pvalb-IRES-Cre;Ai14-660325.05.01.01\n",
      "Pvalb-IRES-Cre;Ai14-660325.05.01.02\n",
      "Pvalb-IRES-Cre;Ai14-660325.05.01.03\n",
      "Pvalb-IRES-Cre;Ai14-660821.05.01.01\n",
      "Pvalb-IRES-Cre;Ai14-660821.05.01.02\n",
      "Pvalb-IRES-Cre;Ai14-660821.05.01.03\n",
      "Pvalb-IRES-Cre;Ai14-660821.05.01.04\n",
      "Pvalb-IRES-Cre;Ai14-660821.05.01.05\n",
      "Pvalb-IRES-Cre;Ai14-660821.05.02.01\n",
      "Pvalb-IRES-Cre;Ai14-660821.05.02.02\n",
      "Pvalb-IRES-Cre;Ai14-660821.05.02.03\n",
      "Gad2-IRES-Cre;Ai14-663819.06.01.01\n",
      "Gad2-IRES-Cre;Ai14-663819.06.01.02\n",
      "Gad2-IRES-Cre;Ai14-663819.06.01.03\n",
      "Pvalb-IRES-Cre;Ai14-660823.07.02.01\n",
      "Pvalb-IRES-Cre;Ai14-660823.07.02.02\n",
      "Pvalb-IRES-Cre;Ai14-660823.07.02.03\n",
      "Slc17a7-IRES2-Cre;Ai14-562346.09.09.01\n",
      "Pvalb-IRES-Cre;Ai14-660823.09.02\n",
      "Pvalb-IRES-Cre;Ai14-660823.08.01.01\n",
      "Pvalb-IRES-Cre;Ai14-660823.08.01.02\n",
      "Slc17a6-IRES-Cre;Ai14-564187.08.09.01\n",
      "Slc17a6-IRES-Cre;Ai14-566399.08.09.01\n",
      "Slc17a6-IRES-Cre;Ai14-566399.08.09.02\n",
      "C57BL6J-670528.10.06.01\n",
      "Dbh-Cre_KH212;RCL-H2B-GFP-657884.07.06.01\n",
      "C57BL6J-667413.12.10.01\n",
      "C57BL6J-667413.12.10.02\n",
      "Slc32a1-IRES-Cre;Ai14-562359.09.09.01\n"
     ]
    },
    {
     "name": "stderr",
     "output_type": "stream",
     "text": [
      "c:\\Users\\sarah.wallingbell\\AppData\\Local\\anaconda3\\envs\\morph_utils_v3\\lib\\site-packages\\scipy\\interpolate\\_interpolate.py:698: RuntimeWarning: invalid value encountered in divide\n",
      "  slope = (y_hi - y_lo) / (x_hi - x_lo)[:, None]\n",
      "c:\\Users\\sarah.wallingbell\\AppData\\Local\\anaconda3\\envs\\morph_utils_v3\\lib\\site-packages\\scipy\\interpolate\\_interpolate.py:698: RuntimeWarning: invalid value encountered in divide\n",
      "  slope = (y_hi - y_lo) / (x_hi - x_lo)[:, None]\n",
      "c:\\Users\\sarah.wallingbell\\AppData\\Local\\anaconda3\\envs\\morph_utils_v3\\lib\\site-packages\\scipy\\interpolate\\_interpolate.py:698: RuntimeWarning: invalid value encountered in divide\n",
      "  slope = (y_hi - y_lo) / (x_hi - x_lo)[:, None]\n",
      "c:\\Users\\sarah.wallingbell\\AppData\\Local\\anaconda3\\envs\\morph_utils_v3\\lib\\site-packages\\scipy\\interpolate\\_interpolate.py:698: RuntimeWarning: invalid value encountered in divide\n",
      "  slope = (y_hi - y_lo) / (x_hi - x_lo)[:, None]\n",
      "c:\\Users\\sarah.wallingbell\\AppData\\Local\\anaconda3\\envs\\morph_utils_v3\\lib\\site-packages\\scipy\\interpolate\\_interpolate.py:698: RuntimeWarning: invalid value encountered in divide\n",
      "  slope = (y_hi - y_lo) / (x_hi - x_lo)[:, None]\n"
     ]
    },
    {
     "name": "stdout",
     "output_type": "stream",
     "text": [
      "Slc32a1-IRES-Cre;Ai14-562359.09.09.02\n",
      "\t\tno manual swc to register\n",
      "\t\tno pp14 autotrace swc to register\n",
      "\t\tno raw autotrace swc to register\n",
      "C57BL6J-667413.13.10.01\n",
      "C57BL6J-667413.13.10.02\n",
      "C57BL6J-667413.14.10.01\n",
      "C57BL6J-667413.14.10.02\n",
      "Rbp4-Cre_KL100;Ai14-650443.10.06.01\n",
      "Rbp4-Cre_KL100;Ai14-650443.10.06.02\n",
      "Rbp4-Cre_KL100;Ai14-650443.10.06.03\n",
      "C57BL6J-667415.10.10.01\n",
      "Rbp4-Cre_KL100;Ai14-664218.09.06.01\n",
      "Rbp4-Cre_KL100;Ai14-664218.09.06.02\n",
      "Chat-IRES-Cre-neo;Ai14-582723.15.10.01\n",
      "Chat-IRES-Cre-neo;Ai14-582723.15.10.02\n",
      "Chat-IRES-Cre-neo;Ai14-643481.06.04.01\n",
      "Chat-IRES-Cre-neo;Ai14-643481.06.04.02\n",
      "Chat-IRES-Cre-neo;Ai14-643481.07.03.01\n",
      "Chat-IRES-Cre-neo;Ai14-643481.07.03.02\n",
      "Chat-IRES-Cre-neo;Ai14-643481.07.03.03\n",
      "Chat-IRES-Cre-neo;Ai14-643481.07.03.04\n",
      "Chat-IRES-Cre-neo;Ai14-643481.09.03.01\n",
      "Chat-IRES-Cre-neo;Ai14-643481.09.03.02\n",
      "Chat-IRES-Cre-neo;Ai14-643482.07.03.01\n",
      "Chat-IRES-Cre-neo;Ai14-643482.07.03.02\n",
      "Chat-IRES-Cre-neo;Ai14-643482.07.03.03\n",
      "Chat-IRES-Cre-neo;Ai14-643482.07.03.04\n",
      "Gad2-IRES-Cre;Ai14-600204.09.01.01\n",
      "Gad2-IRES-Cre;Ai14-600204.09.01.02\n",
      "Gad2-IRES-Cre;Ai14-643791.09.06.01\n",
      "Gad2-IRES-Cre;Ai14-643791.09.06.02\n",
      "Gad2-IRES-Cre;Ai14-632253.09.02.01\n",
      "Gad2-IRES-Cre;Ai14-632253.09.02.02\n",
      "Gad2-IRES-Cre;Ai14-632253.09.02.03\n",
      "Gad2-IRES-Cre;Ai14-643792.08.06.01\n",
      "Scnn1a-Tg1-Cre;Ai14-418336.03.02.02\n",
      "Pvalb-IRES-Cre;Ai14-644263.04.01.01\n",
      "Pvalb-IRES-Cre;Ai14-644263.04.01.02\n",
      "Gad2-IRES-Cre;Ai14-663819.05.02.01\n",
      "Gad2-IRES-Cre;Ai14-663819.05.02.02\n",
      "Vip-IRES-Cre;Ai14-633751.14.04.01\n",
      "\t\tno manual swc to register\n",
      "\t\tno pp14 autotrace swc to register\n",
      "\t\tno raw autotrace swc to register\n",
      "Vip-IRES-Cre;Ai14-633751.14.04.02\n",
      "Gad2-IRES-Cre;Ai14-643791.10.06.01\n",
      "Gad2-IRES-Cre;Ai14-643791.10.06.02\n",
      "Gad2-IRES-Cre;Ai14-643791.10.06.03\n",
      "Gad2-IRES-Cre;Ai14-643791.10.06.04\n",
      "Rbp4-Cre_KL100;Ai14-658998.10.06.01\n",
      "Rbp4-Cre_KL100;Ai14-658998.10.06.02\n",
      "Rbp4-Cre_KL100;Ai14-658998.10.06.03\n",
      "Pvalb-IRES-Cre;Ai14-672265.12.06.01\n",
      "Pvalb-IRES-Cre;Ai14-672265.12.06.02\n",
      "Pvalb-IRES-Cre;Ai14-672265.12.06.03\n",
      "Vip-IRES-Cre;Ai14-665881.11.06.01\n",
      "Slc17a8-IRES2-Cre-neo;Ai14-677546.02.09.01\n",
      "Slc17a8-IRES2-Cre-neo;Ai14-677546.02.09.02\n",
      "Slc17a8-IRES2-Cre-neo;Ai14-677546.02.09.03\n",
      "Slc17a8-IRES2-Cre-neo;Ai14-677546.02.09.04\n",
      "Rbp4-Cre_KL100;Ai14-664219.01.06.01\n",
      "Rbp4-Cre_KL100;Ai14-661821.09.06.01\n",
      "Rbp4-Cre_KL100;Ai14-664218.10.06.01\n",
      "Gad2-IRES-Cre;Ai14-643792.10.06.01\n",
      "Slc17a6-IRES-Cre;Ai14-578133.06.03.01\n",
      "Sst-IRES-Cre;Ai14-554002.09.06.01\n",
      "Sst-IRES-Cre;Ai14-554002.09.06.02\n",
      "Htr3a-Cre_NO152;Ai14-563514.04.09.01\n",
      "Htr3a-Cre_NO152;Ai14-563514.04.09.02\n",
      "Htr3a-Cre_NO152;Ai14-563514.04.09.03\n",
      "C57BL6J-660502.14.10.01\n",
      "C57BL6J-660502.14.10.02\n",
      "Htr3a-Cre_NO152;Ai14-672488.07.04.01\n",
      "Htr3a-Cre_NO152;Ai14-672488.07.04.02\n",
      "Htr3a-Cre_NO152;Ai14-672488.07.04.03\n",
      "C57BL6J-660502.15.10.01\n",
      "C57BL6J-660502.15.10.02\n",
      "C57BL6J-667412.14.10.01\n",
      "C57BL6J-625936.08.03.01\n",
      "C57BL6J-625936.08.03.02\n",
      "Htr3a-Cre_NO152;Ai14-589338.10.09.01\n",
      "Htr3a-Cre_NO152;Ai14-589338.10.09.02\n",
      "C57BL6J-734967.14.04.01\n",
      "Ntsr1-Cre_GN220;Ai14-576031.05.04.01\n",
      "Rbp4-Cre_KL100;Ai14-565899.10.09.01\n",
      "Rbp4-Cre_KL100;Ai14-569347.07.09.01\n",
      "Slc17a6-IRES-Cre;Ai14-564187.04.09.01\n",
      "Slc17a6-IRES-Cre;Ai14-564187.04.09.02\n",
      "Slc17a6-IRES-Cre;Ai14-564188.05.10.01\n",
      "Pvalb-IRES-Cre;Ai14-577972.08.04.01\n",
      "Pvalb-IRES-Cre;Ai14-577974.08.03.01\n",
      "Slc17a6-IRES-Cre;Ai14-568770.07.09.01\n",
      "Slc17a6-IRES-Cre;Ai14-568770.07.09.02\n",
      "Htr3a-Cre_NO152;Ai14-563514.11.09.01\n",
      "Htr3a-Cre_NO152;Ai14-563514.11.09.02\n",
      "Htr3a-Cre_NO152;Ai14-563514.11.09.03\n",
      "Htr3a-Cre_NO152;Ai14-572777.08.09.01\n",
      "Htr3a-Cre_NO152;Ai14-572777.08.09.02\n",
      "Slc17a6-IRES-Cre;Ai14-562819.12.09.01\n",
      "Slc17a6-IRES-Cre;Ai14-562819.12.09.02\n",
      "Slc17a6-IRES-Cre;Ai14-574008.09.09.01\n",
      "Slc17a6-IRES-Cre;Ai14-574008.09.09.02\n",
      "C57BL6J-667415.12.10.01\n",
      "C57BL6J-667415.13.10.01\n",
      "C57BL6J-667415.13.10.02\n",
      "C57BL6J-667415.13.10.03\n",
      "Slc17a6-IRES-Cre;Ai14-578138.07.04.01\n",
      "Slc17a8-iCre;Ai14-571561.10.10.01\n",
      "Slc17a8-iCre;Slc32a1-IRES2-FlpO;Ai65-560686.11.09.01\n",
      "C57BL6J-667552.08.03.01\n",
      "C57BL6J-667552.08.03.02\n",
      "Slc17a8-iCre;Slc32a1-IRES2-FlpO;Ai65-560686.10.09.01\n",
      "Slc17a7-IRES2-Cre;Ai14-574018.06.10.01\n",
      "Slc17a8-iCre;Ai14-576041.08.03.01\n",
      "Slc17a8-iCre;Ai14-576041.08.03.02\n",
      "Slc17a8-iCre;Ai14-576041.08.03.03\n",
      "Slc32a1-IRES-Cre;Ai14-562359.05.09.01\n",
      "Slc32a1-IRES-Cre;Ai14-565016.06.09.01\n",
      "Slc32a1-IRES-Cre;Ai14-565016.06.09.02\n",
      "C57BL6J-667554.12.10.01\n",
      "C57BL6J-667554.13.10.01\n",
      "C57BL6J-667554.13.10.02\n",
      "Slc17a6-IRES-Cre;Ai14-670832.14.10.01\n",
      "Slc17a6-IRES-Cre;Ai14-670832.14.10.02\n",
      "Slc17a6-IRES-Cre;Ai14-670832.14.10.03\n",
      "Slc17a6-IRES-Cre;Ai14-670832.14.10.04\n",
      "Vip-IRES-Cre;Ai14-564742.05.10.01\n",
      "Sst-IRES-Cre;Ai14-572055.04.10.01\n",
      "Sst-IRES-Cre;Ai14-572055.04.10.02\n",
      "Sst-IRES-Cre;Ai14-572055.04.10.03\n",
      "Sst-IRES-Cre;Ai14-572055.04.10.04\n",
      "Sst-IRES-Cre;Ai14-572055.04.10.05\n",
      "Sst-IRES-Cre;Ai14-572055.04.10.06\n",
      "Sst-IRES-Cre;Ai14-577301.03.03.01\n",
      "Sst-IRES-Cre;Ai14-577301.03.03.02\n",
      "Sst-IRES-Cre;Ai14-577301.03.03.03\n",
      "Slc17a6-IRES-Cre;Ai14-670832.12.10.01\n",
      "Slc17a6-IRES-Cre;Ai14-670832.12.10.02\n",
      "Sst-IRES-Cre;Ai14-577302.06.04.01\n",
      "Slc17a6-IRES-Cre;Ai14-670832.13.10.01\n",
      "Slc17a6-IRES-Cre;Ai14-670832.13.10.02\n",
      "Sst-IRES-Cre;Ai14-581875.06.03.01\n",
      "Sst-IRES-Cre;Ai14-581875.06.03.02\n",
      "Sst-IRES-Cre;Ai14-581875.06.03.03\n",
      "Sst-IRES-Cre;Ai14-581875.06.03.04\n",
      "Slc17a6-IRES-Cre;Ai14-670832.15.10.01\n",
      "Vip-IRES-Cre;Ai14-567749.05.10.01\n",
      "Vip-IRES-Cre;Ai14-567749.05.10.02\n",
      "Sst-IRES-Cre;Ai14-586757.13.09.01\n",
      "Sst-IRES-Cre;Ai14-586757.13.09.02\n",
      "Sst-IRES-Cre;Ai14-670418.15.10.01\n",
      "Sst-IRES-Cre;Ai14-670418.15.10.02\n",
      "C57BL6J-667554.14.10.01\n",
      "C57BL6J-667554.14.10.02\n",
      "C57BL6J-667555.14.10.01\n",
      "C57BL6J-667556.04.06.01\n",
      "C57BL6J-667556.04.06.02\n",
      "C57BL6J-667556.04.06.03\n",
      "C57BL6J-667556.05.06.01\n",
      "C57BL6J-667555.15.10.01\n",
      "C57BL6J-667555.15.10.02\n",
      "C57BL6J-581843.07.04.01\n",
      "Sst-IRES-Cre;Th-P2A-FlpO;Ai65-561491.02.09.01\n",
      "C57BL6J-617128.09.09.01\n",
      "Chat-IRES-Cre-neo;Ai14-576498.07.03.01\n",
      "Chat-IRES-Cre-neo;Ai14-576498.07.03.02\n",
      "C57BL6J-576333.08.04.04\n",
      "C57BL6J-576333.08.04.01\n",
      "\t\tno manual swc to register\n",
      "\t\tno pp14 autotrace swc to register\n",
      "\t\tno raw autotrace swc to register\n",
      "C57BL6J-576333.08.04.02\n",
      "\t\tno manual swc to register\n",
      "\t\tno pp14 autotrace swc to register\n",
      "\t\tno raw autotrace swc to register\n",
      "C57BL6J-576333.08.04.03\n",
      "Sst-IRES-Cre;Ai14-668015.05.03.01\n",
      "Sst-IRES-Cre;Ai14-668015.05.03.02\n",
      "Pvalb-IRES-Cre;Ai14-601230.11.01.01\n",
      "Sst-IRES-Cre;Ai14-586760.08.09.01\n",
      "Gad2-IRES-Cre;Ai14-596768.09.02.01\n",
      "Gad2-IRES-Cre;Ai14-596768.09.02.02\n",
      "Vip-IRES-Cre;Ai14-601384.09.01.01\n",
      "Rbp4-Cre_KL100;Ai14-601911.05.03.01\n",
      "\t\tno manual swc to register\n",
      "Th-P2A-FlpO;Ai65-575280.03.01.01\n",
      "Vip-IRES-Cre;Ai14-579326.07.04.01\n",
      "Gad2-IRES-Cre;Ai14-606845.09.01.02\n",
      "Gad2-IRES-Cre;Ai14-606845.09.01.03\n",
      "Vipr2-IRES2-Cre;Slc32a1-IRES2-FlpO;Ai65-561070.04.09.01\n",
      "Sncg-IRES2-FlpO-neo;Ai65F-606663.12.02.02\n",
      "Sncg-IRES2-FlpO-neo;Ai65F-606663.12.02.04\n",
      "Vip-IRES-Cre;Ai14-580792.06.04.01\n",
      "Vip-IRES-Cre;Ai14-588954.11.09.01\n",
      "Vip-IRES-Cre;Ai14-588954.11.09.02\n",
      "Vip-IRES-Cre;Ai14-588954.11.09.03\n",
      "C57BL6J-588650.08.09.03\n",
      "Sst-IRES-Cre;Ai14-670418.16.10.02\n",
      "Sst-IRES-Cre;Ai14-670418.16.10.01\n",
      "Ndnf-IRES2-dgCre;Ai14-587479.09.09.02\n",
      "Ndnf-IRES2-dgCre;Ai14-587479.09.09.03\n",
      "Ndnf-IRES2-dgCre;Ai14-587479.09.09.01\n",
      "C57BL6J-667414.13.10.01\n",
      "C57BL6J-667414.13.10.02\n",
      "Rbp4-Cre_KL100;Ai14-669337.07.10.01\n",
      "Gad2-IRES-Cre;Ai14-663818.13.10.01\n",
      "Gad2-IRES-Cre;Ai14-663818.13.10.02\n",
      "Gad2-IRES-Cre;Ai14-663818.13.10.03\n",
      "Chat-IRES-Cre-neo;Ai14-592382.06.04.01\n",
      "Chat-IRES-Cre-neo;Ai14-592382.06.04.02\n",
      "C57BL6J-667414.14.10.01\n",
      "C57BL6J-667414.14.10.02\n",
      "C57BL6J-667412.12.10.01\n",
      "C57BL6J-667412.12.10.02\n",
      "Ctgf-T2A-dgCre;Ai14-571203.05.10.01\n",
      "Gad2-IRES-Cre;Ai14-580680.07.03.01\n",
      "Sst-IRES-Cre;Ai14-670419.09.04.01\n",
      "C57BL6J-625938.06.04.01\n",
      "C57BL6J-625938.06.04.02\n",
      "C57BL6J-625938.06.04.03\n",
      "C57BL6J-654834.14.04.01\n",
      "Slc17a6-IRES-Cre;Ai14-671988.08.06.01\n",
      "Slc17a6-IRES-Cre;Ai14-671988.11.06.01\n",
      "Slc17a6-IRES-Cre;Ai14-671988.11.06.02\n",
      "Slc17a6-IRES-Cre;Ai14-670832.16.10.01\n",
      "Slc17a6-IRES-Cre;Ai14-670832.16.10.02\n",
      "Slc17a6-IRES-Cre;Ai14-671987.02.06.01\n",
      "Slc17a6-IRES-Cre;Ai14-671987.05.06.01\n",
      "Slc17a6-IRES-Cre;Ai14-671990.08.06.01\n",
      "Slc17a6-IRES-Cre;Ai14-671990.08.06.02\n",
      "Slc17a6-IRES-Cre;Ai14-671990.08.06.03\n",
      "Slc17a6-IRES-Cre;Ai14-671990.08.06.04\n",
      "Slc17a6-IRES-Cre;Ai14-677661.08.06.01\n",
      "Slc17a6-IRES-Cre;Ai14-671987.07.06.01\n",
      "Slc17a6-IRES-Cre;Ai14-671987.07.06.02\n",
      "Slc17a6-IRES-Cre;Ai14-671987.10.06.01\n",
      "Slc17a6-IRES-Cre;Ai14-671987.10.06.02\n",
      "Slc17a6-IRES-Cre;Ai14-671987.10.06.03\n",
      "Slc17a6-IRES-Cre;Ai14-671988.04.06.01\n",
      "Slc17a6-IRES-Cre;Ai14-671988.04.06.02\n",
      "Slc17a6-IRES-Cre;Ai14-671990.07.06.01\n",
      "Slc17a6-IRES-Cre;Ai14-671990.11.06.01\n",
      "Slc17a6-IRES-Cre;Ai14-671990.11.06.02\n",
      "Slc17a6-IRES-Cre;Ai14-671990.11.06.03\n",
      "C57BL6J-667413.15.10.02\n",
      "C57BL6J-667413.15.10.03\n",
      "C57BL6J-667413.15.10.01\n",
      "Slc32a1-IRES-Cre;Ai14-493643.03.02.01\n",
      "Slc32a1-IRES-Cre;Ai14-493643.03.02.02\n",
      "Gad2-IRES-Cre;Ai14-609670.05.04.01\n",
      "Gad2-IRES-Cre;Ai14-609670.05.04.02\n",
      "Gad2-IRES-Cre;Ai14-609670.05.04.03\n",
      "Gad2-IRES-Cre;Ai14-609670.05.04.04\n",
      "Gad2-IRES-Cre;Ai14-609670.05.04.05\n",
      "Gad2-IRES-Cre;Ai14-609670.05.04.06\n",
      "Vip-IRES-Cre;Ai14-635317.13.03.01\n",
      "C57BL6J-678863.07.03.01\n",
      "Sst-IRES-Cre;Ai14-670417.09.04.01\n",
      "Sst-IRES-Cre;Ai14-670417.08.04.01\n",
      "Sst-IRES-Cre;Ai14-670417.08.04.02\n",
      "Sst-IRES-Cre;Ai14-670417.08.04.03\n",
      "Sst-IRES-Cre;Ai14-670417.08.04.04\n",
      "Pvalb-IRES-Cre;Ai14-673120.05.01.01\n",
      "Pvalb-IRES-Cre;Ai14-673120.05.01.02\n",
      "Pvalb-IRES-Cre;Ai14-673120.05.01.03\n",
      "Pvalb-IRES-Cre;Ai14-673120.06.01.01\n",
      "Pvalb-IRES-Cre;Ai14-673120.06.01.02\n",
      "C57BL6J-675067.10.03.01\n",
      "Gad2-IRES-Cre;Ai14-632252.11.02.01\n",
      "Gad2-IRES-Cre;Ai14-632252.11.02.02\n",
      "Gad2-IRES-Cre;Ai14-632252.11.02.03\n",
      "C57BL6J-622938.07.03.01\n",
      "\t\tno manual swc to register\n",
      "\t\tno pp14 autotrace swc to register\n",
      "\t\tno raw autotrace swc to register\n",
      "C57BL6J-622938.07.03.02\n",
      "C57BL6J-622938.07.03.03\n",
      "\t\tno manual swc to register\n",
      "\t\tno pp14 autotrace swc to register\n",
      "\t\tno raw autotrace swc to register\n",
      "C57BL6J-622938.07.03.04\n",
      "\t\tno manual swc to register\n",
      "\t\tno pp14 autotrace swc to register\n",
      "\t\tno raw autotrace swc to register\n",
      "Vip-IRES-Cre;Ai14-672626.04.06.01\n",
      "Vip-IRES-Cre;Ai14-672626.05.06.01\n",
      "Vip-IRES-Cre;Ai14-672626.05.06.02\n",
      "Pvalb-IRES-Cre;Ai14-676164.06.02.01\n",
      "C57BL6J-675068.09.03.01\n",
      "C57BL6J-675068.09.03.02\n",
      "C57BL6J-675068.09.03.03\n",
      "Vip-IRES-Cre;Ai14-672629.09.06.01\n",
      "Vip-IRES-Cre;Ai14-672629.09.06.02\n",
      "Slc17a6-IRES-Cre;Ai14-674994.08.06.01\n",
      "Slc17a6-IRES-Cre;Ai14-674994.08.06.02\n",
      "Sst-IRES-Cre;Ai14-675490.09.03.01\n",
      "Sst-IRES-Cre;Ai14-675490.09.03.02\n",
      "C57BL6J-643018.07.03.01\n",
      "C57BL6J-643018.07.03.02\n",
      "C57BL6J-643018.07.03.03\n",
      "C57BL6J-643018.07.03.04\n",
      "Rorb-IRES2-Cre-neo;Ai14-568102.03.09.01\n",
      "Rorb-IRES2-Cre-neo;Ai14-568102.03.09.02\n",
      "Pvalb-IRES-Cre;Ai14-606194.10.01.01\n",
      "Htr3a-Cre_NO152;Ai14-602117.09.01.01\n",
      "Htr3a-Cre_NO152;Ai14-602117.09.01.02\n",
      "Gad2-IRES-Cre;Ai14-632254.10.01.01\n",
      "Gad2-IRES-Cre;Ai14-632254.10.01.02\n",
      "Gad2-IRES-Cre;Ai14-632254.10.01.03\n",
      "Slc17a6-IRES-Cre;Ai14-636916.04.05.01\n",
      "Slc17a6-IRES-Cre;Ai14-636916.04.05.02\n",
      "Slc17a6-IRES-Cre;Ai14-636916.04.05.03\n",
      "Chat-IRES-Cre-neo;Ai14-643482.08.03.01\n",
      "C57BL6J-654835.14.04.01\n",
      "C57BL6J-654836.15.04.01\n",
      "C57BL6J-654836.15.04.02\n",
      "Pvalb-IRES-Cre;Ai14-660824.07.01.01\n",
      "Pvalb-IRES-Cre;Ai14-660824.07.01.02\n",
      "Gad2-IRES-Cre;Ai14-670842.05.01.01\n",
      "Gad2-IRES-Cre;Ai14-670842.05.01.02\n",
      "Gad2-IRES-Cre;Ai14-670842.05.01.03\n",
      "Pvalb-IRES-Cre;Ai14-676165.08.06.01\n",
      "Pvalb-IRES-Cre;Ai14-676165.09.06.01\n",
      "Pvalb-IRES-Cre;Ai14-676165.09.06.02\n",
      "Rbp4-Cre_KL100;Ai14-669333.10.06.01\n",
      "C57BL6J-625938.06.03.01\n",
      "C57BL6J-625938.06.03.02\n",
      "C57BL6J-625938.06.03.03\n",
      "C57BL6J-625938.06.03.04\n",
      "Rbp4-Cre_KL100;Ai14-669334.07.05.02\n",
      "Rbp4-Cre_KL100;Ai14-669334.07.05.01\n",
      "C57BL6J-625936.08.04.01\n",
      "C57BL6J-625936.08.04.02\n",
      "Rbp4-Cre_KL100;Ai14-683409.09.06.01\n",
      "Rbp4-Cre_KL100;Ai14-669335.08.02.01\n",
      "Rbp4-Cre_KL100;Ai14-669335.08.02.02\n",
      "Rbp4-Cre_KL100;Ai14-669337.12.10.01\n",
      "Rbp4-Cre_KL100;Ai14-669337.12.10.02\n",
      "Pvalb-IRES-Cre;Ai14-672264.15.03.01\n",
      "Pvalb-IRES-Cre;Ai14-672264.15.03.02\n",
      "Pvalb-IRES-Cre;Ai14-672265.11.06.01\n",
      "Pvalb-IRES-Cre;Ai14-679658.08.06.01\n",
      "Pvalb-IRES-Cre;Ai14-672264.14.03.01\n",
      "Rbp4-Cre_KL100;Ai14-676288.06.03.01\n",
      "Rbp4-Cre_KL100;Ai14-676288.06.03.02\n",
      "Slc17a6-IRES-Cre;Ai14-670830.04.06.01\n",
      "Slc17a6-IRES-Cre;Ai14-670831.10.06.01\n",
      "Slc17a6-IRES-Cre;Ai14-670831.10.06.02\n",
      "Slc17a6-IRES-Cre;Ai14-670828.08.06.01\n",
      "Slc17a6-IRES-Cre;Ai14-670830.02.06.01\n",
      "Slc17a6-IRES-Cre;Ai14-670828.03.06.01\n",
      "Rbp4-Cre_KL100;Ai14-676289.07.03.01\n",
      "Rbp4-Cre_KL100;Ai14-676289.07.03.02\n",
      "Rbp4-Cre_KL100;Ai14-676289.07.03.03\n",
      "Slc17a6-IRES-Cre;Ai14-677659.10.06.01\n",
      "Slc17a6-IRES-Cre;Ai14-677659.10.06.02\n",
      "Slc17a8-IRES2-Cre-neo;Ai14-677546.03.09.01\n",
      "Slc17a8-IRES2-Cre-neo;Ai14-677546.03.09.02\n",
      "Slc17a8-IRES2-Cre-neo;Ai14-677546.03.09.03\n",
      "Slc17a8-IRES2-Cre-neo;Ai14-677546.03.09.04\n",
      "Slc17a6-IRES-Cre;Ai14-670830.08.06.01\n",
      "Slc17a6-IRES-Cre;Ai14-670830.10.06.01\n",
      "Slc17a6-IRES-Cre;Ai14-670830.10.06.02\n",
      "Slc17a6-IRES-Cre;Ai14-670830.10.06.03\n",
      "Slc17a6-IRES-Cre;Ai14-670828.10.06.01\n",
      "Slc17a6-IRES-Cre;Ai14-670828.10.06.02\n",
      "Slc17a6-IRES-Cre;Ai14-670828.10.06.03\n",
      "Slc17a6-IRES-Cre;Ai14-670828.10.06.04\n",
      "Slc17a6-IRES-Cre;Ai14-670828.10.06.05\n",
      "Rbp4-Cre_KL100;Ai14-676290.08.06.01\n",
      "C57BL6J-625937.05.03.01\n",
      "C57BL6J-625937.05.03.02\n",
      "C57BL6J-625937.05.03.03\n",
      "Slc17a6-IRES-Cre;Ai14-677660.07.06.01\n",
      "Slc17a6-IRES-Cre;Ai14-677660.07.06.02\n",
      "Slc17a6-IRES-Cre;Ai14-677660.07.06.03\n",
      "C57BL6J-625937.07.04.01\n",
      "C57BL6J-625937.07.04.02\n",
      "C57BL6J-625937.07.04.03\n",
      "C57BL6J-625937.07.04.04\n",
      "C57BL6J-625937.06.03.01\n",
      "C57BL6J-625937.06.03.02\n",
      "C57BL6J-625937.06.03.03\n",
      "C57BL6J-625937.06.03.04\n",
      "C57BL6J-625937.06.03.05\n",
      "C57BL6J-625938.07.03.01\n",
      "C57BL6J-625938.07.03.02\n",
      "C57BL6J-625938.07.03.03\n",
      "C57BL6J-625939.07.04.01\n",
      "C57BL6J-625939.07.04.02\n",
      "C57BL6J-625939.07.04.03\n",
      "C57BL6J-627280.07.04.01\n",
      "C57BL6J-627280.07.04.02\n",
      "C57BL6J-627280.07.04.03\n",
      "C57BL6J-627280.07.04.04\n",
      "C57BL6J-627280.07.04.05\n",
      "C57BL6J-627280.07.04.06\n",
      "C57BL6J-627280.06.03.01\n",
      "C57BL6J-627280.06.03.02\n",
      "C57BL6J-627280.07.03.01\n",
      "C57BL6J-627281.06.04.01\n",
      "C57BL6J-627282.06.04.01\n",
      "C57BL6J-627282.06.04.02\n",
      "C57BL6J-627282.06.03.01\n",
      "Pvalb-IRES-Cre;Ai14-660326.09.01.01\n",
      "C57BL6J-642276.08.03.01\n",
      "C57BL6J-642276.08.03.02\n",
      "Pvalb-IRES-Cre;Ai14-660824.05.01.01\n",
      "Pvalb-IRES-Cre;Ai14-660824.05.02.01\n",
      "C57BL6J-670527.06.03.01\n",
      "C57BL6J-670527.07.03.01\n",
      "C57BL6J-670528.07.06.01\n",
      "C57BL6J-670528.07.06.02\n",
      "Gad2-IRES-Cre;Ai14-670838.12.06.01\n",
      "Gad2-IRES-Cre;Ai14-670838.12.06.02\n",
      "Gad2-IRES-Cre;Ai14-670842.06.02.01\n",
      "Gad2-IRES-Cre;Ai14-670842.06.02.02\n",
      "Gad2-IRES-Cre;Ai14-670842.07.01.01\n",
      "Gad2-IRES-Cre;Ai14-670842.09.01.01\n",
      "Gad2-IRES-Cre;Ai14-670842.09.01.02\n",
      "Htr3a-Cre_NO152;Ai14-672490.07.03.02\n",
      "Htr3a-Cre_NO152;Ai14-672490.07.03.01\n",
      "Htr3a-Cre_NO152;Ai14-672490.06.04.01\n",
      "C57BL6J-675068.08.03.01\n",
      "C57BL6J-675068.08.03.02\n",
      "C57BL6J-675068.08.03.03\n",
      "Pvalb-IRES-Cre;Ai14-644263.05.01.01\n",
      "Pvalb-IRES-Cre;Ai14-644263.05.01.02\n",
      "Pvalb-IRES-Cre;Ai14-644263.05.01.03\n",
      "Pvalb-IRES-Cre;Ai14-644263.03.02.01\n",
      "Pvalb-IRES-Cre;Ai14-553660.08.06.01\n",
      "\t\tno manual swc to register\n",
      "Pvalb-IRES-Cre;Ai14-553660.08.06.02\n",
      "\t\tno manual swc to register\n",
      "\t\tno pp14 autotrace swc to register\n",
      "Htr3a-Cre_NO152;Ai14-609164.05.03.01\n",
      "Htr3a-Cre_NO152;Ai14-609164.05.03.02\n",
      "\t\tno manual swc to register\n",
      "\t\tno pp14 autotrace swc to register\n",
      "\t\tno raw autotrace swc to register\n",
      "Sst-IRES-Cre;Ai14-595003.11.02.01\n",
      "Pvalb-IRES-Cre;Ai14-577972.06.03.01\n"
     ]
    },
    {
     "name": "stderr",
     "output_type": "stream",
     "text": [
      "c:\\Users\\sarah.wallingbell\\AppData\\Local\\anaconda3\\envs\\morph_utils_v3\\lib\\site-packages\\scipy\\interpolate\\_interpolate.py:698: RuntimeWarning: invalid value encountered in divide\n",
      "  slope = (y_hi - y_lo) / (x_hi - x_lo)[:, None]\n",
      "c:\\Users\\sarah.wallingbell\\AppData\\Local\\anaconda3\\envs\\morph_utils_v3\\lib\\site-packages\\scipy\\interpolate\\_interpolate.py:698: RuntimeWarning: invalid value encountered in divide\n",
      "  slope = (y_hi - y_lo) / (x_hi - x_lo)[:, None]\n",
      "c:\\Users\\sarah.wallingbell\\AppData\\Local\\anaconda3\\envs\\morph_utils_v3\\lib\\site-packages\\scipy\\interpolate\\_interpolate.py:698: RuntimeWarning: invalid value encountered in divide\n",
      "  slope = (y_hi - y_lo) / (x_hi - x_lo)[:, None]\n",
      "c:\\Users\\sarah.wallingbell\\AppData\\Local\\anaconda3\\envs\\morph_utils_v3\\lib\\site-packages\\scipy\\interpolate\\_interpolate.py:698: RuntimeWarning: invalid value encountered in divide\n",
      "  slope = (y_hi - y_lo) / (x_hi - x_lo)[:, None]\n",
      "c:\\Users\\sarah.wallingbell\\AppData\\Local\\anaconda3\\envs\\morph_utils_v3\\lib\\site-packages\\scipy\\interpolate\\_interpolate.py:698: RuntimeWarning: invalid value encountered in divide\n",
      "  slope = (y_hi - y_lo) / (x_hi - x_lo)[:, None]\n"
     ]
    },
    {
     "name": "stdout",
     "output_type": "stream",
     "text": [
      "Pvalb-IRES-Cre;Ai14-577972.05.04.01\n",
      "\t\tno manual swc to register\n",
      "\t\tno pp14 autotrace swc to register\n",
      "\t\tno raw autotrace swc to register\n",
      "Pvalb-IRES-Cre;Ai14-577972.05.04.02\n",
      "Pvalb-IRES-Cre;Ai14-577972.05.04.03\n",
      "\t\tno manual swc to register\n",
      "\t\tno pp14 autotrace swc to register\n",
      "\t\tno raw autotrace swc to register\n",
      "Pvalb-IRES-Cre;Ai14-577972.05.04.04\n",
      "\t\tno manual swc to register\n",
      "\t\tno pp14 autotrace swc to register\n",
      "\t\tno raw autotrace swc to register\n",
      "C57BL6J-694488.07.10.01\n",
      "C57BL6J-694488.07.10.02\n",
      "C57BL6J-694488.07.10.03\n",
      "C57BL6J-647684.09.04.01\n",
      "Slc17a6-IRES-Cre;Ai14-561991.12.09.01\n",
      "Vip-IRES-Cre;Ai14-611969.06.04.01\n",
      "Vip-IRES-Cre;Ai14-611969.06.04.02\n",
      "Rorb-IRES2-Cre-neo;Ai14-611981.06.03.01\n",
      "Rorb-IRES2-Cre-neo;Ai14-611981.06.03.02\n",
      "Gad2-IRES-Cre;Ai14-600203.07.04.01\n",
      "\t\tno manual swc to register\n",
      "\t\tno pp14 autotrace swc to register\n",
      "\t\tno raw autotrace swc to register\n",
      "Gad2-IRES-Cre;Ai14-600203.07.04.03\n",
      "\t\tno manual swc to register\n",
      "\t\tno pp14 autotrace swc to register\n",
      "\t\tno raw autotrace swc to register\n",
      "Gad2-IRES-Cre;Ai14-600203.07.04.04\n",
      "\t\tno manual swc to register\n",
      "\t\tno pp14 autotrace swc to register\n",
      "\t\tno raw autotrace swc to register\n",
      "Gad2-IRES-Cre;Ai14-600203.07.04.05\n",
      "\t\tno manual swc to register\n",
      "\t\tno pp14 autotrace swc to register\n",
      "\t\tno raw autotrace swc to register\n",
      "Gad2-IRES-Cre;Ai14-600203.07.04.06\n",
      "C57BL6J-631344.05.03.01\n",
      "Slc32a1-IRES-Cre;Sncg-IRES2-FlpO;Ai65-509371.02.02.01\n",
      "Rbp4-Cre_KL100;Ai14-623194.11.02.01\n",
      "Rbp4-Cre_KL100;Ai14-623194.11.02.02\n",
      "Rbp4-Cre_KL100;Ai14-623194.11.02.03\n",
      "Rbp4-Cre_KL100;Ai14-623194.11.02.04\n",
      "Slc32a1-IRES-Cre;Sncg-IRES2-FlpO;Ai65-509371.01.01.01\n",
      "Slc32a1-IRES-Cre;Sncg-IRES2-FlpO;Ai65-509355.08.01.01\n",
      "Rbp4-Cre_KL100;Ai14-669338.09.01.01\n",
      "Slc32a1-IRES-Cre;Sncg-IRES2-FlpO;Ai65-509370.03.01.01\n",
      "Slc32a1-IRES-Cre;Sncg-IRES2-FlpO;Ai65-509370.03.01.02\n",
      "Slc32a1-IRES-Cre;Sncg-IRES2-FlpO;Ai65-509355.09.01.01\n",
      "Slc32a1-IRES-Cre;Sncg-IRES2-FlpO;Ai65-509355.09.01.02\n",
      "Slc32a1-IRES-Cre;Sncg-IRES2-FlpO;Ai65-509370.02.02.01\n",
      "Slc32a1-IRES-Cre;Sncg-IRES2-FlpO;Ai65-509371.03.02.01\n",
      "Slc32a1-IRES-Cre;Sncg-IRES2-FlpO;Ai65-509371.03.02.02\n",
      "Slc32a1-IRES-Cre;Sncg-IRES2-FlpO;Ai65-509371.03.02.03\n",
      "Slc32a1-IRES-Cre;Sncg-IRES2-FlpO;Ai65-509370.03.02.01\n",
      "Slc32a1-IRES-Cre;Sncg-IRES2-FlpO;Ai65-509370.03.02.02\n",
      "Slc32a1-IRES-Cre;Sncg-IRES2-FlpO;Ai65-509371.01.02.01\n",
      "Slc32a1-IRES-Cre;Sncg-IRES2-FlpO;Ai65-509371.02.01.01\n",
      "Slc32a1-IRES-Cre;Sncg-IRES2-FlpO;Ai65-509372.01.02.01\n",
      "Slc32a1-IRES-Cre;Sncg-IRES2-FlpO;Ai65-509372.03.01.01\n",
      "Slc32a1-IRES-Cre;Sncg-IRES2-FlpO;Ai65-509372.03.01.02\n",
      "Slc32a1-IRES-Cre;Sncg-IRES2-FlpO;Ai65-509372.03.01.03\n",
      "Slc32a1-IRES-Cre;Sncg-IRES2-FlpO;Ai65-509372.02.02.01\n",
      "Slc32a1-IRES-Cre;Sncg-IRES2-FlpO;Ai65-509372.02.02.02\n",
      "Rbp4-Cre_KL100;Ai14-623194.10.01.01\n",
      "Rbp4-Cre_KL100;Ai14-623194.10.01.02\n",
      "Vip-IRES-Cre;Ai14-579327.07.04.01\n",
      "\t\tno manual swc to register\n",
      "\t\tno pp14 autotrace swc to register\n",
      "\t\tno raw autotrace swc to register\n",
      "Vip-IRES-Cre;Ai14-579327.07.04.02\n",
      "\t\tno manual swc to register\n",
      "\t\tno pp14 autotrace swc to register\n",
      "\t\tno raw autotrace swc to register\n",
      "Vip-IRES-Cre;Ai14-579327.07.04.03\n",
      "Vip-IRES-Cre;Ai14-579326.07.03.02\n",
      "Vip-IRES-Cre;Ai14-579326.07.03.01\n",
      "\t\tno manual swc to register\n",
      "\t\tno pp14 autotrace swc to register\n",
      "\t\tno raw autotrace swc to register\n",
      "C57BL6J-581848.07.04.01\n",
      "\t\tno manual swc to register\n",
      "\t\tno pp14 autotrace swc to register\n",
      "\t\tno raw autotrace swc to register\n",
      "C57BL6J-581848.07.04.02\n",
      "C57BL6J-581848.07.04.03\n",
      "\t\tno manual swc to register\n",
      "\t\tno pp14 autotrace swc to register\n",
      "\t\tno raw autotrace swc to register\n",
      "C57BL6J-581848.07.04.04\n",
      "\t\tno manual swc to register\n",
      "\t\tno pp14 autotrace swc to register\n",
      "\t\tno raw autotrace swc to register\n",
      "C57BL6J-581848.07.04.05\n",
      "\t\tno manual swc to register\n",
      "\t\tno pp14 autotrace swc to register\n",
      "\t\tno raw autotrace swc to register\n",
      "Pvalb-IRES-Cre;Ai14-609302.05.04.01\n",
      "\t\tno manual swc to register\n",
      "\t\tno pp14 autotrace swc to register\n",
      "\t\tno raw autotrace swc to register\n",
      "Pvalb-IRES-Cre;Ai14-609302.05.04.02\n"
     ]
    },
    {
     "name": "stderr",
     "output_type": "stream",
     "text": [
      "c:\\Users\\sarah.wallingbell\\AppData\\Local\\anaconda3\\envs\\morph_utils_v3\\lib\\site-packages\\scipy\\interpolate\\_interpolate.py:698: RuntimeWarning: invalid value encountered in divide\n",
      "  slope = (y_hi - y_lo) / (x_hi - x_lo)[:, None]\n",
      "c:\\Users\\sarah.wallingbell\\AppData\\Local\\anaconda3\\envs\\morph_utils_v3\\lib\\site-packages\\scipy\\interpolate\\_interpolate.py:698: RuntimeWarning: invalid value encountered in divide\n",
      "  slope = (y_hi - y_lo) / (x_hi - x_lo)[:, None]\n",
      "c:\\Users\\sarah.wallingbell\\AppData\\Local\\anaconda3\\envs\\morph_utils_v3\\lib\\site-packages\\scipy\\interpolate\\_interpolate.py:698: RuntimeWarning: invalid value encountered in divide\n",
      "  slope = (y_hi - y_lo) / (x_hi - x_lo)[:, None]\n",
      "c:\\Users\\sarah.wallingbell\\AppData\\Local\\anaconda3\\envs\\morph_utils_v3\\lib\\site-packages\\scipy\\interpolate\\_interpolate.py:698: RuntimeWarning: invalid value encountered in divide\n",
      "  slope = (y_hi - y_lo) / (x_hi - x_lo)[:, None]\n",
      "c:\\Users\\sarah.wallingbell\\AppData\\Local\\anaconda3\\envs\\morph_utils_v3\\lib\\site-packages\\scipy\\interpolate\\_interpolate.py:698: RuntimeWarning: invalid value encountered in divide\n",
      "  slope = (y_hi - y_lo) / (x_hi - x_lo)[:, None]\n"
     ]
    },
    {
     "name": "stdout",
     "output_type": "stream",
     "text": [
      "C57BL6J-738848.13.03.01\n",
      "C57BL6J-738848.13.03.02\n",
      "C57BL6J-738848.13.03.03\n",
      "C57BL6J-703626.10.03.01\n",
      "C57BL6J-703626.10.03.02\n",
      "C57BL6J-703626.10.03.03\n",
      "C57BL6J-738797.15.03.01\n",
      "C57BL6J-738797.15.03.02\n",
      "C57BL6J-738797.15.03.03\n",
      "C57BL6J-738797.15.03.04\n",
      "C57BL6J-627280.06.04.01\n",
      "Htr3a-Cre_NO152;Ai14-672490.05.04.01\n",
      "Htr3a-Cre_NO152;Ai14-672490.05.04.02\n",
      "C57BL6J-622937.05.04.01\n",
      "C57BL6J-622937.05.04.02\n",
      "C57BL6J-622937.05.04.03\n",
      "C57BL6J-670528.02.06.01\n",
      "C57BL6J-670528.02.06.02\n",
      "C57BL6J-670528.02.06.03\n",
      "C57BL6J-670528.02.06.04\n",
      "C57BL6J-675065.07.04.02\n",
      "C57BL6J-675065.07.04.01\n",
      "C57BL6J-675067.12.03.01\n",
      "C57BL6J-675067.12.03.02\n",
      "C57BL6J-675067.12.03.03\n",
      "Pvalb-IRES-Cre;Ai14-693569.11.10.01\n",
      "Pvalb-IRES-Cre;Ai14-696944.13.10.01\n",
      "Pvalb-IRES-Cre;Ai14-696944.13.10.02\n",
      "Pvalb-IRES-Cre;Ai14-696944.13.10.03\n",
      "Pvalb-IRES-Cre;Ai14-696944.13.10.04\n",
      "Pvalb-IRES-Cre;Ai14-676165.04.06.01\n",
      "Pvalb-IRES-Cre;Ai14-676165.04.06.02\n",
      "Pvalb-IRES-Cre;Ai14-693570.14.10.01\n",
      "Pvalb-IRES-Cre;Ai14-693570.14.10.02\n",
      "Pvalb-IRES-Cre;Ai14-696944.14.10.01\n",
      "Pvalb-IRES-Cre;Ai14-702180.12.10.01\n",
      "Pvalb-IRES-Cre;Ai14-702180.12.10.02\n",
      "Pvalb-IRES-Cre;Ai14-702180.12.10.03\n",
      "Pvalb-IRES-Cre;Ai14-702181.13.10.01\n",
      "Pvalb-IRES-Cre;Ai14-702181.13.10.02\n",
      "Pvalb-IRES-Cre;Ai14-702181.13.10.03\n",
      "Rbp4-Cre_KL100;Ai14-699516.13.10.01\n",
      "Rbp4-Cre_KL100;Ai14-699516.13.10.02\n",
      "Rorb-IRES2-Cre-neo;Ai14-601631.11.01.01\n",
      "Rbp4-Cre_KL100;Ai14-613771.14.09.01\n",
      "Pvalb-IRES-Cre;Ai14-703420.14.03.01\n",
      "Pvalb-IRES-Cre;Ai14-703420.14.03.02\n",
      "Pvalb-IRES-Cre;Ai14-702181.15.10.01\n",
      "Pvalb-IRES-Cre;Ai14-702181.15.10.02\n",
      "Rorb-IRES2-Cre-neo;Ai14-601631.09.01.01\n",
      "Rbp4-Cre_KL100;Ai14-669337.11.10.01\n",
      "Rbp4-Cre_KL100;Ai14-669337.11.10.02\n",
      "Rbp4-Cre_KL100;Ai14-676289.05.03.02\n",
      "Rbp4-Cre_KL100;Ai14-676289.05.03.01\n",
      "Rbp4-Cre_KL100;Ai14-676289.07.04.01\n",
      "Rbp4-Cre_KL100;Ai14-676289.07.04.02\n",
      "Rbp4-Cre_KL100;Ai14-676289.07.04.03\n",
      "C57BL6J-678862.07.03.01\n",
      "C57BL6J-678862.07.03.02\n",
      "C57BL6J-678862.07.03.03\n",
      "C57BL6J-678862.07.03.04\n",
      "Rbp4-Cre_KL100;Ai14-676290.11.06.01\n",
      "Rbp4-Cre_KL100;Ai14-676290.11.06.02\n",
      "Rbp4-Cre_KL100;Ai14-680486.03.02.01\n",
      "Rbp4-Cre_KL100;Ai14-680486.03.02.02\n",
      "Slc17a6-IRES-Cre;Ai14-670831.08.06.01\n",
      "Slc17a6-IRES-Cre;Ai14-670831.08.06.02\n",
      "Slc17a6-IRES-Cre;Ai14-670831.08.06.03\n",
      "Rbp4-Cre_KL100;Ai14-680486.05.01.01\n",
      "Rbp4-Cre_KL100;Ai14-680486.05.01.02\n",
      "Slc17a6-IRES-Cre;Ai14-674136.08.06.01\n",
      "Slc17a6-IRES-Cre;Ai14-674136.08.06.02\n",
      "Slc17a6-IRES-Cre;Ai14-674136.08.06.03\n",
      "C57BL6J-678862.03.04.01\n",
      "C57BL6J-678862.03.04.02\n",
      "Slc17a6-IRES-Cre;Ai14-671988.03.06.01\n",
      "Slc17a6-IRES-Cre;Ai14-671988.03.06.02\n",
      "C57BL6J-685421.06.04.01\n",
      "C57BL6J-678863.05.04.01\n",
      "C57BL6J-678863.05.04.02\n",
      "C57BL6J-678863.05.04.03\n",
      "Slc17a6-IRES-Cre;Ai14-674993.10.06.01\n",
      "Slc17a6-IRES-Cre;Ai14-674993.10.06.02\n",
      "Slc17a6-IRES-Cre;Ai14-674993.10.06.03\n",
      "Slc17a6-IRES-Cre;Ai14-674993.10.06.04\n",
      "Slc17a8-IRES2-Cre-neo;Ai14-677546.01.09.01\n",
      "Slc17a8-IRES2-Cre-neo;Ai14-677546.01.09.02\n",
      "Slc17a8-IRES2-Cre-neo;Ai14-677546.01.09.03\n",
      "Slc17a8-IRES2-Cre-neo;Ai14-677546.01.09.04\n",
      "Slc17a8-IRES2-Cre-neo;Ai14-677546.01.09.05\n",
      "Slc17a8-IRES2-Cre-neo;Ai14-677546.01.09.06\n",
      "Slc17a8-IRES2-Cre-neo;Ai14-677546.01.09.07\n",
      "Slc17a8-IRES2-Cre-neo;Ai14-677546.01.09.08\n",
      "Sst-IRES-Cre;Ai14-697387.07.03.01\n",
      "Slc17a6-IRES-Cre;Ai14-680262.08.06.01\n",
      "Slc17a6-IRES-Cre;Ai14-680262.08.06.02\n",
      "Slc17a6-IRES-Cre;Ai14-680262.08.06.03\n",
      "Slc17a6-IRES-Cre;Ai14-680262.10.06.01\n",
      "Slc17a6-IRES-Cre;Ai14-680262.10.06.02\n",
      "C57BL6J-686168.12.10.01\n",
      "Slc17a8-IRES2-Cre-neo;Ai14-677546.05.09.01\n",
      "Slc17a8-IRES2-Cre-neo;Ai14-677546.05.09.02\n",
      "Slc17a8-IRES2-Cre-neo;Ai14-677546.05.09.03\n",
      "Slc17a8-IRES2-Cre-neo;Ai14-677546.05.09.04\n",
      "C57BL6J-680565.05.04.01\n",
      "C57BL6J-680565.05.04.02\n",
      "C57BL6J-680566.06.04.01\n",
      "C57BL6J-680566.06.04.02\n",
      "C57BL6J-680566.06.04.03\n",
      "C57BL6J-680566.06.04.04\n",
      "C57BL6J-685422.12.10.01\n",
      "C57BL6J-685422.12.10.02\n",
      "C57BL6J-685422.12.10.03\n",
      "C57BL6J-685422.12.10.04\n",
      "Slc17a6-IRES-Cre;Ai14-682195.05.02.01\n",
      "C57BL6J-680566.07.04.01\n",
      "C57BL6J-680566.07.04.02\n",
      "C57BL6J-680566.07.04.03\n",
      "C57BL6J-680568.05.04.01\n",
      "C57BL6J-680568.05.04.02\n",
      "C57BL6J-680568.06.04.01\n",
      "C57BL6J-680568.06.04.02\n",
      "Slc17a8-IRES2-Cre-neo;Ai14-686491.02.09.01\n",
      "Slc17a8-IRES2-Cre-neo;Ai14-686491.02.09.02\n",
      "Slc17a8-IRES2-Cre-neo;Ai14-686491.02.09.03\n",
      "Slc17a8-IRES2-Cre-neo;Ai14-686491.02.09.04\n",
      "C57BL6J-685421.03.04.01\n",
      "C57BL6J-685421.03.04.02\n",
      "Dbh-Cre_KH212;RCL-H2B-GFP-657884.10.06.01\n",
      "Sst-IRES-Cre;Ai14-699106.10.06.01\n",
      "Sst-IRES-Cre;Ai14-699106.10.06.02\n",
      "Sst-IRES-Cre;Ai14-699106.10.06.03\n",
      "Sst-IRES-Cre;Ai14-699106.10.06.04\n",
      "Dbh-Cre_KH212;RCL-H2B-GFP-676766.10.06.01\n",
      "Dbh-Cre_KH212;RCL-H2B-GFP-676766.10.06.02\n",
      "Dbh-Cre_KH212;RCL-H2B-GFP-676766.10.06.03\n",
      "Sst-IRES-Cre;Ai14-699109.13.10.02\n",
      "Sst-IRES-Cre;Ai14-699109.13.10.03\n",
      "C57BL6J-685421.05.04.01\n",
      "C57BL6J-685421.05.04.02\n",
      "Slc17a8-IRES2-Cre-neo;Ai14-686490.03.09.01\n",
      "Slc17a8-IRES2-Cre-neo;Ai14-686490.03.09.02\n",
      "Slc17a8-IRES2-Cre-neo;Ai14-686490.04.09.01\n",
      "Slc17a8-IRES2-Cre-neo;Ai14-686490.04.09.02\n",
      "Slc17a8-IRES2-Cre-neo;Ai14-686490.06.09.01\n",
      "Slc17a8-IRES2-Cre-neo;Ai14-686490.06.09.02\n",
      "Sst-IRES-Cre;Ai14-697386.03.01.01\n",
      "Sst-IRES-Cre;Ai14-697386.03.01.02\n",
      "Sst-IRES-Cre;Ai14-697386.03.01.03\n",
      "Sst-IRES-Cre;Ai14-697386.03.01.04\n",
      "Sst-IRES-Cre;Ai14-697386.03.01.05\n",
      "Slc17a8-IRES2-Cre-neo;Ai14-686490.05.09.01\n",
      "Slc17a8-IRES2-Cre-neo;Ai14-686490.05.09.02\n",
      "Sst-IRES-Cre;Ai14-691515.12.10.01\n",
      "Sst-IRES-Cre;Ai14-691515.12.10.02\n",
      "Sst-IRES-Cre;Ai14-699108.12.10.01\n",
      "Sst-IRES-Cre;Ai14-699108.12.10.02\n",
      "Sst-IRES-Cre;Ai14-699108.12.10.03\n",
      "Sst-IRES-Cre;Ai14-699108.12.10.04\n",
      "C57BL6J-685424.13.10.01\n",
      "C57BL6J-685424.13.10.02\n",
      "C57BL6J-685424.13.10.03\n",
      "C57BL6J-686167.13.10.01\n",
      "C57BL6J-686167.13.10.02\n",
      "C57BL6J-686167.13.10.03\n",
      "Slc17a8-IRES2-Cre-neo;Ai14-697116.02.09.02\n",
      "Slc17a8-IRES2-Cre-neo;Ai14-697116.02.09.03\n",
      "Slc17a8-IRES2-Cre-neo;Ai14-697116.02.09.01\n",
      "Slc17a8-IRES2-Cre-neo;Ai14-697117.02.09.01\n",
      "Slc17a8-IRES2-Cre-neo;Ai14-697117.02.09.02\n",
      "Slc17a8-IRES2-Cre-neo;Ai14-697117.02.09.03\n",
      "Slc17a8-IRES2-Cre-neo;Ai14-697117.02.09.04\n",
      "Slc17a8-IRES2-Cre-neo;Ai14-700564.01.09.01\n",
      "Slc17a8-IRES2-Cre-neo;Ai14-700564.01.09.02\n",
      "Slc17a8-IRES2-Cre-neo;Ai14-700564.01.09.03\n",
      "Slc17a8-IRES2-Cre-neo;Ai14-700565.02.09.01\n",
      "Slc17a8-IRES2-Cre-neo;Ai14-700565.02.09.02\n",
      "Slc17a8-IRES2-Cre-neo;Ai14-700565.02.09.03\n",
      "Slc17a8-IRES2-Cre-neo;Ai14-686494.01.09.01\n",
      "Slc17a8-IRES2-Cre-neo;Ai14-686494.01.09.02\n",
      "Slc17a8-IRES2-Cre-neo;Ai14-697117.01.09.02\n",
      "Slc17a8-IRES2-Cre-neo;Ai14-697117.01.09.01\n",
      "Slc17a8-IRES2-Cre-neo;Ai14-697117.01.09.03\n",
      "Slc17a8-IRES2-Cre-neo;Ai14-697117.01.09.04\n",
      "Slc17a8-IRES2-Cre-neo;Ai14-700565.03.09.01\n",
      "Slc17a8-IRES2-Cre-neo;Ai14-700565.03.09.02\n",
      "Slc17a8-IRES2-Cre-neo;Ai14-700565.05.09.01\n",
      "Slc17a8-IRES2-Cre-neo;Ai14-700565.05.09.02\n",
      "Sst-IRES-Cre;Ai14-697387.05.03.01\n",
      "Sst-IRES-Cre;Ai14-697387.05.03.02\n",
      "Sst-IRES-Cre;Ai14-686550.08.04.01\n",
      "Sst-IRES-Cre;Ai14-686550.08.04.02\n",
      "C57BL6J-686167.12.10.01\n",
      "C57BL6J-686167.12.10.02\n",
      "C57BL6J-694489.04.10.01\n",
      "C57BL6J-694489.04.10.02\n",
      "C57BL6J-694489.04.10.03\n",
      "Sst-IRES-Cre;Ai14-699108.10.10.01\n",
      "Sst-IRES-Cre;Ai14-697387.08.04.01\n",
      "Sst-IRES-Cre;Ai14-697387.08.04.02\n",
      "Sst-IRES-Cre;Ai14-697389.06.02.01\n",
      "Sst-IRES-Cre;Ai14-697389.06.02.02\n",
      "Sst-IRES-Cre;Ai14-697389.06.02.03\n",
      "Sst-IRES-Cre;Ai14-701493.07.06.01\n",
      "Sst-IRES-Cre;Ai14-699109.09.10.01\n",
      "Sst-IRES-Cre;Ai14-699109.09.10.02\n",
      "C57BL6J-694489.03.10.01\n",
      "C57BL6J-686168.15.10.02\n",
      "C57BL6J-686168.15.10.01\n",
      "C57BL6J-694490.15.10.01\n",
      "C57BL6J-694490.15.10.02\n",
      "C57BL6J-694490.15.10.03\n",
      "C57BL6J-694488.04.10.01\n",
      "C57BL6J-694488.04.10.02\n",
      "C57BL6J-694488.04.10.03\n",
      "C57BL6J-694488.05.10.01\n",
      "C57BL6J-694488.05.10.02\n",
      "C57BL6J-694488.05.10.03\n",
      "C57BL6J-694488.05.10.04\n",
      "C57BL6J-691315.14.10.01\n",
      "C57BL6J-691315.14.10.02\n",
      "C57BL6J-694490.12.10.01\n",
      "C57BL6J-694490.12.10.02\n",
      "C57BL6J-694490.12.10.03\n",
      "C57BL6J-694488.06.10.01\n",
      "C57BL6J-694488.06.10.02\n",
      "C57BL6J-694489.05.10.01\n",
      "C57BL6J-694489.05.10.02\n",
      "C57BL6J-694489.05.10.03\n",
      "C57BL6J-694489.05.10.04\n",
      "C57BL6J-694489.05.10.05\n",
      "C57BL6J-694490.05.10.01\n",
      "C57BL6J-694490.05.10.02\n",
      "C57BL6J-694489.09.10.01\n",
      "C57BL6J-703625.07.03.01\n",
      "C57BL6J-703625.07.03.02\n",
      "C57BL6J-703625.07.03.03\n",
      "C57BL6J-703625.07.03.04\n",
      "C57BL6J-703625.07.03.05\n",
      "C57BL6J-703625.07.03.06\n",
      "C57BL6J-694492.12.10.01\n",
      "C57BL6J-694492.12.10.02\n",
      "C57BL6J-703620.06.03.01\n",
      "C57BL6J-703620.06.03.02\n",
      "C57BL6J-703620.06.03.03\n",
      "C57BL6J-698816.06.04.01\n",
      "C57BL6J-698816.06.04.02\n",
      "C57BL6J-698816.06.04.03\n",
      "C57BL6J-698816.06.04.04\n",
      "C57BL6J-698816.06.04.05\n",
      "C57BL6J-698818.06.04.01\n",
      "C57BL6J-698818.06.04.02\n",
      "C57BL6J-703623.18.10.01\n",
      "C57BL6J-703623.18.10.02\n",
      "C57BL6J-703626.06.03.01\n",
      "C57BL6J-703626.06.03.02\n",
      "C57BL6J-703625.10.03.01\n",
      "C57BL6J-703625.10.03.02\n",
      "C57BL6J-703627.10.01.01\n",
      "C57BL6J-703627.10.01.02\n",
      "Dbh-Cre_KH212;RCL-H2B-GFP-695527.02.06.01\n",
      "Htr3a-Cre_NO152;Ai14-672488.09.03.01\n",
      "Htr3a-Cre_NO152;Ai14-672488.09.03.02\n",
      "Dbh-Cre_KH212;RCL-H2B-GFP-695525.10.06.01\n",
      "Dbh-Cre_KH212;RCL-H2B-GFP-695525.10.06.02\n",
      "Gad2-IRES-Cre;Ai14-632253.09.01.01\n",
      "Gad2-IRES-Cre;Ai14-632253.09.01.02\n",
      "Dbh-Cre_KH212;RCL-H2B-GFP-695527.10.06.01\n",
      "Dbh-Cre_KH212;RCL-H2B-GFP-695527.10.06.02\n",
      "Dbh-Cre_KH212;RCL-H2B-GFP-696407.02.06.01\n",
      "Dbh-Cre_KH212;RCL-H2B-GFP-696408.11.06.01\n",
      "Gad2-IRES-Cre;Ai14-670838.09.06.01\n",
      "Gad2-IRES-Cre;Ai14-670838.09.06.02\n",
      "Gad2-IRES-Cre;Ai14-670838.09.06.03\n",
      "Gad2-IRES-Cre;Ai14-632253.08.02.01\n",
      "Gad2-IRES-Cre;Ai14-670843.08.01.01\n",
      "Gad2-IRES-Cre;Ai14-670843.08.01.02\n",
      "Gad2-IRES-Cre;Ai14-670843.08.01.03\n",
      "Gad2-IRES-Cre;Ai14-670839.05.01.01\n",
      "Gad2-IRES-Cre;Ai14-670839.05.01.02\n",
      "Htr3a-Cre_NO152;Ai14-672487.07.04.01\n",
      "Htr3a-Cre_NO152;Ai14-672487.07.04.02\n",
      "Gad2-IRES-Cre;Ai14-670839.06.02.02\n",
      "Gad2-IRES-Cre;Ai14-670839.06.02.01\n",
      "Gad2-IRES-Cre;Ai14-670839.06.02.03\n",
      "Gad2-IRES-Cre;Ai14-670843.08.02.01\n",
      "Gad2-IRES-Cre;Ai14-680853.09.06.01\n",
      "Gad2-IRES-Cre;Ai14-680853.09.06.02\n",
      "Gad2-IRES-Cre;Ai14-684404.05.01.01\n",
      "Gad2-IRES-Cre;Ai14-684404.05.01.02\n",
      "Htr3a-Cre_NO152;Ai14-672488.05.04.01\n",
      "Htr3a-Cre_NO152;Ai14-672488.05.04.02\n",
      "Gad2-IRES-Cre;Ai14-680854.07.01.01\n",
      "Gad2-IRES-Cre;Ai14-680854.07.01.02\n",
      "Gad2-IRES-Cre;Ai14-680856.05.01.01\n",
      "C57BL6J-642271.07.04.01\n",
      "C57BL6J-642271.07.04.02\n",
      "C57BL6J-642271.07.04.03\n",
      "C57BL6J-642271.07.04.04\n",
      "Gad2-IRES-Cre;Ai14-688079.06.02.01\n",
      "Pvalb-IRES-Cre;Ai14-703420.13.03.01\n",
      "Htr3a-Cre_NO152;Ai14-672488.08.04.01\n",
      "Htr3a-Cre_NO152;Ai14-672488.08.04.02\n",
      "Dbh-Cre_KH212;RCL-H2B-GFP-696407.11.06.01\n",
      "Pvalb-IRES-Cre;Ai14-609302.08.04.01\n",
      "Pvalb-IRES-Cre;Ai14-609302.08.04.02\n",
      "\t\tno manual swc to register\n",
      "\t\tno pp14 autotrace swc to register\n",
      "\t\tno raw autotrace swc to register\n",
      "Pvalb-IRES-Cre;Ai14-609302.08.04.03\n",
      "C57BL6J-703622.17.10.01\n",
      "C57BL6J-642271.08.03.01\n",
      "C57BL6J-642271.08.03.02\n",
      "C57BL6J-703621.16.10.01\n",
      "C57BL6J-703621.16.10.02\n",
      "C57BL6J-703625.10.04.01\n",
      "C57BL6J-703625.10.04.02\n",
      "C57BL6J-665266.07.06.01\n",
      "C57BL6J-665266.07.06.02\n",
      "\t\tno manual swc to register\n",
      "\t\tno pp14 autotrace swc to register\n",
      "\t\tno raw autotrace swc to register\n",
      "Pvalb-IRES-Cre;Ai14-609902.08.03.01\n",
      "\t\tno manual swc to register\n",
      "Pvalb-IRES-Cre;Ai14-609902.08.03.02\n",
      "Chat-IRES-Cre-neo;Ai14-591848.07.03.01\n",
      "\t\tno manual swc to register\n",
      "\t\tno pp14 autotrace swc to register\n",
      "\t\tno raw autotrace swc to register\n",
      "Chat-IRES-Cre-neo;Ai14-591848.07.03.02\n",
      "\t\tno manual swc to register\n",
      "\t\tno pp14 autotrace swc to register\n",
      "\t\tno raw autotrace swc to register\n",
      "Chat-IRES-Cre-neo;Ai14-591848.07.03.03\n",
      "\t\tno manual swc to register\n",
      "\t\tno pp14 autotrace swc to register\n",
      "\t\tno raw autotrace swc to register\n",
      "Chat-IRES-Cre-neo;Ai14-591848.07.03.04\n",
      "\t\tno manual swc to register\n",
      "Chat-IRES-Cre-neo;Ai14-591848.07.03.05\n",
      "\t\tno manual swc to register\n",
      "\t\tno pp14 autotrace swc to register\n",
      "\t\tno raw autotrace swc to register\n",
      "Chat-IRES-Cre-neo;Ai14-582721.07.03.01\n",
      "\t\tno manual swc to register\n",
      "\t\tno pp14 autotrace swc to register\n",
      "\t\tno raw autotrace swc to register\n",
      "Chat-IRES-Cre-neo;Ai14-582721.07.03.02\n",
      "\t\tno manual swc to register\n",
      "C57BL6J-618127.06.03.01\n",
      "C57BL6J-618127.06.03.02\n",
      "\t\tno manual swc to register\n",
      "\t\tno pp14 autotrace swc to register\n",
      "\t\tno raw autotrace swc to register\n",
      "C57BL6J-618127.06.03.03\n",
      "\t\tno manual swc to register\n",
      "\t\tno pp14 autotrace swc to register\n",
      "\t\tno raw autotrace swc to register\n",
      "C57BL6J-618127.06.03.04\n",
      "Pvalb-IRES-Cre;Ai14-609903.07.04.01\n",
      "\t\tno manual swc to register\n",
      "\t\tno pp14 autotrace swc to register\n",
      "\t\tno raw autotrace swc to register\n",
      "Pvalb-IRES-Cre;Ai14-609903.07.04.02\n",
      "Pvalb-IRES-Cre;Ai14-609903.07.04.03\n",
      "Pvalb-IRES-Cre;Ai14-610299.08.04.01\n",
      "Rorb-IRES2-Cre-neo;Ai14-556727.06.06.01\n",
      "Htr3a-Cre_NO152;Ai14-617732.06.03.01\n",
      "\t\tno manual swc to register\n"
     ]
    },
    {
     "name": "stderr",
     "output_type": "stream",
     "text": [
      "c:\\Users\\sarah.wallingbell\\AppData\\Local\\anaconda3\\envs\\morph_utils_v3\\lib\\site-packages\\scipy\\interpolate\\_interpolate.py:698: RuntimeWarning: invalid value encountered in divide\n",
      "  slope = (y_hi - y_lo) / (x_hi - x_lo)[:, None]\n",
      "c:\\Users\\sarah.wallingbell\\AppData\\Local\\anaconda3\\envs\\morph_utils_v3\\lib\\site-packages\\scipy\\interpolate\\_interpolate.py:698: RuntimeWarning: invalid value encountered in divide\n",
      "  slope = (y_hi - y_lo) / (x_hi - x_lo)[:, None]\n",
      "c:\\Users\\sarah.wallingbell\\AppData\\Local\\anaconda3\\envs\\morph_utils_v3\\lib\\site-packages\\scipy\\interpolate\\_interpolate.py:698: RuntimeWarning: invalid value encountered in divide\n",
      "  slope = (y_hi - y_lo) / (x_hi - x_lo)[:, None]\n",
      "c:\\Users\\sarah.wallingbell\\AppData\\Local\\anaconda3\\envs\\morph_utils_v3\\lib\\site-packages\\scipy\\interpolate\\_interpolate.py:698: RuntimeWarning: invalid value encountered in divide\n",
      "  slope = (y_hi - y_lo) / (x_hi - x_lo)[:, None]\n",
      "c:\\Users\\sarah.wallingbell\\AppData\\Local\\anaconda3\\envs\\morph_utils_v3\\lib\\site-packages\\scipy\\interpolate\\_interpolate.py:698: RuntimeWarning: invalid value encountered in divide\n",
      "  slope = (y_hi - y_lo) / (x_hi - x_lo)[:, None]\n"
     ]
    },
    {
     "name": "stdout",
     "output_type": "stream",
     "text": [
      "Htr3a-Cre_NO152;Ai14-617732.06.03.02\n",
      "\t\tno manual swc to register\n",
      "\t\tno pp14 autotrace swc to register\n",
      "\t\tno raw autotrace swc to register\n",
      "Htr3a-Cre_NO152;Ai14-617732.06.03.03\n",
      "\t\tno manual swc to register\n",
      "\t\tno pp14 autotrace swc to register\n",
      "\t\tno raw autotrace swc to register\n",
      "C57BL6J-631344.08.04.01\n",
      "\t\tno manual swc to register\n",
      "C57BL6J-631344.08.04.02\n",
      "C57BL6J-631344.08.04.03\n",
      "\t\tno manual swc to register\n",
      "\t\tno pp14 autotrace swc to register\n",
      "\t\tno raw autotrace swc to register\n",
      "C57BL6J-718781.15.10.01\n",
      "C57BL6J-718781.15.10.02\n",
      "C57BL6J-718781.15.10.03\n",
      "C57BL6J-751411.12.11.01\n",
      "C57BL6J-751411.12.11.02\n",
      "C57BL6J-751411.12.11.03\n",
      "Pvalb-IRES-Cre;Ai14-621141.13.09.01\n"
     ]
    },
    {
     "name": "stderr",
     "output_type": "stream",
     "text": [
      "c:\\Users\\sarah.wallingbell\\AppData\\Local\\anaconda3\\envs\\morph_utils_v3\\lib\\site-packages\\scipy\\interpolate\\_interpolate.py:698: RuntimeWarning: invalid value encountered in divide\n",
      "  slope = (y_hi - y_lo) / (x_hi - x_lo)[:, None]\n",
      "c:\\Users\\sarah.wallingbell\\AppData\\Local\\anaconda3\\envs\\morph_utils_v3\\lib\\site-packages\\scipy\\interpolate\\_interpolate.py:698: RuntimeWarning: invalid value encountered in divide\n",
      "  slope = (y_hi - y_lo) / (x_hi - x_lo)[:, None]\n",
      "c:\\Users\\sarah.wallingbell\\AppData\\Local\\anaconda3\\envs\\morph_utils_v3\\lib\\site-packages\\scipy\\interpolate\\_interpolate.py:698: RuntimeWarning: invalid value encountered in divide\n",
      "  slope = (y_hi - y_lo) / (x_hi - x_lo)[:, None]\n",
      "c:\\Users\\sarah.wallingbell\\AppData\\Local\\anaconda3\\envs\\morph_utils_v3\\lib\\site-packages\\scipy\\interpolate\\_interpolate.py:698: RuntimeWarning: invalid value encountered in divide\n",
      "  slope = (y_hi - y_lo) / (x_hi - x_lo)[:, None]\n",
      "c:\\Users\\sarah.wallingbell\\AppData\\Local\\anaconda3\\envs\\morph_utils_v3\\lib\\site-packages\\scipy\\interpolate\\_interpolate.py:698: RuntimeWarning: invalid value encountered in divide\n",
      "  slope = (y_hi - y_lo) / (x_hi - x_lo)[:, None]\n"
     ]
    },
    {
     "name": "stdout",
     "output_type": "stream",
     "text": [
      "Pvalb-IRES-Cre;Ai14-621141.13.09.02\n",
      "\t\tno manual swc to register\n",
      "\t\tno pp14 autotrace swc to register\n",
      "\t\tno raw autotrace swc to register\n",
      "Pvalb-IRES-Cre;Ai14-621141.13.09.03\n",
      "\t\tno manual swc to register\n",
      "\t\tno pp14 autotrace swc to register\n",
      "\t\tno raw autotrace swc to register\n",
      "Pvalb-IRES-Cre;Ai14-621141.13.09.04\n",
      "\t\tno manual swc to register\n",
      "\t\tno pp14 autotrace swc to register\n",
      "\t\tno raw autotrace swc to register\n",
      "Pvalb-IRES-Cre;Ai14-621141.13.09.05\n",
      "\t\tno manual swc to register\n",
      "\t\tno pp14 autotrace swc to register\n",
      "\t\tno raw autotrace swc to register\n",
      "Pvalb-IRES-Cre;Ai14-621142.14.09.01\n"
     ]
    },
    {
     "name": "stderr",
     "output_type": "stream",
     "text": [
      "c:\\Users\\sarah.wallingbell\\AppData\\Local\\anaconda3\\envs\\morph_utils_v3\\lib\\site-packages\\scipy\\interpolate\\_interpolate.py:698: RuntimeWarning: invalid value encountered in divide\n",
      "  slope = (y_hi - y_lo) / (x_hi - x_lo)[:, None]\n",
      "c:\\Users\\sarah.wallingbell\\AppData\\Local\\anaconda3\\envs\\morph_utils_v3\\lib\\site-packages\\scipy\\interpolate\\_interpolate.py:698: RuntimeWarning: invalid value encountered in divide\n",
      "  slope = (y_hi - y_lo) / (x_hi - x_lo)[:, None]\n",
      "c:\\Users\\sarah.wallingbell\\AppData\\Local\\anaconda3\\envs\\morph_utils_v3\\lib\\site-packages\\scipy\\interpolate\\_interpolate.py:698: RuntimeWarning: invalid value encountered in divide\n",
      "  slope = (y_hi - y_lo) / (x_hi - x_lo)[:, None]\n",
      "c:\\Users\\sarah.wallingbell\\AppData\\Local\\anaconda3\\envs\\morph_utils_v3\\lib\\site-packages\\scipy\\interpolate\\_interpolate.py:698: RuntimeWarning: invalid value encountered in divide\n",
      "  slope = (y_hi - y_lo) / (x_hi - x_lo)[:, None]\n",
      "c:\\Users\\sarah.wallingbell\\AppData\\Local\\anaconda3\\envs\\morph_utils_v3\\lib\\site-packages\\scipy\\interpolate\\_interpolate.py:698: RuntimeWarning: invalid value encountered in divide\n",
      "  slope = (y_hi - y_lo) / (x_hi - x_lo)[:, None]\n"
     ]
    },
    {
     "name": "stdout",
     "output_type": "stream",
     "text": [
      "Pvalb-IRES-Cre;Ai14-621142.14.09.02\n",
      "\t\tno manual swc to register\n",
      "\t\tno pp14 autotrace swc to register\n",
      "\t\tno raw autotrace swc to register\n",
      "Pvalb-IRES-Cre;Ai14-621142.14.09.03\n",
      "\t\tno manual swc to register\n",
      "\t\tno pp14 autotrace swc to register\n",
      "\t\tno raw autotrace swc to register\n",
      "Pvalb-IRES-Cre;Ai14-621143.05.03.01\n",
      "\t\tno manual swc to register\n",
      "\t\tno pp14 autotrace swc to register\n",
      "\t\tno raw autotrace swc to register\n",
      "Pvalb-IRES-Cre;Ai14-621143.05.03.02\n",
      "\t\tno manual swc to register\n",
      "\t\tno pp14 autotrace swc to register\n",
      "\t\tno raw autotrace swc to register\n",
      "Pvalb-IRES-Cre;Ai14-621143.05.03.03\n",
      "\t\tno manual swc to register\n",
      "C57BL6J-581849.06.03.01\n",
      "\t\tno manual swc to register\n",
      "\t\tno pp14 autotrace swc to register\n",
      "\t\tno raw autotrace swc to register\n",
      "C57BL6J-581849.06.03.02\n",
      "\t\tno manual swc to register\n",
      "\t\tno pp14 autotrace swc to register\n",
      "\t\tno raw autotrace swc to register\n",
      "C57BL6J-581849.06.03.03\n",
      "\t\tno manual swc to register\n",
      "\t\tno pp14 autotrace swc to register\n",
      "\t\tno raw autotrace swc to register\n",
      "C57BL6J-581849.06.03.04\n",
      "\t\tno manual swc to register\n",
      "\t\tno pp14 autotrace swc to register\n",
      "\t\tno raw autotrace swc to register\n",
      "C57BL6J-581849.06.03.05\n",
      "\t\tno manual swc to register\n",
      "\t\tno pp14 autotrace swc to register\n",
      "\t\tno raw autotrace swc to register\n",
      "Pvalb-IRES-Cre;Ai14-621143.08.04.01\n"
     ]
    },
    {
     "name": "stderr",
     "output_type": "stream",
     "text": [
      "c:\\Users\\sarah.wallingbell\\AppData\\Local\\anaconda3\\envs\\morph_utils_v3\\lib\\site-packages\\scipy\\interpolate\\_interpolate.py:698: RuntimeWarning: invalid value encountered in divide\n",
      "  slope = (y_hi - y_lo) / (x_hi - x_lo)[:, None]\n",
      "c:\\Users\\sarah.wallingbell\\AppData\\Local\\anaconda3\\envs\\morph_utils_v3\\lib\\site-packages\\scipy\\interpolate\\_interpolate.py:698: RuntimeWarning: invalid value encountered in divide\n",
      "  slope = (y_hi - y_lo) / (x_hi - x_lo)[:, None]\n",
      "c:\\Users\\sarah.wallingbell\\AppData\\Local\\anaconda3\\envs\\morph_utils_v3\\lib\\site-packages\\scipy\\interpolate\\_interpolate.py:698: RuntimeWarning: invalid value encountered in divide\n",
      "  slope = (y_hi - y_lo) / (x_hi - x_lo)[:, None]\n",
      "c:\\Users\\sarah.wallingbell\\AppData\\Local\\anaconda3\\envs\\morph_utils_v3\\lib\\site-packages\\scipy\\interpolate\\_interpolate.py:698: RuntimeWarning: invalid value encountered in divide\n",
      "  slope = (y_hi - y_lo) / (x_hi - x_lo)[:, None]\n",
      "c:\\Users\\sarah.wallingbell\\AppData\\Local\\anaconda3\\envs\\morph_utils_v3\\lib\\site-packages\\scipy\\interpolate\\_interpolate.py:698: RuntimeWarning: invalid value encountered in divide\n",
      "  slope = (y_hi - y_lo) / (x_hi - x_lo)[:, None]\n"
     ]
    },
    {
     "name": "stdout",
     "output_type": "stream",
     "text": [
      "Pvalb-IRES-Cre;Ai14-627393.07.03.01\n",
      "\t\tno manual swc to register\n",
      "\t\tno pp14 autotrace swc to register\n",
      "\t\tno raw autotrace swc to register\n",
      "Pvalb-IRES-Cre;Ai14-627393.07.03.02\n",
      "\t\tno manual swc to register\n",
      "\t\tno pp14 autotrace swc to register\n",
      "\t\tno raw autotrace swc to register\n",
      "Pvalb-IRES-Cre;Ai14-627393.07.03.03\n",
      "\t\tno manual swc to register\n",
      "Pvalb-IRES-Cre;Ai14-629895.13.03.01\n",
      "Pvalb-IRES-Cre;Ai14-629895.13.03.02\n",
      "C57BL6J-618128.07.03.01\n",
      "\t\tno manual swc to register\n",
      "C57BL6J-581849.07.03.02\n",
      "C57BL6J-581849.07.03.03\n",
      "C57BL6J-581849.07.03.04\n",
      "C57BL6J-581849.07.03.01\n",
      "\t\tno manual swc to register\n",
      "\t\tno pp14 autotrace swc to register\n",
      "\t\tno raw autotrace swc to register\n",
      "C57BL6J-751486.13.03.01\n",
      "C57BL6J-751486.13.03.02\n",
      "C57BL6J-751486.13.03.03\n",
      "C57BL6J-751486.13.03.04\n",
      "Pvalb-IRES-Cre;Ai14-635532.12.04.01\n",
      "\t\tno manual swc to register\n",
      "\t\tno pp14 autotrace swc to register\n",
      "\t\tno raw autotrace swc to register\n",
      "Pvalb-IRES-Cre;Ai14-635532.12.04.02\n",
      "\t\tno manual swc to register\n",
      "\t\tno pp14 autotrace swc to register\n",
      "Chat-IRES-Cre-neo;Ai14-628761.08.03.01\n",
      "Chat-IRES-Cre-neo;Ai14-628761.08.03.02\n",
      "\t\tno manual swc to register\n",
      "\t\tno pp14 autotrace swc to register\n",
      "\t\tno raw autotrace swc to register\n",
      "Slc17a8-iCre;Slc32a1-IRES2-FlpO;Ai65-560686.12.09.01\n",
      "Vip-IRES-Cre;Ai14-579325.07.04.01\n"
     ]
    },
    {
     "name": "stderr",
     "output_type": "stream",
     "text": [
      "c:\\Users\\sarah.wallingbell\\AppData\\Local\\anaconda3\\envs\\morph_utils_v3\\lib\\site-packages\\scipy\\interpolate\\_interpolate.py:698: RuntimeWarning: invalid value encountered in divide\n",
      "  slope = (y_hi - y_lo) / (x_hi - x_lo)[:, None]\n",
      "c:\\Users\\sarah.wallingbell\\AppData\\Local\\anaconda3\\envs\\morph_utils_v3\\lib\\site-packages\\scipy\\interpolate\\_interpolate.py:698: RuntimeWarning: invalid value encountered in divide\n",
      "  slope = (y_hi - y_lo) / (x_hi - x_lo)[:, None]\n",
      "c:\\Users\\sarah.wallingbell\\AppData\\Local\\anaconda3\\envs\\morph_utils_v3\\lib\\site-packages\\scipy\\interpolate\\_interpolate.py:698: RuntimeWarning: invalid value encountered in divide\n",
      "  slope = (y_hi - y_lo) / (x_hi - x_lo)[:, None]\n",
      "c:\\Users\\sarah.wallingbell\\AppData\\Local\\anaconda3\\envs\\morph_utils_v3\\lib\\site-packages\\scipy\\interpolate\\_interpolate.py:698: RuntimeWarning: invalid value encountered in divide\n",
      "  slope = (y_hi - y_lo) / (x_hi - x_lo)[:, None]\n",
      "c:\\Users\\sarah.wallingbell\\AppData\\Local\\anaconda3\\envs\\morph_utils_v3\\lib\\site-packages\\scipy\\interpolate\\_interpolate.py:698: RuntimeWarning: invalid value encountered in divide\n",
      "  slope = (y_hi - y_lo) / (x_hi - x_lo)[:, None]\n"
     ]
    },
    {
     "name": "stdout",
     "output_type": "stream",
     "text": [
      "Chat-IRES-Cre-neo;Ai14-600096.07.04.01\n",
      "\t\tno manual swc to register\n",
      "\t\tno pp14 autotrace swc to register\n",
      "\t\tno raw autotrace swc to register\n",
      "Chat-IRES-Cre-neo;Ai14-600096.07.04.02\n",
      "\t\tno manual swc to register\n"
     ]
    },
    {
     "name": "stderr",
     "output_type": "stream",
     "text": [
      "c:\\Users\\sarah.wallingbell\\AppData\\Local\\anaconda3\\envs\\morph_utils_v3\\lib\\site-packages\\scipy\\interpolate\\_interpolate.py:698: RuntimeWarning: invalid value encountered in divide\n",
      "  slope = (y_hi - y_lo) / (x_hi - x_lo)[:, None]\n",
      "c:\\Users\\sarah.wallingbell\\AppData\\Local\\anaconda3\\envs\\morph_utils_v3\\lib\\site-packages\\scipy\\interpolate\\_interpolate.py:698: RuntimeWarning: invalid value encountered in divide\n",
      "  slope = (y_hi - y_lo) / (x_hi - x_lo)[:, None]\n",
      "c:\\Users\\sarah.wallingbell\\AppData\\Local\\anaconda3\\envs\\morph_utils_v3\\lib\\site-packages\\scipy\\interpolate\\_interpolate.py:698: RuntimeWarning: invalid value encountered in divide\n",
      "  slope = (y_hi - y_lo) / (x_hi - x_lo)[:, None]\n",
      "c:\\Users\\sarah.wallingbell\\AppData\\Local\\anaconda3\\envs\\morph_utils_v3\\lib\\site-packages\\scipy\\interpolate\\_interpolate.py:698: RuntimeWarning: invalid value encountered in divide\n",
      "  slope = (y_hi - y_lo) / (x_hi - x_lo)[:, None]\n",
      "c:\\Users\\sarah.wallingbell\\AppData\\Local\\anaconda3\\envs\\morph_utils_v3\\lib\\site-packages\\scipy\\interpolate\\_interpolate.py:698: RuntimeWarning: invalid value encountered in divide\n",
      "  slope = (y_hi - y_lo) / (x_hi - x_lo)[:, None]\n"
     ]
    },
    {
     "name": "stdout",
     "output_type": "stream",
     "text": [
      "Chat-IRES-Cre-neo;Ai14-600096.07.04.03\n",
      "\t\tno manual swc to register\n",
      "\t\tno pp14 autotrace swc to register\n",
      "\t\tno raw autotrace swc to register\n",
      "Pvalb-IRES-Cre;Ai14-610299.06.03.01\n",
      "Pvalb-IRES-Cre;Ai14-610299.06.03.02\n",
      "\t\tno manual swc to register\n",
      "\t\tno pp14 autotrace swc to register\n",
      "\t\tno raw autotrace swc to register\n",
      "Pvalb-IRES-Cre;Ai14-610299.06.03.03\n",
      "\t\tno manual swc to register\n",
      "\t\tno pp14 autotrace swc to register\n",
      "\t\tno raw autotrace swc to register\n",
      "Chat-IRES-Cre-neo;Ai14-611536.07.03.01\n"
     ]
    },
    {
     "name": "stderr",
     "output_type": "stream",
     "text": [
      "c:\\Users\\sarah.wallingbell\\AppData\\Local\\anaconda3\\envs\\morph_utils_v3\\lib\\site-packages\\scipy\\interpolate\\_interpolate.py:698: RuntimeWarning: invalid value encountered in divide\n",
      "  slope = (y_hi - y_lo) / (x_hi - x_lo)[:, None]\n",
      "c:\\Users\\sarah.wallingbell\\AppData\\Local\\anaconda3\\envs\\morph_utils_v3\\lib\\site-packages\\scipy\\interpolate\\_interpolate.py:698: RuntimeWarning: invalid value encountered in divide\n",
      "  slope = (y_hi - y_lo) / (x_hi - x_lo)[:, None]\n",
      "c:\\Users\\sarah.wallingbell\\AppData\\Local\\anaconda3\\envs\\morph_utils_v3\\lib\\site-packages\\scipy\\interpolate\\_interpolate.py:698: RuntimeWarning: invalid value encountered in divide\n",
      "  slope = (y_hi - y_lo) / (x_hi - x_lo)[:, None]\n",
      "c:\\Users\\sarah.wallingbell\\AppData\\Local\\anaconda3\\envs\\morph_utils_v3\\lib\\site-packages\\scipy\\interpolate\\_interpolate.py:698: RuntimeWarning: invalid value encountered in divide\n",
      "  slope = (y_hi - y_lo) / (x_hi - x_lo)[:, None]\n",
      "c:\\Users\\sarah.wallingbell\\AppData\\Local\\anaconda3\\envs\\morph_utils_v3\\lib\\site-packages\\scipy\\interpolate\\_interpolate.py:698: RuntimeWarning: invalid value encountered in divide\n",
      "  slope = (y_hi - y_lo) / (x_hi - x_lo)[:, None]\n"
     ]
    },
    {
     "name": "stdout",
     "output_type": "stream",
     "text": [
      "Pvalb-IRES-Cre;Ai14-644261.12.03.01\n",
      "\t\tno manual swc to register\n",
      "\t\tno pp14 autotrace swc to register\n",
      "\t\tno raw autotrace swc to register\n",
      "Pvalb-IRES-Cre;Ai14-644261.12.03.02\n",
      "Pvalb-IRES-Cre;Ai14-650958.12.04.01\n",
      "\t\tno manual swc to register\n",
      "\t\tno pp14 autotrace swc to register\n",
      "\t\tno raw autotrace swc to register\n",
      "Pvalb-IRES-Cre;Ai14-650958.12.04.02\n",
      "\t\tno manual swc to register\n",
      "Chat-IRES-Cre-neo;Ai14-606032.08.04.01\n",
      "\t\tno manual swc to register\n"
     ]
    },
    {
     "name": "stderr",
     "output_type": "stream",
     "text": [
      "c:\\Users\\sarah.wallingbell\\AppData\\Local\\anaconda3\\envs\\morph_utils_v3\\lib\\site-packages\\scipy\\interpolate\\_interpolate.py:698: RuntimeWarning: invalid value encountered in divide\n",
      "  slope = (y_hi - y_lo) / (x_hi - x_lo)[:, None]\n",
      "c:\\Users\\sarah.wallingbell\\AppData\\Local\\anaconda3\\envs\\morph_utils_v3\\lib\\site-packages\\scipy\\interpolate\\_interpolate.py:698: RuntimeWarning: invalid value encountered in divide\n",
      "  slope = (y_hi - y_lo) / (x_hi - x_lo)[:, None]\n",
      "c:\\Users\\sarah.wallingbell\\AppData\\Local\\anaconda3\\envs\\morph_utils_v3\\lib\\site-packages\\scipy\\interpolate\\_interpolate.py:698: RuntimeWarning: invalid value encountered in divide\n",
      "  slope = (y_hi - y_lo) / (x_hi - x_lo)[:, None]\n",
      "c:\\Users\\sarah.wallingbell\\AppData\\Local\\anaconda3\\envs\\morph_utils_v3\\lib\\site-packages\\scipy\\interpolate\\_interpolate.py:698: RuntimeWarning: invalid value encountered in divide\n",
      "  slope = (y_hi - y_lo) / (x_hi - x_lo)[:, None]\n",
      "c:\\Users\\sarah.wallingbell\\AppData\\Local\\anaconda3\\envs\\morph_utils_v3\\lib\\site-packages\\scipy\\interpolate\\_interpolate.py:698: RuntimeWarning: invalid value encountered in divide\n",
      "  slope = (y_hi - y_lo) / (x_hi - x_lo)[:, None]\n"
     ]
    },
    {
     "name": "stdout",
     "output_type": "stream",
     "text": [
      "Chat-IRES-Cre-neo;Ai14-606032.08.04.02\n",
      "\t\tno manual swc to register\n",
      "\t\tno pp14 autotrace swc to register\n",
      "\t\tno raw autotrace swc to register\n",
      "Sst-IRES-Cre;Ai14-595004.11.02.01\n",
      "Pvalb-IRES-Cre;Ai14-660325.07.01.01\n",
      "\t\tno manual swc to register\n",
      "Pvalb-IRES-Cre;Ai14-660325.07.01.02\n",
      "\t\tno manual swc to register\n",
      "\t\tno pp14 autotrace swc to register\n",
      "\t\tno raw autotrace swc to register\n",
      "Htr3a-Cre_NO152;Ai14-640652.08.04.01\n",
      "\t\tno manual swc to register\n",
      "Htr3a-Cre_NO152;Ai14-640652.08.04.02\n",
      "\t\tno manual swc to register\n",
      "\t\tno pp14 autotrace swc to register\n",
      "\t\tno raw autotrace swc to register\n",
      "C57BL6J-581850.06.03.01\n",
      "C57BL6J-581850.06.03.04\n",
      "C57BL6J-581850.06.03.05\n"
     ]
    },
    {
     "name": "stderr",
     "output_type": "stream",
     "text": [
      "c:\\Users\\sarah.wallingbell\\AppData\\Local\\anaconda3\\envs\\morph_utils_v3\\lib\\site-packages\\scipy\\interpolate\\_interpolate.py:698: RuntimeWarning: invalid value encountered in divide\n",
      "  slope = (y_hi - y_lo) / (x_hi - x_lo)[:, None]\n",
      "c:\\Users\\sarah.wallingbell\\AppData\\Local\\anaconda3\\envs\\morph_utils_v3\\lib\\site-packages\\scipy\\interpolate\\_interpolate.py:698: RuntimeWarning: invalid value encountered in divide\n",
      "  slope = (y_hi - y_lo) / (x_hi - x_lo)[:, None]\n",
      "c:\\Users\\sarah.wallingbell\\AppData\\Local\\anaconda3\\envs\\morph_utils_v3\\lib\\site-packages\\scipy\\interpolate\\_interpolate.py:698: RuntimeWarning: invalid value encountered in divide\n",
      "  slope = (y_hi - y_lo) / (x_hi - x_lo)[:, None]\n",
      "c:\\Users\\sarah.wallingbell\\AppData\\Local\\anaconda3\\envs\\morph_utils_v3\\lib\\site-packages\\scipy\\interpolate\\_interpolate.py:698: RuntimeWarning: invalid value encountered in divide\n",
      "  slope = (y_hi - y_lo) / (x_hi - x_lo)[:, None]\n",
      "c:\\Users\\sarah.wallingbell\\AppData\\Local\\anaconda3\\envs\\morph_utils_v3\\lib\\site-packages\\scipy\\interpolate\\_interpolate.py:698: RuntimeWarning: invalid value encountered in divide\n",
      "  slope = (y_hi - y_lo) / (x_hi - x_lo)[:, None]\n"
     ]
    },
    {
     "name": "stdout",
     "output_type": "stream",
     "text": [
      "C57BL6J-581850.06.03.03\n",
      "\t\tno manual swc to register\n",
      "\t\tno pp14 autotrace swc to register\n",
      "\t\tno raw autotrace swc to register\n",
      "C57BL6J-581850.06.03.02\n",
      "\t\tno manual swc to register\n",
      "\t\tno pp14 autotrace swc to register\n",
      "\t\tno raw autotrace swc to register\n",
      "C57BL6J-588656.06.04.01\n",
      "C57BL6J-617127.16.09.01\n",
      "C57BL6J-617127.16.09.02\n",
      "\t\tno manual swc to register\n",
      "\t\tno pp14 autotrace swc to register\n",
      "\t\tno raw autotrace swc to register\n",
      "C57BL6J-617127.16.09.03\n",
      "\t\tno manual swc to register\n",
      "C57BL6J-617128.08.09.01\n",
      "\t no soma pin\n",
      "C57BL6J-617128.08.09.02\n"
     ]
    },
    {
     "name": "stderr",
     "output_type": "stream",
     "text": [
      "c:\\Users\\sarah.wallingbell\\AppData\\Local\\anaconda3\\envs\\morph_utils_v3\\lib\\site-packages\\scipy\\interpolate\\_interpolate.py:698: RuntimeWarning: invalid value encountered in divide\n",
      "  slope = (y_hi - y_lo) / (x_hi - x_lo)[:, None]\n",
      "c:\\Users\\sarah.wallingbell\\AppData\\Local\\anaconda3\\envs\\morph_utils_v3\\lib\\site-packages\\scipy\\interpolate\\_interpolate.py:698: RuntimeWarning: invalid value encountered in divide\n",
      "  slope = (y_hi - y_lo) / (x_hi - x_lo)[:, None]\n",
      "c:\\Users\\sarah.wallingbell\\AppData\\Local\\anaconda3\\envs\\morph_utils_v3\\lib\\site-packages\\scipy\\interpolate\\_interpolate.py:698: RuntimeWarning: invalid value encountered in divide\n",
      "  slope = (y_hi - y_lo) / (x_hi - x_lo)[:, None]\n",
      "c:\\Users\\sarah.wallingbell\\AppData\\Local\\anaconda3\\envs\\morph_utils_v3\\lib\\site-packages\\scipy\\interpolate\\_interpolate.py:698: RuntimeWarning: invalid value encountered in divide\n",
      "  slope = (y_hi - y_lo) / (x_hi - x_lo)[:, None]\n",
      "c:\\Users\\sarah.wallingbell\\AppData\\Local\\anaconda3\\envs\\morph_utils_v3\\lib\\site-packages\\scipy\\interpolate\\_interpolate.py:698: RuntimeWarning: invalid value encountered in divide\n",
      "  slope = (y_hi - y_lo) / (x_hi - x_lo)[:, None]\n"
     ]
    },
    {
     "name": "stdout",
     "output_type": "stream",
     "text": [
      "C57BL6J-617129.15.09.01\n",
      "\t\tno manual swc to register\n",
      "\t\tno pp14 autotrace swc to register\n",
      "\t\tno raw autotrace swc to register\n",
      "C57BL6J-617129.15.09.02\n",
      "Slc17a8-iCre;Slc32a1-IRES2-FlpO;Ai65-560685.07.06.01\n",
      "\t\tno manual swc to register\n",
      "Slc17a8-iCre;Slc32a1-IRES2-FlpO;Ai65-560685.07.06.02\n",
      "\t\tno manual swc to register\n",
      "Pvalb-IRES-Cre;Ai14-660326.08.01.01\n",
      "\t\tno manual swc to register\n",
      "\t\tno pp14 autotrace swc to register\n",
      "\t\tno raw autotrace swc to register\n",
      "Pvalb-IRES-Cre;Ai14-660326.08.01.02\n",
      "Pvalb-IRES-Cre;Ai14-660326.08.01.03\n",
      "\t\tno manual swc to register\n",
      "C57BL6J-618015.08.09.01\n"
     ]
    },
    {
     "name": "stderr",
     "output_type": "stream",
     "text": [
      "c:\\Users\\sarah.wallingbell\\AppData\\Local\\anaconda3\\envs\\morph_utils_v3\\lib\\site-packages\\scipy\\interpolate\\_interpolate.py:698: RuntimeWarning: invalid value encountered in divide\n",
      "  slope = (y_hi - y_lo) / (x_hi - x_lo)[:, None]\n",
      "c:\\Users\\sarah.wallingbell\\AppData\\Local\\anaconda3\\envs\\morph_utils_v3\\lib\\site-packages\\scipy\\interpolate\\_interpolate.py:698: RuntimeWarning: invalid value encountered in divide\n",
      "  slope = (y_hi - y_lo) / (x_hi - x_lo)[:, None]\n",
      "c:\\Users\\sarah.wallingbell\\AppData\\Local\\anaconda3\\envs\\morph_utils_v3\\lib\\site-packages\\scipy\\interpolate\\_interpolate.py:698: RuntimeWarning: invalid value encountered in divide\n",
      "  slope = (y_hi - y_lo) / (x_hi - x_lo)[:, None]\n",
      "c:\\Users\\sarah.wallingbell\\AppData\\Local\\anaconda3\\envs\\morph_utils_v3\\lib\\site-packages\\scipy\\interpolate\\_interpolate.py:698: RuntimeWarning: invalid value encountered in divide\n",
      "  slope = (y_hi - y_lo) / (x_hi - x_lo)[:, None]\n",
      "c:\\Users\\sarah.wallingbell\\AppData\\Local\\anaconda3\\envs\\morph_utils_v3\\lib\\site-packages\\scipy\\interpolate\\_interpolate.py:698: RuntimeWarning: invalid value encountered in divide\n",
      "  slope = (y_hi - y_lo) / (x_hi - x_lo)[:, None]\n"
     ]
    },
    {
     "name": "stdout",
     "output_type": "stream",
     "text": [
      "C57BL6J-618015.08.09.02\n",
      "\t\tno manual swc to register\n",
      "\t\tno pp14 autotrace swc to register\n",
      "\t\tno raw autotrace swc to register\n",
      "C57BL6J-753121.08.12.01\n",
      "C57BL6J-753121.08.12.02\n",
      "C57BL6J-753121.08.12.03\n",
      "C57BL6J-753121.08.12.04\n",
      "Pvalb-IRES-Cre;Ai14-660825.06.01.01\n",
      "\t\tno manual swc to register\n",
      "\t\tno pp14 autotrace swc to register\n",
      "\t\tno raw autotrace swc to register\n",
      "Pvalb-IRES-Cre;Ai14-660825.06.01.02\n",
      "\t\tno manual swc to register\n",
      "\t\tno pp14 autotrace swc to register\n",
      "\t\tno raw autotrace swc to register\n",
      "Pvalb-IRES-Cre;Ai14-660825.06.01.04\n",
      "\t\tno manual swc to register\n",
      "\t\tno pp14 autotrace swc to register\n",
      "\t\tno raw autotrace swc to register\n",
      "Pvalb-IRES-Cre;Ai14-660825.06.01.05\n",
      "\t\tno manual swc to register\n",
      "Slc17a6-IRES-Cre;Ai14-705107.12.10.01\n",
      "Slc17a6-IRES-Cre;Ai14-705107.12.10.02\n",
      "Slc17a6-IRES-Cre;Ai14-705108.06.02.01\n",
      "\t multiple soma pins\n",
      "Slc17a6-IRES-Cre;Ai14-705108.06.02.02\n",
      "\t no soma pin\n",
      "Chat-IRES-Cre-neo;Ai14-624495.09.04.01\n",
      "\t\tno manual swc to register\n",
      "Vip-IRES-Cre;Ai14-618853.07.04.01\n",
      "\t\tno manual swc to register\n"
     ]
    },
    {
     "name": "stderr",
     "output_type": "stream",
     "text": [
      "c:\\Users\\sarah.wallingbell\\AppData\\Local\\anaconda3\\envs\\morph_utils_v3\\lib\\site-packages\\scipy\\interpolate\\_interpolate.py:698: RuntimeWarning: invalid value encountered in divide\n",
      "  slope = (y_hi - y_lo) / (x_hi - x_lo)[:, None]\n",
      "c:\\Users\\sarah.wallingbell\\AppData\\Local\\anaconda3\\envs\\morph_utils_v3\\lib\\site-packages\\scipy\\interpolate\\_interpolate.py:698: RuntimeWarning: invalid value encountered in divide\n",
      "  slope = (y_hi - y_lo) / (x_hi - x_lo)[:, None]\n",
      "c:\\Users\\sarah.wallingbell\\AppData\\Local\\anaconda3\\envs\\morph_utils_v3\\lib\\site-packages\\scipy\\interpolate\\_interpolate.py:698: RuntimeWarning: invalid value encountered in divide\n",
      "  slope = (y_hi - y_lo) / (x_hi - x_lo)[:, None]\n",
      "c:\\Users\\sarah.wallingbell\\AppData\\Local\\anaconda3\\envs\\morph_utils_v3\\lib\\site-packages\\scipy\\interpolate\\_interpolate.py:698: RuntimeWarning: invalid value encountered in divide\n",
      "  slope = (y_hi - y_lo) / (x_hi - x_lo)[:, None]\n",
      "c:\\Users\\sarah.wallingbell\\AppData\\Local\\anaconda3\\envs\\morph_utils_v3\\lib\\site-packages\\scipy\\interpolate\\_interpolate.py:698: RuntimeWarning: invalid value encountered in divide\n",
      "  slope = (y_hi - y_lo) / (x_hi - x_lo)[:, None]\n"
     ]
    },
    {
     "name": "stdout",
     "output_type": "stream",
     "text": [
      "Vip-IRES-Cre;Ai14-618853.07.04.02\n",
      "\t\tno manual swc to register\n",
      "\t\tno pp14 autotrace swc to register\n",
      "\t\tno raw autotrace swc to register\n",
      "Pvalb-IRES-Cre;Ai14-703422.06.06.01\n",
      "C57BL6J-661503.08.02.01\n",
      "\t\tno manual swc to register\n",
      "\t\tno pp14 autotrace swc to register\n",
      "\t\tno raw autotrace swc to register\n",
      "C57BL6J-685420.07.03.01\n",
      "C57BL6J-685420.07.03.02\n",
      "C57BL6J-685420.07.03.03\n",
      "C57BL6J-665265.08.04.01\n",
      "C57BL6J-665265.08.04.02\n",
      "C57BL6J-703621.17.10.01\n",
      "C57BL6J-703621.17.10.02\n",
      "C57BL6J-703627.06.02.01\n",
      "C57BL6J-703627.06.02.02\n",
      "C57BL6J-703627.06.02.03\n",
      "C57BL6J-685422.14.10.01\n",
      "C57BL6J-685422.14.10.02\n",
      "C57BL6J-703626.08.03.01\n",
      "C57BL6J-703626.08.03.02\n",
      "Gad2-IRES-Cre;Ai14-574193.07.10.01\n",
      "Gad2-IRES-Cre;Ai14-574193.07.10.02\n",
      "Gad2-IRES-Cre;Ai14-574193.07.10.03\n",
      "C57BL6J-704697.14.10.01\n",
      "C57BL6J-704698.04.02.01\n",
      "C57BL6J-704697.15.10.01\n",
      "C57BL6J-704697.15.10.02\n",
      "Chat-IRES-Cre-neo;Ai14-582720.06.04.01\n",
      "Chat-IRES-Cre-neo;Ai14-582720.06.04.02\n",
      "Gad2-IRES-Cre;Ai14-600202.09.01.01\n",
      "Gad2-IRES-Cre;Ai14-600202.09.01.02\n",
      "Dbh-Cre_KH212;RCL-H2B-GFP-705577.09.06.01\n",
      "Dbh-Cre_KH212;RCL-H2B-GFP-705577.09.06.02\n",
      "Htr3a-Cre_NO152;Ai14-565830.10.09.01\n",
      "Htr3a-Cre_NO152;Ai14-565830.10.09.02\n",
      "Pvalb-IRES-Cre;Ai14-703422.05.06.01\n",
      "Pvalb-IRES-Cre;Ai14-703422.05.06.02\n",
      "Pvalb-IRES-Cre;Ai14-703422.05.06.03\n",
      "Rbp4-Cre_KL100;Ai14-567818.04.10.01\n",
      "Rbp4-Cre_KL100;Ai14-567818.04.10.02\n",
      "Rbp4-Cre_KL100;Ai14-567818.04.10.03\n",
      "Slc17a6-IRES-Cre;Ai14-564186.04.09.01\n",
      "Slc17a6-IRES-Cre;Ai14-564186.04.09.02\n",
      "Slc17a6-IRES-Cre;Ai14-564186.04.09.03\n",
      "Slc17a6-IRES-Cre;Ai14-576813.07.03.01\n",
      "Slc17a6-IRES-Cre;Ai14-576813.07.03.02\n",
      "Slc17a6-IRES-Cre;Ai14-576813.07.03.03\n",
      "Rbp4-Cre_KL100;Ai14-567818.05.10.01\n",
      "Rbp4-Cre_KL100;Ai14-567818.05.10.02\n",
      "Rorb-IRES2-Cre-neo;Ai14-569045.05.10.01\n",
      "Rorb-IRES2-Cre-neo;Ai14-569045.05.10.02\n",
      "Rorb-IRES2-Cre-neo;Ai14-569045.05.10.03\n",
      "Slc17a6-IRES-Cre;Ai14-563068.03.10.01\n",
      "Slc17a6-IRES-Cre;Ai14-563068.03.10.02\n",
      "Slc17a6-IRES-Cre;Ai14-564186.05.09.01\n",
      "Slc17a6-IRES-Cre;Ai14-564186.05.09.02\n",
      "Slc17a6-IRES-Cre;Ai14-564186.05.09.03\n",
      "Slc17a6-IRES-Cre;Ai14-705108.06.01.01\n",
      "Slc17a6-IRES-Cre;Ai14-705107.14.10.01\n",
      "Slc17a6-IRES-Cre;Ai14-671988.09.06.01\n",
      "Slc17a6-IRES-Cre;Ai14-671988.09.06.02\n",
      "Slc17a6-IRES-Cre;Ai14-674136.11.06.01\n",
      "Slc17a6-IRES-Cre;Ai14-674136.11.06.02\n",
      "Slc17a6-IRES-Cre;Ai14-674136.11.06.03\n",
      "Gad2-IRES-Cre;Ai14-623714.09.02.01\n",
      "Gad2-IRES-Cre;Ai14-623714.09.02.02\n",
      "Gad2-IRES-Cre;Ai14-623714.09.02.03\n",
      "C57BL6J-704704.13.10.01\n",
      "C57BL6J-704704.13.10.02\n",
      "C57BL6J-704704.13.10.03\n",
      "C57BL6J-704705.12.10.01\n",
      "C57BL6J-704705.12.10.02\n",
      "C57BL6J-704705.14.10.01\n",
      "C57BL6J-704705.14.10.02\n",
      "C57BL6J-704705.14.10.03\n",
      "Dbh-Cre_KH212;RCL-H2B-GFP-705577.11.06.01\n",
      "Dbh-Cre_KH212;RCL-H2B-GFP-705581.07.06.01\n",
      "Sst-IRES-Cre;Ai14-686550.07.04.01\n",
      "Gad2-IRES-Cre;Ai14-709272.07.02.01\n",
      "Gad2-IRES-Cre;Ai14-709272.07.02.02\n",
      "Pvalb-IRES-Cre;Ai14-702181.14.10.01\n",
      "Pvalb-IRES-Cre;Ai14-702181.14.10.02\n",
      "Sst-IRES-Cre;Ai14-708800.10.10.01\n",
      "Slc17a8-IRES2-Cre-neo;Ai14-707424.10.09.02\n",
      "Sst-IRES-Cre;Ai14-697386.05.01.01\n",
      "Sst-IRES-Cre;Ai14-699109.12.10.03\n",
      "Sst-IRES-Cre;Ai14-699109.12.10.04\n",
      "Sst-IRES-Cre;Ai14-707631.15.10.02\n",
      "Sst-IRES-Cre;Ai14-707631.15.10.03\n",
      "Sst-IRES-Cre;Ai14-707631.15.10.04\n",
      "Sst-IRES-Cre;Ai14-707631.15.10.01\n",
      "Sst-IRES-Cre;Ai14-579951.09.04.01\n",
      "Sst-IRES-Cre;Ai14-579951.09.04.02\n",
      "Sst-IRES-Cre;Ai14-701484.13.10.01\n",
      "Sst-IRES-Cre;Ai14-701484.13.10.02\n",
      "Sst-IRES-Cre;Ai14-701484.13.10.03\n",
      "C57BL6J-711682.15.10.01\n",
      "C57BL6J-711682.15.10.02\n",
      "C57BL6J-711682.15.10.03\n",
      "Vip-IRES-Cre;Ai14-579328.08.03.01\n",
      "Point_1\n",
      "Slc17a8-IRES2-Cre-neo;Ai14-707428.01.09.01\n",
      "Slc17a8-IRES2-Cre-neo;Ai14-707428.01.09.02\n",
      "Slc17a8-IRES2-Cre-neo;Ai14-707428.01.09.03\n",
      "Slc17a8-IRES2-Cre-neo;Ai14-707428.01.09.04\n",
      "Sst-IRES-Cre;Ai14-708515.13.10.01\n",
      "C57BL6J-713765.06.02.01\n",
      "Sst-IRES-Cre;Ai14-708515.14.10.01\n",
      "Rbp4-Cre_KL100;Ai14-718903.09.02.01\n",
      "C57BL6J-713764.05.02.01\n",
      "C57BL6J-713764.05.02.02\n",
      "C57BL6J-713764.07.01.01\n",
      "C57BL6J-713764.07.01.02\n",
      "C57BL6J-713765.05.02.01\n",
      "C57BL6J-713765.05.02.02\n",
      "C57BL6J-713765.05.02.03\n",
      "C57BL6J-713766.10.03.01\n",
      "C57BL6J-713766.10.03.02\n",
      "C57BL6J-718781.10.10.01\n",
      "Rbp4-Cre_KL100;Ai14-708708.14.10.01\n",
      "Rbp4-Cre_KL100;Ai14-708708.14.10.02\n",
      "Sst-IRES-Cre;Ai14-707633.13.10.01\n",
      "Slc17a6-IRES-Cre;Ai14-708140.12.10.01\n",
      "Slc17a6-IRES-Cre;Ai14-711571.04.01.01\n",
      "Slc17a6-IRES-Cre;Ai14-711571.04.01.02\n",
      "Sst-IRES-Cre;Ai14-707632.14.10.01\n",
      "Sst-IRES-Cre;Ai14-707632.14.10.02\n",
      "Sst-IRES-Cre;Ai14-707632.14.10.03\n",
      "Sst-IRES-Cre;Ai14-707634.16.10.01\n",
      "Gad2-IRES-Cre;Ai14-715659.06.02.01\n",
      "Gad2-IRES-Cre;Ai14-715659.06.02.02\n",
      "Gad2-IRES-Cre;Ai14-715659.06.02.03\n",
      "C57BL6J-724012.09.01.01\n",
      "Slc17a8-IRES2-Cre-neo;Ai14-719875.02.09.01\n",
      "Slc17a8-IRES2-Cre-neo;Ai14-719875.02.09.02\n",
      "Slc17a8-IRES2-Cre-neo;Ai14-719875.02.09.03\n",
      "Sncg-IRES2-FlpO-neo;Ai65F-546568.07.06.01\n",
      "\t\tno manual swc to register\n",
      "\t\tno pp14 autotrace swc to register\n",
      "\t\tno raw autotrace swc to register\n",
      "Sncg-IRES2-FlpO-neo;Ai65F-546568.07.06.02\n",
      "Slc17a8-IRES2-Cre-neo;Ai14-719875.03.09.01\n",
      "Slc17a8-IRES2-Cre-neo;Ai14-719875.03.09.02\n",
      "Slc17a8-IRES2-Cre-neo;Ai14-719875.04.09.01\n",
      "Slc17a8-IRES2-Cre-neo;Ai14-719875.04.09.02\n",
      "Sst-IRES-Cre;Ai14-714255.10.03.01\n",
      "Sst-IRES-Cre;Ai14-718213.11.03.01\n",
      "C57BL6J-718782.13.10.01\n",
      "C57BL6J-718782.13.10.02\n",
      "C57BL6J-718783.11.10.01\n",
      "C57BL6J-718783.11.10.02\n",
      "Gad2-IRES-Cre;Ai14-715659.06.01.01\n",
      "Gad2-IRES-Cre;Ai14-715659.06.01.02\n",
      "C57BL6J-724012.11.01.01\n",
      "Pvalb-IRES-Cre;Ai14-708921.05.01.01\n",
      "Pvalb-IRES-Cre;Ai14-708921.05.01.02\n",
      "Rbp4-Cre_KL100;Ai14-680485.03.01.01\n",
      "Rbp4-Cre_KL100;Ai14-680485.03.01.02\n",
      "C57BL6J-739956.15.10A.01\n",
      "C57BL6J-739956.15.10A.02\n",
      "Rbp4-Cre_KL100;Ai14-718902.07.03.01\n",
      "Rbp4-Cre_KL100;Ai14-718902.07.03.02\n",
      "Chat-IRES-Cre-neo;Ai14-624496.06.04.01\n",
      "\t\tno manual swc to register\n",
      "\t\tno pp14 autotrace swc to register\n",
      "\t\tno raw autotrace swc to register\n",
      "Chat-IRES-Cre-neo;Ai14-624496.06.04.02\n",
      "\t\tno manual swc to register\n",
      "\t\tno pp14 autotrace swc to register\n",
      "\t\tno raw autotrace swc to register\n",
      "Chat-IRES-Cre-neo;Ai14-624496.06.04.03\n",
      "\t\tno manual swc to register\n",
      "Pvalb-IRES-Cre;Ai14-660825.06.02.01\n",
      "Pvalb-IRES-Cre;Ai14-660825.06.02.02\n",
      "\t\tno manual swc to register\n",
      "\t\tno pp14 autotrace swc to register\n",
      "\t\tno raw autotrace swc to register\n",
      "Pvalb-IRES-Cre;Ai14-660825.06.02.03\n",
      "\t\tno manual swc to register\n",
      "\t\tno pp14 autotrace swc to register\n",
      "\t\tno raw autotrace swc to register\n",
      "Pvalb-IRES-Cre;Ai14-660825.06.02.04\n",
      "\t\tno manual swc to register\n",
      "\t\tno pp14 autotrace swc to register\n",
      "\t\tno raw autotrace swc to register\n",
      "C57BL6J-719330.11.10.01\n",
      "C57BL6J-719330.11.10.02\n",
      "C57BL6J-719330.11.10.03\n",
      "C57BL6J-719330.11.10.04\n",
      "C57BL6J-719330.11.10.05\n",
      "C57BL6J-719330.11.10.06\n",
      "C57BL6J-711682.17.10.01\n",
      "C57BL6J-711682.17.10.02\n",
      "C57BL6J-742739.13.10.01\n",
      "C57BL6J-742739.13.10.02\n",
      "C57BL6J-742739.13.10.03\n",
      "C57BL6J-711684.14.10.01\n",
      "C57BL6J-711685.13.10.01.01\n",
      "C57BL6J-711685.13.10.01.02\n",
      "C57BL6J-711685.13.10.01.03\n",
      "C57BL6J-711686.12.10.01.02\n",
      "C57BL6J-711686.12.10.01.03\n",
      "C57BL6J-713764.06.02.01\n",
      "C57BL6J-713764.06.02.02\n",
      "Pvalb-IRES-Cre;Ai14-737222.13.10A.01\n",
      "Pvalb-IRES-Cre;Ai14-737222.13.10A.02\n",
      "Pvalb-IRES-Cre;Ai14-737222.13.10A.03\n",
      "Pvalb-IRES-Cre;Ai14-737222.13.10A.04\n",
      "Pvalb-IRES-Cre;Ai14-737222.13.10A.05\n",
      "Pvalb-IRES-Cre;Ai14-737222.13.10A.06\n",
      "C57BL6J-718783.12.10.02\n",
      "C57BL6J-719329.17.10.01\n",
      "C57BL6J-719329.17.10.02\n",
      "C57BL6J-719329.17.10.03\n",
      "C57BL6J-719329.17.10.04\n",
      "C57BL6J-718784.12.10.01\n",
      "C57BL6J-718784.12.10.02\n",
      "C57BL6J-719328.11.10.01\n",
      "C57BL6J-719328.11.10.02\n",
      "C57BL6J-719328.11.10.03\n",
      "C57BL6J-719329.13.10.01\n",
      "C57BL6J-719329.13.10.02\n",
      "C57BL6J-719329.14.10.01\n",
      "C57BL6J-719329.14.10.02\n",
      "C57BL6J-719329.14.10.03\n",
      "C57BL6J-719331.09.10.01\n",
      "C57BL6J-719331.09.10.02\n",
      "C57BL6J-719331.09.10.03\n",
      "C57BL6J-722300.07.04.01\n",
      "C57BL6J-722300.07.04.02\n",
      "C57BL6J-722300.07.04.03\n",
      "C57BL6J-722300.07.04.04\n",
      "C57BL6J-722427.07.06.01\n",
      "C57BL6J-719328.15.10.01\n",
      "C57BL6J-719330.13.10.01\n",
      "C57BL6J-719332.08.10.01\n",
      "C57BL6J-722300.06.04.01\n",
      "C57BL6J-722300.06.04.02\n",
      "C57BL6J-722300.06.04.03\n",
      "C57BL6J-722305.15.10.01\n",
      "C57BL6J-722305.15.10.02\n",
      "C57BL6J-722305.15.10.03\n",
      "C57BL6J-722427.08.06.01\n",
      "C57BL6J-724013.04.06.01\n",
      "C57BL6J-722302.06.03.01\n",
      "C57BL6J-722302.08.03.01\n",
      "C57BL6J-722302.06.04.01\n",
      "C57BL6J-722302.06.04.02\n",
      "C57BL6J-722302.06.04.03\n",
      "C57BL6J-722306.06.04.01\n",
      "C57BL6J-722306.06.04.02\n",
      "C57BL6J-722306.06.04.03\n",
      "C57BL6J-722427.06.06.01\n",
      "C57BL6J-722427.06.06.02\n",
      "C57BL6J-722306.07.04.01\n",
      "C57BL6J-722306.07.04.02\n",
      "Dbh-Cre-KI;Ai65-725226.09.06.01\n",
      "Sst-IRES-Cre;Ai14-726737.15.04.01\n",
      "Sst-IRES-Cre;Ai14-726737.15.04.02\n",
      "Sst-IRES-Cre;Ai14-726737.15.04.03\n",
      "Sst-IRES-Cre;Ai14-726737.15.04.04\n",
      "C57BL6J-722300.11.04.01\n",
      "C57BL6J-722300.11.04.02\n",
      "C57BL6J-722300.11.04.03\n",
      "C57BL6J-724014.12.04.01\n",
      "C57BL6J-724014.12.04.02\n",
      "C57BL6J-724014.12.04.03\n",
      "Sst-IRES-Cre;Ai14-701491.07.04.01\n",
      "Sst-IRES-Cre;Ai14-701491.07.04.02\n",
      "C57BL6J-724014.13.03.01\n",
      "C57BL6J-724014.13.03.02\n",
      "C57BL6J-724014.13.03.03\n",
      "Gad2-IRES-Cre;Ai14-715655.11.03.01\n",
      "Gad2-IRES-Cre;Ai14-715655.11.03.02\n",
      "Gad2-IRES-Cre;Ai14-715655.11.03.03\n",
      "Dbh-Cre-KI;Ai65-725229.12.06.01\n",
      "Dbh-Cre-KI;Ai65-725229.12.06.02\n",
      "Dbh-Cre-KI;Ai65-725229.12.06.03\n",
      "Dbh-Cre-KI;Ai65-725229.12.06.04\n",
      "Pvalb-IRES-Cre;Ai14-719826.12.03.01\n",
      "Pvalb-IRES-Cre;Ai14-719826.12.03.02\n",
      "Pvalb-IRES-Cre;Ai14-719826.12.03.03\n",
      "Pvalb-IRES-Cre;Ai14-629895.06.03.01\n",
      "Pvalb-IRES-Cre;Ai14-629895.06.03.02\n",
      "Pvalb-IRES-Cre;Ai14-629895.06.03.03\n",
      "Sst-IRES-Cre;Ai14-708514.13.10.01\n",
      "Sst-IRES-Cre;Ai14-708514.13.10.02\n",
      "Sst-IRES-Cre;Ai14-708514.13.10.03\n",
      "Rbp4-Cre_KL100;Ai14-705487.15.10.01\n",
      "Rbp4-Cre_KL100;Ai14-705487.15.10.02\n",
      "C57BL6J-722300.08.03.02\n",
      "C57BL6J-722300.08.03.01\n",
      "C57BL6J-722426.08.06.01\n",
      "C57BL6J-722426.08.06.02\n",
      "C57BL6J-722426.08.06.03\n",
      "Dbh-Cre_KH212;RCL-H2B-GFP-724914.10.06.01\n",
      "Dbh-Cre_KH212;RCL-H2B-GFP-724914.10.06.02\n",
      "Sst-IRES-Cre;Ai14-708515.15.10.01\n",
      "Sst-IRES-Cre;Ai14-708515.15.10.02\n",
      "Sst-IRES-Cre;Ai14-691515.13.10.01\n",
      "Sst-IRES-Cre;Ai14-708514.15.10.01\n",
      "Sst-IRES-Cre;Ai14-708514.15.10.02\n",
      "Gad2-IRES-Cre;Ai14-590303.12.09.01\n",
      "Gad2-IRES-Cre;Ai14-590303.12.09.02\n",
      "Sst-IRES-Cre;Ai14-708514.12.10.01\n",
      "C57BL6J-737567.15.03.01\n",
      "C57BL6J-737567.15.03.02\n",
      "Pvalb-IRES-Cre;Ai14-718962.04.01.01\n",
      "Pvalb-IRES-Cre;Ai14-718963.10.03.01\n",
      "Pvalb-IRES-Cre;Ai14-718963.10.03.02\n",
      "Pvalb-IRES-Cre;Ai14-718963.10.03.03\n",
      "Pvalb-IRES-Cre;Ai14-718963.10.03.04\n",
      "Gad2-IRES-Cre;Ai14-715655.11.04.01\n",
      "Gad2-IRES-Cre;Ai14-715655.11.04.02\n",
      "C57BL6J-742739.14.10.01\n",
      "C57BL6J-742739.14.10.02\n",
      "Slc17a8-IRES2-Cre-neo;Ai14-726224.12.09.01\n",
      "Slc17a8-IRES2-Cre-neo;Ai14-726224.12.09.02\n",
      "Sst-IRES-Cre;Ai14-724692.10.04.02\n",
      "Sst-IRES-Cre;Ai14-724692.10.04.01\n",
      "Sst-IRES-Cre;Ai14-726740.13.04.01\n",
      "Sst-IRES-Cre;Ai14-726740.13.04.02\n",
      "Sst-IRES-Cre;Ai14-726740.13.04.03\n",
      "Pvalb-IRES-Cre;Ai14-673120.05.02.01\n",
      "\t\tno manual swc to register\n",
      "Pvalb-IRES-Cre;Ai14-673120.05.02.02\n",
      "\t\tno manual swc to register\n",
      "\t\tno pp14 autotrace swc to register\n",
      "\t\tno raw autotrace swc to register\n",
      "Pvalb-IRES-Cre;Ai14-673120.05.02.03\n",
      "\t\tno manual swc to register\n",
      "\t\tno pp14 autotrace swc to register\n",
      "\t\tno raw autotrace swc to register\n",
      "C57BL6J-588650.10.09.01\n",
      "C57BL6J-588650.10.09.02\n",
      "C57BL6J-588650.10.09.03\n",
      "C57BL6J-737568.13.10B.01\n",
      "C57BL6J-737568.13.10B.02\n",
      "C57BL6J-737568.13.10B.03\n",
      "C57BL6J-722426.10.06.01\n",
      "C57BL6J-722426.10.06.02\n",
      "C57BL6J-722426.10.06.03\n",
      "C57BL6J-733580.13.10.01\n",
      "C57BL6J-733580.13.10.02\n",
      "C57BL6J-733580.13.10.03\n",
      "C57BL6J-737567.16.03.01\n",
      "C57BL6J-737567.16.03.02\n",
      "C57BL6J-737567.16.03.03\n",
      "C57BL6J-734171.15.04.01\n",
      "C57BL6J-734171.15.04.02\n",
      "C57BL6J-734171.15.04.03\n",
      "C57BL6J-711684.12.10.01\n",
      "C57BL6J-711684.12.10.02\n",
      "C57BL6J-711684.12.10.03\n",
      "C57BL6J-718784.13.10.01\n",
      "C57BL6J-718784.13.10.02\n",
      "C57BL6J-732444.08.04.01\n",
      "C57BL6J-732444.07.04.01\n",
      "C57BL6J-732444.07.04.02\n",
      "C57BL6J-737567.16.04.01\n",
      "C57BL6J-737567.16.04.02\n",
      "C57BL6J-732445.07.03.01\n",
      "C57BL6J-732445.07.03.02\n",
      "C57BL6J-732448.06.04.02\n",
      "C57BL6J-732448.06.04.01\n",
      "C57BL6J-733581.11.10.01\n",
      "C57BL6J-733581.11.10.02\n",
      "C57BL6J-733581.11.10.03\n",
      "C57BL6J-736250.14.10B.01\n",
      "C57BL6J-736250.14.10B.02\n",
      "C57BL6J-736250.14.10B.03\n",
      "C57BL6J-736250.14.10B.04\n",
      "C57BL6J-734966.13.03.01\n",
      "C57BL6J-734966.13.03.02\n",
      "C57BL6J-734966.13.03.03\n",
      "C57BL6J-734966.13.03.04\n",
      "C57BL6J-734966.13.03.05\n",
      "C57BL6J-737566.09.10B.01\n",
      "C57BL6J-737566.09.10B.02\n",
      "C57BL6J-737566.09.10B.03\n",
      "C57BL6J-737566.09.10A.02\n",
      "C57BL6J-737566.09.10A.03\n",
      "C57BL6J-737566.10.10A.01\n",
      "C57BL6J-737566.10.10A.02\n",
      "C57BL6J-737566.10.10A.03\n",
      "C57BL6J-742739.12.10.01\n",
      "C57BL6J-742739.12.10.02\n",
      "C57BL6J-742739.12.10.03\n",
      "C57BL6J-738796.08.03.05\n",
      "C57BL6J-738796.08.03.06\n",
      "Sst-IRES-Cre;Ai14-590255.11.09.01\n",
      "Sst-IRES-Cre;Ai14-590255.11.09.02\n",
      "Sst-IRES-Cre;Ai14-590255.11.09.03\n",
      "Sst-IRES-Cre;Ai14-590255.11.09.04\n",
      "C57BL6J-742739.15.10.01\n",
      "C57BL6J-742739.15.10.02\n",
      "C57BL6J-742739.15.10.03\n",
      "Gad2-IRES-Cre;Ai14-590304.12.09.01\n",
      "C57BL6J-746516.17.10B.01\n",
      "C57BL6J-746516.17.10B.02\n",
      "C57BL6J-746516.17.10B.03\n",
      "Sst-IRES-Cre;Ai14-591332.11.09.01\n",
      "Sst-IRES-Cre;Ai14-591332.11.09.03\n",
      "Sst-IRES-Cre;Ai14-591332.11.09.04\n",
      "C57BL6J-588651.09.09.01\n",
      "Vip-IRES-Cre;Ai14-586366.07.04.01\n",
      "Sst-IRES-Cre;Ai14-588280.11.09.01\n",
      "Sst-IRES-Cre;Ai14-588280.11.09.02\n",
      "Sst-IRES-Cre;Ai14-588280.11.09.03\n",
      "Vip-IRES-Cre;Ai14-588700.01.09.01\n",
      "Sst-IRES-Cre;Ai14-586760.09.09.01\n",
      "Sst-IRES-Cre;Ai14-586760.09.09.02\n",
      "Vip-IRES-Cre;Ai14-586170.04.10.01\n",
      "Vip-IRES-Cre;Ai14-586170.04.10.02\n",
      "Chat-IRES-Cre-neo;Ai14-586529.07.03.01\n",
      "Chat-IRES-Cre-neo;Ai14-586529.07.03.02\n",
      "Rbp4-Cre_KL100;Ai14-601911.06.04.01\n",
      "\t\tno manual swc to register\n",
      "\t\tno pp14 autotrace swc to register\n",
      "\t\tno raw autotrace swc to register\n",
      "Rbp4-Cre_KL100;Ai14-601911.06.04.02\n",
      "\t\tno manual swc to register\n",
      "\t\tno pp14 autotrace swc to register\n",
      "\t\tno raw autotrace swc to register\n",
      "Rbp4-Cre_KL100;Ai14-601911.06.04.03\n",
      "\t\tno manual swc to register\n",
      "Rbp4-Cre_KL100;Ai14-601911.06.04.04\n",
      "\t\tno manual swc to register\n",
      "\t\tno pp14 autotrace swc to register\n",
      "\t\tno raw autotrace swc to register\n",
      "Chat-IRES-Cre-neo;Ai14-586528.05.03.01\n",
      "C57BL6J-618016.14.09.01\n",
      "\t\tno manual swc to register\n",
      "\t\tno pp14 autotrace swc to register\n",
      "\t\tno raw autotrace swc to register\n",
      "C57BL6J-618016.14.09.02\n",
      "Sst-IRES-Cre;Ai14-581874.14.10.01\n",
      "Vip-IRES-Cre;Ai14-585633.06.03.01\n",
      "Vip-IRES-Cre;Ai14-585633.06.03.02\n",
      "C57BL6J-691316.05.02.01\n",
      "C57BL6J-691316.05.02.02\n",
      "C57BL6J-742740.13.10.02\n",
      "C57BL6J-742740.13.10.01\n",
      "C57BL6J-742760.01.02.01\n",
      "C57BL6J-742760.01.02.02\n",
      "C57BL6J-742760.01.02.03\n",
      "C57BL6J-618128.06.03.01\n",
      "\t\tno manual swc to register\n",
      "\t\tno pp14 autotrace swc to register\n",
      "\t\tno raw autotrace swc to register\n",
      "C57BL6J-618128.06.03.02\n",
      "C57BL6J-618128.06.03.03\n",
      "\t\tno manual swc to register\n",
      "\t\tno pp14 autotrace swc to register\n",
      "\t\tno raw autotrace swc to register\n",
      "C57BL6J-618128.06.03.04\n",
      "\t\tno manual swc to register\n",
      "\t\tno pp14 autotrace swc to register\n",
      "\t\tno raw autotrace swc to register\n",
      "Chat-IRES-Cre-neo;Ai14-582720.07.03.01\n",
      "Chat-IRES-Cre-neo;Ai14-582720.07.03.02\n",
      "C57BL6J-739956.15.10B.01\n",
      "C57BL6J-739956.15.10B.02\n",
      "C57BL6J-739956.15.10B.03\n",
      "C57BL6J-739956.15.10B.04\n",
      "C57BL6J-742751.14.03.01\n",
      "C57BL6J-742751.14.03.02\n",
      "C57BL6J-742751.14.03.03\n",
      "C57BL6J-742751.14.03.04\n",
      "C57BL6J-742780.16.03.01\n",
      "C57BL6J-738797.16.04.01\n",
      "C57BL6J-738797.16.04.02\n",
      "C57BL6J-738848.12.03.01\n",
      "C57BL6J-738848.12.03.02\n",
      "C57BL6J-738848.12.03.03\n",
      "C57BL6J-746517.09.12.01\n",
      "C57BL6J-746517.09.12.02\n",
      "C57BL6J-746517.09.12.03\n",
      "C57BL6J-739955.13.10B.02\n",
      "C57BL6J-739955.13.10B.03\n",
      "C57BL6J-742780.14.03.01\n",
      "C57BL6J-742780.14.03.02\n",
      "C57BL6J-742780.14.03.03\n",
      "C57BL6J-742780.14.03.04\n",
      "C57BL6J-743705.13.03.01\n",
      "C57BL6J-581848.06.04.01\n",
      "C57BL6J-739957.12.03.01\n",
      "C57BL6J-739957.12.03.02\n",
      "C57BL6J-739957.12.03.03\n",
      "C57BL6J-739957.12.03.04\n",
      "C57BL6J-739957.12.03.05\n",
      "C57BL6J-739958.14.04.01\n",
      "C57BL6J-739958.14.04.02\n",
      "C57BL6J-739958.14.04.03\n",
      "C57BL6J-739958.17.04.01\n",
      "C57BL6J-739958.17.04.02\n",
      "C57BL6J-742751.14.04.01\n",
      "C57BL6J-742751.14.04.02\n",
      "C57BL6J-742751.14.04.03\n",
      "C57BL6J-742751.14.04.04\n",
      "C57BL6J-742751.16.04.01\n",
      "C57BL6J-742750.15.04.01\n",
      "C57BL6J-742750.15.04.02\n",
      "C57BL6J-746519.09.11.01\n",
      "C57BL6J-746519.09.11.02\n",
      "C57BL6J-746519.09.11.03\n",
      "Gad2-IRES-Cre;Ai14-580682.08.10.02.01\n",
      "Gad2-IRES-Cre;Ai14-580682.08.10.02.02\n",
      "Gad2-IRES-Cre;Ai14-580679.16.10.01\n",
      "Gad2-IRES-Cre;Ai14-580679.16.10.02\n",
      "C57BL6J-581851.07.03.01\n",
      "C57BL6J-581851.08.03.01\n",
      "\t\tno manual swc to register\n",
      "\t\tno pp14 autotrace swc to register\n",
      "\t\tno raw autotrace swc to register\n",
      "C57BL6J-581851.08.03.02\n"
     ]
    },
    {
     "name": "stderr",
     "output_type": "stream",
     "text": [
      "c:\\Users\\sarah.wallingbell\\AppData\\Local\\anaconda3\\envs\\morph_utils_v3\\lib\\site-packages\\scipy\\interpolate\\_interpolate.py:698: RuntimeWarning: invalid value encountered in divide\n",
      "  slope = (y_hi - y_lo) / (x_hi - x_lo)[:, None]\n",
      "c:\\Users\\sarah.wallingbell\\AppData\\Local\\anaconda3\\envs\\morph_utils_v3\\lib\\site-packages\\scipy\\interpolate\\_interpolate.py:698: RuntimeWarning: invalid value encountered in divide\n",
      "  slope = (y_hi - y_lo) / (x_hi - x_lo)[:, None]\n",
      "c:\\Users\\sarah.wallingbell\\AppData\\Local\\anaconda3\\envs\\morph_utils_v3\\lib\\site-packages\\scipy\\interpolate\\_interpolate.py:698: RuntimeWarning: invalid value encountered in divide\n",
      "  slope = (y_hi - y_lo) / (x_hi - x_lo)[:, None]\n",
      "c:\\Users\\sarah.wallingbell\\AppData\\Local\\anaconda3\\envs\\morph_utils_v3\\lib\\site-packages\\scipy\\interpolate\\_interpolate.py:698: RuntimeWarning: invalid value encountered in divide\n",
      "  slope = (y_hi - y_lo) / (x_hi - x_lo)[:, None]\n",
      "c:\\Users\\sarah.wallingbell\\AppData\\Local\\anaconda3\\envs\\morph_utils_v3\\lib\\site-packages\\scipy\\interpolate\\_interpolate.py:698: RuntimeWarning: invalid value encountered in divide\n",
      "  slope = (y_hi - y_lo) / (x_hi - x_lo)[:, None]\n"
     ]
    },
    {
     "name": "stdout",
     "output_type": "stream",
     "text": [
      "C57BL6J-581851.08.03.03\n",
      "\t\tno manual swc to register\n",
      "\t\tno pp14 autotrace swc to register\n",
      "\t\tno raw autotrace swc to register\n",
      "Rbp4-Cre_KL100;Ai14-613769.06.04.01\n",
      "\t\tno manual swc to register\n",
      "\t\tno pp14 autotrace swc to register\n",
      "\t\tno raw autotrace swc to register\n",
      "Rbp4-Cre_KL100;Ai14-613769.06.04.02\n",
      "Rbp4-Cre_KL100;Ai14-613769.06.04.03\n",
      "Rbp4-Cre_KL100;Ai14-613769.06.04.04\n",
      "\t\tno manual swc to register\n",
      "\t\tno pp14 autotrace swc to register\n",
      "\t\tno raw autotrace swc to register\n",
      "Rbp4-Cre_KL100;Ai14-613769.06.04.05\n",
      "\t\tno manual swc to register\n",
      "\t\tno pp14 autotrace swc to register\n",
      "\t\tno raw autotrace swc to register\n",
      "C57BL6J-743705.15.03.01\n",
      "C57BL6J-743705.15.03.02\n",
      "C57BL6J-743705.15.03.03\n",
      "C57BL6J-743705.15.03.04\n",
      "C57BL6J-743706.14.03.01\n",
      "C57BL6J-743706.14.03.02\n",
      "C57BL6J-743706.14.03.03\n",
      "Dbh-Cre_KH212;RCL-H2B-GFP-734083.16.03.01\n",
      "Dbh-Cre_KH212;RCL-H2B-GFP-734083.16.03.02\n",
      "Dbh-Cre_KH212;RCL-H2B-GFP-734083.16.03.03\n",
      "Dbh-Cre_KH212;RCL-H2B-GFP-734083.16.04.01\n",
      "C57BL6J-747776.14.04.01\n",
      "C57BL6J-747776.14.04.02\n",
      "C57BL6J-743706.14.04.01\n",
      "C57BL6J-743706.14.04.02\n",
      "C57BL6J-743706.14.04.03\n",
      "C57BL6J-743705.15.03.01\n",
      "C57BL6J-747776.15.03.01\n",
      "C57BL6J-747776.15.03.02\n",
      "C57BL6J-747776.15.03.03\n",
      "C57BL6J-747777.13.03.01\n",
      "C57BL6J-747777.13.03.02\n",
      "C57BL6J-747777.13.03.03\n",
      "C57BL6J-747777.13.03.04\n",
      "C57BL6J-747777.13.03.05\n",
      "C57BL6J-743785.12.10A.01\n",
      "C57BL6J-743785.12.10A.02\n",
      "C57BL6J-743785.12.10A.03\n",
      "C57BL6J-743785.12.10A.04\n",
      "Sst-IRES-Cre;Ai14-657809.06.03.01\n",
      "\t\tno pp14 autotrace swc to register\n",
      "\t\tno raw autotrace swc to register\n",
      "C57BL6J-743785.14.010A.01\n",
      "C57BL6J-743785.14.010A.02\n",
      "C57BL6J-743786.15.10A.01\n",
      "C57BL6J-743786.15.10A.02\n",
      "C57BL6J-713765.06.01.01\n",
      "\t\tno manual swc to register\n",
      "\t\tno pp14 autotrace swc to register\n",
      "\t\tno raw autotrace swc to register\n",
      "C57BL6J-713765.06.01.02\n",
      "\t\tno manual swc to register\n",
      "\t\tno pp14 autotrace swc to register\n",
      "\t\tno raw autotrace swc to register\n",
      "C57BL6J-713765.06.01.03\n",
      "C57BL6J-747777.13.04.01\n",
      "C57BL6J-747777.13.04.02\n",
      "C57BL6J-747777.13.04.03\n",
      "C57BL6J-747777.13.04.04\n",
      "C57BL6J-747777.13.04.05\n",
      "C57BL6J-747777.15.04.01\n",
      "C57BL6J-747777.15.04.02\n",
      "C57BL6J-747777.15.04.03\n",
      "C57BL6J-746518.13.03.01\n",
      "C57BL6J-746518.13.03.02\n",
      "C57BL6J-746518.13.03.03\n",
      "C57BL6J-746518.13.03.04\n",
      "C57BL6J-745289.13.03.03\n",
      "C57BL6J-745289.13.03.02\n",
      "C57BL6J-745289.13.03.01\n",
      "C57BL6J-745289.13.03.04\n",
      "C57BL6J-745290.15.03.01\n",
      "C57BL6J-746516.14.10A.01\n",
      "C57BL6J-746516.14.10A.02\n",
      "C57BL6J-747778.09.11.01\n",
      "C57BL6J-747778.09.11.02\n",
      "C57BL6J-747778.09.11.03\n",
      "C57BL6J-747778.09.11.04\n",
      "C57BL6J-747778.09.11.05\n",
      "C57BL6J-747776.13.03.01\n",
      "C57BL6J-747776.13.03.02\n",
      "C57BL6J-753120.15.03.01\n",
      "C57BL6J-753120.15.03.02\n",
      "Dbh-Cre_KH212;RCL-H2B-GFP-734079.07.06.01\n",
      "Dbh-Cre_KH212;RCL-H2B-GFP-734079.07.06.02\n",
      "Dbh-Cre_KH212;RCL-H2B-GFP-734079.07.06.03\n",
      "Dbh-Cre_KH212;RCL-H2B-GFP-734078.08.06.01\n",
      "Dbh-Cre_KH212;RCL-H2B-GFP-734078.08.06.02\n",
      "Dbh-Cre_KH212;RCL-H2B-GFP-734078.08.06.03\n",
      "Dbh-Cre_KH212;RCL-H2B-GFP-734080.10.06.01\n",
      "Dbh-Cre_KH212;RCL-H2B-GFP-734080.10.06.02\n",
      "Dbh-Cre_KH212;RCL-H2B-GFP-734080.10.06.03\n",
      "Dbh-Cre_KH212;RCL-H2B-GFP-734083.14.04.01\n",
      "Dbh-Cre_KH212;RCL-H2B-GFP-734083.14.04.02\n",
      "Dbh-Cre_KH212;RCL-H2B-GFP-734083.14.04.03\n",
      "Dbh-Cre_KH212;RCL-H2B-GFP-734083.15.03.01\n",
      "Dbh-Cre_KH212;RCL-H2B-GFP-734083.15.03.02\n",
      "Dbh-Cre_KH212;RCL-H2B-GFP-734083.15.03.03\n",
      "Dbh-Cre_KH212;RCL-H2B-GFP-734083.15.03.04\n",
      "Sst-IRES-Cre;Ai14-726740.12.04.01\n",
      "Sst-IRES-Cre;Ai14-726740.12.04.02\n",
      "Sst-IRES-Cre;Ai14-726740.12.04.03\n",
      "Sst-IRES-Cre;Ai14-726740.12.04.04\n",
      "Dbh-Cre_KH212;RCL-H2B-GFP-740850.12.06.01\n",
      "Dbh-Cre_KH212;RCL-H2B-GFP-740850.12.06.02\n",
      "Sst-IRES-Cre;Ai14-744729.11.11.01\n",
      "Dbh-Cre-KI;Ai65-731903.10.06.01\n",
      "Dbh-Cre-KI;Ai65-731903.10.06.02\n",
      "Dbh-Cre-KI;Ai65-731903.10.06.03\n",
      "C57BL6J-719331.07.10.01\n",
      "\t\tno manual swc to register\n",
      "\t\tno pp14 autotrace swc to register\n",
      "\t\tno raw autotrace swc to register\n",
      "C57BL6J-719331.07.10.02\n",
      "\t\tno manual swc to register\n",
      "C57BL6J-719331.07.10.03\n",
      "Sst-IRES-Cre;Ai14-726740.13.03.02\n",
      "Sst-IRES-Cre;Ai14-726740.13.03.03\n",
      "Sst-IRES-Cre;Ai14-726740.13.03.01\n",
      "C57BL6J-742740.14.10.01\n",
      "C57BL6J-742740.14.10.02\n",
      "Sst-IRES-Cre;Ai14-738338.14.04.01\n",
      "Sst-IRES-Cre;Ai14-738338.14.04.02\n",
      "Sst-IRES-Cre;Ai14-738338.14.04.03\n",
      "Sst-IRES-Cre;Ai14-738338.14.04.04\n",
      "Sst-IRES-Cre;Ai14-738338.15.03.01\n",
      "Sst-IRES-Cre;Ai14-738338.15.03.02\n",
      "Sst-IRES-Cre;Ai14-738338.15.03.03\n",
      "Sst-IRES-Cre;Ai14-738338.15.04.01\n",
      "Sst-IRES-Cre;Ai14-738338.15.04.02\n",
      "Sst-IRES-Cre;Ai14-738338.15.04.03\n",
      "Sst-IRES-Cre;Ai14-738339.15.03.01\n",
      "Sst-IRES-Cre;Ai14-738339.15.03.02\n",
      "Sst-IRES-Cre;Ai14-738339.15.03.03\n",
      "Rbp4-Cre_KL100;Ai14-613769.07.03.01\n",
      "\t\tno manual swc to register\n",
      "\t\tno pp14 autotrace swc to register\n",
      "\t\tno raw autotrace swc to register\n",
      "Rbp4-Cre_KL100;Ai14-613769.07.03.02\n",
      "\t\tno manual swc to register\n",
      "Rbp4-Cre_KL100;Ai14-613769.07.03.03\n",
      "\t\tno manual swc to register\n",
      "\t\tno pp14 autotrace swc to register\n",
      "\t\tno raw autotrace swc to register\n",
      "Rbp4-Cre_KL100;Ai14-613769.07.03.04\n",
      "\t\tno manual swc to register\n",
      "\t\tno pp14 autotrace swc to register\n",
      "\t\tno raw autotrace swc to register\n",
      "Sst-IRES-Cre;Ai14-738342.15.03.01\n",
      "Sst-IRES-Cre;Ai14-738342.15.03.02\n",
      "Sst-IRES-Cre;Ai14-738342.15.03.03\n",
      "Sst-IRES-Cre;Ai14-738340.16.03.01\n",
      "Sst-IRES-Cre;Ai14-738340.16.03.02\n",
      "Sst-IRES-Cre;Ai14-738340.16.03.03\n",
      "Sst-IRES-Cre;Ai14-738340.15.03.01\n",
      "Sst-IRES-Cre;Ai14-738340.15.03.02\n",
      "Sst-IRES-Cre;Ai14-738340.15.03.03\n",
      "Sst-IRES-Cre;Ai14-738340.15.03.04\n",
      "Sst-IRES-Cre;Ai14-738341.13.03.01\n",
      "Sst-IRES-Cre;Ai14-738340.16.04.01\n",
      "Sst-IRES-Cre;Ai14-738340.16.04.02\n",
      "Sst-IRES-Cre;Ai14-738341.15.04.01\n",
      "Sst-IRES-Cre;Ai14-738342.14.04.01\n",
      "Sst-IRES-Cre;Ai14-738342.14.04.02\n",
      "Sst-IRES-Cre;Ai14-738341.16.03.01\n",
      "Sst-IRES-Cre;Ai14-738341.16.03.02\n",
      "Sst-IRES-Cre;Ai14-744731.13.03.01\n",
      "Sst-IRES-Cre;Ai14-744731.13.03.02\n",
      "Sst-IRES-Cre;Ai14-744731.13.03.03\n",
      "Sst-IRES-Cre;Ai14-744731.13.03.04\n",
      "Sst-IRES-Cre;Ai14-744731.14.03.01\n",
      "Sst-IRES-Cre;Ai14-738342.15.04.01\n",
      "Sst-IRES-Cre;Ai14-738342.15.04.02\n",
      "Dbh-Cre-KI;Ai65-744122.11.06.02\n",
      "Dbh-Cre-KI;Ai65-744122.11.06.03\n",
      "Dbh-Cre-KI;Ai65-744122.11.06.01\n",
      "Slc17a8-iCre;Ai14-576042.07.03.01\n",
      "Slc17a8-iCre;Ai14-576042.07.03.02\n",
      "Slc17a8-iCre;Ai14-576042.07.03.03\n",
      "Slc17a8-iCre;Ai14-576042.07.03.04\n",
      "C57BL6J-747779.10.11.01\n",
      "C57BL6J-747779.10.11.02\n",
      "C57BL6J-747779.10.11.03\n",
      "Slc17a8-IRES2-Cre-neo;Ai14-744794.03.09.01\n",
      "Slc17a8-IRES2-Cre-neo;Ai14-744794.03.09.02\n",
      "C57BL6J-751410.10.11.01\n",
      "C57BL6J-751410.10.11.02\n",
      "Rbp4-Cre_KL100;Ai14-676289.03.03.01\n",
      "Rbp4-Cre_KL100;Ai14-676289.03.03.02\n",
      "Rbp4-Cre_KL100;Ai14-676289.03.03.03\n",
      "C57BL6J-751411.11.12.01\n",
      "C57BL6J-751411.11.12.02\n",
      "C57BL6J-751411.11.12.03\n",
      "C57BL6J-751411.11.12.04\n",
      "Slc17a8-IRES2-Cre-neo;Ai14-742124.01.09.01\n",
      "Slc17a8-IRES2-Cre-neo;Ai14-742124.01.09.02\n",
      "Slc17a8-IRES2-Cre-neo;Ai14-742124.01.09.03\n",
      "Slc17a8-IRES2-Cre-neo;Ai14-742124.01.09.04\n",
      "Rbp4-Cre_KL100;Ai14-669335.07.02.01\n",
      "Slc17a8-iCre;Slc32a1-IRES2-FlpO;Ai65-560685.08.06.01\n"
     ]
    },
    {
     "name": "stderr",
     "output_type": "stream",
     "text": [
      "c:\\Users\\sarah.wallingbell\\AppData\\Local\\anaconda3\\envs\\morph_utils_v3\\lib\\site-packages\\scipy\\interpolate\\_interpolate.py:698: RuntimeWarning: invalid value encountered in divide\n",
      "  slope = (y_hi - y_lo) / (x_hi - x_lo)[:, None]\n",
      "c:\\Users\\sarah.wallingbell\\AppData\\Local\\anaconda3\\envs\\morph_utils_v3\\lib\\site-packages\\scipy\\interpolate\\_interpolate.py:698: RuntimeWarning: invalid value encountered in divide\n",
      "  slope = (y_hi - y_lo) / (x_hi - x_lo)[:, None]\n",
      "c:\\Users\\sarah.wallingbell\\AppData\\Local\\anaconda3\\envs\\morph_utils_v3\\lib\\site-packages\\scipy\\interpolate\\_interpolate.py:698: RuntimeWarning: invalid value encountered in divide\n",
      "  slope = (y_hi - y_lo) / (x_hi - x_lo)[:, None]\n",
      "c:\\Users\\sarah.wallingbell\\AppData\\Local\\anaconda3\\envs\\morph_utils_v3\\lib\\site-packages\\scipy\\interpolate\\_interpolate.py:698: RuntimeWarning: invalid value encountered in divide\n",
      "  slope = (y_hi - y_lo) / (x_hi - x_lo)[:, None]\n",
      "c:\\Users\\sarah.wallingbell\\AppData\\Local\\anaconda3\\envs\\morph_utils_v3\\lib\\site-packages\\scipy\\interpolate\\_interpolate.py:698: RuntimeWarning: invalid value encountered in divide\n",
      "  slope = (y_hi - y_lo) / (x_hi - x_lo)[:, None]\n"
     ]
    },
    {
     "name": "stdout",
     "output_type": "stream",
     "text": [
      "Dbh-Cre-KI;Ai65-762198.06.06.01\n",
      "Dbh-Cre-KI;Ai65-762198.06.06.02\n",
      "Dbh-Cre-KI;Ai65-762198.06.06.03\n",
      "Vip-IRES-Cre;Ai14-580199.07.02.01\n"
     ]
    },
    {
     "name": "stderr",
     "output_type": "stream",
     "text": [
      "c:\\Users\\sarah.wallingbell\\AppData\\Local\\anaconda3\\envs\\morph_utils_v3\\lib\\site-packages\\scipy\\interpolate\\_interpolate.py:698: RuntimeWarning: invalid value encountered in divide\n",
      "  slope = (y_hi - y_lo) / (x_hi - x_lo)[:, None]\n",
      "c:\\Users\\sarah.wallingbell\\AppData\\Local\\anaconda3\\envs\\morph_utils_v3\\lib\\site-packages\\scipy\\interpolate\\_interpolate.py:698: RuntimeWarning: invalid value encountered in divide\n",
      "  slope = (y_hi - y_lo) / (x_hi - x_lo)[:, None]\n",
      "c:\\Users\\sarah.wallingbell\\AppData\\Local\\anaconda3\\envs\\morph_utils_v3\\lib\\site-packages\\scipy\\interpolate\\_interpolate.py:698: RuntimeWarning: invalid value encountered in divide\n",
      "  slope = (y_hi - y_lo) / (x_hi - x_lo)[:, None]\n",
      "c:\\Users\\sarah.wallingbell\\AppData\\Local\\anaconda3\\envs\\morph_utils_v3\\lib\\site-packages\\scipy\\interpolate\\_interpolate.py:698: RuntimeWarning: invalid value encountered in divide\n",
      "  slope = (y_hi - y_lo) / (x_hi - x_lo)[:, None]\n",
      "c:\\Users\\sarah.wallingbell\\AppData\\Local\\anaconda3\\envs\\morph_utils_v3\\lib\\site-packages\\scipy\\interpolate\\_interpolate.py:698: RuntimeWarning: invalid value encountered in divide\n",
      "  slope = (y_hi - y_lo) / (x_hi - x_lo)[:, None]\n"
     ]
    },
    {
     "name": "stdout",
     "output_type": "stream",
     "text": [
      "Vip-IRES-Cre;Ai14-580199.07.02.02\n",
      "Dbh-Cre-KI;Ai65-744123.06.06.01\n",
      "Dbh-Cre-KI;Ai65-744123.06.06.02\n",
      "Dbh-Cre-KI;Ai65-744123.06.06.03\n",
      "Dbh-Cre-KI;Ai65-751031.09.06.01\n",
      "Dbh-Cre-KI;Ai65-751031.09.06.02\n",
      "Dbh-Cre-KI;Ai65-751031.09.06.03\n",
      "Dbh-Cre-KI;Ai65-751029.11.06.01\n",
      "Dbh-Cre-KI;Ai65-751029.11.06.02\n",
      "Dbh-Cre-KI;Ai65-751032.10.06.01\n",
      "Dbh-Cre-KI;Ai65-751032.10.06.02\n",
      "Dbh-Cre-KI;Ai65-751022.11.06.01\n",
      "Dbh-Cre-KI;Ai65-752561.11.06.01\n",
      "Dbh-Cre-KI;Ai65-752561.11.06.02\n",
      "Sst-IRES-Cre;Ai14-579951.06.03.01\n",
      "Sst-IRES-Cre;Ai14-579951.06.03.02\n",
      "Sst-IRES-Cre;Ai14-579951.06.03.03\n",
      "Sst-IRES-Cre;Ai14-579951.06.03.04\n",
      "Sst-IRES-Cre;Ai14-579951.06.03.05\n",
      "Gad2-IRES-Cre;Ai14-579338.08.04.01\n",
      "Gad2-IRES-Cre;Ai14-579338.08.04.02\n",
      "Gad2-IRES-Cre;Ai14-579338.08.04.03\n",
      "Vip-IRES-Cre;Ai14-579325.07.03.01\n",
      "Vip-IRES-Cre;Ai14-579325.07.03.02\n",
      "Vip-IRES-Cre;Ai14-579325.07.03.03\n",
      "Vip-IRES-Cre;Ai14-579325.07.03.04\n",
      "Vip-IRES-Cre;Ai14-579324.07.04.01\n",
      "\t\tno manual swc to register\n",
      "\t\tno pp14 autotrace swc to register\n",
      "\t\tno raw autotrace swc to register\n",
      "Vip-IRES-Cre;Ai14-579324.07.04.02\n"
     ]
    },
    {
     "name": "stderr",
     "output_type": "stream",
     "text": [
      "c:\\Users\\sarah.wallingbell\\AppData\\Local\\anaconda3\\envs\\morph_utils_v3\\lib\\site-packages\\scipy\\interpolate\\_interpolate.py:698: RuntimeWarning: invalid value encountered in divide\n",
      "  slope = (y_hi - y_lo) / (x_hi - x_lo)[:, None]\n",
      "c:\\Users\\sarah.wallingbell\\AppData\\Local\\anaconda3\\envs\\morph_utils_v3\\lib\\site-packages\\scipy\\interpolate\\_interpolate.py:698: RuntimeWarning: invalid value encountered in divide\n",
      "  slope = (y_hi - y_lo) / (x_hi - x_lo)[:, None]\n",
      "c:\\Users\\sarah.wallingbell\\AppData\\Local\\anaconda3\\envs\\morph_utils_v3\\lib\\site-packages\\scipy\\interpolate\\_interpolate.py:698: RuntimeWarning: invalid value encountered in divide\n",
      "  slope = (y_hi - y_lo) / (x_hi - x_lo)[:, None]\n",
      "c:\\Users\\sarah.wallingbell\\AppData\\Local\\anaconda3\\envs\\morph_utils_v3\\lib\\site-packages\\scipy\\interpolate\\_interpolate.py:698: RuntimeWarning: invalid value encountered in divide\n",
      "  slope = (y_hi - y_lo) / (x_hi - x_lo)[:, None]\n",
      "c:\\Users\\sarah.wallingbell\\AppData\\Local\\anaconda3\\envs\\morph_utils_v3\\lib\\site-packages\\scipy\\interpolate\\_interpolate.py:698: RuntimeWarning: invalid value encountered in divide\n",
      "  slope = (y_hi - y_lo) / (x_hi - x_lo)[:, None]\n"
     ]
    },
    {
     "name": "stdout",
     "output_type": "stream",
     "text": [
      "Vip-IRES-Cre;Ai14-579324.07.04.03\n",
      "\t\tno manual swc to register\n",
      "\t\tno pp14 autotrace swc to register\n",
      "\t\tno raw autotrace swc to register\n",
      "Vip-IRES-Cre;Ai14-579324.07.04.04\n",
      "\t\tno manual swc to register\n",
      "\t\tno pp14 autotrace swc to register\n",
      "\t\tno raw autotrace swc to register\n",
      "Pvalb-IRES-Cre;Ai14-759600.08.04.01\n",
      "Pvalb-IRES-Cre;Ai14-759600.08.04.02\n",
      "Pvalb-IRES-Cre;Ai14-759600.08.04.03\n",
      "C57BL6J-618128.07.04.01\n",
      "\t\tno manual swc to register\n",
      "\t\tno pp14 autotrace swc to register\n",
      "\t\tno raw autotrace swc to register\n",
      "C57BL6J-618128.07.04.02\n",
      "\t\tno manual swc to register\n",
      "C57BL6J-618128.07.04.03\n",
      "\t\tno manual swc to register\n",
      "\t\tno pp14 autotrace swc to register\n",
      "\t\tno raw autotrace swc to register\n",
      "C57BL6J-618128.07.04.04\n",
      "\t\tno manual swc to register\n",
      "\t\tno pp14 autotrace swc to register\n",
      "\t\tno raw autotrace swc to register\n",
      "Gad2-IRES-Cre;Ai14-574860.04.04.01\n",
      "Gad2-IRES-Cre;Ai14-574860.04.04.02\n",
      "Th-P2A-FlpO;Ai65-575281.03.03.01\n",
      "Th-P2A-FlpO;Ai65-575281.03.03.02\n",
      "Th-P2A-FlpO;Ai65-575281.03.03.03\n",
      "Th-P2A-FlpO;Ai65-575279.04.01.01\n",
      "Th-P2A-FlpO;Ai65-575279.04.01.02\n",
      "Th-P2A-FlpO;Ai65-575278.06.02.01\n",
      "Th-P2A-FlpO;Ai65-575278.06.02.02\n",
      "Th-P2A-FlpO;Ai65-575278.06.02.03\n",
      "Sst-IRES-Cre;Th-P2A-FlpO;Ai65-561491.09.09.01\n",
      "Sst-IRES-Cre;Th-P2A-FlpO;Ai65-561491.09.09.02\n",
      "Sst-IRES-Cre;Th-P2A-FlpO;Ai65-561491.09.09.03\n",
      "Htr3a-Cre_NO152;Ai14-572779.04.10.01\n",
      "\t\tno manual swc to register\n",
      "\t\tno pp14 autotrace swc to register\n",
      "\t\tno raw autotrace swc to register\n",
      "Htr3a-Cre_NO152;Ai14-572779.04.10.02\n",
      "Sst-IRES-Cre;Ai14-572057.06.10.01\n",
      "Sst-IRES-Cre;Ai14-572057.06.10.02\n",
      "Sst-IRES-Cre;Ai14-572057.06.10.03\n",
      "C57BL6J-742740.16.10.01\n",
      "C57BL6J-742740.16.10.02\n",
      "Slc17a6-IRES-Cre;Ai14-571416.11.09.01\n",
      "Slc17a6-IRES-Cre;Ai14-571416.11.09.02\n",
      "Ctgf-T2A-dgCre;Ai14-571204.07.10.02\n",
      "Ctgf-T2A-dgCre;Ai14-571204.07.10.01\n",
      "C57BL6J-769876.14.04.01\n",
      "C57BL6J-769876.14.04.02\n",
      "C57BL6J-769876.14.04.03\n",
      "Ctgf-T2A-dgCre;Ai14-568647.04.10.01\n",
      "Ctgf-T2A-dgCre;Ai14-568647.04.10.02\n",
      "Chat-IRES-Cre-neo;Ai14-567006.05.10.01\n",
      "Chat-IRES-Cre-neo;Ai14-567006.05.10.02\n",
      "Esr2-IRES2-Cre;Ai14-566833.05.10.01\n",
      "Chat-IRES-Cre-neo;Ai14-564233.06.09.01\n",
      "Chat-IRES-Cre-neo;Ai14-564233.06.09.02\n",
      "\t\tno manual swc to register\n",
      "\t\tno pp14 autotrace swc to register\n",
      "\t\tno raw autotrace swc to register\n",
      "Gad2-IRES-Cre;Ai14-563789.05.09.01\n",
      "Gad2-IRES-Cre;Ai14-563789.05.09.02\n",
      "Sst-IRES-Cre;Ai14-586757.10.09.01\n",
      "Sst-IRES-Cre;Ai14-586757.10.09.02\n",
      "Sst-IRES-Cre;Ai14-586757.10.09.03\n",
      "Sst-IRES-Cre;Ai14-586757.10.09.04\n",
      "Sst-IRES-Cre;Ai14-586757.10.09.05\n",
      "Pvalb-IRES-Cre;Ai14-759600.09.03.01\n",
      "Pvalb-IRES-Cre;Ai14-759600.09.03.02\n",
      "Pvalb-IRES-Cre;Ai14-759600.09.03.03\n",
      "Slc17a6-IRES-Cre;Ai14-563068.04.10.01\n",
      "Slc17a6-IRES-Cre;Ai14-563068.04.10.02\n",
      "Slc17a6-IRES-Cre;Ai14-563068.04.10.03\n",
      "Ctgf-T2A-dgCre;Ai14-553529.08.06.01\n",
      "\t\tno manual swc to register\n",
      "\t\tno pp14 autotrace swc to register\n",
      "\t\tno raw autotrace swc to register\n",
      "Ctgf-T2A-dgCre;Ai14-553529.08.06.02\n",
      "Rbp4-Cre_KL100;Ai14-613771.06.09.01\n",
      "Rbp4-Cre_KL100;Ai14-613771.06.09.02\n",
      "\t\tno manual swc to register\n",
      "\t\tno pp14 autotrace swc to register\n",
      "\t\tno raw autotrace swc to register\n",
      "Gad2-IRES-Cre;Ai14-590304.13.09.02\n",
      "Gad2-IRES-Cre;Ai14-590304.13.09.01\n",
      "C57BL6J-742760.03.02.01\n",
      "C57BL6J-742760.03.02.02\n",
      "C57BL6J-742760.03.02.03\n",
      "Sst-IRES-Cre;Ai14-586760.11.09.01\n",
      "Sst-IRES-Cre;Ai14-586760.11.09.02\n",
      "Pvalb-IRES-Cre;Ai14-586104.15.10.01\n",
      "Pvalb-IRES-Cre;Ai14-586104.15.10.02\n",
      "Pvalb-IRES-Cre;Ai14-586104.15.10.03\n",
      "Vip-IRES-Cre;Ai14-586169.15.10.01\n",
      "Vip-IRES-Cre;Ai14-586169.15.10.02\n",
      "Vip-IRES-Cre;Ai14-586169.14.10.01\n",
      "Vip-IRES-Cre;Ai14-586169.14.10.02\n",
      "Pvalb-IRES-Cre;Ai14-586106.14.10.01\n",
      "Pvalb-IRES-Cre;Ai14-586106.14.10.02\n",
      "Pvalb-IRES-Cre;Ai14-586106.14.10.03\n",
      "Pvalb-IRES-Cre;Ai14-586104.14.10.01\n",
      "Pvalb-IRES-Cre;Ai14-586104.14.10.02\n",
      "Pvalb-IRES-Cre;Ai14-586106.12.10.02\n",
      "Pvalb-IRES-Cre;Ai14-586106.12.10.03\n",
      "Pvalb-IRES-Cre;Ai14-586106.12.10.01\n",
      "C57BL6J-742760.05.02.01\n",
      "C57BL6J-742760.05.02.02\n",
      "Pvalb-IRES-Cre;Ai14-586106.15.10.01\n",
      "Pvalb-IRES-Cre;Ai14-586106.15.10.02\n",
      "Htr3a-Cre_NO152;Ai14-583778.16.10.02\n",
      "Htr3a-Cre_NO152;Ai14-583778.16.10.01\n",
      "Vip-IRES-Cre;Ai14-584470.13.10.01\n",
      "Vip-IRES-Cre;Ai14-584470.13.10.02\n",
      "C57BL6J-742761.01.02.01\n",
      "C57BL6J-742761.01.02.02\n",
      "C57BL6J-742761.01.02.03\n",
      "Htr3a-Cre_NO152;Ai14-583778.17.10.01\n",
      "Slc17a6-IRES-Cre;Ai14-561991.09.09.01\n",
      "C57BL6J-573680.10.09.01\n",
      "C57BL6J-573679.12.10.01\n",
      "C57BL6J-573679.12.10.02\n",
      "C57BL6J-573679.12.10.03\n",
      "Oxtr-T2A-Cre;Ai14-568300.09.09.01\n",
      "Oxtr-T2A-Cre;Ai14-568300.09.09.02\n",
      "C57BL6J-742761.02.02.01\n",
      "C57BL6J-742761.02.02.02\n",
      "C57BL6J-742761.02.02.03\n",
      "C57BL6J-742761.02.02.04\n",
      "Dbh-Cre_KH212;RCL-H2B-GFP-692023.08.06.01\n",
      "Dbh-Cre_KH212;RCL-H2B-GFP-692023.08.06.02\n",
      "Dbh-Cre_KH212;RCL-H2B-GFP-692023.08.06.03\n",
      "Slc17a8-iCre;Ai14-565384.08.09.02\n",
      "Slc17a8-iCre;Ai14-565384.08.09.01\n",
      "Slc17a8-iCre;Ai14-565384.08.09.03\n",
      "Slc17a8-iCre;Ai14-565384.08.09.04\n",
      "Slc17a7-IRES2-Cre;Ai14-565142.10.09.01\n",
      "Slc17a7-IRES2-Cre;Ai14-565142.10.09.02\n",
      "Slc17a7-IRES2-Cre;Ai14-565142.10.09.03\n",
      "Sst-IRES-Cre;Ai14-564524.11.09.02\n",
      "Rbp4-Cre_KL100;Ai14-552218.06.06.01\n",
      "Sst-IRES-Cre;Ai14-564525.08.09.01\n",
      "Htr3a-Cre_NO152;Ai14-563515.07.09.01\n",
      "Htr3a-Cre_NO152;Ai14-563515.07.09.02\n",
      "C57BL6J-742761.06.02.01\n",
      "C57BL6J-742761.06.02.02\n",
      "Dbh-Cre_KH212;RCL-H2B-GFP-734082.08.06.01\n",
      "Dbh-Cre_KH212;RCL-H2B-GFP-734082.08.06.02\n",
      "Dbh-Cre_KH212;RCL-H2B-GFP-734082.08.06.03\n",
      "Dbh-Cre_KH212;RCL-H2B-GFP-734082.08.06.04\n",
      "C57BL6J-745296.03.02.01\n",
      "C57BL6J-745296.03.02.02\n",
      "C57BL6J-745296.03.02.03\n",
      "C57BL6J-750093.09.01.01\n",
      "C57BL6J-750093.09.02.01\n",
      "C57BL6J-750093.09.02.02\n",
      "C57BL6J-750093.10.02.01\n",
      "C57BL6J-750093.10.02.02\n",
      "C57BL6J-750093.10.02.03\n",
      "C57BL6J-750093.10.02.04\n",
      "C57BL6J-750093.10.02.05\n",
      "C57BL6J-750093.11.02.01\n",
      "C57BL6J-750093.11.02.02\n",
      "C57BL6J-750093.11.02.03\n",
      "Pvalb-IRES-Cre;Ai14-711296.13.02.01\n",
      "Pvalb-IRES-Cre;Ai14-711296.13.02.02\n",
      "Pvalb-IRES-Cre;Ai14-711296.13.02.03\n",
      "C57BL6J-750094.08.11.01\n",
      "C57BL6J-750094.08.11.02\n",
      "C57BL6J-750094.08.11.03\n",
      "C57BL6J-750094.08.11.04\n",
      "C57BL6J-750094.10.12.01\n",
      "C57BL6J-750094.10.12.02\n",
      "C57BL6J-750094.10.12.03\n",
      "C57BL6J-750094.10.12.04\n",
      "C57BL6J-750094.09.11.01\n",
      "C57BL6J-750094.09.11.02\n",
      "C57BL6J-622939.06.04.01\n",
      "\t\tno manual swc to register\n",
      "C57BL6J-622939.06.04.02\n"
     ]
    },
    {
     "name": "stderr",
     "output_type": "stream",
     "text": [
      "c:\\Users\\sarah.wallingbell\\AppData\\Local\\anaconda3\\envs\\morph_utils_v3\\lib\\site-packages\\scipy\\interpolate\\_interpolate.py:698: RuntimeWarning: invalid value encountered in divide\n",
      "  slope = (y_hi - y_lo) / (x_hi - x_lo)[:, None]\n",
      "c:\\Users\\sarah.wallingbell\\AppData\\Local\\anaconda3\\envs\\morph_utils_v3\\lib\\site-packages\\scipy\\interpolate\\_interpolate.py:698: RuntimeWarning: invalid value encountered in divide\n",
      "  slope = (y_hi - y_lo) / (x_hi - x_lo)[:, None]\n",
      "c:\\Users\\sarah.wallingbell\\AppData\\Local\\anaconda3\\envs\\morph_utils_v3\\lib\\site-packages\\scipy\\interpolate\\_interpolate.py:698: RuntimeWarning: invalid value encountered in divide\n",
      "  slope = (y_hi - y_lo) / (x_hi - x_lo)[:, None]\n",
      "c:\\Users\\sarah.wallingbell\\AppData\\Local\\anaconda3\\envs\\morph_utils_v3\\lib\\site-packages\\scipy\\interpolate\\_interpolate.py:698: RuntimeWarning: invalid value encountered in divide\n",
      "  slope = (y_hi - y_lo) / (x_hi - x_lo)[:, None]\n",
      "c:\\Users\\sarah.wallingbell\\AppData\\Local\\anaconda3\\envs\\morph_utils_v3\\lib\\site-packages\\scipy\\interpolate\\_interpolate.py:698: RuntimeWarning: invalid value encountered in divide\n",
      "  slope = (y_hi - y_lo) / (x_hi - x_lo)[:, None]\n"
     ]
    },
    {
     "name": "stdout",
     "output_type": "stream",
     "text": [
      "C57BL6J-622939.06.04.03\n",
      "\t\tno manual swc to register\n",
      "\t\tno pp14 autotrace swc to register\n",
      "\t\tno raw autotrace swc to register\n",
      "C57BL6J-750124.03.02.01\n",
      "C57BL6J-750124.04.02.01\n",
      "C57BL6J-750124.05.02.01\n",
      "C57BL6J-750124.05.02.02\n",
      "Dbh-Cre_KH212;RCL-H2B-GFP-710875.11.06.01\n",
      "Dbh-Cre_KH212;RCL-H2B-GFP-710875.11.06.02\n",
      "Dbh-Cre_KH212;RCL-H2B-GFP-734082.07.06.01\n",
      "Dbh-Cre_KH212;RCL-H2B-GFP-734082.07.06.02\n",
      "Dbh-Cre_KH212;RCL-H2B-GFP-734082.10.06.02\n",
      "Dbh-Cre_KH212;RCL-H2B-GFP-734082.10.06.01\n",
      "C57BL6J-750125.04.02.01\n",
      "C57BL6J-750125.04.02.02\n",
      "Dbh-Cre_KH212;RCL-H2B-GFP-692022.09.06.01\n",
      "Dbh-Cre-KI;Ai65-744122.06.06.01\n",
      "Dbh-Cre-KI;Ai65-744122.06.06.02\n",
      "Dbh-Cre-KI;Ai65-744122.10.06.01\n",
      "Dbh-Cre-KI;Ai65-744122.10.06.02\n",
      "Dbh-Cre-KI;Ai65-744122.10.06.03\n",
      "Rbp4-Cre_KL100;Ai14-718902.08.04.01\n",
      "Rbp4-Cre_KL100;Ai14-718902.08.04.02\n",
      "Sst-IRES-Cre;Ai14-693050.11.10.01\n",
      "Sst-IRES-Cre;Ai14-693050.11.10.02\n",
      "Sst-IRES-Cre;Ai14-693050.11.10.03\n",
      "Sst-IRES-Cre;Ai14-693050.11.10.04\n",
      "Sst-IRES-Cre;Ai14-693050.11.10.05\n",
      "Sst-IRES-Cre;Ai14-714255.12.04.01\n",
      "Sst-IRES-Cre;Ai14-714255.12.04.02\n",
      "Sst-IRES-Cre;Ai14-693052.14.10.01\n",
      "Sst-IRES-Cre;Ai14-693052.14.10.02\n",
      "Sst-IRES-Cre;Ai14-693052.14.10.03\n",
      "Sst-IRES-Cre;Ai14-693052.13.10.01\n",
      "Sst-IRES-Cre;Ai14-693052.13.10.02\n",
      "Esr2-IRES2-Cre;Ai14-557044.05.09.03.01\n",
      "Esr2-IRES2-Cre;Ai14-557044.05.09.03.02\n",
      "Esr2-IRES2-Cre;Ai14-557044.05.09.03.03\n",
      "Rbp4-Cre_KL100;Ai14-618348.05.03.01\n",
      "C57BL6J-771437.06.04.01\n",
      "C57BL6J-771437.06.04.02\n",
      "C57BL6J-771437.06.04.03\n",
      "C57BL6J-622939.07.04.01\n",
      "\t\tno manual swc to register\n",
      "\t\tno pp14 autotrace swc to register\n",
      "\t\tno raw autotrace swc to register\n",
      "C57BL6J-622939.07.04.02\n",
      "C57BL6J-622939.08.04.01\n",
      "\t\tno manual swc to register\n",
      "\t\tno pp14 autotrace swc to register\n",
      "\t\tno raw autotrace swc to register\n",
      "C57BL6J-622939.08.04.02\n",
      "\t\tno manual swc to register\n",
      "\t\tno pp14 autotrace swc to register\n",
      "\t\tno raw autotrace swc to register\n",
      "C57BL6J-622939.08.04.03\n",
      "\t\tno manual swc to register\n",
      "\t\tno pp14 autotrace swc to register\n",
      "\t\tno raw autotrace swc to register\n",
      "C57BL6J-622939.08.04.04\n",
      "\t\tno manual swc to register\n",
      "\t\tno pp14 autotrace swc to register\n",
      "\t\tno raw autotrace swc to register\n",
      "C57BL6J-622939.08.04.05\n",
      "C57BL6J-753121.07.11.01\n",
      "C57BL6J-753121.07.11.02\n",
      "C57BL6J-753121.07.11.03\n",
      "C57BL6J-753121.07.11.04\n",
      "C57BL6J-753121.07.11.05\n",
      "C57BL6J-753121.07.11.06\n",
      "C57BL6J-631343.08.04.01\n",
      "\t\tno manual swc to register\n",
      "\t\tno pp14 autotrace swc to register\n",
      "\t\tno raw autotrace swc to register\n",
      "C57BL6J-631343.08.04.02\n",
      "C57BL6J-631343.08.04.03\n",
      "C57BL6J-631343.08.04.04\n",
      "C57BL6J-631343.08.04.05\n",
      "\t\tno manual swc to register\n",
      "C57BL6J-771437.08.04.01\n",
      "C57BL6J-771437.08.04.02\n",
      "C57BL6J-771437.08.04.03\n",
      "C57BL6J-771437.08.04.04\n",
      "C57BL6J-753121.08.11.01\n",
      "C57BL6J-753121.08.11.02\n",
      "C57BL6J-769865.12.03.01\n",
      "C57BL6J-769865.12.03.02\n",
      "C57BL6J-769865.12.03.03\n",
      "Pvalb-IRES-Cre;Ai14-739584.07.12.01\n",
      "C57BL6J-753121.09.11.01\n",
      "C57BL6J-753121.09.11.02\n",
      "C57BL6J-753121.10.11.01\n",
      "C57BL6J-753121.10.11.02\n",
      "C57BL6J-755812.13.04.01\n",
      "C57BL6J-755812.13.04.02\n",
      "C57BL6J-755812.13.04.03\n",
      "Pvalb-IRES-Cre;Ai14-739584.08.11.01\n",
      "Pvalb-IRES-Cre;Ai14-739584.08.11.02\n",
      "Pvalb-IRES-Cre;Ai14-739584.08.12.01\n",
      "Pvalb-IRES-Cre;Ai14-739584.08.12.02\n",
      "Pvalb-IRES-Cre;Ai14-739584.08.12.03\n",
      "C57BL6J-755813.12.04.02\n",
      "C57BL6J-755813.12.04.01\n",
      "C57BL6J-755813.12.04.03\n",
      "Pvalb-IRES-Cre;Ai14-629895.12.03.01\n",
      "Pvalb-IRES-Cre;Ai14-629895.12.03.02\n",
      "Pvalb-IRES-Cre;Ai14-629895.12.03.03\n",
      "Dbh-Cre-KI;Ai65-731903.07.06.01\n",
      "Dbh-Cre-KI;Ai65-731903.07.06.02\n",
      "C57BL6J-755812.14.04.01\n",
      "C57BL6J-755812.14.04.02\n",
      "C57BL6J-755812.14.04.03\n",
      "C57BL6J-755812.15.04.01\n",
      "C57BL6J-755812.15.04.02\n",
      "C57BL6J-764728.07.10.01\n",
      "C57BL6J-764728.07.10.02\n",
      "C57BL6J-755813.13.04.01\n",
      "C57BL6J-755813.13.04.02\n",
      "Dbh-Cre-KI;Ai65-751029.07.06.01\n",
      "Dbh-Cre-KI;Ai65-751029.07.06.02\n",
      "C57BL6J-755866.08.01.01\n",
      "C57BL6J-755866.08.01.02\n",
      "C57BL6J-765843.10.03.01\n",
      "C57BL6J-765843.10.03.02\n",
      "Sst-IRES-Cre;Ai14-744729.08.11.01\n",
      "C57BL6J-767151.11.03.01\n",
      "C57BL6J-767151.11.03.02\n",
      "C57BL6J-767151.11.03.03\n",
      "Sst-IRES-Cre;Ai14-744729.09.11.01\n",
      "Sst-IRES-Cre;Ai14-744729.09.11.02\n",
      "Sst-IRES-Cre;Ai14-744729.10.11.01\n",
      "Sst-IRES-Cre;Ai14-744729.10.11.02\n",
      "Sst-IRES-Cre;Ai14-744730.10.12.01\n",
      "Sst-IRES-Cre;Ai14-744730.10.12.02\n",
      "Sst-IRES-Cre;Ai14-744730.10.12.04\n",
      "Sst-IRES-Cre;Ai14-744730.10.12.06\n",
      "Dbh-Cre-KI;Ai65-731900.10.06.01\n",
      "Dbh-Cre-KI;Ai65-731900.10.06.02\n",
      "Dbh-Cre-KI;Ai65-731900.10.06.03\n",
      "Dbh-Cre-KI;Ai65-731900.10.06.04\n",
      "Dbh-Cre-KI;Ai65-731901.10.06.01\n",
      "Dbh-Cre-KI;Ai65-731901.10.06.02\n",
      "Dbh-Cre-KI;Ai65-731901.10.06.03\n",
      "Dbh-Cre-KI;Ai65-731901.10.06.04\n",
      "Slc17a8-IRES2-Cre-neo;Ai14-744794.02.09.01\n",
      "Slc17a8-IRES2-Cre-neo;Ai14-744792.02.09.01\n",
      "Slc17a8-IRES2-Cre-neo;Ai14-744792.02.09.02\n",
      "Slc17a8-IRES2-Cre-neo;Ai14-744792.11.09.01\n",
      "C57BL6J-745296.04.02.01\n",
      "C57BL6J-745296.04.02.02\n",
      "Rbp4-Cre_KL100;Ai14-618348.05.04.03\n",
      "\t\tno manual swc to register\n",
      "\t\tno pp14 autotrace swc to register\n",
      "\t\tno raw autotrace swc to register\n",
      "Rbp4-Cre_KL100;Ai14-618348.05.04.02\n"
     ]
    },
    {
     "name": "stderr",
     "output_type": "stream",
     "text": [
      "c:\\Users\\sarah.wallingbell\\AppData\\Local\\anaconda3\\envs\\morph_utils_v3\\lib\\site-packages\\scipy\\interpolate\\_interpolate.py:698: RuntimeWarning: invalid value encountered in divide\n",
      "  slope = (y_hi - y_lo) / (x_hi - x_lo)[:, None]\n",
      "c:\\Users\\sarah.wallingbell\\AppData\\Local\\anaconda3\\envs\\morph_utils_v3\\lib\\site-packages\\scipy\\interpolate\\_interpolate.py:698: RuntimeWarning: invalid value encountered in divide\n",
      "  slope = (y_hi - y_lo) / (x_hi - x_lo)[:, None]\n",
      "c:\\Users\\sarah.wallingbell\\AppData\\Local\\anaconda3\\envs\\morph_utils_v3\\lib\\site-packages\\scipy\\interpolate\\_interpolate.py:698: RuntimeWarning: invalid value encountered in divide\n",
      "  slope = (y_hi - y_lo) / (x_hi - x_lo)[:, None]\n",
      "c:\\Users\\sarah.wallingbell\\AppData\\Local\\anaconda3\\envs\\morph_utils_v3\\lib\\site-packages\\scipy\\interpolate\\_interpolate.py:698: RuntimeWarning: invalid value encountered in divide\n",
      "  slope = (y_hi - y_lo) / (x_hi - x_lo)[:, None]\n",
      "c:\\Users\\sarah.wallingbell\\AppData\\Local\\anaconda3\\envs\\morph_utils_v3\\lib\\site-packages\\scipy\\interpolate\\_interpolate.py:698: RuntimeWarning: invalid value encountered in divide\n",
      "  slope = (y_hi - y_lo) / (x_hi - x_lo)[:, None]\n"
     ]
    },
    {
     "name": "stdout",
     "output_type": "stream",
     "text": [
      "Rbp4-Cre_KL100;Ai14-618348.05.04.01\n"
     ]
    },
    {
     "name": "stderr",
     "output_type": "stream",
     "text": [
      "c:\\Users\\sarah.wallingbell\\AppData\\Local\\anaconda3\\envs\\morph_utils_v3\\lib\\site-packages\\scipy\\interpolate\\_interpolate.py:698: RuntimeWarning: invalid value encountered in divide\n",
      "  slope = (y_hi - y_lo) / (x_hi - x_lo)[:, None]\n",
      "c:\\Users\\sarah.wallingbell\\AppData\\Local\\anaconda3\\envs\\morph_utils_v3\\lib\\site-packages\\scipy\\interpolate\\_interpolate.py:698: RuntimeWarning: invalid value encountered in divide\n",
      "  slope = (y_hi - y_lo) / (x_hi - x_lo)[:, None]\n",
      "c:\\Users\\sarah.wallingbell\\AppData\\Local\\anaconda3\\envs\\morph_utils_v3\\lib\\site-packages\\scipy\\interpolate\\_interpolate.py:698: RuntimeWarning: invalid value encountered in divide\n",
      "  slope = (y_hi - y_lo) / (x_hi - x_lo)[:, None]\n",
      "c:\\Users\\sarah.wallingbell\\AppData\\Local\\anaconda3\\envs\\morph_utils_v3\\lib\\site-packages\\scipy\\interpolate\\_interpolate.py:698: RuntimeWarning: invalid value encountered in divide\n",
      "  slope = (y_hi - y_lo) / (x_hi - x_lo)[:, None]\n",
      "c:\\Users\\sarah.wallingbell\\AppData\\Local\\anaconda3\\envs\\morph_utils_v3\\lib\\site-packages\\scipy\\interpolate\\_interpolate.py:698: RuntimeWarning: invalid value encountered in divide\n",
      "  slope = (y_hi - y_lo) / (x_hi - x_lo)[:, None]\n"
     ]
    },
    {
     "name": "stdout",
     "output_type": "stream",
     "text": [
      "Rbp4-Cre_KL100;Ai14-618348.07.03.01\n",
      "Rbp4-Cre_KL100;Ai14-618348.07.03.02\n",
      "\t\tno manual swc to register\n",
      "\t\tno pp14 autotrace swc to register\n",
      "\t\tno raw autotrace swc to register\n",
      "Rbp4-Cre_KL100;Ai14-618348.07.04.01\n",
      "\t\tno manual swc to register\n",
      "\t\tno pp14 autotrace swc to register\n",
      "Rbp4-Cre_KL100;Ai14-618348.07.04.02\n",
      "Rbp4-Cre_KL100;Ai14-618349.05.04.01\n",
      "\t\tno manual swc to register\n",
      "\t\tno pp14 autotrace swc to register\n",
      "\t\tno raw autotrace swc to register\n",
      "Rbp4-Cre_KL100;Ai14-618349.05.04.02\n",
      "\t\tno manual swc to register\n",
      "\t\tno pp14 autotrace swc to register\n",
      "\t\tno raw autotrace swc to register\n",
      "Rbp4-Cre_KL100;Ai14-618349.05.04.03\n",
      "Rbp4-Cre_KL100;Ai14-618349.05.04.04\n",
      "\t\tno manual swc to register\n",
      "\t\tno pp14 autotrace swc to register\n",
      "\t\tno raw autotrace swc to register\n",
      "Rbp4-Cre_KL100;Ai14-618349.06.03.01\n",
      "\t\tno manual swc to register\n",
      "\t\tno pp14 autotrace swc to register\n",
      "\t\tno raw autotrace swc to register\n",
      "Rbp4-Cre_KL100;Ai14-618349.06.03.02\n"
     ]
    },
    {
     "name": "stderr",
     "output_type": "stream",
     "text": [
      "c:\\Users\\sarah.wallingbell\\AppData\\Local\\anaconda3\\envs\\morph_utils_v3\\lib\\site-packages\\scipy\\interpolate\\_interpolate.py:698: RuntimeWarning: invalid value encountered in divide\n",
      "  slope = (y_hi - y_lo) / (x_hi - x_lo)[:, None]\n",
      "c:\\Users\\sarah.wallingbell\\AppData\\Local\\anaconda3\\envs\\morph_utils_v3\\lib\\site-packages\\scipy\\interpolate\\_interpolate.py:698: RuntimeWarning: invalid value encountered in divide\n",
      "  slope = (y_hi - y_lo) / (x_hi - x_lo)[:, None]\n",
      "c:\\Users\\sarah.wallingbell\\AppData\\Local\\anaconda3\\envs\\morph_utils_v3\\lib\\site-packages\\scipy\\interpolate\\_interpolate.py:698: RuntimeWarning: invalid value encountered in divide\n",
      "  slope = (y_hi - y_lo) / (x_hi - x_lo)[:, None]\n",
      "c:\\Users\\sarah.wallingbell\\AppData\\Local\\anaconda3\\envs\\morph_utils_v3\\lib\\site-packages\\scipy\\interpolate\\_interpolate.py:698: RuntimeWarning: invalid value encountered in divide\n",
      "  slope = (y_hi - y_lo) / (x_hi - x_lo)[:, None]\n",
      "c:\\Users\\sarah.wallingbell\\AppData\\Local\\anaconda3\\envs\\morph_utils_v3\\lib\\site-packages\\scipy\\interpolate\\_interpolate.py:698: RuntimeWarning: invalid value encountered in divide\n",
      "  slope = (y_hi - y_lo) / (x_hi - x_lo)[:, None]\n"
     ]
    },
    {
     "name": "stdout",
     "output_type": "stream",
     "text": [
      "Rbp4-Cre_KL100;Ai14-618349.06.03.03\n",
      "\t\tno manual swc to register\n",
      "Rbp4-Cre_KL100;Ai14-618349.06.03.04\n",
      "\t\tno manual swc to register\n",
      "\t\tno pp14 autotrace swc to register\n",
      "\t\tno raw autotrace swc to register\n",
      "Rbp4-Cre_KL100;Ai14-618349.06.04.01\n",
      "\t\tno manual swc to register\n",
      "\t\tno pp14 autotrace swc to register\n",
      "\t\tno raw autotrace swc to register\n",
      "Rbp4-Cre_KL100;Ai14-618349.06.04.02\n",
      "\t\tno manual swc to register\n",
      "\t\tno pp14 autotrace swc to register\n",
      "\t\tno raw autotrace swc to register\n",
      "Rbp4-Cre_KL100;Ai14-618349.06.04.03\n",
      "Rbp4-Cre_KL100;Ai14-658999.06.09.01\n",
      "\t\tno manual swc to register\n",
      "\t\tno pp14 autotrace swc to register\n",
      "\t\tno raw autotrace swc to register\n",
      "Rbp4-Cre_KL100;Ai14-658999.06.09.02\n",
      "\t\tno pp14 autotrace swc to register\n",
      "Rbp4-Cre_KL100;Ai14-658999.06.09.03\n",
      "\t\tno manual swc to register\n",
      "\t\tno pp14 autotrace swc to register\n",
      "\t\tno raw autotrace swc to register\n",
      "Rbp4-Cre_KL100;Ai14-669338.06.01.01\n",
      "\t\tno manual swc to register\n",
      "\t\tno pp14 autotrace swc to register\n",
      "Rbp4-Cre_KL100;Ai14-669338.06.01.02\n",
      "\t\tno manual swc to register\n",
      "\t\tno pp14 autotrace swc to register\n",
      "\t\tno raw autotrace swc to register\n",
      "Chat-IRES-Cre-neo;Ai14-586529.06.04.01\n",
      "\t\tno manual swc to register\n",
      "\t\tno pp14 autotrace swc to register\n",
      "\t\tno raw autotrace swc to register\n",
      "Chat-IRES-Cre-neo;Ai14-586529.06.04.02\n",
      "\t\tno manual swc to register\n",
      "\t\tno pp14 autotrace swc to register\n",
      "\t\tno raw autotrace swc to register\n",
      "Chat-IRES-Cre-neo;Ai14-586529.06.04.03\n",
      "\t\tno manual swc to register\n",
      "Chat-IRES-Cre-neo;Ai14-586529.06.04.04\n",
      "\t\tno manual swc to register\n",
      "\t\tno pp14 autotrace swc to register\n",
      "\t\tno raw autotrace swc to register\n",
      "Chat-IRES-Cre-neo;Ai14-586529.06.04.05\n",
      "\t\tno manual swc to register\n",
      "\t\tno pp14 autotrace swc to register\n",
      "\t\tno raw autotrace swc to register\n",
      "Rbp4-Cre_KL100;Ai14-669338.07.01.02\n",
      "\t\tno manual swc to register\n",
      "\t\tno pp14 autotrace swc to register\n",
      "Rbp4-Cre_KL100;Ai14-669338.07.01.01\n",
      "\t\tno manual swc to register\n",
      "\t\tno pp14 autotrace swc to register\n",
      "\t\tno raw autotrace swc to register\n",
      "C57BL6J-667414.10.10.01\n"
     ]
    },
    {
     "name": "stderr",
     "output_type": "stream",
     "text": [
      "c:\\Users\\sarah.wallingbell\\AppData\\Local\\anaconda3\\envs\\morph_utils_v3\\lib\\site-packages\\scipy\\interpolate\\_interpolate.py:698: RuntimeWarning: invalid value encountered in divide\n",
      "  slope = (y_hi - y_lo) / (x_hi - x_lo)[:, None]\n",
      "c:\\Users\\sarah.wallingbell\\AppData\\Local\\anaconda3\\envs\\morph_utils_v3\\lib\\site-packages\\scipy\\interpolate\\_interpolate.py:698: RuntimeWarning: invalid value encountered in divide\n",
      "  slope = (y_hi - y_lo) / (x_hi - x_lo)[:, None]\n",
      "c:\\Users\\sarah.wallingbell\\AppData\\Local\\anaconda3\\envs\\morph_utils_v3\\lib\\site-packages\\scipy\\interpolate\\_interpolate.py:698: RuntimeWarning: invalid value encountered in divide\n",
      "  slope = (y_hi - y_lo) / (x_hi - x_lo)[:, None]\n",
      "c:\\Users\\sarah.wallingbell\\AppData\\Local\\anaconda3\\envs\\morph_utils_v3\\lib\\site-packages\\scipy\\interpolate\\_interpolate.py:698: RuntimeWarning: invalid value encountered in divide\n",
      "  slope = (y_hi - y_lo) / (x_hi - x_lo)[:, None]\n",
      "c:\\Users\\sarah.wallingbell\\AppData\\Local\\anaconda3\\envs\\morph_utils_v3\\lib\\site-packages\\scipy\\interpolate\\_interpolate.py:698: RuntimeWarning: invalid value encountered in divide\n",
      "  slope = (y_hi - y_lo) / (x_hi - x_lo)[:, None]\n"
     ]
    },
    {
     "name": "stdout",
     "output_type": "stream",
     "text": [
      "C57BL6J-771440.07.04.01\n",
      "C57BL6J-771440.07.04.02\n",
      "C57BL6J-771440.07.04.03\n",
      "C57BL6J-771440.07.04.04\n",
      "C57BL6J-631344.06.03.01\n",
      "C57BL6J-631344.06.03.02\n",
      "C57BL6J-667556.08.06.01\n",
      "\t\tno manual swc to register\n",
      "\t\tno pp14 autotrace swc to register\n",
      "\t\tno raw autotrace swc to register\n",
      "C57BL6J-667556.08.06.02\n",
      "C57BL6J-631344.09.04.01\n",
      "C57BL6J-631344.09.04.02\n",
      "\t\tno manual swc to register\n",
      "\t\tno pp14 autotrace swc to register\n",
      "\t\tno raw autotrace swc to register\n",
      "C57BL6J-631344.09.04.03\n",
      "\t\tno manual swc to register\n",
      "\t\tno pp14 autotrace swc to register\n",
      "\t\tno raw autotrace swc to register\n",
      "C57BL6J-631344.09.04.04\n",
      "\t\tno manual swc to register\n"
     ]
    },
    {
     "name": "stderr",
     "output_type": "stream",
     "text": [
      "c:\\Users\\sarah.wallingbell\\AppData\\Local\\anaconda3\\envs\\morph_utils_v3\\lib\\site-packages\\scipy\\interpolate\\_interpolate.py:698: RuntimeWarning: invalid value encountered in divide\n",
      "  slope = (y_hi - y_lo) / (x_hi - x_lo)[:, None]\n",
      "c:\\Users\\sarah.wallingbell\\AppData\\Local\\anaconda3\\envs\\morph_utils_v3\\lib\\site-packages\\scipy\\interpolate\\_interpolate.py:698: RuntimeWarning: invalid value encountered in divide\n",
      "  slope = (y_hi - y_lo) / (x_hi - x_lo)[:, None]\n",
      "c:\\Users\\sarah.wallingbell\\AppData\\Local\\anaconda3\\envs\\morph_utils_v3\\lib\\site-packages\\scipy\\interpolate\\_interpolate.py:698: RuntimeWarning: invalid value encountered in divide\n",
      "  slope = (y_hi - y_lo) / (x_hi - x_lo)[:, None]\n",
      "c:\\Users\\sarah.wallingbell\\AppData\\Local\\anaconda3\\envs\\morph_utils_v3\\lib\\site-packages\\scipy\\interpolate\\_interpolate.py:698: RuntimeWarning: invalid value encountered in divide\n",
      "  slope = (y_hi - y_lo) / (x_hi - x_lo)[:, None]\n",
      "c:\\Users\\sarah.wallingbell\\AppData\\Local\\anaconda3\\envs\\morph_utils_v3\\lib\\site-packages\\scipy\\interpolate\\_interpolate.py:698: RuntimeWarning: invalid value encountered in divide\n",
      "  slope = (y_hi - y_lo) / (x_hi - x_lo)[:, None]\n"
     ]
    },
    {
     "name": "stdout",
     "output_type": "stream",
     "text": [
      "C57BL6J-631344.09.04.05\n",
      "\t\tno manual swc to register\n",
      "\t\tno pp14 autotrace swc to register\n",
      "\t\tno raw autotrace swc to register\n",
      "C57BL6J-631345.08.03.01\n",
      "\t\tno manual swc to register\n",
      "\t\tno pp14 autotrace swc to register\n",
      "\t\tno raw autotrace swc to register\n",
      "C57BL6J-631345.08.03.02\n",
      "C57BL6J-631345.08.03.03\n",
      "\t\tno manual swc to register\n",
      "\t\tno pp14 autotrace swc to register\n",
      "\t\tno raw autotrace swc to register\n",
      "C57BL6J-631345.09.04.01\n",
      "\t\tno manual swc to register\n",
      "\t\tno pp14 autotrace swc to register\n",
      "\t\tno raw autotrace swc to register\n",
      "C57BL6J-631345.09.04.02\n",
      "\t\tno manual swc to register\n"
     ]
    },
    {
     "name": "stderr",
     "output_type": "stream",
     "text": [
      "c:\\Users\\sarah.wallingbell\\AppData\\Local\\anaconda3\\envs\\morph_utils_v3\\lib\\site-packages\\scipy\\interpolate\\_interpolate.py:698: RuntimeWarning: invalid value encountered in divide\n",
      "  slope = (y_hi - y_lo) / (x_hi - x_lo)[:, None]\n",
      "c:\\Users\\sarah.wallingbell\\AppData\\Local\\anaconda3\\envs\\morph_utils_v3\\lib\\site-packages\\scipy\\interpolate\\_interpolate.py:698: RuntimeWarning: invalid value encountered in divide\n",
      "  slope = (y_hi - y_lo) / (x_hi - x_lo)[:, None]\n",
      "c:\\Users\\sarah.wallingbell\\AppData\\Local\\anaconda3\\envs\\morph_utils_v3\\lib\\site-packages\\scipy\\interpolate\\_interpolate.py:698: RuntimeWarning: invalid value encountered in divide\n",
      "  slope = (y_hi - y_lo) / (x_hi - x_lo)[:, None]\n",
      "c:\\Users\\sarah.wallingbell\\AppData\\Local\\anaconda3\\envs\\morph_utils_v3\\lib\\site-packages\\scipy\\interpolate\\_interpolate.py:698: RuntimeWarning: invalid value encountered in divide\n",
      "  slope = (y_hi - y_lo) / (x_hi - x_lo)[:, None]\n",
      "c:\\Users\\sarah.wallingbell\\AppData\\Local\\anaconda3\\envs\\morph_utils_v3\\lib\\site-packages\\scipy\\interpolate\\_interpolate.py:698: RuntimeWarning: invalid value encountered in divide\n",
      "  slope = (y_hi - y_lo) / (x_hi - x_lo)[:, None]\n"
     ]
    },
    {
     "name": "stdout",
     "output_type": "stream",
     "text": [
      "Chat-IRES-Cre-neo;Ai14-585474.07.04.01\n",
      "\t\tno manual swc to register\n",
      "\t\tno pp14 autotrace swc to register\n",
      "\t\tno raw autotrace swc to register\n",
      "Chat-IRES-Cre-neo;Ai14-585474.07.04.02\n",
      "Rbp4-Cre_KL100;Ai14-718901.05.01.01\n",
      "\t\tno manual swc to register\n",
      "Rbp4-Cre_KL100;Ai14-718901.05.01.02\n",
      "\t\tno manual swc to register\n",
      "C57BL6J-645069.08.09.01\n",
      "\t\tno pp14 autotrace swc to register\n",
      "C57BL6J-645069.08.09.02\n",
      "\t\tno manual swc to register\n",
      "\t\tno pp14 autotrace swc to register\n",
      "Rbp4-Cre_KL100;Ai14-718902.10.03.01\n",
      "C57BL6J-647683.06.04.01\n",
      "C57BL6J-647685.06.06.01\n",
      "\t\tno manual swc to register\n"
     ]
    },
    {
     "name": "stderr",
     "output_type": "stream",
     "text": [
      "c:\\Users\\sarah.wallingbell\\AppData\\Local\\anaconda3\\envs\\morph_utils_v3\\lib\\site-packages\\scipy\\interpolate\\_interpolate.py:698: RuntimeWarning: invalid value encountered in divide\n",
      "  slope = (y_hi - y_lo) / (x_hi - x_lo)[:, None]\n",
      "c:\\Users\\sarah.wallingbell\\AppData\\Local\\anaconda3\\envs\\morph_utils_v3\\lib\\site-packages\\scipy\\interpolate\\_interpolate.py:698: RuntimeWarning: invalid value encountered in divide\n",
      "  slope = (y_hi - y_lo) / (x_hi - x_lo)[:, None]\n",
      "c:\\Users\\sarah.wallingbell\\AppData\\Local\\anaconda3\\envs\\morph_utils_v3\\lib\\site-packages\\scipy\\interpolate\\_interpolate.py:698: RuntimeWarning: invalid value encountered in divide\n",
      "  slope = (y_hi - y_lo) / (x_hi - x_lo)[:, None]\n",
      "c:\\Users\\sarah.wallingbell\\AppData\\Local\\anaconda3\\envs\\morph_utils_v3\\lib\\site-packages\\scipy\\interpolate\\_interpolate.py:698: RuntimeWarning: invalid value encountered in divide\n",
      "  slope = (y_hi - y_lo) / (x_hi - x_lo)[:, None]\n",
      "c:\\Users\\sarah.wallingbell\\AppData\\Local\\anaconda3\\envs\\morph_utils_v3\\lib\\site-packages\\scipy\\interpolate\\_interpolate.py:698: RuntimeWarning: invalid value encountered in divide\n",
      "  slope = (y_hi - y_lo) / (x_hi - x_lo)[:, None]\n"
     ]
    },
    {
     "name": "stdout",
     "output_type": "stream",
     "text": [
      "C57BL6J-647685.06.06.02\n",
      "\t\tno manual swc to register\n",
      "\t\tno pp14 autotrace swc to register\n",
      "\t\tno raw autotrace swc to register\n",
      "C57BL6J-647685.06.06.03\n",
      "\t\tno manual swc to register\n",
      "\t\tno pp14 autotrace swc to register\n",
      "\t\tno raw autotrace swc to register\n",
      "C57BL6J-650546.10.04.01\n"
     ]
    },
    {
     "name": "stderr",
     "output_type": "stream",
     "text": [
      "c:\\Users\\sarah.wallingbell\\AppData\\Local\\anaconda3\\envs\\morph_utils_v3\\lib\\site-packages\\scipy\\interpolate\\_interpolate.py:698: RuntimeWarning: invalid value encountered in divide\n",
      "  slope = (y_hi - y_lo) / (x_hi - x_lo)[:, None]\n",
      "c:\\Users\\sarah.wallingbell\\AppData\\Local\\anaconda3\\envs\\morph_utils_v3\\lib\\site-packages\\scipy\\interpolate\\_interpolate.py:698: RuntimeWarning: invalid value encountered in divide\n",
      "  slope = (y_hi - y_lo) / (x_hi - x_lo)[:, None]\n",
      "c:\\Users\\sarah.wallingbell\\AppData\\Local\\anaconda3\\envs\\morph_utils_v3\\lib\\site-packages\\scipy\\interpolate\\_interpolate.py:698: RuntimeWarning: invalid value encountered in divide\n",
      "  slope = (y_hi - y_lo) / (x_hi - x_lo)[:, None]\n",
      "c:\\Users\\sarah.wallingbell\\AppData\\Local\\anaconda3\\envs\\morph_utils_v3\\lib\\site-packages\\scipy\\interpolate\\_interpolate.py:698: RuntimeWarning: invalid value encountered in divide\n",
      "  slope = (y_hi - y_lo) / (x_hi - x_lo)[:, None]\n",
      "c:\\Users\\sarah.wallingbell\\AppData\\Local\\anaconda3\\envs\\morph_utils_v3\\lib\\site-packages\\scipy\\interpolate\\_interpolate.py:698: RuntimeWarning: invalid value encountered in divide\n",
      "  slope = (y_hi - y_lo) / (x_hi - x_lo)[:, None]\n"
     ]
    },
    {
     "name": "stdout",
     "output_type": "stream",
     "text": [
      "C57BL6J-651700.08.09.01\n",
      "\t\tno manual swc to register\n",
      "\t\tno pp14 autotrace swc to register\n",
      "\t\tno raw autotrace swc to register\n",
      "C57BL6J-651700.08.09.02\n",
      "C57BL6J-651700.08.09.03\n",
      "\t\tno manual swc to register\n",
      "\t\tno pp14 autotrace swc to register\n",
      "\t\tno raw autotrace swc to register\n",
      "C57BL6J-661503.06.02.01\n",
      "\t\tno manual swc to register\n",
      "\t\tno pp14 autotrace swc to register\n",
      "\t\tno raw autotrace swc to register\n",
      "C57BL6J-661503.06.02.02\n",
      "C57BL6J-665262.18.10.01\n",
      "\t\tno manual swc to register\n",
      "\t\tno pp14 autotrace swc to register\n",
      "\t\tno raw autotrace swc to register\n",
      "C57BL6J-665262.18.10.02\n",
      "Rorb-IRES2-Cre-neo;Ai14-553330.09.09.01\n",
      "\t\tno manual swc to register\n",
      "\t\tno pp14 autotrace swc to register\n",
      "\t\tno raw autotrace swc to register\n",
      "Rorb-IRES2-Cre-neo;Ai14-553330.09.09.02\n",
      "C57BL6J-665266.10.06.01\n",
      "C57BL6J-665266.10.06.02\n",
      "\t\tno manual swc to register\n",
      "\t\tno pp14 autotrace swc to register\n",
      "\t\tno raw autotrace swc to register\n",
      "Chat-IRES-Cre-neo;Ai14-609252.07.03.01\n",
      "\t\tno manual swc to register\n",
      "C57BL6J-704702.13.10.03\n",
      "\t\tno manual swc to register\n",
      "\t\tno pp14 autotrace swc to register\n",
      "\t\tno raw autotrace swc to register\n",
      "C57BL6J-704702.13.10.01\n",
      "\t\tno manual swc to register\n",
      "\t\tno pp14 autotrace swc to register\n",
      "\t\tno raw autotrace swc to register\n",
      "C57BL6J-704702.13.10.02\n",
      "\t\tno manual swc to register\n",
      "C57BL6J-718782.14.10.01\n",
      "Chat-IRES-Cre-neo;Ai14-576497.03.03.01\n",
      "\t\tno manual swc to register\n",
      "\t\tno pp14 autotrace swc to register\n",
      "\t\tno raw autotrace swc to register\n",
      "Chat-IRES-Cre-neo;Ai14-576497.03.03.02\n"
     ]
    },
    {
     "name": "stderr",
     "output_type": "stream",
     "text": [
      "c:\\Users\\sarah.wallingbell\\AppData\\Local\\anaconda3\\envs\\morph_utils_v3\\lib\\site-packages\\scipy\\interpolate\\_interpolate.py:698: RuntimeWarning: invalid value encountered in divide\n",
      "  slope = (y_hi - y_lo) / (x_hi - x_lo)[:, None]\n",
      "c:\\Users\\sarah.wallingbell\\AppData\\Local\\anaconda3\\envs\\morph_utils_v3\\lib\\site-packages\\scipy\\interpolate\\_interpolate.py:698: RuntimeWarning: invalid value encountered in divide\n",
      "  slope = (y_hi - y_lo) / (x_hi - x_lo)[:, None]\n",
      "c:\\Users\\sarah.wallingbell\\AppData\\Local\\anaconda3\\envs\\morph_utils_v3\\lib\\site-packages\\scipy\\interpolate\\_interpolate.py:698: RuntimeWarning: invalid value encountered in divide\n",
      "  slope = (y_hi - y_lo) / (x_hi - x_lo)[:, None]\n",
      "c:\\Users\\sarah.wallingbell\\AppData\\Local\\anaconda3\\envs\\morph_utils_v3\\lib\\site-packages\\scipy\\interpolate\\_interpolate.py:698: RuntimeWarning: invalid value encountered in divide\n",
      "  slope = (y_hi - y_lo) / (x_hi - x_lo)[:, None]\n",
      "c:\\Users\\sarah.wallingbell\\AppData\\Local\\anaconda3\\envs\\morph_utils_v3\\lib\\site-packages\\scipy\\interpolate\\_interpolate.py:698: RuntimeWarning: invalid value encountered in divide\n",
      "  slope = (y_hi - y_lo) / (x_hi - x_lo)[:, None]\n"
     ]
    },
    {
     "name": "stdout",
     "output_type": "stream",
     "text": [
      "Chat-IRES-Cre-neo;Ai14-576497.03.03.03\n",
      "\t\tno manual swc to register\n",
      "Chat-IRES-Cre-neo;Ai14-576499.04.03.01\n",
      "\t\tno manual swc to register\n",
      "\t\tno pp14 autotrace swc to register\n",
      "\t\tno raw autotrace swc to register\n",
      "Chat-IRES-Cre-neo;Ai14-576499.04.03.02\n",
      "Rorb-IRES2-Cre-neo;Ai14-553330.11.09.02\n",
      "\t\tno manual swc to register\n",
      "Rorb-IRES2-Cre-neo;Ai14-553330.11.09.01\n",
      "\t\tno manual swc to register\n",
      "\t\tno pp14 autotrace swc to register\n",
      "\t\tno raw autotrace swc to register\n",
      "Chat-IRES-Cre-neo;Ai14-573899.03.10.01\n",
      "\t\tno manual swc to register\n",
      "\t\tno pp14 autotrace swc to register\n",
      "\t\tno raw autotrace swc to register\n",
      "Chat-IRES-Cre-neo;Ai14-573899.03.10.02\n",
      "Chat-IRES-Cre-neo;Ai14-573899.03.10.03\n",
      "\t\tno manual swc to register\n",
      "\t\tno pp14 autotrace swc to register\n",
      "\t\tno raw autotrace swc to register\n",
      "Chat-IRES-Cre-neo;Ai14-576499.01.04.01\n",
      "\t\tno manual swc to register\n",
      "\t\tno pp14 autotrace swc to register\n",
      "\t\tno raw autotrace swc to register\n",
      "Chat-IRES-Cre-neo;Ai14-576499.01.04.02\n",
      "Chat-IRES-Cre-neo;Ai14-576499.01.04.03\n",
      "\t\tno manual swc to register\n",
      "Chat-IRES-Cre-neo;Ai14-576499.02.04.01\n",
      "\t\tno manual swc to register\n",
      "\t\tno pp14 autotrace swc to register\n",
      "\t\tno raw autotrace swc to register\n",
      "Chat-IRES-Cre-neo;Ai14-576499.02.04.02\n"
     ]
    },
    {
     "name": "stderr",
     "output_type": "stream",
     "text": [
      "c:\\Users\\sarah.wallingbell\\AppData\\Local\\anaconda3\\envs\\morph_utils_v3\\lib\\site-packages\\scipy\\interpolate\\_interpolate.py:698: RuntimeWarning: invalid value encountered in divide\n",
      "  slope = (y_hi - y_lo) / (x_hi - x_lo)[:, None]\n",
      "c:\\Users\\sarah.wallingbell\\AppData\\Local\\anaconda3\\envs\\morph_utils_v3\\lib\\site-packages\\scipy\\interpolate\\_interpolate.py:698: RuntimeWarning: invalid value encountered in divide\n",
      "  slope = (y_hi - y_lo) / (x_hi - x_lo)[:, None]\n",
      "c:\\Users\\sarah.wallingbell\\AppData\\Local\\anaconda3\\envs\\morph_utils_v3\\lib\\site-packages\\scipy\\interpolate\\_interpolate.py:698: RuntimeWarning: invalid value encountered in divide\n",
      "  slope = (y_hi - y_lo) / (x_hi - x_lo)[:, None]\n",
      "c:\\Users\\sarah.wallingbell\\AppData\\Local\\anaconda3\\envs\\morph_utils_v3\\lib\\site-packages\\scipy\\interpolate\\_interpolate.py:698: RuntimeWarning: invalid value encountered in divide\n",
      "  slope = (y_hi - y_lo) / (x_hi - x_lo)[:, None]\n",
      "c:\\Users\\sarah.wallingbell\\AppData\\Local\\anaconda3\\envs\\morph_utils_v3\\lib\\site-packages\\scipy\\interpolate\\_interpolate.py:698: RuntimeWarning: invalid value encountered in divide\n",
      "  slope = (y_hi - y_lo) / (x_hi - x_lo)[:, None]\n"
     ]
    },
    {
     "name": "stdout",
     "output_type": "stream",
     "text": [
      "Chat-IRES-Cre-neo;Ai14-585474.07.03.01\n",
      "\t\tno manual swc to register\n",
      "\t\tno pp14 autotrace swc to register\n",
      "\t\tno raw autotrace swc to register\n",
      "Chat-IRES-Cre-neo;Ai14-585474.07.03.02\n",
      "Chat-IRES-Cre-neo;Ai14-585474.08.03.01\n",
      "\t\tno manual swc to register\n",
      "\t\tno pp14 autotrace swc to register\n",
      "\t\tno raw autotrace swc to register\n",
      "Chat-IRES-Cre-neo;Ai14-585474.08.03.02\n",
      "\t\tno manual swc to register\n",
      "Chat-IRES-Cre-neo;Ai14-585475.06.03.01\n",
      "\t\tno manual swc to register\n",
      "\t\tno pp14 autotrace swc to register\n",
      "\t\tno raw autotrace swc to register\n",
      "Chat-IRES-Cre-neo;Ai14-585475.06.03.02\n",
      "\t\tno manual swc to register\n",
      "Chat-IRES-Cre-neo;Ai14-585475.06.04.01\n",
      "\t\tno manual swc to register\n",
      "Chat-IRES-Cre-neo;Ai14-585475.07.03.01\n"
     ]
    },
    {
     "name": "stderr",
     "output_type": "stream",
     "text": [
      "c:\\Users\\sarah.wallingbell\\AppData\\Local\\anaconda3\\envs\\morph_utils_v3\\lib\\site-packages\\scipy\\interpolate\\_interpolate.py:698: RuntimeWarning: invalid value encountered in divide\n",
      "  slope = (y_hi - y_lo) / (x_hi - x_lo)[:, None]\n",
      "c:\\Users\\sarah.wallingbell\\AppData\\Local\\anaconda3\\envs\\morph_utils_v3\\lib\\site-packages\\scipy\\interpolate\\_interpolate.py:698: RuntimeWarning: invalid value encountered in divide\n",
      "  slope = (y_hi - y_lo) / (x_hi - x_lo)[:, None]\n",
      "c:\\Users\\sarah.wallingbell\\AppData\\Local\\anaconda3\\envs\\morph_utils_v3\\lib\\site-packages\\scipy\\interpolate\\_interpolate.py:698: RuntimeWarning: invalid value encountered in divide\n",
      "  slope = (y_hi - y_lo) / (x_hi - x_lo)[:, None]\n",
      "c:\\Users\\sarah.wallingbell\\AppData\\Local\\anaconda3\\envs\\morph_utils_v3\\lib\\site-packages\\scipy\\interpolate\\_interpolate.py:698: RuntimeWarning: invalid value encountered in divide\n",
      "  slope = (y_hi - y_lo) / (x_hi - x_lo)[:, None]\n",
      "c:\\Users\\sarah.wallingbell\\AppData\\Local\\anaconda3\\envs\\morph_utils_v3\\lib\\site-packages\\scipy\\interpolate\\_interpolate.py:698: RuntimeWarning: invalid value encountered in divide\n",
      "  slope = (y_hi - y_lo) / (x_hi - x_lo)[:, None]\n"
     ]
    },
    {
     "name": "stdout",
     "output_type": "stream",
     "text": [
      "Pvalb-IRES-Cre;Ai14-764354.08.03.01\n",
      "Pvalb-IRES-Cre;Ai14-764354.08.03.02\n",
      "Pvalb-IRES-Cre;Ai14-764354.08.03.03\n",
      "Rorb-IRES2-Cre-neo;Ai14-556723.08.06.01\n",
      "\t\tno manual swc to register\n",
      "Rorb-IRES2-Cre-neo;Ai14-556723.08.06.03\n",
      "\t\tno manual swc to register\n",
      "\t\tno pp14 autotrace swc to register\n",
      "\t\tno raw autotrace swc to register\n",
      "Rorb-IRES2-Cre-neo;Ai14-556723.08.06.02\n",
      "Chat-IRES-Cre-neo;Ai14-586528.04.03.01\n",
      "\t\tno manual swc to register\n",
      "Chat-IRES-Cre-neo;Ai14-586528.04.03.02\n",
      "\t\tno manual swc to register\n",
      "Rorb-IRES2-Cre-neo;Ai14-556725.06.09.01\n",
      "\t\tno manual swc to register\n"
     ]
    },
    {
     "name": "stderr",
     "output_type": "stream",
     "text": [
      "c:\\Users\\sarah.wallingbell\\AppData\\Local\\anaconda3\\envs\\morph_utils_v3\\lib\\site-packages\\scipy\\interpolate\\_interpolate.py:698: RuntimeWarning: invalid value encountered in divide\n",
      "  slope = (y_hi - y_lo) / (x_hi - x_lo)[:, None]\n",
      "c:\\Users\\sarah.wallingbell\\AppData\\Local\\anaconda3\\envs\\morph_utils_v3\\lib\\site-packages\\scipy\\interpolate\\_interpolate.py:698: RuntimeWarning: invalid value encountered in divide\n",
      "  slope = (y_hi - y_lo) / (x_hi - x_lo)[:, None]\n",
      "c:\\Users\\sarah.wallingbell\\AppData\\Local\\anaconda3\\envs\\morph_utils_v3\\lib\\site-packages\\scipy\\interpolate\\_interpolate.py:698: RuntimeWarning: invalid value encountered in divide\n",
      "  slope = (y_hi - y_lo) / (x_hi - x_lo)[:, None]\n",
      "c:\\Users\\sarah.wallingbell\\AppData\\Local\\anaconda3\\envs\\morph_utils_v3\\lib\\site-packages\\scipy\\interpolate\\_interpolate.py:698: RuntimeWarning: invalid value encountered in divide\n",
      "  slope = (y_hi - y_lo) / (x_hi - x_lo)[:, None]\n",
      "c:\\Users\\sarah.wallingbell\\AppData\\Local\\anaconda3\\envs\\morph_utils_v3\\lib\\site-packages\\scipy\\interpolate\\_interpolate.py:698: RuntimeWarning: invalid value encountered in divide\n",
      "  slope = (y_hi - y_lo) / (x_hi - x_lo)[:, None]\n"
     ]
    },
    {
     "name": "stdout",
     "output_type": "stream",
     "text": [
      "Rorb-IRES2-Cre-neo;Ai14-556725.06.09.02\n",
      "\t\tno manual swc to register\n",
      "\t\tno pp14 autotrace swc to register\n",
      "\t\tno raw autotrace swc to register\n",
      "Rorb-IRES2-Cre-neo;Ai14-556725.06.09.03\n",
      "\t\tno manual swc to register\n",
      "Chat-IRES-Cre-neo;Ai14-586528.05.04.01\n",
      "Chat-IRES-Cre-neo;Ai14-586528.05.04.02\n",
      "\t\tno manual swc to register\n",
      "\t\tno pp14 autotrace swc to register\n",
      "\t\tno raw autotrace swc to register\n",
      "Chat-IRES-Cre-neo;Ai14-586529.07.04.01\n",
      "\t\tno manual swc to register\n",
      "\t\tno pp14 autotrace swc to register\n",
      "\t\tno raw autotrace swc to register\n",
      "Chat-IRES-Cre-neo;Ai14-586529.07.04.02\n"
     ]
    },
    {
     "name": "stderr",
     "output_type": "stream",
     "text": [
      "c:\\Users\\sarah.wallingbell\\AppData\\Local\\anaconda3\\envs\\morph_utils_v3\\lib\\site-packages\\scipy\\interpolate\\_interpolate.py:698: RuntimeWarning: invalid value encountered in divide\n",
      "  slope = (y_hi - y_lo) / (x_hi - x_lo)[:, None]\n",
      "c:\\Users\\sarah.wallingbell\\AppData\\Local\\anaconda3\\envs\\morph_utils_v3\\lib\\site-packages\\scipy\\interpolate\\_interpolate.py:698: RuntimeWarning: invalid value encountered in divide\n",
      "  slope = (y_hi - y_lo) / (x_hi - x_lo)[:, None]\n",
      "c:\\Users\\sarah.wallingbell\\AppData\\Local\\anaconda3\\envs\\morph_utils_v3\\lib\\site-packages\\scipy\\interpolate\\_interpolate.py:698: RuntimeWarning: invalid value encountered in divide\n",
      "  slope = (y_hi - y_lo) / (x_hi - x_lo)[:, None]\n",
      "c:\\Users\\sarah.wallingbell\\AppData\\Local\\anaconda3\\envs\\morph_utils_v3\\lib\\site-packages\\scipy\\interpolate\\_interpolate.py:698: RuntimeWarning: invalid value encountered in divide\n",
      "  slope = (y_hi - y_lo) / (x_hi - x_lo)[:, None]\n",
      "c:\\Users\\sarah.wallingbell\\AppData\\Local\\anaconda3\\envs\\morph_utils_v3\\lib\\site-packages\\scipy\\interpolate\\_interpolate.py:698: RuntimeWarning: invalid value encountered in divide\n",
      "  slope = (y_hi - y_lo) / (x_hi - x_lo)[:, None]\n"
     ]
    },
    {
     "name": "stdout",
     "output_type": "stream",
     "text": [
      "Chat-IRES-Cre-neo;Ai14-586529.07.04.03\n",
      "\t\tno manual swc to register\n"
     ]
    },
    {
     "name": "stderr",
     "output_type": "stream",
     "text": [
      "c:\\Users\\sarah.wallingbell\\AppData\\Local\\anaconda3\\envs\\morph_utils_v3\\lib\\site-packages\\scipy\\interpolate\\_interpolate.py:698: RuntimeWarning: invalid value encountered in divide\n",
      "  slope = (y_hi - y_lo) / (x_hi - x_lo)[:, None]\n",
      "c:\\Users\\sarah.wallingbell\\AppData\\Local\\anaconda3\\envs\\morph_utils_v3\\lib\\site-packages\\scipy\\interpolate\\_interpolate.py:698: RuntimeWarning: invalid value encountered in divide\n",
      "  slope = (y_hi - y_lo) / (x_hi - x_lo)[:, None]\n",
      "c:\\Users\\sarah.wallingbell\\AppData\\Local\\anaconda3\\envs\\morph_utils_v3\\lib\\site-packages\\scipy\\interpolate\\_interpolate.py:698: RuntimeWarning: invalid value encountered in divide\n",
      "  slope = (y_hi - y_lo) / (x_hi - x_lo)[:, None]\n",
      "c:\\Users\\sarah.wallingbell\\AppData\\Local\\anaconda3\\envs\\morph_utils_v3\\lib\\site-packages\\scipy\\interpolate\\_interpolate.py:698: RuntimeWarning: invalid value encountered in divide\n",
      "  slope = (y_hi - y_lo) / (x_hi - x_lo)[:, None]\n",
      "c:\\Users\\sarah.wallingbell\\AppData\\Local\\anaconda3\\envs\\morph_utils_v3\\lib\\site-packages\\scipy\\interpolate\\_interpolate.py:698: RuntimeWarning: invalid value encountered in divide\n",
      "  slope = (y_hi - y_lo) / (x_hi - x_lo)[:, None]\n"
     ]
    },
    {
     "name": "stdout",
     "output_type": "stream",
     "text": [
      "Dbh-Cre-KI;Ai65-725229.09.06.01\n",
      "\t\tno manual swc to register\n",
      "\t\tno pp14 autotrace swc to register\n",
      "\t\tno raw autotrace swc to register\n",
      "Dbh-Cre-KI;Ai65-725229.09.06.02\n",
      "\t\tno manual swc to register\n",
      "\t\tno pp14 autotrace swc to register\n",
      "Dbh-Cre-KI;Ai65-725229.09.06.03\n",
      "\t\tno manual swc to register\n",
      "\t\tno pp14 autotrace swc to register\n",
      "\t\tno raw autotrace swc to register\n",
      "Dbh-Cre-KI;Ai65-725229.09.06.04\n",
      "\t\tno manual swc to register\n",
      "\t\tno pp14 autotrace swc to register\n",
      "\t\tno raw autotrace swc to register\n",
      "Chat-IRES-Cre-neo;Ai14-595718.07.04.01\n",
      "\t\tno manual swc to register\n",
      "\t\tno pp14 autotrace swc to register\n",
      "\t\tno raw autotrace swc to register\n",
      "Chat-IRES-Cre-neo;Ai14-595718.07.04.02\n",
      "\t\tno manual swc to register\n",
      "\t\tno pp14 autotrace swc to register\n",
      "\t\tno raw autotrace swc to register\n",
      "Chat-IRES-Cre-neo;Ai14-595718.07.04.03\n",
      "\t\tno manual swc to register\n",
      "Chat-IRES-Cre-neo;Ai14-595718.07.04.04\n",
      "\t\tno manual swc to register\n",
      "\t\tno pp14 autotrace swc to register\n",
      "\t\tno raw autotrace swc to register\n",
      "Chat-IRES-Cre-neo;Ai14-595718.07.04.05\n",
      "\t\tno manual swc to register\n",
      "\t\tno pp14 autotrace swc to register\n",
      "\t\tno raw autotrace swc to register\n",
      "Chat-IRES-Cre-neo;Ai14-592380.05.03.01\n",
      "\t\tno manual swc to register\n",
      "Chat-IRES-Cre-neo;Ai14-592380.05.03.02\n",
      "\t\tno manual swc to register\n",
      "\t\tno pp14 autotrace swc to register\n",
      "\t\tno raw autotrace swc to register\n",
      "Chat-IRES-Cre-neo;Ai14-592380.05.03.03\n",
      "\t\tno manual swc to register\n",
      "\t\tno pp14 autotrace swc to register\n",
      "\t\tno raw autotrace swc to register\n",
      "Chat-IRES-Cre-neo;Ai14-592380.06.03.01\n",
      "\t\tno manual swc to register\n",
      "Chat-IRES-Cre-neo;Ai14-592380.06.03.02\n",
      "\t\tno manual swc to register\n",
      "\t\tno pp14 autotrace swc to register\n",
      "\t\tno raw autotrace swc to register\n",
      "Chat-IRES-Cre-neo;Ai14-592380.06.03.03\n",
      "\t\tno manual swc to register\n",
      "\t\tno pp14 autotrace swc to register\n",
      "\t\tno raw autotrace swc to register\n",
      "Rorb-IRES2-Cre-neo;Ai14-556727.08.06.01\n",
      "Chat-IRES-Cre-neo;Ai14-600091.05.03.01\n",
      "Chat-IRES-Cre-neo;Ai14-600091.05.03.02\n",
      "\t\tno manual swc to register\n",
      "\t\tno pp14 autotrace swc to register\n",
      "\t\tno raw autotrace swc to register\n",
      "Chat-IRES-Cre-neo;Ai14-600091.05.03.03\n",
      "\t\tno manual swc to register\n",
      "\t\tno pp14 autotrace swc to register\n",
      "\t\tno raw autotrace swc to register\n",
      "Chat-IRES-Cre-neo;Ai14-600091.05.03.04\n",
      "\t\tno manual swc to register\n",
      "\t\tno pp14 autotrace swc to register\n",
      "\t\tno raw autotrace swc to register\n",
      "Chat-IRES-Cre-neo;Ai14-600091.05.03.05\n",
      "\t\tno manual swc to register\n"
     ]
    },
    {
     "name": "stderr",
     "output_type": "stream",
     "text": [
      "c:\\Users\\sarah.wallingbell\\AppData\\Local\\anaconda3\\envs\\morph_utils_v3\\lib\\site-packages\\scipy\\interpolate\\_interpolate.py:698: RuntimeWarning: invalid value encountered in divide\n",
      "  slope = (y_hi - y_lo) / (x_hi - x_lo)[:, None]\n",
      "c:\\Users\\sarah.wallingbell\\AppData\\Local\\anaconda3\\envs\\morph_utils_v3\\lib\\site-packages\\scipy\\interpolate\\_interpolate.py:698: RuntimeWarning: invalid value encountered in divide\n",
      "  slope = (y_hi - y_lo) / (x_hi - x_lo)[:, None]\n",
      "c:\\Users\\sarah.wallingbell\\AppData\\Local\\anaconda3\\envs\\morph_utils_v3\\lib\\site-packages\\scipy\\interpolate\\_interpolate.py:698: RuntimeWarning: invalid value encountered in divide\n",
      "  slope = (y_hi - y_lo) / (x_hi - x_lo)[:, None]\n",
      "c:\\Users\\sarah.wallingbell\\AppData\\Local\\anaconda3\\envs\\morph_utils_v3\\lib\\site-packages\\scipy\\interpolate\\_interpolate.py:698: RuntimeWarning: invalid value encountered in divide\n",
      "  slope = (y_hi - y_lo) / (x_hi - x_lo)[:, None]\n",
      "c:\\Users\\sarah.wallingbell\\AppData\\Local\\anaconda3\\envs\\morph_utils_v3\\lib\\site-packages\\scipy\\interpolate\\_interpolate.py:698: RuntimeWarning: invalid value encountered in divide\n",
      "  slope = (y_hi - y_lo) / (x_hi - x_lo)[:, None]\n"
     ]
    },
    {
     "name": "stdout",
     "output_type": "stream",
     "text": [
      "Chat-IRES-Cre-neo;Ai14-600092.06.03.01\n",
      "\t\tno manual swc to register\n",
      "\t\tno pp14 autotrace swc to register\n",
      "\t\tno raw autotrace swc to register\n",
      "Chat-IRES-Cre-neo;Ai14-600092.06.03.02\n",
      "\t\tno manual swc to register\n",
      "Chat-IRES-Cre-neo;Ai14-600095.06.03.01\n",
      "\t\tno manual swc to register\n",
      "\t\tno pp14 autotrace swc to register\n",
      "\t\tno raw autotrace swc to register\n",
      "Chat-IRES-Cre-neo;Ai14-600095.06.03.02\n"
     ]
    },
    {
     "name": "stderr",
     "output_type": "stream",
     "text": [
      "c:\\Users\\sarah.wallingbell\\AppData\\Local\\anaconda3\\envs\\morph_utils_v3\\lib\\site-packages\\scipy\\interpolate\\_interpolate.py:698: RuntimeWarning: invalid value encountered in divide\n",
      "  slope = (y_hi - y_lo) / (x_hi - x_lo)[:, None]\n",
      "c:\\Users\\sarah.wallingbell\\AppData\\Local\\anaconda3\\envs\\morph_utils_v3\\lib\\site-packages\\scipy\\interpolate\\_interpolate.py:698: RuntimeWarning: invalid value encountered in divide\n",
      "  slope = (y_hi - y_lo) / (x_hi - x_lo)[:, None]\n",
      "c:\\Users\\sarah.wallingbell\\AppData\\Local\\anaconda3\\envs\\morph_utils_v3\\lib\\site-packages\\scipy\\interpolate\\_interpolate.py:698: RuntimeWarning: invalid value encountered in divide\n",
      "  slope = (y_hi - y_lo) / (x_hi - x_lo)[:, None]\n",
      "c:\\Users\\sarah.wallingbell\\AppData\\Local\\anaconda3\\envs\\morph_utils_v3\\lib\\site-packages\\scipy\\interpolate\\_interpolate.py:698: RuntimeWarning: invalid value encountered in divide\n",
      "  slope = (y_hi - y_lo) / (x_hi - x_lo)[:, None]\n",
      "c:\\Users\\sarah.wallingbell\\AppData\\Local\\anaconda3\\envs\\morph_utils_v3\\lib\\site-packages\\scipy\\interpolate\\_interpolate.py:698: RuntimeWarning: invalid value encountered in divide\n",
      "  slope = (y_hi - y_lo) / (x_hi - x_lo)[:, None]\n"
     ]
    },
    {
     "name": "stdout",
     "output_type": "stream",
     "text": [
      "Chat-IRES-Cre-neo;Ai14-600095.06.03.03\n",
      "Chat-IRES-Cre-neo;Ai14-600095.06.04.01\n",
      "\t\tno manual swc to register\n",
      "\t\tno pp14 autotrace swc to register\n",
      "\t\tno raw autotrace swc to register\n",
      "Chat-IRES-Cre-neo;Ai14-600095.06.04.02\n",
      "\t\tno manual swc to register\n",
      "\t\tno pp14 autotrace swc to register\n",
      "\t\tno raw autotrace swc to register\n",
      "Chat-IRES-Cre-neo;Ai14-600095.06.04.03\n",
      "\t\tno manual swc to register\n",
      "\t\tno pp14 autotrace swc to register\n",
      "\t\tno raw autotrace swc to register\n",
      "Chat-IRES-Cre-neo;Ai14-600095.06.04.04\n",
      "\t\tno manual swc to register\n",
      "Chat-IRES-Cre-neo;Ai14-600095.06.04.05\n",
      "\t\tno manual swc to register\n"
     ]
    },
    {
     "name": "stderr",
     "output_type": "stream",
     "text": [
      "c:\\Users\\sarah.wallingbell\\AppData\\Local\\anaconda3\\envs\\morph_utils_v3\\lib\\site-packages\\scipy\\interpolate\\_interpolate.py:698: RuntimeWarning: invalid value encountered in divide\n",
      "  slope = (y_hi - y_lo) / (x_hi - x_lo)[:, None]\n",
      "c:\\Users\\sarah.wallingbell\\AppData\\Local\\anaconda3\\envs\\morph_utils_v3\\lib\\site-packages\\scipy\\interpolate\\_interpolate.py:698: RuntimeWarning: invalid value encountered in divide\n",
      "  slope = (y_hi - y_lo) / (x_hi - x_lo)[:, None]\n",
      "c:\\Users\\sarah.wallingbell\\AppData\\Local\\anaconda3\\envs\\morph_utils_v3\\lib\\site-packages\\scipy\\interpolate\\_interpolate.py:698: RuntimeWarning: invalid value encountered in divide\n",
      "  slope = (y_hi - y_lo) / (x_hi - x_lo)[:, None]\n",
      "c:\\Users\\sarah.wallingbell\\AppData\\Local\\anaconda3\\envs\\morph_utils_v3\\lib\\site-packages\\scipy\\interpolate\\_interpolate.py:698: RuntimeWarning: invalid value encountered in divide\n",
      "  slope = (y_hi - y_lo) / (x_hi - x_lo)[:, None]\n",
      "c:\\Users\\sarah.wallingbell\\AppData\\Local\\anaconda3\\envs\\morph_utils_v3\\lib\\site-packages\\scipy\\interpolate\\_interpolate.py:698: RuntimeWarning: invalid value encountered in divide\n",
      "  slope = (y_hi - y_lo) / (x_hi - x_lo)[:, None]\n"
     ]
    },
    {
     "name": "stdout",
     "output_type": "stream",
     "text": [
      "Chat-IRES-Cre-neo;Ai14-600095.06.04.06\n",
      "\t\tno manual swc to register\n"
     ]
    },
    {
     "name": "stderr",
     "output_type": "stream",
     "text": [
      "c:\\Users\\sarah.wallingbell\\AppData\\Local\\anaconda3\\envs\\morph_utils_v3\\lib\\site-packages\\scipy\\interpolate\\_interpolate.py:698: RuntimeWarning: invalid value encountered in divide\n",
      "  slope = (y_hi - y_lo) / (x_hi - x_lo)[:, None]\n",
      "c:\\Users\\sarah.wallingbell\\AppData\\Local\\anaconda3\\envs\\morph_utils_v3\\lib\\site-packages\\scipy\\interpolate\\_interpolate.py:698: RuntimeWarning: invalid value encountered in divide\n",
      "  slope = (y_hi - y_lo) / (x_hi - x_lo)[:, None]\n",
      "c:\\Users\\sarah.wallingbell\\AppData\\Local\\anaconda3\\envs\\morph_utils_v3\\lib\\site-packages\\scipy\\interpolate\\_interpolate.py:698: RuntimeWarning: invalid value encountered in divide\n",
      "  slope = (y_hi - y_lo) / (x_hi - x_lo)[:, None]\n",
      "c:\\Users\\sarah.wallingbell\\AppData\\Local\\anaconda3\\envs\\morph_utils_v3\\lib\\site-packages\\scipy\\interpolate\\_interpolate.py:698: RuntimeWarning: invalid value encountered in divide\n",
      "  slope = (y_hi - y_lo) / (x_hi - x_lo)[:, None]\n",
      "c:\\Users\\sarah.wallingbell\\AppData\\Local\\anaconda3\\envs\\morph_utils_v3\\lib\\site-packages\\scipy\\interpolate\\_interpolate.py:698: RuntimeWarning: invalid value encountered in divide\n",
      "  slope = (y_hi - y_lo) / (x_hi - x_lo)[:, None]\n"
     ]
    },
    {
     "name": "stdout",
     "output_type": "stream",
     "text": [
      "Chat-IRES-Cre-neo;Ai14-606032.07.04.01\n",
      "\t\tno manual swc to register\n"
     ]
    },
    {
     "name": "stderr",
     "output_type": "stream",
     "text": [
      "c:\\Users\\sarah.wallingbell\\AppData\\Local\\anaconda3\\envs\\morph_utils_v3\\lib\\site-packages\\scipy\\interpolate\\_interpolate.py:698: RuntimeWarning: invalid value encountered in divide\n",
      "  slope = (y_hi - y_lo) / (x_hi - x_lo)[:, None]\n",
      "c:\\Users\\sarah.wallingbell\\AppData\\Local\\anaconda3\\envs\\morph_utils_v3\\lib\\site-packages\\scipy\\interpolate\\_interpolate.py:698: RuntimeWarning: invalid value encountered in divide\n",
      "  slope = (y_hi - y_lo) / (x_hi - x_lo)[:, None]\n",
      "c:\\Users\\sarah.wallingbell\\AppData\\Local\\anaconda3\\envs\\morph_utils_v3\\lib\\site-packages\\scipy\\interpolate\\_interpolate.py:698: RuntimeWarning: invalid value encountered in divide\n",
      "  slope = (y_hi - y_lo) / (x_hi - x_lo)[:, None]\n",
      "c:\\Users\\sarah.wallingbell\\AppData\\Local\\anaconda3\\envs\\morph_utils_v3\\lib\\site-packages\\scipy\\interpolate\\_interpolate.py:698: RuntimeWarning: invalid value encountered in divide\n",
      "  slope = (y_hi - y_lo) / (x_hi - x_lo)[:, None]\n",
      "c:\\Users\\sarah.wallingbell\\AppData\\Local\\anaconda3\\envs\\morph_utils_v3\\lib\\site-packages\\scipy\\interpolate\\_interpolate.py:698: RuntimeWarning: invalid value encountered in divide\n",
      "  slope = (y_hi - y_lo) / (x_hi - x_lo)[:, None]\n"
     ]
    },
    {
     "name": "stdout",
     "output_type": "stream",
     "text": [
      "Chat-IRES-Cre-neo;Ai14-606032.07.04.02\n",
      "\t\tno manual swc to register\n"
     ]
    },
    {
     "name": "stderr",
     "output_type": "stream",
     "text": [
      "c:\\Users\\sarah.wallingbell\\AppData\\Local\\anaconda3\\envs\\morph_utils_v3\\lib\\site-packages\\scipy\\interpolate\\_interpolate.py:698: RuntimeWarning: invalid value encountered in divide\n",
      "  slope = (y_hi - y_lo) / (x_hi - x_lo)[:, None]\n",
      "c:\\Users\\sarah.wallingbell\\AppData\\Local\\anaconda3\\envs\\morph_utils_v3\\lib\\site-packages\\scipy\\interpolate\\_interpolate.py:698: RuntimeWarning: invalid value encountered in divide\n",
      "  slope = (y_hi - y_lo) / (x_hi - x_lo)[:, None]\n",
      "c:\\Users\\sarah.wallingbell\\AppData\\Local\\anaconda3\\envs\\morph_utils_v3\\lib\\site-packages\\scipy\\interpolate\\_interpolate.py:698: RuntimeWarning: invalid value encountered in divide\n",
      "  slope = (y_hi - y_lo) / (x_hi - x_lo)[:, None]\n",
      "c:\\Users\\sarah.wallingbell\\AppData\\Local\\anaconda3\\envs\\morph_utils_v3\\lib\\site-packages\\scipy\\interpolate\\_interpolate.py:698: RuntimeWarning: invalid value encountered in divide\n",
      "  slope = (y_hi - y_lo) / (x_hi - x_lo)[:, None]\n",
      "c:\\Users\\sarah.wallingbell\\AppData\\Local\\anaconda3\\envs\\morph_utils_v3\\lib\\site-packages\\scipy\\interpolate\\_interpolate.py:698: RuntimeWarning: invalid value encountered in divide\n",
      "  slope = (y_hi - y_lo) / (x_hi - x_lo)[:, None]\n"
     ]
    },
    {
     "name": "stdout",
     "output_type": "stream",
     "text": [
      "Chat-IRES-Cre-neo;Ai14-600091.07.03.01\n",
      "\t\tno manual swc to register\n",
      "\t\tno pp14 autotrace swc to register\n",
      "\t\tno raw autotrace swc to register\n",
      "Chat-IRES-Cre-neo;Ai14-600091.07.03.02\n",
      "\t\tno manual swc to register\n",
      "\t\tno pp14 autotrace swc to register\n",
      "\t\tno raw autotrace swc to register\n",
      "Chat-IRES-Cre-neo;Ai14-600091.07.03.03\n",
      "Chat-IRES-Cre-neo;Ai14-600091.07.03.04\n",
      "Chat-IRES-Cre-neo;Ai14-600091.07.03.05\n",
      "\t\tno manual swc to register\n",
      "Chat-IRES-Cre-neo;Ai14-606033.04.04.01\n",
      "\t\tno manual swc to register\n",
      "\t\tno pp14 autotrace swc to register\n",
      "\t\tno raw autotrace swc to register\n",
      "Chat-IRES-Cre-neo;Ai14-606033.04.04.02\n",
      "\t\tno manual swc to register\n",
      "\t\tno pp14 autotrace swc to register\n",
      "\t\tno raw autotrace swc to register\n",
      "Chat-IRES-Cre-neo;Ai14-606033.04.04.03\n",
      "\t\tno manual swc to register\n",
      "\t\tno pp14 autotrace swc to register\n",
      "\t\tno raw autotrace swc to register\n",
      "Chat-IRES-Cre-neo;Ai14-606033.04.04.04\n",
      "\t\tno manual swc to register\n",
      "\t\tno pp14 autotrace swc to register\n",
      "\t\tno raw autotrace swc to register\n",
      "Chat-IRES-Cre-neo;Ai14-606033.04.04.05\n",
      "Chat-IRES-Cre-neo;Ai14-606033.04.04.06\n",
      "\t\tno manual swc to register\n",
      "\t\tno pp14 autotrace swc to register\n",
      "\t\tno raw autotrace swc to register\n",
      "Chat-IRES-Cre-neo;Ai14-609252.05.03.01\n",
      "\t\tno manual swc to register\n",
      "\t\tno pp14 autotrace swc to register\n",
      "\t\tno raw autotrace swc to register\n",
      "Chat-IRES-Cre-neo;Ai14-609252.05.03.03\n"
     ]
    },
    {
     "name": "stderr",
     "output_type": "stream",
     "text": [
      "c:\\Users\\sarah.wallingbell\\AppData\\Local\\anaconda3\\envs\\morph_utils_v3\\lib\\site-packages\\scipy\\interpolate\\_interpolate.py:698: RuntimeWarning: invalid value encountered in divide\n",
      "  slope = (y_hi - y_lo) / (x_hi - x_lo)[:, None]\n",
      "c:\\Users\\sarah.wallingbell\\AppData\\Local\\anaconda3\\envs\\morph_utils_v3\\lib\\site-packages\\scipy\\interpolate\\_interpolate.py:698: RuntimeWarning: invalid value encountered in divide\n",
      "  slope = (y_hi - y_lo) / (x_hi - x_lo)[:, None]\n",
      "c:\\Users\\sarah.wallingbell\\AppData\\Local\\anaconda3\\envs\\morph_utils_v3\\lib\\site-packages\\scipy\\interpolate\\_interpolate.py:698: RuntimeWarning: invalid value encountered in divide\n",
      "  slope = (y_hi - y_lo) / (x_hi - x_lo)[:, None]\n",
      "c:\\Users\\sarah.wallingbell\\AppData\\Local\\anaconda3\\envs\\morph_utils_v3\\lib\\site-packages\\scipy\\interpolate\\_interpolate.py:698: RuntimeWarning: invalid value encountered in divide\n",
      "  slope = (y_hi - y_lo) / (x_hi - x_lo)[:, None]\n",
      "c:\\Users\\sarah.wallingbell\\AppData\\Local\\anaconda3\\envs\\morph_utils_v3\\lib\\site-packages\\scipy\\interpolate\\_interpolate.py:698: RuntimeWarning: invalid value encountered in divide\n",
      "  slope = (y_hi - y_lo) / (x_hi - x_lo)[:, None]\n"
     ]
    },
    {
     "name": "stdout",
     "output_type": "stream",
     "text": [
      "Chat-IRES-Cre-neo;Ai14-609252.05.03.02\n",
      "\t\tno manual swc to register\n",
      "\t\tno pp14 autotrace swc to register\n",
      "\t\tno raw autotrace swc to register\n",
      "Chat-IRES-Cre-neo;Ai14-609252.06.04.01\n",
      "\t\tno manual swc to register\n",
      "\t\tno pp14 autotrace swc to register\n",
      "\t\tno raw autotrace swc to register\n",
      "Chat-IRES-Cre-neo;Ai14-609252.06.04.02\n"
     ]
    },
    {
     "name": "stderr",
     "output_type": "stream",
     "text": [
      "c:\\Users\\sarah.wallingbell\\AppData\\Local\\anaconda3\\envs\\morph_utils_v3\\lib\\site-packages\\scipy\\interpolate\\_interpolate.py:698: RuntimeWarning: invalid value encountered in divide\n",
      "  slope = (y_hi - y_lo) / (x_hi - x_lo)[:, None]\n",
      "c:\\Users\\sarah.wallingbell\\AppData\\Local\\anaconda3\\envs\\morph_utils_v3\\lib\\site-packages\\scipy\\interpolate\\_interpolate.py:698: RuntimeWarning: invalid value encountered in divide\n",
      "  slope = (y_hi - y_lo) / (x_hi - x_lo)[:, None]\n",
      "c:\\Users\\sarah.wallingbell\\AppData\\Local\\anaconda3\\envs\\morph_utils_v3\\lib\\site-packages\\scipy\\interpolate\\_interpolate.py:698: RuntimeWarning: invalid value encountered in divide\n",
      "  slope = (y_hi - y_lo) / (x_hi - x_lo)[:, None]\n",
      "c:\\Users\\sarah.wallingbell\\AppData\\Local\\anaconda3\\envs\\morph_utils_v3\\lib\\site-packages\\scipy\\interpolate\\_interpolate.py:698: RuntimeWarning: invalid value encountered in divide\n",
      "  slope = (y_hi - y_lo) / (x_hi - x_lo)[:, None]\n",
      "c:\\Users\\sarah.wallingbell\\AppData\\Local\\anaconda3\\envs\\morph_utils_v3\\lib\\site-packages\\scipy\\interpolate\\_interpolate.py:698: RuntimeWarning: invalid value encountered in divide\n",
      "  slope = (y_hi - y_lo) / (x_hi - x_lo)[:, None]\n"
     ]
    },
    {
     "name": "stdout",
     "output_type": "stream",
     "text": [
      "Chat-IRES-Cre-neo;Ai14-609252.06.04.03\n",
      "\t\tno manual swc to register\n",
      "Chat-IRES-Cre-neo;Ai14-609252.06.04.04\n",
      "\t\tno manual swc to register\n",
      "\t\tno pp14 autotrace swc to register\n",
      "\t\tno raw autotrace swc to register\n",
      "Chat-IRES-Cre-neo;Ai14-623124.07.04.01\n",
      "\t\tno manual swc to register\n",
      "\t\tno pp14 autotrace swc to register\n",
      "\t\tno raw autotrace swc to register\n",
      "Chat-IRES-Cre-neo;Ai14-623124.07.04.02\n",
      "\t\tno manual swc to register\n",
      "\t\tno pp14 autotrace swc to register\n",
      "\t\tno raw autotrace swc to register\n",
      "Chat-IRES-Cre-neo;Ai14-623124.07.04.03\n",
      "\t\tno manual swc to register\n"
     ]
    },
    {
     "name": "stderr",
     "output_type": "stream",
     "text": [
      "c:\\Users\\sarah.wallingbell\\AppData\\Local\\anaconda3\\envs\\morph_utils_v3\\lib\\site-packages\\scipy\\interpolate\\_interpolate.py:698: RuntimeWarning: invalid value encountered in divide\n",
      "  slope = (y_hi - y_lo) / (x_hi - x_lo)[:, None]\n",
      "c:\\Users\\sarah.wallingbell\\AppData\\Local\\anaconda3\\envs\\morph_utils_v3\\lib\\site-packages\\scipy\\interpolate\\_interpolate.py:698: RuntimeWarning: invalid value encountered in divide\n",
      "  slope = (y_hi - y_lo) / (x_hi - x_lo)[:, None]\n",
      "c:\\Users\\sarah.wallingbell\\AppData\\Local\\anaconda3\\envs\\morph_utils_v3\\lib\\site-packages\\scipy\\interpolate\\_interpolate.py:698: RuntimeWarning: invalid value encountered in divide\n",
      "  slope = (y_hi - y_lo) / (x_hi - x_lo)[:, None]\n",
      "c:\\Users\\sarah.wallingbell\\AppData\\Local\\anaconda3\\envs\\morph_utils_v3\\lib\\site-packages\\scipy\\interpolate\\_interpolate.py:698: RuntimeWarning: invalid value encountered in divide\n",
      "  slope = (y_hi - y_lo) / (x_hi - x_lo)[:, None]\n",
      "c:\\Users\\sarah.wallingbell\\AppData\\Local\\anaconda3\\envs\\morph_utils_v3\\lib\\site-packages\\scipy\\interpolate\\_interpolate.py:698: RuntimeWarning: invalid value encountered in divide\n",
      "  slope = (y_hi - y_lo) / (x_hi - x_lo)[:, None]\n"
     ]
    },
    {
     "name": "stdout",
     "output_type": "stream",
     "text": [
      "Chat-IRES-Cre-neo;Ai14-623127.07.03.01\n",
      "\t\tno manual swc to register\n",
      "\t\tno pp14 autotrace swc to register\n",
      "\t\tno raw autotrace swc to register\n",
      "Chat-IRES-Cre-neo;Ai14-623127.07.03.02\n",
      "\t\tno manual swc to register\n",
      "\t\tno pp14 autotrace swc to register\n",
      "\t\tno raw autotrace swc to register\n",
      "Chat-IRES-Cre-neo;Ai14-623127.07.03.03\n",
      "\t\tno manual swc to register\n",
      "Chat-IRES-Cre-neo;Ai14-624495.09.03.01\n",
      "\t\tno manual swc to register\n",
      "\t\tno pp14 autotrace swc to register\n",
      "\t\tno raw autotrace swc to register\n",
      "Chat-IRES-Cre-neo;Ai14-624495.09.03.02\n",
      "\t\tno manual swc to register\n",
      "Chat-IRES-Cre-neo;Ai14-624495.09.03.03\n",
      "\t\tno manual swc to register\n",
      "\t\tno pp14 autotrace swc to register\n",
      "\t\tno raw autotrace swc to register\n",
      "Chat-IRES-Cre-neo;Ai14-624495.09.03.04\n",
      "\t\tno manual swc to register\n",
      "\t\tno pp14 autotrace swc to register\n",
      "\t\tno raw autotrace swc to register\n",
      "Rorb-IRES2-Cre-neo;Ai14-556806.05.09.01\n",
      "Chat-IRES-Cre-neo;Ai14-624496.06.03.01\n",
      "\t\tno manual swc to register\n",
      "\t\tno pp14 autotrace swc to register\n",
      "\t\tno raw autotrace swc to register\n",
      "Chat-IRES-Cre-neo;Ai14-624496.06.03.02\n",
      "\t\tno manual swc to register\n",
      "Chat-IRES-Cre-neo;Ai14-624496.06.03.03\n",
      "\t\tno manual swc to register\n",
      "Chat-IRES-Cre-neo;Ai14-624496.06.03.04\n",
      "\t\tno manual swc to register\n"
     ]
    },
    {
     "name": "stderr",
     "output_type": "stream",
     "text": [
      "c:\\Users\\sarah.wallingbell\\AppData\\Local\\anaconda3\\envs\\morph_utils_v3\\lib\\site-packages\\scipy\\interpolate\\_interpolate.py:698: RuntimeWarning: invalid value encountered in divide\n",
      "  slope = (y_hi - y_lo) / (x_hi - x_lo)[:, None]\n",
      "c:\\Users\\sarah.wallingbell\\AppData\\Local\\anaconda3\\envs\\morph_utils_v3\\lib\\site-packages\\scipy\\interpolate\\_interpolate.py:698: RuntimeWarning: invalid value encountered in divide\n",
      "  slope = (y_hi - y_lo) / (x_hi - x_lo)[:, None]\n",
      "c:\\Users\\sarah.wallingbell\\AppData\\Local\\anaconda3\\envs\\morph_utils_v3\\lib\\site-packages\\scipy\\interpolate\\_interpolate.py:698: RuntimeWarning: invalid value encountered in divide\n",
      "  slope = (y_hi - y_lo) / (x_hi - x_lo)[:, None]\n",
      "c:\\Users\\sarah.wallingbell\\AppData\\Local\\anaconda3\\envs\\morph_utils_v3\\lib\\site-packages\\scipy\\interpolate\\_interpolate.py:698: RuntimeWarning: invalid value encountered in divide\n",
      "  slope = (y_hi - y_lo) / (x_hi - x_lo)[:, None]\n",
      "c:\\Users\\sarah.wallingbell\\AppData\\Local\\anaconda3\\envs\\morph_utils_v3\\lib\\site-packages\\scipy\\interpolate\\_interpolate.py:698: RuntimeWarning: invalid value encountered in divide\n",
      "  slope = (y_hi - y_lo) / (x_hi - x_lo)[:, None]\n"
     ]
    },
    {
     "name": "stdout",
     "output_type": "stream",
     "text": [
      "Rorb-IRES2-Cre-neo;Ai14-571899.05.10.02\n"
     ]
    },
    {
     "name": "stderr",
     "output_type": "stream",
     "text": [
      "c:\\Users\\sarah.wallingbell\\AppData\\Local\\anaconda3\\envs\\morph_utils_v3\\lib\\site-packages\\scipy\\interpolate\\_interpolate.py:698: RuntimeWarning: invalid value encountered in divide\n",
      "  slope = (y_hi - y_lo) / (x_hi - x_lo)[:, None]\n",
      "c:\\Users\\sarah.wallingbell\\AppData\\Local\\anaconda3\\envs\\morph_utils_v3\\lib\\site-packages\\scipy\\interpolate\\_interpolate.py:698: RuntimeWarning: invalid value encountered in divide\n",
      "  slope = (y_hi - y_lo) / (x_hi - x_lo)[:, None]\n",
      "c:\\Users\\sarah.wallingbell\\AppData\\Local\\anaconda3\\envs\\morph_utils_v3\\lib\\site-packages\\scipy\\interpolate\\_interpolate.py:698: RuntimeWarning: invalid value encountered in divide\n",
      "  slope = (y_hi - y_lo) / (x_hi - x_lo)[:, None]\n",
      "c:\\Users\\sarah.wallingbell\\AppData\\Local\\anaconda3\\envs\\morph_utils_v3\\lib\\site-packages\\scipy\\interpolate\\_interpolate.py:698: RuntimeWarning: invalid value encountered in divide\n",
      "  slope = (y_hi - y_lo) / (x_hi - x_lo)[:, None]\n",
      "c:\\Users\\sarah.wallingbell\\AppData\\Local\\anaconda3\\envs\\morph_utils_v3\\lib\\site-packages\\scipy\\interpolate\\_interpolate.py:698: RuntimeWarning: invalid value encountered in divide\n",
      "  slope = (y_hi - y_lo) / (x_hi - x_lo)[:, None]\n"
     ]
    },
    {
     "name": "stdout",
     "output_type": "stream",
     "text": [
      "Rorb-IRES2-Cre-neo;Ai14-571899.05.10.01\n",
      "\t\tno manual swc to register\n",
      "\t\tno pp14 autotrace swc to register\n",
      "\t\tno raw autotrace swc to register\n",
      "Chat-IRES-Cre-neo;Ai14-627361.07.04.01\n",
      "\t\tno manual swc to register\n",
      "\t\tno pp14 autotrace swc to register\n",
      "\t\tno raw autotrace swc to register\n",
      "Chat-IRES-Cre-neo;Ai14-627361.07.04.02\n",
      "\t\tno manual swc to register\n",
      "\t\tno pp14 autotrace swc to register\n",
      "\t\tno raw autotrace swc to register\n",
      "Chat-IRES-Cre-neo;Ai14-627361.07.04.03\n",
      "Chat-IRES-Cre-neo;Ai14-624496.07.03.01\n",
      "\t\tno manual swc to register\n",
      "\t\tno pp14 autotrace swc to register\n",
      "\t\tno raw autotrace swc to register\n",
      "Chat-IRES-Cre-neo;Ai14-624496.07.03.02\n",
      "\t\tno manual swc to register\n",
      "Rorb-IRES2-Cre-neo;Ai14-575331.06.03.01\n",
      "\t\tno manual swc to register\n",
      "\t\tno pp14 autotrace swc to register\n",
      "\t\tno raw autotrace swc to register\n",
      "Rorb-IRES2-Cre-neo;Ai14-575331.06.03.02\n",
      "\t\tno manual swc to register\n",
      "Chat-IRES-Cre-neo;Ai14-624496.07.04.01\n",
      "\t\tno manual swc to register\n",
      "\t\tno pp14 autotrace swc to register\n",
      "\t\tno raw autotrace swc to register\n",
      "Chat-IRES-Cre-neo;Ai14-624496.07.04.02\n",
      "\t\tno manual swc to register\n",
      "\t\tno pp14 autotrace swc to register\n",
      "\t\tno raw autotrace swc to register\n",
      "Chat-IRES-Cre-neo;Ai14-624496.07.04.03\n",
      "\t\tno manual swc to register\n",
      "\t\tno pp14 autotrace swc to register\n",
      "\t\tno raw autotrace swc to register\n",
      "Chat-IRES-Cre-neo;Ai14-624496.07.04.04\n",
      "\t\tno manual swc to register\n",
      "Rorb-IRES2-Cre-neo;Ai14-598710.12.02.01\n",
      "Chat-IRES-Cre-neo;Ai14-627366.08.03.01\n"
     ]
    },
    {
     "name": "stderr",
     "output_type": "stream",
     "text": [
      "c:\\Users\\sarah.wallingbell\\AppData\\Local\\anaconda3\\envs\\morph_utils_v3\\lib\\site-packages\\scipy\\interpolate\\_interpolate.py:698: RuntimeWarning: invalid value encountered in divide\n",
      "  slope = (y_hi - y_lo) / (x_hi - x_lo)[:, None]\n",
      "c:\\Users\\sarah.wallingbell\\AppData\\Local\\anaconda3\\envs\\morph_utils_v3\\lib\\site-packages\\scipy\\interpolate\\_interpolate.py:698: RuntimeWarning: invalid value encountered in divide\n",
      "  slope = (y_hi - y_lo) / (x_hi - x_lo)[:, None]\n",
      "c:\\Users\\sarah.wallingbell\\AppData\\Local\\anaconda3\\envs\\morph_utils_v3\\lib\\site-packages\\scipy\\interpolate\\_interpolate.py:698: RuntimeWarning: invalid value encountered in divide\n",
      "  slope = (y_hi - y_lo) / (x_hi - x_lo)[:, None]\n",
      "c:\\Users\\sarah.wallingbell\\AppData\\Local\\anaconda3\\envs\\morph_utils_v3\\lib\\site-packages\\scipy\\interpolate\\_interpolate.py:698: RuntimeWarning: invalid value encountered in divide\n",
      "  slope = (y_hi - y_lo) / (x_hi - x_lo)[:, None]\n",
      "c:\\Users\\sarah.wallingbell\\AppData\\Local\\anaconda3\\envs\\morph_utils_v3\\lib\\site-packages\\scipy\\interpolate\\_interpolate.py:698: RuntimeWarning: invalid value encountered in divide\n",
      "  slope = (y_hi - y_lo) / (x_hi - x_lo)[:, None]\n"
     ]
    },
    {
     "name": "stdout",
     "output_type": "stream",
     "text": [
      "Chat-IRES-Cre-neo;Ai14-627366.08.03.02\n",
      "\t\tno manual swc to register\n",
      "\t\tno pp14 autotrace swc to register\n",
      "\t\tno raw autotrace swc to register\n",
      "Chat-IRES-Cre-neo;Ai14-627366.08.03.03\n",
      "\t\tno manual swc to register\n",
      "\t\tno pp14 autotrace swc to register\n",
      "\t\tno raw autotrace swc to register\n",
      "Chat-IRES-Cre-neo;Ai14-627366.08.03.04\n",
      "\t\tno manual swc to register\n",
      "Chat-IRES-Cre-neo;Ai14-628761.06.04.01\n",
      "\t\tno manual swc to register\n",
      "Chat-IRES-Cre-neo;Ai14-628761.06.04.02\n",
      "\t\tno manual swc to register\n",
      "\t\tno pp14 autotrace swc to register\n",
      "\t\tno raw autotrace swc to register\n",
      "Rorb-IRES2-Cre-neo;Ai14-611981.05.03.01\n",
      "\t\tno manual swc to register\n",
      "\t\tno pp14 autotrace swc to register\n",
      "\t\tno raw autotrace swc to register\n",
      "Rorb-IRES2-Cre-neo;Ai14-611981.05.03.02\n",
      "Chat-IRES-Cre-neo;Ai14-627361.09.03.01\n",
      "\t\tno manual swc to register\n",
      "\t\tno pp14 autotrace swc to register\n",
      "\t\tno raw autotrace swc to register\n",
      "Chat-IRES-Cre-neo;Ai14-627361.09.03.02\n",
      "\t\tno manual swc to register\n",
      "\t\tno pp14 autotrace swc to register\n",
      "\t\tno raw autotrace swc to register\n",
      "Chat-IRES-Cre-neo;Ai14-627361.09.03.03\n",
      "\t\tno manual swc to register\n",
      "\t\tno pp14 autotrace swc to register\n",
      "\t\tno raw autotrace swc to register\n",
      "Chat-IRES-Cre-neo;Ai14-627361.09.03.04\n",
      "\t\tno manual swc to register\n",
      "\t\tno pp14 autotrace swc to register\n",
      "\t\tno raw autotrace swc to register\n",
      "Chat-IRES-Cre-neo;Ai14-627361.09.03.05\n",
      "Rorb-IRES2-Cre-neo;Ai14-611981.07.03.01\n"
     ]
    },
    {
     "name": "stderr",
     "output_type": "stream",
     "text": [
      "c:\\Users\\sarah.wallingbell\\AppData\\Local\\anaconda3\\envs\\morph_utils_v3\\lib\\site-packages\\scipy\\interpolate\\_interpolate.py:698: RuntimeWarning: invalid value encountered in divide\n",
      "  slope = (y_hi - y_lo) / (x_hi - x_lo)[:, None]\n",
      "c:\\Users\\sarah.wallingbell\\AppData\\Local\\anaconda3\\envs\\morph_utils_v3\\lib\\site-packages\\scipy\\interpolate\\_interpolate.py:698: RuntimeWarning: invalid value encountered in divide\n",
      "  slope = (y_hi - y_lo) / (x_hi - x_lo)[:, None]\n",
      "c:\\Users\\sarah.wallingbell\\AppData\\Local\\anaconda3\\envs\\morph_utils_v3\\lib\\site-packages\\scipy\\interpolate\\_interpolate.py:698: RuntimeWarning: invalid value encountered in divide\n",
      "  slope = (y_hi - y_lo) / (x_hi - x_lo)[:, None]\n",
      "c:\\Users\\sarah.wallingbell\\AppData\\Local\\anaconda3\\envs\\morph_utils_v3\\lib\\site-packages\\scipy\\interpolate\\_interpolate.py:698: RuntimeWarning: invalid value encountered in divide\n",
      "  slope = (y_hi - y_lo) / (x_hi - x_lo)[:, None]\n",
      "c:\\Users\\sarah.wallingbell\\AppData\\Local\\anaconda3\\envs\\morph_utils_v3\\lib\\site-packages\\scipy\\interpolate\\_interpolate.py:698: RuntimeWarning: invalid value encountered in divide\n",
      "  slope = (y_hi - y_lo) / (x_hi - x_lo)[:, None]\n"
     ]
    },
    {
     "name": "stdout",
     "output_type": "stream",
     "text": [
      "Chat-IRES-Cre-neo;Ai14-631351.12.03.02\n",
      "\t\tno manual swc to register\n",
      "\t\tno pp14 autotrace swc to register\n",
      "\t\tno raw autotrace swc to register\n",
      "Chat-IRES-Cre-neo;Ai14-631351.12.03.03\n",
      "\t\tno manual swc to register\n",
      "Chat-IRES-Cre-neo;Ai14-631351.12.03.01\n",
      "\t\tno manual swc to register\n",
      "\t\tno pp14 autotrace swc to register\n",
      "\t\tno raw autotrace swc to register\n",
      "Ctgf-T2A-dgCre;Ai14-553528.09.09.01\n",
      "\t\tno manual swc to register\n",
      "Ctgf-T2A-dgCre;Ai14-553528.09.09.02\n",
      "\t\tno manual swc to register\n"
     ]
    },
    {
     "name": "stderr",
     "output_type": "stream",
     "text": [
      "c:\\Users\\sarah.wallingbell\\AppData\\Local\\anaconda3\\envs\\morph_utils_v3\\lib\\site-packages\\scipy\\interpolate\\_interpolate.py:698: RuntimeWarning: invalid value encountered in divide\n",
      "  slope = (y_hi - y_lo) / (x_hi - x_lo)[:, None]\n",
      "c:\\Users\\sarah.wallingbell\\AppData\\Local\\anaconda3\\envs\\morph_utils_v3\\lib\\site-packages\\scipy\\interpolate\\_interpolate.py:698: RuntimeWarning: invalid value encountered in divide\n",
      "  slope = (y_hi - y_lo) / (x_hi - x_lo)[:, None]\n",
      "c:\\Users\\sarah.wallingbell\\AppData\\Local\\anaconda3\\envs\\morph_utils_v3\\lib\\site-packages\\scipy\\interpolate\\_interpolate.py:698: RuntimeWarning: invalid value encountered in divide\n",
      "  slope = (y_hi - y_lo) / (x_hi - x_lo)[:, None]\n",
      "c:\\Users\\sarah.wallingbell\\AppData\\Local\\anaconda3\\envs\\morph_utils_v3\\lib\\site-packages\\scipy\\interpolate\\_interpolate.py:698: RuntimeWarning: invalid value encountered in divide\n",
      "  slope = (y_hi - y_lo) / (x_hi - x_lo)[:, None]\n",
      "c:\\Users\\sarah.wallingbell\\AppData\\Local\\anaconda3\\envs\\morph_utils_v3\\lib\\site-packages\\scipy\\interpolate\\_interpolate.py:698: RuntimeWarning: invalid value encountered in divide\n",
      "  slope = (y_hi - y_lo) / (x_hi - x_lo)[:, None]\n"
     ]
    },
    {
     "name": "stdout",
     "output_type": "stream",
     "text": [
      "Chat-IRES-Cre-neo;Ai14-631353.15.03.01\n",
      "\t\tno manual swc to register\n",
      "Chat-IRES-Cre-neo;Ai14-631353.15.03.03\n",
      "\t\tno manual swc to register\n",
      "Chat-IRES-Cre-neo;Ai14-631353.15.03.04\n",
      "\t\tno manual swc to register\n",
      "\t\tno pp14 autotrace swc to register\n",
      "\t\tno raw autotrace swc to register\n",
      "Gad2-IRES-Cre;Ai14-580680.07.04.01\n",
      "\t\tno manual swc to register\n",
      "\t\tno pp14 autotrace swc to register\n",
      "\t\tno raw autotrace swc to register\n",
      "Gad2-IRES-Cre;Ai14-580680.07.04.02\n",
      "\t\tno manual swc to register\n",
      "\t\tno pp14 autotrace swc to register\n",
      "\t\tno raw autotrace swc to register\n",
      "Gad2-IRES-Cre;Ai14-580680.07.04.03\n",
      "Gad2-IRES-Cre;Ai14-580680.07.04.04\n",
      "\t\tno manual swc to register\n",
      "\t\tno pp14 autotrace swc to register\n",
      "\t\tno raw autotrace swc to register\n",
      "Gad2-IRES-Cre;Ai14-580680.07.04.05\n",
      "\t\tno manual swc to register\n",
      "\t\tno pp14 autotrace swc to register\n",
      "\t\tno raw autotrace swc to register\n",
      "Gad2-IRES-Cre;Ai14-609670.05.03.01\n",
      "\t\tno manual swc to register\n",
      "\t\tno pp14 autotrace swc to register\n",
      "\t\tno raw autotrace swc to register\n",
      "Gad2-IRES-Cre;Ai14-609670.05.03.02\n",
      "\t\tno manual swc to register\n",
      "\t\tno pp14 autotrace swc to register\n",
      "\t\tno raw autotrace swc to register\n",
      "Gad2-IRES-Cre;Ai14-609670.05.03.03\n",
      "\t\tno manual swc to register\n",
      "\t\tno pp14 autotrace swc to register\n",
      "\t\tno raw autotrace swc to register\n",
      "Gad2-IRES-Cre;Ai14-609670.05.03.04\n",
      "\t\tno manual swc to register\n",
      "\t\tno pp14 autotrace swc to register\n",
      "\t\tno raw autotrace swc to register\n",
      "Gad2-IRES-Cre;Ai14-609670.05.03.05\n",
      "Chat-IRES-Cre-neo;Ai14-631355.12.03.01\n",
      "\t\tno manual swc to register\n",
      "\t\tno pp14 autotrace swc to register\n",
      "\t\tno raw autotrace swc to register\n",
      "Chat-IRES-Cre-neo;Ai14-631355.12.03.02\n",
      "\t\tno manual swc to register\n",
      "Dbh-Cre_KH212;RCL-H2B-GFP-657884.08.06.01\n",
      "Dbh-Cre_KH212;RCL-H2B-GFP-657884.08.06.02\n",
      "Chat-IRES-Cre-neo;Ai14-631355.13.04.01\n",
      "\t\tno manual swc to register\n"
     ]
    },
    {
     "name": "stderr",
     "output_type": "stream",
     "text": [
      "c:\\Users\\sarah.wallingbell\\AppData\\Local\\anaconda3\\envs\\morph_utils_v3\\lib\\site-packages\\scipy\\interpolate\\_interpolate.py:698: RuntimeWarning: invalid value encountered in divide\n",
      "  slope = (y_hi - y_lo) / (x_hi - x_lo)[:, None]\n",
      "c:\\Users\\sarah.wallingbell\\AppData\\Local\\anaconda3\\envs\\morph_utils_v3\\lib\\site-packages\\scipy\\interpolate\\_interpolate.py:698: RuntimeWarning: invalid value encountered in divide\n",
      "  slope = (y_hi - y_lo) / (x_hi - x_lo)[:, None]\n",
      "c:\\Users\\sarah.wallingbell\\AppData\\Local\\anaconda3\\envs\\morph_utils_v3\\lib\\site-packages\\scipy\\interpolate\\_interpolate.py:698: RuntimeWarning: invalid value encountered in divide\n",
      "  slope = (y_hi - y_lo) / (x_hi - x_lo)[:, None]\n",
      "c:\\Users\\sarah.wallingbell\\AppData\\Local\\anaconda3\\envs\\morph_utils_v3\\lib\\site-packages\\scipy\\interpolate\\_interpolate.py:698: RuntimeWarning: invalid value encountered in divide\n",
      "  slope = (y_hi - y_lo) / (x_hi - x_lo)[:, None]\n",
      "c:\\Users\\sarah.wallingbell\\AppData\\Local\\anaconda3\\envs\\morph_utils_v3\\lib\\site-packages\\scipy\\interpolate\\_interpolate.py:698: RuntimeWarning: invalid value encountered in divide\n",
      "  slope = (y_hi - y_lo) / (x_hi - x_lo)[:, None]\n"
     ]
    },
    {
     "name": "stdout",
     "output_type": "stream",
     "text": [
      "Chat-IRES-Cre-neo;Ai14-631355.13.04.02\n",
      "\t\tno manual swc to register\n",
      "\t\tno pp14 autotrace swc to register\n",
      "\t\tno raw autotrace swc to register\n",
      "Chat-IRES-Cre-neo;Ai14-645932.08.04.01\n",
      "Slc17a6-IRES-Cre;Ai14-564186.08.09.01\n",
      "\t\tno manual swc to register\n",
      "Crh-IRES-Cre_ZJH;Sst-IRES-FlpO;Ai65-558386.05.09.01\n",
      "Slc17a6-IRES-Cre;Ai14-564187.03.09.02\n",
      "Slc17a6-IRES-Cre;Ai14-564187.03.09.01\n",
      "\t\tno manual swc to register\n",
      "\t\tno pp14 autotrace swc to register\n",
      "\t\tno raw autotrace swc to register\n",
      "Slc17a6-IRES-Cre;Ai14-591476.09.09.01\n",
      "\t\tno manual swc to register\n",
      "Ctgf-T2A-dgCre;Ai14-553529.08.06.02\n",
      "Ctgf-T2A-dgCre;Ai14-571204.05.10.01\n",
      "\t\tno manual swc to register\n",
      "\t\tno pp14 autotrace swc to register\n",
      "Ctgf-T2A-dgCre;Ai14-571204.05.10.02\n",
      "\t\tno manual swc to register\n"
     ]
    },
    {
     "name": "stderr",
     "output_type": "stream",
     "text": [
      "c:\\Users\\sarah.wallingbell\\AppData\\Local\\anaconda3\\envs\\morph_utils_v3\\lib\\site-packages\\scipy\\interpolate\\_interpolate.py:698: RuntimeWarning: invalid value encountered in divide\n",
      "  slope = (y_hi - y_lo) / (x_hi - x_lo)[:, None]\n",
      "c:\\Users\\sarah.wallingbell\\AppData\\Local\\anaconda3\\envs\\morph_utils_v3\\lib\\site-packages\\scipy\\interpolate\\_interpolate.py:698: RuntimeWarning: invalid value encountered in divide\n",
      "  slope = (y_hi - y_lo) / (x_hi - x_lo)[:, None]\n",
      "c:\\Users\\sarah.wallingbell\\AppData\\Local\\anaconda3\\envs\\morph_utils_v3\\lib\\site-packages\\scipy\\interpolate\\_interpolate.py:698: RuntimeWarning: invalid value encountered in divide\n",
      "  slope = (y_hi - y_lo) / (x_hi - x_lo)[:, None]\n",
      "c:\\Users\\sarah.wallingbell\\AppData\\Local\\anaconda3\\envs\\morph_utils_v3\\lib\\site-packages\\scipy\\interpolate\\_interpolate.py:698: RuntimeWarning: invalid value encountered in divide\n",
      "  slope = (y_hi - y_lo) / (x_hi - x_lo)[:, None]\n",
      "c:\\Users\\sarah.wallingbell\\AppData\\Local\\anaconda3\\envs\\morph_utils_v3\\lib\\site-packages\\scipy\\interpolate\\_interpolate.py:698: RuntimeWarning: invalid value encountered in divide\n",
      "  slope = (y_hi - y_lo) / (x_hi - x_lo)[:, None]\n"
     ]
    },
    {
     "name": "stdout",
     "output_type": "stream",
     "text": [
      "Slc17a6-IRES-Cre;Ai14-578133.07.03.01\n",
      "Slc17a6-IRES-Cre;Ai14-578133.07.03.02\n",
      "\t\tno manual swc to register\n",
      "\t\tno pp14 autotrace swc to register\n",
      "\t\tno raw autotrace swc to register\n",
      "Dbh-Cre_KH212;RCL-Sun1sfGFP-neo-650884.08.06.01\n",
      "\t\tno manual swc to register\n",
      "\t\tno pp14 autotrace swc to register\n",
      "\t\tno raw autotrace swc to register\n",
      "Dbh-Cre_KH212;RCL-Sun1sfGFP-neo-650884.08.06.02\n",
      "Dbh-Cre_KH212;RCL-Sun1sfGFP-neo-650884.08.06.03\n",
      "\t\tno manual swc to register\n",
      "\t\tno pp14 autotrace swc to register\n",
      "\t\tno raw autotrace swc to register\n",
      "Dbh-Cre_KH212;RCL-Sun1sfGFP-neo-650884.08.06.04\n",
      "\t\tno manual swc to register\n",
      "\t\tno pp14 autotrace swc to register\n",
      "\t\tno raw autotrace swc to register\n",
      "Slc17a6-IRES-Cre;Ai14-578139.15.10.01\n",
      "\t\tno manual swc to register\n",
      "Slc17a6-IRES-Cre;Ai14-578139.15.10.02\n",
      "\t\tno manual swc to register\n",
      "\t\tno pp14 autotrace swc to register\n",
      "\t\tno raw autotrace swc to register\n",
      "Slc17a6-IRES-Cre;Ai14-612219.07.03.01\n",
      "Slc17a6-IRES-Cre;Ai14-612219.07.03.02\n",
      "\t\tno manual swc to register\n",
      "\t\tno pp14 autotrace swc to register\n",
      "\t\tno raw autotrace swc to register\n",
      "Slc17a6-IRES-Cre;Ai14-612219.07.03.03\n",
      "\t\tno manual swc to register\n",
      "\t\tno pp14 autotrace swc to register\n",
      "\t\tno raw autotrace swc to register\n",
      "Esr2-IRES2-Cre;Ai14-557045.04.09.01\n",
      "Etv1-CreERT2;Sst-IRES-FlpO;Ai65-555534.04.09.01\n",
      "\t\tno manual swc to register\n",
      "\t\tno pp14 autotrace swc to register\n",
      "\t\tno raw autotrace swc to register\n",
      "Etv1-CreERT2;Sst-IRES-FlpO;Ai65-555534.04.09.02\n",
      "Etv1-CreERT2;Sst-IRES-FlpO;Ai65-555534.04.09.03\n",
      "Gad2-IRES-Cre;Ai14-643792.09.06.01\n",
      "Gad2-IRES-Cre;Ai14-643792.09.06.02\n",
      "\t\tno manual swc to register\n",
      "\t\tno pp14 autotrace swc to register\n",
      "\t\tno raw autotrace swc to register\n",
      "Esr2-IRES2-Cre;Ai14-557045.05.09.02\n",
      "Esr2-IRES2-Cre;Ai14-557045.05.09.01\n",
      "Slc17a6-IRES-Cre;Ai14-591727.10.09.02\n",
      "Slc17a6-IRES-Cre;Ai14-591727.10.09.03\n",
      "\t\tno manual swc to register\n",
      "\t\tno pp14 autotrace swc to register\n",
      "\t\tno raw autotrace swc to register\n",
      "Esr2-IRES2-Cre;Ai14-566833.04.10.01\n",
      "\t\tno manual swc to register\n",
      "\t\tno pp14 autotrace swc to register\n",
      "\t\tno raw autotrace swc to register\n",
      "Esr2-IRES2-Cre;Ai14-566833.04.10.02\n",
      "\t\tno manual swc to register\n",
      "Gad2-IRES-Cre;Ai14-600203.06.03.01\n",
      "Gad2-IRES-Cre;Ai14-600203.06.03.02\n"
     ]
    },
    {
     "name": "stderr",
     "output_type": "stream",
     "text": [
      "c:\\Users\\sarah.wallingbell\\AppData\\Local\\anaconda3\\envs\\morph_utils_v3\\lib\\site-packages\\scipy\\interpolate\\_interpolate.py:698: RuntimeWarning: invalid value encountered in divide\n",
      "  slope = (y_hi - y_lo) / (x_hi - x_lo)[:, None]\n",
      "c:\\Users\\sarah.wallingbell\\AppData\\Local\\anaconda3\\envs\\morph_utils_v3\\lib\\site-packages\\scipy\\interpolate\\_interpolate.py:698: RuntimeWarning: invalid value encountered in divide\n",
      "  slope = (y_hi - y_lo) / (x_hi - x_lo)[:, None]\n",
      "c:\\Users\\sarah.wallingbell\\AppData\\Local\\anaconda3\\envs\\morph_utils_v3\\lib\\site-packages\\scipy\\interpolate\\_interpolate.py:698: RuntimeWarning: invalid value encountered in divide\n",
      "  slope = (y_hi - y_lo) / (x_hi - x_lo)[:, None]\n",
      "c:\\Users\\sarah.wallingbell\\AppData\\Local\\anaconda3\\envs\\morph_utils_v3\\lib\\site-packages\\scipy\\interpolate\\_interpolate.py:698: RuntimeWarning: invalid value encountered in divide\n",
      "  slope = (y_hi - y_lo) / (x_hi - x_lo)[:, None]\n",
      "c:\\Users\\sarah.wallingbell\\AppData\\Local\\anaconda3\\envs\\morph_utils_v3\\lib\\site-packages\\scipy\\interpolate\\_interpolate.py:698: RuntimeWarning: invalid value encountered in divide\n",
      "  slope = (y_hi - y_lo) / (x_hi - x_lo)[:, None]\n"
     ]
    },
    {
     "name": "stdout",
     "output_type": "stream",
     "text": [
      "Slc17a6-IRES-Cre;Ai14-596266.09.01.01\n",
      "Slc17a6-IRES-Cre;Ai14-596266.09.01.03\n",
      "Slc17a6-IRES-Cre;Ai14-596266.09.01.02\n",
      "\t\tno manual swc to register\n",
      "\t\tno pp14 autotrace swc to register\n",
      "\t\tno raw autotrace swc to register\n",
      "Gad2-IRES-Cre;Ai14-663819.06.02.01\n",
      "Htr3a-Cre_NO152;Ai14-622819.08.03.01\n",
      "\t\tno manual swc to register\n",
      "Htr3a-Cre_NO152;Ai14-622819.08.03.02\n",
      "\t\tno manual swc to register\n",
      "\t\tno pp14 autotrace swc to register\n",
      "\t\tno raw autotrace swc to register\n",
      "Htr3a-Cre_NO152;Ai14-622819.08.03.03\n",
      "\t\tno manual swc to register\n",
      "\t\tno pp14 autotrace swc to register\n",
      "\t\tno raw autotrace swc to register\n",
      "Gad2-IRES-Cre;Ai14-574192.10.09.01\n"
     ]
    },
    {
     "name": "stderr",
     "output_type": "stream",
     "text": [
      "C:\\Users\\sarah.wallingbell\\AppData\\Local\\Temp\\ipykernel_48184\\2973423911.py:23: UserWarning: Boolean Series key will be reindexed to match DataFrame index.\n",
      "  this_cell_alignment = alignment_output.query(\"draw_type == 'Soma'\")[alignment_output.specimen_name == sp_name]\n"
     ]
    },
    {
     "name": "stdout",
     "output_type": "stream",
     "text": [
      "Gad2-IRES-Cre;Ai14-574192.10.09.02\n",
      "\t\tno manual swc to register\n",
      "\t\tno pp14 autotrace swc to register\n",
      "\t\tno raw autotrace swc to register\n",
      "Gad2-IRES-Cre;Ai14-574194.04.10.01\n"
     ]
    },
    {
     "name": "stderr",
     "output_type": "stream",
     "text": [
      "C:\\Users\\sarah.wallingbell\\AppData\\Local\\Temp\\ipykernel_48184\\2973423911.py:23: UserWarning: Boolean Series key will be reindexed to match DataFrame index.\n",
      "  this_cell_alignment = alignment_output.query(\"draw_type == 'Soma'\")[alignment_output.specimen_name == sp_name]\n"
     ]
    },
    {
     "name": "stdout",
     "output_type": "stream",
     "text": [
      "Gad2-IRES-Cre;Ai14-609670.04.03.01\n",
      "\t\tno manual swc to register\n",
      "\t\tno pp14 autotrace swc to register\n",
      "\t\tno raw autotrace swc to register\n",
      "Gad2-IRES-Cre;Ai14-609670.04.03.03\n",
      "Gad2-IRES-Cre;Ai14-609670.04.03.04\n",
      "\t\tno manual swc to register\n",
      "\t\tno pp14 autotrace swc to register\n",
      "\t\tno raw autotrace swc to register\n",
      "Gad2-IRES-Cre;Ai14-609670.04.03.05\n",
      "\t\tno manual swc to register\n",
      "\t\tno pp14 autotrace swc to register\n",
      "\t\tno raw autotrace swc to register\n",
      "Gad2-IRES-Cre;Ai14-670843.06.01.01\n",
      "\t\tno manual swc to register\n",
      "\t\tno pp14 autotrace swc to register\n",
      "\t\tno raw autotrace swc to register\n",
      "Gad2-IRES-Cre;Ai14-670843.06.01.02\n",
      "\t\tno manual swc to register\n",
      "\t\tno pp14 autotrace swc to register\n",
      "\t\tno raw autotrace swc to register\n",
      "Gad2-IRES-Cre;Ai14-670843.06.01.03\n",
      "Gad2-IRES-Cre;Ai14-600203.06.04.01\n",
      "\t\tno manual swc to register\n",
      "\t\tno pp14 autotrace swc to register\n",
      "\t\tno raw autotrace swc to register\n",
      "Gad2-IRES-Cre;Ai14-600203.06.04.02\n",
      "Gad2-IRES-Cre;Ai14-600203.06.04.03\n",
      "\t\tno manual swc to register\n",
      "\t\tno pp14 autotrace swc to register\n",
      "\t\tno raw autotrace swc to register\n",
      "Gad2-IRES-Cre;Ai14-600203.06.04.04\n",
      "\t\tno manual swc to register\n",
      "\t\tno pp14 autotrace swc to register\n",
      "\t\tno raw autotrace swc to register\n",
      "Gad2-IRES-Cre;Ai14-600206.05.03.01\n",
      "\t\tno manual swc to register\n",
      "\t\tno pp14 autotrace swc to register\n",
      "\t\tno raw autotrace swc to register\n",
      "Gad2-IRES-Cre;Ai14-600206.05.03.02\n",
      "Gad2-IRES-Cre;Ai14-609670.07.03.01\n",
      "\t\tno manual swc to register\n",
      "\t\tno pp14 autotrace swc to register\n",
      "\t\tno raw autotrace swc to register\n",
      "Gad2-IRES-Cre;Ai14-609670.07.03.02\n",
      "Gad2-IRES-Cre;Ai14-609670.07.03.03\n",
      "Gad2-IRES-Cre;Ai14-623716.09.01.01\n",
      "\t\tno manual swc to register\n",
      "Gad2-IRES-Cre;Ai14-670842.05.02.01\n",
      "\t\tno manual swc to register\n",
      "Gad2-IRES-Cre;Ai14-670842.05.02.02\n",
      "\t\tno manual swc to register\n",
      "\t\tno pp14 autotrace swc to register\n",
      "\t\tno raw autotrace swc to register\n",
      "Gad2-IRES-Cre;Ai14-670842.05.02.03\n",
      "\t\tno manual swc to register\n",
      "\t\tno pp14 autotrace swc to register\n",
      "\t\tno raw autotrace swc to register\n",
      "Gad2-IRES-Cre;Ai14-709271.06.02.01\n",
      "\t\tno manual swc to register\n",
      "\t\tno pp14 autotrace swc to register\n",
      "\t\tno raw autotrace swc to register\n",
      "Gad2-IRES-Cre;Ai14-709271.06.02.02\n",
      "\t\tno manual swc to register\n",
      "\t\tno pp14 autotrace swc to register\n",
      "\t\tno raw autotrace swc to register\n",
      "Gad2-IRES-Cre;Ai14-715659.07.02.01\n",
      "\t\tno manual swc to register\n",
      "Gad2-IRES-Cre;Ai14-715659.07.02.02\n",
      "\t\tno manual swc to register\n",
      "Gad2-IRES-Cre;Ai14-715659.07.02.03\n",
      "\t\tno manual swc to register\n"
     ]
    },
    {
     "name": "stderr",
     "output_type": "stream",
     "text": [
      "c:\\Users\\sarah.wallingbell\\AppData\\Local\\anaconda3\\envs\\morph_utils_v3\\lib\\site-packages\\scipy\\interpolate\\_interpolate.py:698: RuntimeWarning: invalid value encountered in divide\n",
      "  slope = (y_hi - y_lo) / (x_hi - x_lo)[:, None]\n",
      "c:\\Users\\sarah.wallingbell\\AppData\\Local\\anaconda3\\envs\\morph_utils_v3\\lib\\site-packages\\scipy\\interpolate\\_interpolate.py:698: RuntimeWarning: invalid value encountered in divide\n",
      "  slope = (y_hi - y_lo) / (x_hi - x_lo)[:, None]\n",
      "c:\\Users\\sarah.wallingbell\\AppData\\Local\\anaconda3\\envs\\morph_utils_v3\\lib\\site-packages\\scipy\\interpolate\\_interpolate.py:698: RuntimeWarning: invalid value encountered in divide\n",
      "  slope = (y_hi - y_lo) / (x_hi - x_lo)[:, None]\n",
      "c:\\Users\\sarah.wallingbell\\AppData\\Local\\anaconda3\\envs\\morph_utils_v3\\lib\\site-packages\\scipy\\interpolate\\_interpolate.py:698: RuntimeWarning: invalid value encountered in divide\n",
      "  slope = (y_hi - y_lo) / (x_hi - x_lo)[:, None]\n",
      "c:\\Users\\sarah.wallingbell\\AppData\\Local\\anaconda3\\envs\\morph_utils_v3\\lib\\site-packages\\scipy\\interpolate\\_interpolate.py:698: RuntimeWarning: invalid value encountered in divide\n",
      "  slope = (y_hi - y_lo) / (x_hi - x_lo)[:, None]\n"
     ]
    },
    {
     "name": "stdout",
     "output_type": "stream",
     "text": [
      "Gad2-IRES-Cre;Ai14-715659.07.02.04\n",
      "\t\tno manual swc to register\n",
      "\t\tno pp14 autotrace swc to register\n",
      "\t\tno raw autotrace swc to register\n",
      "Gad2-IRES-Cre;Ai14-715659.07.02.05\n",
      "\t\tno manual swc to register\n",
      "Glt25d2-Cre_NF107;Ai14-570372.07.09.01\n",
      "Slc17a6-IRES-Cre;Ai14-612219.07.04.01\n"
     ]
    },
    {
     "name": "stderr",
     "output_type": "stream",
     "text": [
      "c:\\Users\\sarah.wallingbell\\AppData\\Local\\anaconda3\\envs\\morph_utils_v3\\lib\\site-packages\\scipy\\interpolate\\_interpolate.py:698: RuntimeWarning: invalid value encountered in divide\n",
      "  slope = (y_hi - y_lo) / (x_hi - x_lo)[:, None]\n",
      "c:\\Users\\sarah.wallingbell\\AppData\\Local\\anaconda3\\envs\\morph_utils_v3\\lib\\site-packages\\scipy\\interpolate\\_interpolate.py:698: RuntimeWarning: invalid value encountered in divide\n",
      "  slope = (y_hi - y_lo) / (x_hi - x_lo)[:, None]\n",
      "c:\\Users\\sarah.wallingbell\\AppData\\Local\\anaconda3\\envs\\morph_utils_v3\\lib\\site-packages\\scipy\\interpolate\\_interpolate.py:698: RuntimeWarning: invalid value encountered in divide\n",
      "  slope = (y_hi - y_lo) / (x_hi - x_lo)[:, None]\n",
      "c:\\Users\\sarah.wallingbell\\AppData\\Local\\anaconda3\\envs\\morph_utils_v3\\lib\\site-packages\\scipy\\interpolate\\_interpolate.py:698: RuntimeWarning: invalid value encountered in divide\n",
      "  slope = (y_hi - y_lo) / (x_hi - x_lo)[:, None]\n",
      "c:\\Users\\sarah.wallingbell\\AppData\\Local\\anaconda3\\envs\\morph_utils_v3\\lib\\site-packages\\scipy\\interpolate\\_interpolate.py:698: RuntimeWarning: invalid value encountered in divide\n",
      "  slope = (y_hi - y_lo) / (x_hi - x_lo)[:, None]\n"
     ]
    },
    {
     "name": "stdout",
     "output_type": "stream",
     "text": [
      "Slc17a6-IRES-Cre;Ai14-612219.07.04.02\n",
      "Glt25d2-Cre_NF107;Ai14-556826.04.09.01\n",
      "\t\tno manual swc to register\n",
      "\t\tno pp14 autotrace swc to register\n",
      "\t\tno raw autotrace swc to register\n",
      "Glt25d2-Cre_NF107;Ai14-556826.04.09.02\n",
      "\t\tno manual swc to register\n",
      "Htr3a-Cre_NO152;Ai14-621162.05.03.01\n"
     ]
    },
    {
     "name": "stderr",
     "output_type": "stream",
     "text": [
      "c:\\Users\\sarah.wallingbell\\AppData\\Local\\anaconda3\\envs\\morph_utils_v3\\lib\\site-packages\\scipy\\interpolate\\_interpolate.py:698: RuntimeWarning: invalid value encountered in divide\n",
      "  slope = (y_hi - y_lo) / (x_hi - x_lo)[:, None]\n",
      "c:\\Users\\sarah.wallingbell\\AppData\\Local\\anaconda3\\envs\\morph_utils_v3\\lib\\site-packages\\scipy\\interpolate\\_interpolate.py:698: RuntimeWarning: invalid value encountered in divide\n",
      "  slope = (y_hi - y_lo) / (x_hi - x_lo)[:, None]\n",
      "c:\\Users\\sarah.wallingbell\\AppData\\Local\\anaconda3\\envs\\morph_utils_v3\\lib\\site-packages\\scipy\\interpolate\\_interpolate.py:698: RuntimeWarning: invalid value encountered in divide\n",
      "  slope = (y_hi - y_lo) / (x_hi - x_lo)[:, None]\n",
      "c:\\Users\\sarah.wallingbell\\AppData\\Local\\anaconda3\\envs\\morph_utils_v3\\lib\\site-packages\\scipy\\interpolate\\_interpolate.py:698: RuntimeWarning: invalid value encountered in divide\n",
      "  slope = (y_hi - y_lo) / (x_hi - x_lo)[:, None]\n",
      "c:\\Users\\sarah.wallingbell\\AppData\\Local\\anaconda3\\envs\\morph_utils_v3\\lib\\site-packages\\scipy\\interpolate\\_interpolate.py:698: RuntimeWarning: invalid value encountered in divide\n",
      "  slope = (y_hi - y_lo) / (x_hi - x_lo)[:, None]\n"
     ]
    },
    {
     "name": "stdout",
     "output_type": "stream",
     "text": [
      "Htr3a-Cre_NO152;Ai14-621162.05.03.02\n",
      "\t\tno manual swc to register\n",
      "\t\tno pp14 autotrace swc to register\n",
      "\t\tno raw autotrace swc to register\n",
      "Htr3a-Cre_NO152;Ai14-621162.05.03.03\n"
     ]
    },
    {
     "name": "stderr",
     "output_type": "stream",
     "text": [
      "c:\\Users\\sarah.wallingbell\\AppData\\Local\\anaconda3\\envs\\morph_utils_v3\\lib\\site-packages\\scipy\\interpolate\\_interpolate.py:698: RuntimeWarning: invalid value encountered in divide\n",
      "  slope = (y_hi - y_lo) / (x_hi - x_lo)[:, None]\n",
      "c:\\Users\\sarah.wallingbell\\AppData\\Local\\anaconda3\\envs\\morph_utils_v3\\lib\\site-packages\\scipy\\interpolate\\_interpolate.py:698: RuntimeWarning: invalid value encountered in divide\n",
      "  slope = (y_hi - y_lo) / (x_hi - x_lo)[:, None]\n",
      "c:\\Users\\sarah.wallingbell\\AppData\\Local\\anaconda3\\envs\\morph_utils_v3\\lib\\site-packages\\scipy\\interpolate\\_interpolate.py:698: RuntimeWarning: invalid value encountered in divide\n",
      "  slope = (y_hi - y_lo) / (x_hi - x_lo)[:, None]\n",
      "c:\\Users\\sarah.wallingbell\\AppData\\Local\\anaconda3\\envs\\morph_utils_v3\\lib\\site-packages\\scipy\\interpolate\\_interpolate.py:698: RuntimeWarning: invalid value encountered in divide\n",
      "  slope = (y_hi - y_lo) / (x_hi - x_lo)[:, None]\n",
      "c:\\Users\\sarah.wallingbell\\AppData\\Local\\anaconda3\\envs\\morph_utils_v3\\lib\\site-packages\\scipy\\interpolate\\_interpolate.py:698: RuntimeWarning: invalid value encountered in divide\n",
      "  slope = (y_hi - y_lo) / (x_hi - x_lo)[:, None]\n"
     ]
    },
    {
     "name": "stdout",
     "output_type": "stream",
     "text": [
      "Htr3a-Cre_NO152;Ai14-558491.08.06.01\n",
      "Htr3a-Cre_NO152;Ai14-563515.08.09.01\n",
      "\t\tno manual swc to register\n",
      "Htr3a-Cre_NO152;Ai14-563515.08.09.02\n",
      "\t\tno manual swc to register\n",
      "\t\tno pp14 autotrace swc to register\n",
      "\t\tno raw autotrace swc to register\n",
      "Htr3a-Cre_NO152;Ai14-609165.07.04.01\n",
      "\t\tno manual swc to register\n",
      "\t\tno pp14 autotrace swc to register\n",
      "\t\tno raw autotrace swc to register\n",
      "Htr3a-Cre_NO152;Ai14-609165.07.04.02\n",
      "Htr3a-Cre_NO152;Ai14-563514.10.09.01\n",
      "\t\tno manual swc to register\n",
      "\t\tno pp14 autotrace swc to register\n",
      "\t\tno raw autotrace swc to register\n",
      "Htr3a-Cre_NO152;Ai14-563514.10.09.02\n",
      "\t\tno manual swc to register\n",
      "\t\tno pp14 autotrace swc to register\n",
      "\t\tno raw autotrace swc to register\n",
      "Htr3a-Cre_NO152;Ai14-563514.10.09.05\n",
      "\t\tno manual swc to register\n",
      "Htr3a-Cre_NO152;Ai14-563514.10.09.04\n",
      "\t\tno manual swc to register\n",
      "\t\tno pp14 autotrace swc to register\n",
      "\t\tno raw autotrace swc to register\n",
      "Htr3a-Cre_NO152;Ai14-563514.10.09.03\n",
      "\t\tno manual swc to register\n",
      "Htr3a-Cre_NO152;Ai14-563515.04.09.01\n",
      "Slc17a6-IRES-Cre;Ai14-622106.07.03.01\n",
      "Slc17a6-IRES-Cre;Ai14-622106.07.03.02\n",
      "\t\tno manual swc to register\n",
      "\t\tno pp14 autotrace swc to register\n",
      "\t\tno raw autotrace swc to register\n",
      "Slc17a6-IRES-Cre;Ai14-622106.07.03.03\n",
      "\t\tno manual swc to register\n",
      "\t\tno pp14 autotrace swc to register\n",
      "\t\tno raw autotrace swc to register\n",
      "Htr3a-Cre_NO152;Ai14-612284.05.04.01\n",
      "Htr3a-Cre_NO152;Ai14-612284.05.04.02\n",
      "\t\tno manual swc to register\n",
      "\t\tno pp14 autotrace swc to register\n",
      "\t\tno raw autotrace swc to register\n",
      "Htr3a-Cre_NO152;Ai14-612284.05.04.03\n",
      "\t\tno manual swc to register\n",
      "\t\tno pp14 autotrace swc to register\n",
      "\t\tno raw autotrace swc to register\n",
      "Htr3a-Cre_NO152;Ai14-621162.08.04.01\n",
      "\t\tno manual swc to register\n",
      "\t\tno pp14 autotrace swc to register\n",
      "\t\tno raw autotrace swc to register\n",
      "Htr3a-Cre_NO152;Ai14-621162.08.04.02\n",
      "\t\tno manual swc to register\n",
      "\t\tno pp14 autotrace swc to register\n",
      "\t\tno raw autotrace swc to register\n",
      "Htr3a-Cre_NO152;Ai14-621162.08.04.03\n",
      "Htr3a-Cre_NO152;Ai14-621162.08.04.04\n",
      "\t\tno manual swc to register\n",
      "\t\tno pp14 autotrace swc to register\n",
      "\t\tno raw autotrace swc to register\n",
      "Htr3a-Cre_NO152;Ai14-621162.08.04.05\n",
      "\t\tno manual swc to register\n",
      "\t\tno pp14 autotrace swc to register\n",
      "\t\tno raw autotrace swc to register\n",
      "Slc17a6-IRES-Cre;Ai14-622107.08.03.01\n",
      "\t\tno manual swc to register\n",
      "\t\tno pp14 autotrace swc to register\n",
      "\t\tno raw autotrace swc to register\n",
      "Slc17a6-IRES-Cre;Ai14-622107.08.03.02\n",
      "Slc17a6-IRES-Cre;Ai14-622107.08.03.03\n",
      "\t\tno manual swc to register\n",
      "\t\tno pp14 autotrace swc to register\n",
      "\t\tno raw autotrace swc to register\n",
      "Slc17a6-IRES-Cre;Ai14-622107.08.03.04\n",
      "\t\tno manual swc to register\n",
      "\t\tno pp14 autotrace swc to register\n",
      "\t\tno raw autotrace swc to register\n",
      "Htr3a-Cre_NO152;Ai14-622820.08.04.01\n",
      "Htr3a-Cre_NO152;Ai14-622820.08.04.02\n",
      "Htr3a-Cre_NO152;Ai14-621163.06.04.01\n",
      "\t\tno manual swc to register\n",
      "\t\tno pp14 autotrace swc to register\n",
      "\t\tno raw autotrace swc to register\n",
      "Htr3a-Cre_NO152;Ai14-621163.06.04.02\n",
      "\t\tno manual swc to register\n",
      "\t\tno pp14 autotrace swc to register\n",
      "\t\tno raw autotrace swc to register\n",
      "Htr3a-Cre_NO152;Ai14-621163.06.04.03\n",
      "\t\tno manual swc to register\n",
      "\t\tno pp14 autotrace swc to register\n",
      "\t\tno raw autotrace swc to register\n",
      "Htr3a-Cre_NO152;Ai14-621163.06.04.04\n",
      "Htr3a-Cre_NO152;Ai14-621163.06.04.05\n",
      "\t\tno manual swc to register\n",
      "Htr3a-Cre_NO152;Ai14-622819.06.03.01\n"
     ]
    },
    {
     "name": "stderr",
     "output_type": "stream",
     "text": [
      "c:\\Users\\sarah.wallingbell\\AppData\\Local\\anaconda3\\envs\\morph_utils_v3\\lib\\site-packages\\scipy\\interpolate\\_interpolate.py:698: RuntimeWarning: invalid value encountered in divide\n",
      "  slope = (y_hi - y_lo) / (x_hi - x_lo)[:, None]\n",
      "c:\\Users\\sarah.wallingbell\\AppData\\Local\\anaconda3\\envs\\morph_utils_v3\\lib\\site-packages\\scipy\\interpolate\\_interpolate.py:698: RuntimeWarning: invalid value encountered in divide\n",
      "  slope = (y_hi - y_lo) / (x_hi - x_lo)[:, None]\n",
      "c:\\Users\\sarah.wallingbell\\AppData\\Local\\anaconda3\\envs\\morph_utils_v3\\lib\\site-packages\\scipy\\interpolate\\_interpolate.py:698: RuntimeWarning: invalid value encountered in divide\n",
      "  slope = (y_hi - y_lo) / (x_hi - x_lo)[:, None]\n",
      "c:\\Users\\sarah.wallingbell\\AppData\\Local\\anaconda3\\envs\\morph_utils_v3\\lib\\site-packages\\scipy\\interpolate\\_interpolate.py:698: RuntimeWarning: invalid value encountered in divide\n",
      "  slope = (y_hi - y_lo) / (x_hi - x_lo)[:, None]\n",
      "c:\\Users\\sarah.wallingbell\\AppData\\Local\\anaconda3\\envs\\morph_utils_v3\\lib\\site-packages\\scipy\\interpolate\\_interpolate.py:698: RuntimeWarning: invalid value encountered in divide\n",
      "  slope = (y_hi - y_lo) / (x_hi - x_lo)[:, None]\n"
     ]
    },
    {
     "name": "stdout",
     "output_type": "stream",
     "text": [
      "Htr3a-Cre_NO152;Ai14-622819.06.03.02\n",
      "\t\tno manual swc to register\n",
      "\t\tno pp14 autotrace swc to register\n",
      "\t\tno raw autotrace swc to register\n",
      "Htr3a-Cre_NO152;Ai14-622819.06.03.03\n",
      "\t\tno manual swc to register\n",
      "\t\tno pp14 autotrace swc to register\n",
      "\t\tno raw autotrace swc to register\n",
      "Htr3a-Cre_NO152;Ai14-622819.06.03.04\n",
      "\t\tno manual swc to register\n",
      "\t\tno pp14 autotrace swc to register\n",
      "\t\tno raw autotrace swc to register\n",
      "Htr3a-Cre_NO152;Ai14-622819.08.04.01\n",
      "\t\tno manual swc to register\n"
     ]
    },
    {
     "name": "stderr",
     "output_type": "stream",
     "text": [
      "c:\\Users\\sarah.wallingbell\\AppData\\Local\\anaconda3\\envs\\morph_utils_v3\\lib\\site-packages\\scipy\\interpolate\\_interpolate.py:698: RuntimeWarning: invalid value encountered in divide\n",
      "  slope = (y_hi - y_lo) / (x_hi - x_lo)[:, None]\n",
      "c:\\Users\\sarah.wallingbell\\AppData\\Local\\anaconda3\\envs\\morph_utils_v3\\lib\\site-packages\\scipy\\interpolate\\_interpolate.py:698: RuntimeWarning: invalid value encountered in divide\n",
      "  slope = (y_hi - y_lo) / (x_hi - x_lo)[:, None]\n",
      "c:\\Users\\sarah.wallingbell\\AppData\\Local\\anaconda3\\envs\\morph_utils_v3\\lib\\site-packages\\scipy\\interpolate\\_interpolate.py:698: RuntimeWarning: invalid value encountered in divide\n",
      "  slope = (y_hi - y_lo) / (x_hi - x_lo)[:, None]\n",
      "c:\\Users\\sarah.wallingbell\\AppData\\Local\\anaconda3\\envs\\morph_utils_v3\\lib\\site-packages\\scipy\\interpolate\\_interpolate.py:698: RuntimeWarning: invalid value encountered in divide\n",
      "  slope = (y_hi - y_lo) / (x_hi - x_lo)[:, None]\n",
      "c:\\Users\\sarah.wallingbell\\AppData\\Local\\anaconda3\\envs\\morph_utils_v3\\lib\\site-packages\\scipy\\interpolate\\_interpolate.py:698: RuntimeWarning: invalid value encountered in divide\n",
      "  slope = (y_hi - y_lo) / (x_hi - x_lo)[:, None]\n"
     ]
    },
    {
     "name": "stdout",
     "output_type": "stream",
     "text": [
      "Htr3a-Cre_NO152;Ai14-622819.08.04.02\n",
      "\t\tno manual swc to register\n",
      "Htr3a-Cre_NO152;Ai14-622819.08.04.03\n",
      "\t\tno manual swc to register\n",
      "\t\tno pp14 autotrace swc to register\n",
      "\t\tno raw autotrace swc to register\n",
      "Htr3a-Cre_NO152;Ai14-622820.08.03.01\n",
      "\t\tno manual swc to register\n"
     ]
    },
    {
     "name": "stderr",
     "output_type": "stream",
     "text": [
      "c:\\Users\\sarah.wallingbell\\AppData\\Local\\anaconda3\\envs\\morph_utils_v3\\lib\\site-packages\\scipy\\interpolate\\_interpolate.py:698: RuntimeWarning: invalid value encountered in divide\n",
      "  slope = (y_hi - y_lo) / (x_hi - x_lo)[:, None]\n",
      "c:\\Users\\sarah.wallingbell\\AppData\\Local\\anaconda3\\envs\\morph_utils_v3\\lib\\site-packages\\scipy\\interpolate\\_interpolate.py:698: RuntimeWarning: invalid value encountered in divide\n",
      "  slope = (y_hi - y_lo) / (x_hi - x_lo)[:, None]\n",
      "c:\\Users\\sarah.wallingbell\\AppData\\Local\\anaconda3\\envs\\morph_utils_v3\\lib\\site-packages\\scipy\\interpolate\\_interpolate.py:698: RuntimeWarning: invalid value encountered in divide\n",
      "  slope = (y_hi - y_lo) / (x_hi - x_lo)[:, None]\n",
      "c:\\Users\\sarah.wallingbell\\AppData\\Local\\anaconda3\\envs\\morph_utils_v3\\lib\\site-packages\\scipy\\interpolate\\_interpolate.py:698: RuntimeWarning: invalid value encountered in divide\n",
      "  slope = (y_hi - y_lo) / (x_hi - x_lo)[:, None]\n",
      "c:\\Users\\sarah.wallingbell\\AppData\\Local\\anaconda3\\envs\\morph_utils_v3\\lib\\site-packages\\scipy\\interpolate\\_interpolate.py:698: RuntimeWarning: invalid value encountered in divide\n",
      "  slope = (y_hi - y_lo) / (x_hi - x_lo)[:, None]\n"
     ]
    },
    {
     "name": "stdout",
     "output_type": "stream",
     "text": [
      "Htr3a-Cre_NO152;Ai14-622820.08.03.02\n",
      "\t\tno manual swc to register\n",
      "Htr3a-Cre_NO152;Ai14-622820.08.03.03\n",
      "\t\tno manual swc to register\n"
     ]
    },
    {
     "name": "stderr",
     "output_type": "stream",
     "text": [
      "c:\\Users\\sarah.wallingbell\\AppData\\Local\\anaconda3\\envs\\morph_utils_v3\\lib\\site-packages\\scipy\\interpolate\\_interpolate.py:698: RuntimeWarning: invalid value encountered in divide\n",
      "  slope = (y_hi - y_lo) / (x_hi - x_lo)[:, None]\n",
      "c:\\Users\\sarah.wallingbell\\AppData\\Local\\anaconda3\\envs\\morph_utils_v3\\lib\\site-packages\\scipy\\interpolate\\_interpolate.py:698: RuntimeWarning: invalid value encountered in divide\n",
      "  slope = (y_hi - y_lo) / (x_hi - x_lo)[:, None]\n",
      "c:\\Users\\sarah.wallingbell\\AppData\\Local\\anaconda3\\envs\\morph_utils_v3\\lib\\site-packages\\scipy\\interpolate\\_interpolate.py:698: RuntimeWarning: invalid value encountered in divide\n",
      "  slope = (y_hi - y_lo) / (x_hi - x_lo)[:, None]\n",
      "c:\\Users\\sarah.wallingbell\\AppData\\Local\\anaconda3\\envs\\morph_utils_v3\\lib\\site-packages\\scipy\\interpolate\\_interpolate.py:698: RuntimeWarning: invalid value encountered in divide\n",
      "  slope = (y_hi - y_lo) / (x_hi - x_lo)[:, None]\n",
      "c:\\Users\\sarah.wallingbell\\AppData\\Local\\anaconda3\\envs\\morph_utils_v3\\lib\\site-packages\\scipy\\interpolate\\_interpolate.py:698: RuntimeWarning: invalid value encountered in divide\n",
      "  slope = (y_hi - y_lo) / (x_hi - x_lo)[:, None]\n"
     ]
    },
    {
     "name": "stdout",
     "output_type": "stream",
     "text": [
      "Slc17a8-IRES2-Cre;Slc32a1-IRES2-FlpO;Ai65-354751.03.01.01\n",
      "\t\tno manual swc to register\n",
      "\t\tno pp14 autotrace swc to register\n"
     ]
    },
    {
     "name": "stderr",
     "output_type": "stream",
     "text": [
      "C:\\Users\\sarah.wallingbell\\AppData\\Local\\Temp\\ipykernel_48184\\2973423911.py:23: UserWarning: Boolean Series key will be reindexed to match DataFrame index.\n",
      "  this_cell_alignment = alignment_output.query(\"draw_type == 'Soma'\")[alignment_output.specimen_name == sp_name]\n"
     ]
    },
    {
     "name": "stdout",
     "output_type": "stream",
     "text": [
      "Slc17a8-IRES2-Cre;Slc32a1-IRES2-FlpO;Ai65-354751.03.01.02\n",
      "\t\tno manual swc to register\n",
      "\t\tno pp14 autotrace swc to register\n",
      "\t\tno raw autotrace swc to register\n",
      "Htr3a-Cre_NO152;Ai14-639654.06.04.01\n"
     ]
    },
    {
     "name": "stderr",
     "output_type": "stream",
     "text": [
      "C:\\Users\\sarah.wallingbell\\AppData\\Local\\Temp\\ipykernel_48184\\2973423911.py:23: UserWarning: Boolean Series key will be reindexed to match DataFrame index.\n",
      "  this_cell_alignment = alignment_output.query(\"draw_type == 'Soma'\")[alignment_output.specimen_name == sp_name]\n",
      "c:\\Users\\sarah.wallingbell\\AppData\\Local\\anaconda3\\envs\\morph_utils_v3\\lib\\site-packages\\scipy\\interpolate\\_interpolate.py:698: RuntimeWarning: invalid value encountered in divide\n",
      "  slope = (y_hi - y_lo) / (x_hi - x_lo)[:, None]\n",
      "c:\\Users\\sarah.wallingbell\\AppData\\Local\\anaconda3\\envs\\morph_utils_v3\\lib\\site-packages\\scipy\\interpolate\\_interpolate.py:698: RuntimeWarning: invalid value encountered in divide\n",
      "  slope = (y_hi - y_lo) / (x_hi - x_lo)[:, None]\n",
      "c:\\Users\\sarah.wallingbell\\AppData\\Local\\anaconda3\\envs\\morph_utils_v3\\lib\\site-packages\\scipy\\interpolate\\_interpolate.py:698: RuntimeWarning: invalid value encountered in divide\n",
      "  slope = (y_hi - y_lo) / (x_hi - x_lo)[:, None]\n",
      "c:\\Users\\sarah.wallingbell\\AppData\\Local\\anaconda3\\envs\\morph_utils_v3\\lib\\site-packages\\scipy\\interpolate\\_interpolate.py:698: RuntimeWarning: invalid value encountered in divide\n",
      "  slope = (y_hi - y_lo) / (x_hi - x_lo)[:, None]\n",
      "c:\\Users\\sarah.wallingbell\\AppData\\Local\\anaconda3\\envs\\morph_utils_v3\\lib\\site-packages\\scipy\\interpolate\\_interpolate.py:698: RuntimeWarning: invalid value encountered in divide\n",
      "  slope = (y_hi - y_lo) / (x_hi - x_lo)[:, None]\n"
     ]
    },
    {
     "name": "stdout",
     "output_type": "stream",
     "text": [
      "Htr3a-Cre_NO152;Ai14-639654.06.04.02\n",
      "\t\tno manual swc to register\n",
      "\t\tno pp14 autotrace swc to register\n",
      "\t\tno raw autotrace swc to register\n",
      "Htr3a-Cre_NO152;Ai14-640653.04.03.01\n",
      "\t\tno manual swc to register\n"
     ]
    },
    {
     "name": "stderr",
     "output_type": "stream",
     "text": [
      "c:\\Users\\sarah.wallingbell\\AppData\\Local\\anaconda3\\envs\\morph_utils_v3\\lib\\site-packages\\scipy\\interpolate\\_interpolate.py:698: RuntimeWarning: invalid value encountered in divide\n",
      "  slope = (y_hi - y_lo) / (x_hi - x_lo)[:, None]\n",
      "c:\\Users\\sarah.wallingbell\\AppData\\Local\\anaconda3\\envs\\morph_utils_v3\\lib\\site-packages\\scipy\\interpolate\\_interpolate.py:698: RuntimeWarning: invalid value encountered in divide\n",
      "  slope = (y_hi - y_lo) / (x_hi - x_lo)[:, None]\n",
      "c:\\Users\\sarah.wallingbell\\AppData\\Local\\anaconda3\\envs\\morph_utils_v3\\lib\\site-packages\\scipy\\interpolate\\_interpolate.py:698: RuntimeWarning: invalid value encountered in divide\n",
      "  slope = (y_hi - y_lo) / (x_hi - x_lo)[:, None]\n",
      "c:\\Users\\sarah.wallingbell\\AppData\\Local\\anaconda3\\envs\\morph_utils_v3\\lib\\site-packages\\scipy\\interpolate\\_interpolate.py:698: RuntimeWarning: invalid value encountered in divide\n",
      "  slope = (y_hi - y_lo) / (x_hi - x_lo)[:, None]\n",
      "c:\\Users\\sarah.wallingbell\\AppData\\Local\\anaconda3\\envs\\morph_utils_v3\\lib\\site-packages\\scipy\\interpolate\\_interpolate.py:698: RuntimeWarning: invalid value encountered in divide\n",
      "  slope = (y_hi - y_lo) / (x_hi - x_lo)[:, None]\n"
     ]
    },
    {
     "name": "stdout",
     "output_type": "stream",
     "text": [
      "Htr3a-Cre_NO152;Ai14-640653.04.03.02\n",
      "\t\tno manual swc to register\n",
      "\t\tno pp14 autotrace swc to register\n",
      "\t\tno raw autotrace swc to register\n",
      "Htr3a-Cre_NO152;Ai14-640653.04.03.03\n",
      "\t\tno manual swc to register\n",
      "\t\tno pp14 autotrace swc to register\n",
      "\t\tno raw autotrace swc to register\n",
      "Slc17a6-IRES-Cre;Ai14-634162.10.01.01\n",
      "\t\tno manual swc to register\n",
      "\t\tno pp14 autotrace swc to register\n",
      "\t\tno raw autotrace swc to register\n",
      "Slc17a6-IRES-Cre;Ai14-634162.10.01.02\n",
      "\t\tno manual swc to register\n",
      "\t\tno pp14 autotrace swc to register\n",
      "\t\tno raw autotrace swc to register\n",
      "Slc17a6-IRES-Cre;Ai14-634162.10.01.03\n",
      "\t\tno manual swc to register\n",
      "\t\tno pp14 autotrace swc to register\n",
      "\t\tno raw autotrace swc to register\n",
      "Slc17a6-IRES-Cre;Ai14-634162.10.01.04\n",
      "\t\tno manual swc to register\n",
      "Slc17a6-IRES-Cre;Ai14-634162.10.01.05\n",
      "\t\tno manual swc to register\n"
     ]
    },
    {
     "name": "stderr",
     "output_type": "stream",
     "text": [
      "c:\\Users\\sarah.wallingbell\\AppData\\Local\\anaconda3\\envs\\morph_utils_v3\\lib\\site-packages\\scipy\\interpolate\\_interpolate.py:698: RuntimeWarning: invalid value encountered in divide\n",
      "  slope = (y_hi - y_lo) / (x_hi - x_lo)[:, None]\n",
      "c:\\Users\\sarah.wallingbell\\AppData\\Local\\anaconda3\\envs\\morph_utils_v3\\lib\\site-packages\\scipy\\interpolate\\_interpolate.py:698: RuntimeWarning: invalid value encountered in divide\n",
      "  slope = (y_hi - y_lo) / (x_hi - x_lo)[:, None]\n",
      "c:\\Users\\sarah.wallingbell\\AppData\\Local\\anaconda3\\envs\\morph_utils_v3\\lib\\site-packages\\scipy\\interpolate\\_interpolate.py:698: RuntimeWarning: invalid value encountered in divide\n",
      "  slope = (y_hi - y_lo) / (x_hi - x_lo)[:, None]\n",
      "c:\\Users\\sarah.wallingbell\\AppData\\Local\\anaconda3\\envs\\morph_utils_v3\\lib\\site-packages\\scipy\\interpolate\\_interpolate.py:698: RuntimeWarning: invalid value encountered in divide\n",
      "  slope = (y_hi - y_lo) / (x_hi - x_lo)[:, None]\n",
      "c:\\Users\\sarah.wallingbell\\AppData\\Local\\anaconda3\\envs\\morph_utils_v3\\lib\\site-packages\\scipy\\interpolate\\_interpolate.py:698: RuntimeWarning: invalid value encountered in divide\n",
      "  slope = (y_hi - y_lo) / (x_hi - x_lo)[:, None]\n"
     ]
    },
    {
     "name": "stdout",
     "output_type": "stream",
     "text": [
      "Slc17a6-IRES-Cre;Ai14-634163.10.02.01\n",
      "\t\tno pp14 autotrace swc to register\n",
      "Slc17a6-IRES-Cre;Ai14-634163.10.02.02\n",
      "\t\tno manual swc to register\n",
      "\t\tno pp14 autotrace swc to register\n",
      "\t\tno raw autotrace swc to register\n",
      "Slc17a6-IRES-Cre;Ai14-634163.10.02.03\n",
      "\t\tno manual swc to register\n",
      "Slc17a6-IRES-Cre;Ai14-634163.10.02.04\n",
      "Slc17a6-IRES-Cre;Ai14-651167.14.09.01\n",
      "Slc17a6-IRES-Cre;Ai14-651167.14.09.02\n",
      "\t\tno manual swc to register\n",
      "\t\tno pp14 autotrace swc to register\n",
      "\t\tno raw autotrace swc to register\n",
      "Slc32a1-IRES-Cre;Ai14-570209.03.10.01\n",
      "\t\tno manual swc to register\n",
      "Slc17a6-IRES-Cre;Ai14-680262.09.06.01\n",
      "\t\tno manual swc to register\n",
      "\t\tno pp14 autotrace swc to register\n",
      "\t\tno raw autotrace swc to register\n",
      "Slc17a6-IRES-Cre;Ai14-680262.09.06.02\n",
      "\t\tno manual swc to register\n",
      "Slc17a7-IRES2-Cre;Ai14-561511.06.09.01\n",
      "\t\tno manual swc to register\n",
      "\t\tno pp14 autotrace swc to register\n",
      "\t\tno raw autotrace swc to register\n",
      "Slc17a7-IRES2-Cre;Ai14-561511.06.09.02\n",
      "Slc17a7-IRES2-Cre;Ai14-561511.11.09.01\n",
      "\t\tno manual swc to register\n",
      "Slc17a7-IRES2-Cre;Ai14-564812.04.10.01\n",
      "Slc17a7-IRES2-Cre;Ai14-564812.04.10.02\n",
      "\t\tno manual swc to register\n",
      "\t\tno pp14 autotrace swc to register\n",
      "\t\tno raw autotrace swc to register\n",
      "Slc32a1-IRES-Cre;Ai14-562359.09.09.01\n"
     ]
    },
    {
     "name": "stderr",
     "output_type": "stream",
     "text": [
      "c:\\Users\\sarah.wallingbell\\AppData\\Local\\anaconda3\\envs\\morph_utils_v3\\lib\\site-packages\\scipy\\interpolate\\_interpolate.py:698: RuntimeWarning: invalid value encountered in divide\n",
      "  slope = (y_hi - y_lo) / (x_hi - x_lo)[:, None]\n",
      "c:\\Users\\sarah.wallingbell\\AppData\\Local\\anaconda3\\envs\\morph_utils_v3\\lib\\site-packages\\scipy\\interpolate\\_interpolate.py:698: RuntimeWarning: invalid value encountered in divide\n",
      "  slope = (y_hi - y_lo) / (x_hi - x_lo)[:, None]\n",
      "c:\\Users\\sarah.wallingbell\\AppData\\Local\\anaconda3\\envs\\morph_utils_v3\\lib\\site-packages\\scipy\\interpolate\\_interpolate.py:698: RuntimeWarning: invalid value encountered in divide\n",
      "  slope = (y_hi - y_lo) / (x_hi - x_lo)[:, None]\n",
      "c:\\Users\\sarah.wallingbell\\AppData\\Local\\anaconda3\\envs\\morph_utils_v3\\lib\\site-packages\\scipy\\interpolate\\_interpolate.py:698: RuntimeWarning: invalid value encountered in divide\n",
      "  slope = (y_hi - y_lo) / (x_hi - x_lo)[:, None]\n",
      "c:\\Users\\sarah.wallingbell\\AppData\\Local\\anaconda3\\envs\\morph_utils_v3\\lib\\site-packages\\scipy\\interpolate\\_interpolate.py:698: RuntimeWarning: invalid value encountered in divide\n",
      "  slope = (y_hi - y_lo) / (x_hi - x_lo)[:, None]\n"
     ]
    },
    {
     "name": "stdout",
     "output_type": "stream",
     "text": [
      "Slc32a1-IRES-Cre;Ai14-562359.09.09.02\n",
      "\t\tno manual swc to register\n",
      "\t\tno pp14 autotrace swc to register\n",
      "\t\tno raw autotrace swc to register\n",
      "Slc32a1-IRES-Cre;Ai14-562359.11.09.01\n",
      "\t\tno manual swc to register\n",
      "Sncg-IRES2-FlpO-neo;Ai65F-551971.07.06.01\n",
      "\t\tno manual swc to register\n",
      "Sst-IRES-Cre;Ai14-572053.04.10.01\n"
     ]
    },
    {
     "name": "stderr",
     "output_type": "stream",
     "text": [
      "c:\\Users\\sarah.wallingbell\\AppData\\Local\\anaconda3\\envs\\morph_utils_v3\\lib\\site-packages\\scipy\\interpolate\\_interpolate.py:698: RuntimeWarning: invalid value encountered in divide\n",
      "  slope = (y_hi - y_lo) / (x_hi - x_lo)[:, None]\n",
      "c:\\Users\\sarah.wallingbell\\AppData\\Local\\anaconda3\\envs\\morph_utils_v3\\lib\\site-packages\\scipy\\interpolate\\_interpolate.py:698: RuntimeWarning: invalid value encountered in divide\n",
      "  slope = (y_hi - y_lo) / (x_hi - x_lo)[:, None]\n",
      "c:\\Users\\sarah.wallingbell\\AppData\\Local\\anaconda3\\envs\\morph_utils_v3\\lib\\site-packages\\scipy\\interpolate\\_interpolate.py:698: RuntimeWarning: invalid value encountered in divide\n",
      "  slope = (y_hi - y_lo) / (x_hi - x_lo)[:, None]\n",
      "c:\\Users\\sarah.wallingbell\\AppData\\Local\\anaconda3\\envs\\morph_utils_v3\\lib\\site-packages\\scipy\\interpolate\\_interpolate.py:698: RuntimeWarning: invalid value encountered in divide\n",
      "  slope = (y_hi - y_lo) / (x_hi - x_lo)[:, None]\n",
      "c:\\Users\\sarah.wallingbell\\AppData\\Local\\anaconda3\\envs\\morph_utils_v3\\lib\\site-packages\\scipy\\interpolate\\_interpolate.py:698: RuntimeWarning: invalid value encountered in divide\n",
      "  slope = (y_hi - y_lo) / (x_hi - x_lo)[:, None]\n"
     ]
    },
    {
     "name": "stdout",
     "output_type": "stream",
     "text": [
      "Sst-IRES-Cre;Ai14-572053.04.10.02\n",
      "\t\tno manual swc to register\n",
      "Sst-IRES-Cre;Ai14-577300.05.04.01\n",
      "Sst-IRES-Cre;Ai14-577300.05.04.02\n",
      "\t\tno manual swc to register\n",
      "\t\tno pp14 autotrace swc to register\n",
      "\t\tno raw autotrace swc to register\n",
      "Sst-IRES-Cre;Ai14-552310.11.09.01\n"
     ]
    },
    {
     "name": "stderr",
     "output_type": "stream",
     "text": [
      "C:\\Users\\sarah.wallingbell\\AppData\\Local\\Temp\\ipykernel_48184\\2973423911.py:23: UserWarning: Boolean Series key will be reindexed to match DataFrame index.\n",
      "  this_cell_alignment = alignment_output.query(\"draw_type == 'Soma'\")[alignment_output.specimen_name == sp_name]\n"
     ]
    },
    {
     "name": "stdout",
     "output_type": "stream",
     "text": [
      "Sst-IRES-Cre;Ai14-552310.11.09.02\n",
      "\t\tno manual swc to register\n",
      "\t\tno pp14 autotrace swc to register\n",
      "\t\tno raw autotrace swc to register\n",
      "Sst-IRES-Cre;Ai14-552310.11.09.03\n"
     ]
    },
    {
     "name": "stderr",
     "output_type": "stream",
     "text": [
      "C:\\Users\\sarah.wallingbell\\AppData\\Local\\Temp\\ipykernel_48184\\2973423911.py:23: UserWarning: Boolean Series key will be reindexed to match DataFrame index.\n",
      "  this_cell_alignment = alignment_output.query(\"draw_type == 'Soma'\")[alignment_output.specimen_name == sp_name]\n",
      "C:\\Users\\sarah.wallingbell\\AppData\\Local\\Temp\\ipykernel_48184\\2973423911.py:23: UserWarning: Boolean Series key will be reindexed to match DataFrame index.\n",
      "  this_cell_alignment = alignment_output.query(\"draw_type == 'Soma'\")[alignment_output.specimen_name == sp_name]\n"
     ]
    },
    {
     "name": "stdout",
     "output_type": "stream",
     "text": [
      "Vip-IRES-Cre;Ai14-614426.06.03.04\n",
      "\t\tno manual swc to register\n",
      "\t\tno pp14 autotrace swc to register\n",
      "\t\tno raw autotrace swc to register\n",
      "Vip-IRES-Cre;Ai14-614426.06.03.05\n",
      "\t\tno manual swc to register\n",
      "Vip-IRES-Cre;Ai14-614426.06.03.01\n",
      "\t\tno manual swc to register\n",
      "\t\tno pp14 autotrace swc to register\n",
      "\t\tno raw autotrace swc to register\n",
      "Vip-IRES-Cre;Ai14-614426.06.03.03\n",
      "\t\tno manual swc to register\n",
      "\t\tno pp14 autotrace swc to register\n",
      "\t\tno raw autotrace swc to register\n",
      "Vip-IRES-Cre;Ai14-627402.09.03.01\n",
      "\t\tno manual swc to register\n"
     ]
    },
    {
     "name": "stderr",
     "output_type": "stream",
     "text": [
      "c:\\Users\\sarah.wallingbell\\AppData\\Local\\anaconda3\\envs\\morph_utils_v3\\lib\\site-packages\\scipy\\interpolate\\_interpolate.py:698: RuntimeWarning: invalid value encountered in divide\n",
      "  slope = (y_hi - y_lo) / (x_hi - x_lo)[:, None]\n",
      "c:\\Users\\sarah.wallingbell\\AppData\\Local\\anaconda3\\envs\\morph_utils_v3\\lib\\site-packages\\scipy\\interpolate\\_interpolate.py:698: RuntimeWarning: invalid value encountered in divide\n",
      "  slope = (y_hi - y_lo) / (x_hi - x_lo)[:, None]\n",
      "c:\\Users\\sarah.wallingbell\\AppData\\Local\\anaconda3\\envs\\morph_utils_v3\\lib\\site-packages\\scipy\\interpolate\\_interpolate.py:698: RuntimeWarning: invalid value encountered in divide\n",
      "  slope = (y_hi - y_lo) / (x_hi - x_lo)[:, None]\n",
      "c:\\Users\\sarah.wallingbell\\AppData\\Local\\anaconda3\\envs\\morph_utils_v3\\lib\\site-packages\\scipy\\interpolate\\_interpolate.py:698: RuntimeWarning: invalid value encountered in divide\n",
      "  slope = (y_hi - y_lo) / (x_hi - x_lo)[:, None]\n",
      "c:\\Users\\sarah.wallingbell\\AppData\\Local\\anaconda3\\envs\\morph_utils_v3\\lib\\site-packages\\scipy\\interpolate\\_interpolate.py:698: RuntimeWarning: invalid value encountered in divide\n",
      "  slope = (y_hi - y_lo) / (x_hi - x_lo)[:, None]\n"
     ]
    },
    {
     "name": "stdout",
     "output_type": "stream",
     "text": [
      "Vip-IRES-Cre;Ai14-627403.08.04.01\n",
      "Vip-IRES-Cre;Ai14-627403.08.04.02\n",
      "\t\tno manual swc to register\n",
      "\t\tno pp14 autotrace swc to register\n",
      "\t\tno raw autotrace swc to register\n",
      "Sst-IRES-Cre;Ai14-572056.04.10.03\n"
     ]
    },
    {
     "name": "stderr",
     "output_type": "stream",
     "text": [
      "c:\\Users\\sarah.wallingbell\\AppData\\Local\\anaconda3\\envs\\morph_utils_v3\\lib\\site-packages\\scipy\\interpolate\\_interpolate.py:698: RuntimeWarning: invalid value encountered in divide\n",
      "  slope = (y_hi - y_lo) / (x_hi - x_lo)[:, None]\n",
      "c:\\Users\\sarah.wallingbell\\AppData\\Local\\anaconda3\\envs\\morph_utils_v3\\lib\\site-packages\\scipy\\interpolate\\_interpolate.py:698: RuntimeWarning: invalid value encountered in divide\n",
      "  slope = (y_hi - y_lo) / (x_hi - x_lo)[:, None]\n",
      "c:\\Users\\sarah.wallingbell\\AppData\\Local\\anaconda3\\envs\\morph_utils_v3\\lib\\site-packages\\scipy\\interpolate\\_interpolate.py:698: RuntimeWarning: invalid value encountered in divide\n",
      "  slope = (y_hi - y_lo) / (x_hi - x_lo)[:, None]\n",
      "c:\\Users\\sarah.wallingbell\\AppData\\Local\\anaconda3\\envs\\morph_utils_v3\\lib\\site-packages\\scipy\\interpolate\\_interpolate.py:698: RuntimeWarning: invalid value encountered in divide\n",
      "  slope = (y_hi - y_lo) / (x_hi - x_lo)[:, None]\n",
      "c:\\Users\\sarah.wallingbell\\AppData\\Local\\anaconda3\\envs\\morph_utils_v3\\lib\\site-packages\\scipy\\interpolate\\_interpolate.py:698: RuntimeWarning: invalid value encountered in divide\n",
      "  slope = (y_hi - y_lo) / (x_hi - x_lo)[:, None]\n"
     ]
    },
    {
     "name": "stdout",
     "output_type": "stream",
     "text": [
      "Sst-IRES-Cre;Ai14-572056.04.10.02\n",
      "\t\tno manual swc to register\n",
      "\t\tno pp14 autotrace swc to register\n",
      "\t\tno raw autotrace swc to register\n",
      "Sst-IRES-Cre;Ai14-572056.04.10.01\n",
      "\t\tno manual swc to register\n",
      "\t\tno pp14 autotrace swc to register\n",
      "\t\tno raw autotrace swc to register\n",
      "Sst-IRES-Cre;Ai14-577302.07.03.01\n",
      "Sst-IRES-Cre;Ai14-577302.07.03.02\n",
      "\t\tno manual swc to register\n",
      "\t\tno pp14 autotrace swc to register\n",
      "\t\tno raw autotrace swc to register\n",
      "Sst-IRES-Cre;Ai14-577302.07.04.01\n"
     ]
    },
    {
     "name": "stderr",
     "output_type": "stream",
     "text": [
      "c:\\Users\\sarah.wallingbell\\AppData\\Local\\anaconda3\\envs\\morph_utils_v3\\lib\\site-packages\\scipy\\interpolate\\_interpolate.py:698: RuntimeWarning: invalid value encountered in divide\n",
      "  slope = (y_hi - y_lo) / (x_hi - x_lo)[:, None]\n",
      "c:\\Users\\sarah.wallingbell\\AppData\\Local\\anaconda3\\envs\\morph_utils_v3\\lib\\site-packages\\scipy\\interpolate\\_interpolate.py:698: RuntimeWarning: invalid value encountered in divide\n",
      "  slope = (y_hi - y_lo) / (x_hi - x_lo)[:, None]\n",
      "c:\\Users\\sarah.wallingbell\\AppData\\Local\\anaconda3\\envs\\morph_utils_v3\\lib\\site-packages\\scipy\\interpolate\\_interpolate.py:698: RuntimeWarning: invalid value encountered in divide\n",
      "  slope = (y_hi - y_lo) / (x_hi - x_lo)[:, None]\n",
      "c:\\Users\\sarah.wallingbell\\AppData\\Local\\anaconda3\\envs\\morph_utils_v3\\lib\\site-packages\\scipy\\interpolate\\_interpolate.py:698: RuntimeWarning: invalid value encountered in divide\n",
      "  slope = (y_hi - y_lo) / (x_hi - x_lo)[:, None]\n",
      "c:\\Users\\sarah.wallingbell\\AppData\\Local\\anaconda3\\envs\\morph_utils_v3\\lib\\site-packages\\scipy\\interpolate\\_interpolate.py:698: RuntimeWarning: invalid value encountered in divide\n",
      "  slope = (y_hi - y_lo) / (x_hi - x_lo)[:, None]\n"
     ]
    },
    {
     "name": "stdout",
     "output_type": "stream",
     "text": [
      "Sst-IRES-Cre;Ai14-577302.06.03.01\n",
      "\t\tno manual swc to register\n",
      "\t\tno pp14 autotrace swc to register\n",
      "\t\tno raw autotrace swc to register\n",
      "Sst-IRES-Cre;Ai14-577302.06.03.02\n",
      "Sst-IRES-Cre;Ai14-577302.06.03.03\n",
      "\t\tno manual swc to register\n",
      "\t\tno pp14 autotrace swc to register\n",
      "\t\tno raw autotrace swc to register\n",
      "Sst-IRES-Cre;Ai14-577302.08.03.01\n",
      "Sst-IRES-Cre;Ai14-579950.09.03.01\n",
      "Sst-IRES-Cre;Ai14-579950.09.03.02\n",
      "\t\tno manual swc to register\n",
      "\t\tno pp14 autotrace swc to register\n",
      "\t\tno raw autotrace swc to register\n",
      "Sst-IRES-Cre;Ai14-579950.09.03.03\n",
      "\t\tno manual swc to register\n",
      "\t\tno pp14 autotrace swc to register\n",
      "\t\tno raw autotrace swc to register\n",
      "Sst-IRES-Cre;Ai14-579950.09.03.04\n",
      "\t\tno manual swc to register\n",
      "\t\tno pp14 autotrace swc to register\n",
      "\t\tno raw autotrace swc to register\n",
      "Sst-IRES-Cre;Ai14-579950.09.03.05\n",
      "\t\tno manual swc to register\n",
      "\t\tno pp14 autotrace swc to register\n",
      "\t\tno raw autotrace swc to register\n",
      "Sst-IRES-Cre;Ai14-579951.05.03.01\n",
      "\t\tno manual swc to register\n",
      "\t\tno pp14 autotrace swc to register\n",
      "\t\tno raw autotrace swc to register\n",
      "Sst-IRES-Cre;Ai14-579951.05.03.02\n",
      "\t\tno manual swc to register\n",
      "\t\tno pp14 autotrace swc to register\n",
      "\t\tno raw autotrace swc to register\n",
      "Sst-IRES-Cre;Ai14-579951.05.03.03\n",
      "Sst-IRES-Cre;Ai14-579951.05.03.04\n",
      "\t\tno manual swc to register\n",
      "\t\tno pp14 autotrace swc to register\n",
      "\t\tno raw autotrace swc to register\n",
      "Sst-IRES-Cre;Ai14-581872.15.10.01\n",
      "Sst-IRES-Cre;Ai14-581872.15.10.02\n",
      "\t\tno manual swc to register\n",
      "\t\tno pp14 autotrace swc to register\n",
      "\t\tno raw autotrace swc to register\n",
      "Sst-IRES-Cre;Ai14-581872.15.10.03\n",
      "\t\tno manual swc to register\n",
      "\t\tno pp14 autotrace swc to register\n",
      "\t\tno raw autotrace swc to register\n",
      "Sst-IRES-Cre;Ai14-586759.09.06.01\n",
      "Sst-IRES-Cre;Ai14-586759.09.06.02\n",
      "\t\tno manual swc to register\n",
      "\t\tno pp14 autotrace swc to register\n",
      "\t\tno raw autotrace swc to register\n",
      "Sst-IRES-Cre;Ai14-581873.18.10.01\n",
      "\t\tno manual swc to register\n",
      "Sst-IRES-Cre;Ai14-594119.11.02.01\n",
      "\t\tno manual swc to register\n",
      "Sst-IRES-Cre;Ai14-594119.11.02.02\n",
      "\t\tno manual swc to register\n"
     ]
    },
    {
     "name": "stderr",
     "output_type": "stream",
     "text": [
      "c:\\Users\\sarah.wallingbell\\AppData\\Local\\anaconda3\\envs\\morph_utils_v3\\lib\\site-packages\\scipy\\interpolate\\_interpolate.py:698: RuntimeWarning: invalid value encountered in divide\n",
      "  slope = (y_hi - y_lo) / (x_hi - x_lo)[:, None]\n",
      "c:\\Users\\sarah.wallingbell\\AppData\\Local\\anaconda3\\envs\\morph_utils_v3\\lib\\site-packages\\scipy\\interpolate\\_interpolate.py:698: RuntimeWarning: invalid value encountered in divide\n",
      "  slope = (y_hi - y_lo) / (x_hi - x_lo)[:, None]\n",
      "c:\\Users\\sarah.wallingbell\\AppData\\Local\\anaconda3\\envs\\morph_utils_v3\\lib\\site-packages\\scipy\\interpolate\\_interpolate.py:698: RuntimeWarning: invalid value encountered in divide\n",
      "  slope = (y_hi - y_lo) / (x_hi - x_lo)[:, None]\n",
      "c:\\Users\\sarah.wallingbell\\AppData\\Local\\anaconda3\\envs\\morph_utils_v3\\lib\\site-packages\\scipy\\interpolate\\_interpolate.py:698: RuntimeWarning: invalid value encountered in divide\n",
      "  slope = (y_hi - y_lo) / (x_hi - x_lo)[:, None]\n",
      "c:\\Users\\sarah.wallingbell\\AppData\\Local\\anaconda3\\envs\\morph_utils_v3\\lib\\site-packages\\scipy\\interpolate\\_interpolate.py:698: RuntimeWarning: invalid value encountered in divide\n",
      "  slope = (y_hi - y_lo) / (x_hi - x_lo)[:, None]\n"
     ]
    },
    {
     "name": "stdout",
     "output_type": "stream",
     "text": [
      "Sst-IRES-Cre;Ai14-594119.11.02.03\n",
      "\t\tno manual swc to register\n",
      "Sst-IRES-Cre;Ai14-597071.12.02.01\n",
      "\t\tno manual swc to register\n",
      "Sst-IRES-Cre;Ai14-597071.12.02.02\n"
     ]
    },
    {
     "name": "stderr",
     "output_type": "stream",
     "text": [
      "c:\\Users\\sarah.wallingbell\\AppData\\Local\\anaconda3\\envs\\morph_utils_v3\\lib\\site-packages\\scipy\\interpolate\\_interpolate.py:698: RuntimeWarning: invalid value encountered in divide\n",
      "  slope = (y_hi - y_lo) / (x_hi - x_lo)[:, None]\n",
      "c:\\Users\\sarah.wallingbell\\AppData\\Local\\anaconda3\\envs\\morph_utils_v3\\lib\\site-packages\\scipy\\interpolate\\_interpolate.py:698: RuntimeWarning: invalid value encountered in divide\n",
      "  slope = (y_hi - y_lo) / (x_hi - x_lo)[:, None]\n",
      "c:\\Users\\sarah.wallingbell\\AppData\\Local\\anaconda3\\envs\\morph_utils_v3\\lib\\site-packages\\scipy\\interpolate\\_interpolate.py:698: RuntimeWarning: invalid value encountered in divide\n",
      "  slope = (y_hi - y_lo) / (x_hi - x_lo)[:, None]\n",
      "c:\\Users\\sarah.wallingbell\\AppData\\Local\\anaconda3\\envs\\morph_utils_v3\\lib\\site-packages\\scipy\\interpolate\\_interpolate.py:698: RuntimeWarning: invalid value encountered in divide\n",
      "  slope = (y_hi - y_lo) / (x_hi - x_lo)[:, None]\n",
      "c:\\Users\\sarah.wallingbell\\AppData\\Local\\anaconda3\\envs\\morph_utils_v3\\lib\\site-packages\\scipy\\interpolate\\_interpolate.py:698: RuntimeWarning: invalid value encountered in divide\n",
      "  slope = (y_hi - y_lo) / (x_hi - x_lo)[:, None]\n"
     ]
    },
    {
     "name": "stdout",
     "output_type": "stream",
     "text": [
      "Sst-IRES-Cre;Ai14-597074.09.02.01\n",
      "Sst-IRES-Cre;Ai14-597074.09.02.02\n",
      "Sst-IRES-Cre;Ai14-601711.05.03.01\n",
      "Sst-IRES-Cre;Ai14-601711.05.03.02\n",
      "\t\tno manual swc to register\n",
      "\t\tno pp14 autotrace swc to register\n",
      "\t\tno raw autotrace swc to register\n",
      "Sst-IRES-Cre;Ai14-601711.06.04.01\n",
      "\t\tno manual swc to register\n",
      "\t\tno pp14 autotrace swc to register\n",
      "Sst-IRES-Cre;Ai14-601711.06.04.02\n",
      "\t\tno manual swc to register\n",
      "Sst-IRES-Cre;Ai14-650712.09.04.01\n",
      "\t\tno manual swc to register\n",
      "Sst-IRES-Cre;Ai14-650712.09.04.02\n",
      "\t\tno manual swc to register\n",
      "\t\tno pp14 autotrace swc to register\n",
      "\t\tno raw autotrace swc to register\n",
      "Sst-IRES-Cre;Ai14-724692.12.03.01\n",
      "\t\tno manual swc to register\n",
      "\t\tno pp14 autotrace swc to register\n",
      "\t\tno raw autotrace swc to register\n",
      "Sst-IRES-Cre;Ai14-724692.12.03.02\n",
      "\t\tno manual swc to register\n",
      "\t\tno pp14 autotrace swc to register\n",
      "\t\tno raw autotrace swc to register\n",
      "Tlx3-Cre_PL56-603283.07.09.01\n",
      "Sst-IRES-Cre;Ai14-657809.07.04.01\n",
      "\t\tno manual swc to register\n",
      "\t\tno pp14 autotrace swc to register\n",
      "\t\tno raw autotrace swc to register\n",
      "Sst-IRES-Cre;Ai14-657809.07.04.02\n",
      "Sst-IRES-Cre;Ai14-659100.06.03.01\n",
      "\t\tno manual swc to register\n",
      "\t\tno pp14 autotrace swc to register\n",
      "\t\tno raw autotrace swc to register\n",
      "Sst-IRES-Cre;Ai14-659100.06.03.02\n",
      "Sst-IRES-Cre;Ai14-659100.06.03.03\n",
      "\t\tno manual swc to register\n",
      "\t\tno pp14 autotrace swc to register\n",
      "\t\tno raw autotrace swc to register\n",
      "Sst-IRES-Cre;Ai14-670419.09.03.01\n",
      "Sst-IRES-Cre;Ai14-670419.09.03.02\n",
      "\t\tno manual swc to register\n",
      "\t\tno pp14 autotrace swc to register\n",
      "\t\tno raw autotrace swc to register\n",
      "Sst-IRES-Cre;Th-P2A-FlpO;Ai65-561491.04.09.01\n",
      "\t\tno manual swc to register\n",
      "\t\tno pp14 autotrace swc to register\n",
      "\t\tno raw autotrace swc to register\n",
      "Sst-IRES-Cre;Th-P2A-FlpO;Ai65-561491.04.09.02\n",
      "Sst-IRES-Cre;Th-P2A-FlpO;Ai65-561491.04.09.03\n",
      "\t\tno manual swc to register\n",
      "\t\tno pp14 autotrace swc to register\n",
      "\t\tno raw autotrace swc to register\n",
      "Sst-IRES-Cre;Th-P2A-FlpO;Ai65-561491.10.09.01\n"
     ]
    },
    {
     "name": "stderr",
     "output_type": "stream",
     "text": [
      "c:\\Users\\sarah.wallingbell\\AppData\\Local\\anaconda3\\envs\\morph_utils_v3\\lib\\site-packages\\scipy\\interpolate\\_interpolate.py:698: RuntimeWarning: invalid value encountered in divide\n",
      "  slope = (y_hi - y_lo) / (x_hi - x_lo)[:, None]\n",
      "c:\\Users\\sarah.wallingbell\\AppData\\Local\\anaconda3\\envs\\morph_utils_v3\\lib\\site-packages\\scipy\\interpolate\\_interpolate.py:698: RuntimeWarning: invalid value encountered in divide\n",
      "  slope = (y_hi - y_lo) / (x_hi - x_lo)[:, None]\n",
      "c:\\Users\\sarah.wallingbell\\AppData\\Local\\anaconda3\\envs\\morph_utils_v3\\lib\\site-packages\\scipy\\interpolate\\_interpolate.py:698: RuntimeWarning: invalid value encountered in divide\n",
      "  slope = (y_hi - y_lo) / (x_hi - x_lo)[:, None]\n",
      "c:\\Users\\sarah.wallingbell\\AppData\\Local\\anaconda3\\envs\\morph_utils_v3\\lib\\site-packages\\scipy\\interpolate\\_interpolate.py:698: RuntimeWarning: invalid value encountered in divide\n",
      "  slope = (y_hi - y_lo) / (x_hi - x_lo)[:, None]\n",
      "c:\\Users\\sarah.wallingbell\\AppData\\Local\\anaconda3\\envs\\morph_utils_v3\\lib\\site-packages\\scipy\\interpolate\\_interpolate.py:698: RuntimeWarning: invalid value encountered in divide\n",
      "  slope = (y_hi - y_lo) / (x_hi - x_lo)[:, None]\n"
     ]
    },
    {
     "name": "stdout",
     "output_type": "stream",
     "text": [
      "Sst-IRES-Cre;Th-P2A-FlpO;Ai65-561491.10.09.02\n",
      "\t\tno manual swc to register\n",
      "\t\tno pp14 autotrace swc to register\n",
      "\t\tno raw autotrace swc to register\n",
      "Th-P2A-FlpO;Ai65-575280.02.01.01\n",
      "Th-P2A-FlpO;Ai65-575280.02.01.02\n",
      "\t\tno manual swc to register\n",
      "\t\tno pp14 autotrace swc to register\n",
      "\t\tno raw autotrace swc to register\n",
      "Vip-IRES-Cre;Ai14-560422.06.09.02\n",
      "\t\tno manual swc to register\n",
      "\t\tno pp14 autotrace swc to register\n",
      "\t\tno raw autotrace swc to register\n",
      "Vip-IRES-Cre;Ai14-560422.06.09.03\n",
      "Vip-IRES-Cre;Ai14-563145.08.09.01\n",
      "\t\tno manual swc to register\n",
      "\t\tno pp14 autotrace swc to register\n",
      "\t\tno raw autotrace swc to register\n",
      "Vip-IRES-Cre;Ai14-563145.08.09.02\n",
      "Vipr2-IRES2-Cre;Slc32a1-IRES2-FlpO;Ai65-561070.06.09.01\n",
      "\t\tno manual swc to register\n",
      "\t\tno pp14 autotrace swc to register\n",
      "\t\tno raw autotrace swc to register\n",
      "Vipr2-IRES2-Cre;Slc32a1-IRES2-FlpO;Ai65-561070.06.09.02\n",
      "Vip-IRES-Cre;Ai14-579325.06.03.01\n",
      "Vip-IRES-Cre;Ai14-579326.08.03.01\n",
      "\t\tno manual swc to register\n",
      "\t\tno pp14 autotrace swc to register\n",
      "\t\tno raw autotrace swc to register\n",
      "Vip-IRES-Cre;Ai14-579326.08.03.02\n",
      "\t\tno manual swc to register\n",
      "\t\tno pp14 autotrace swc to register\n",
      "\t\tno raw autotrace swc to register\n",
      "Vip-IRES-Cre;Ai14-579326.08.03.03\n",
      "Vip-IRES-Cre;Ai14-579327.06.03.02\n",
      "\t\tno manual swc to register\n",
      "\t\tno pp14 autotrace swc to register\n",
      "\t\tno raw autotrace swc to register\n",
      "Vip-IRES-Cre;Ai14-579327.06.03.03\n",
      "\t\tno manual swc to register\n",
      "\t\tno pp14 autotrace swc to register\n",
      "\t\tno raw autotrace swc to register\n",
      "Vip-IRES-Cre;Ai14-579327.06.03.04\n",
      "Vip-IRES-Cre;Ai14-563145.10.09.01\n",
      "Vip-IRES-Cre;Ai14-563145.10.09.02\n",
      "\t\tno manual swc to register\n",
      "\t\tno pp14 autotrace swc to register\n",
      "\t\tno raw autotrace swc to register\n",
      "Vip-IRES-Cre;Ai14-563145.10.09.04\n",
      "\t\tno manual swc to register\n",
      "Vip-IRES-Cre;Ai14-579326.06.03.01\n",
      "Vip-IRES-Cre;Ai14-579326.06.03.02\n",
      "\t\tno manual swc to register\n",
      "\t\tno pp14 autotrace swc to register\n",
      "\t\tno raw autotrace swc to register\n",
      "Vip-IRES-Cre;Ai14-579326.06.03.03\n",
      "\t\tno manual swc to register\n",
      "\t\tno pp14 autotrace swc to register\n",
      "\t\tno raw autotrace swc to register\n",
      "Vip-IRES-Cre;Ai14-579328.06.03.03\n",
      "Vip-IRES-Cre;Ai14-579328.06.03.04\n",
      "\t\tno manual swc to register\n",
      "\t\tno pp14 autotrace swc to register\n",
      "\t\tno raw autotrace swc to register\n",
      "Vip-IRES-Cre;Ai14-579328.06.03.02\n",
      "Vip-IRES-Cre;Ai14-579328.06.03.01\n",
      "\t\tno manual swc to register\n",
      "\t\tno pp14 autotrace swc to register\n",
      "\t\tno raw autotrace swc to register\n",
      "Vip-IRES-Cre;Ai14-585633.07.04.01\n",
      "Vip-IRES-Cre;Ai14-614430.05.04.02\n",
      "\t\tno manual swc to register\n",
      "\t\tno pp14 autotrace swc to register\n",
      "\t\tno raw autotrace swc to register\n",
      "Vip-IRES-Cre;Ai14-614430.05.04.03\n",
      "Vip-IRES-Cre;Ai14-579327.08.04.01\n",
      "Vip-IRES-Cre;Ai14-579327.08.04.02\n",
      "\t\tno manual swc to register\n",
      "Vip-IRES-Cre;Ai14-580792.05.04.01\n",
      "Vip-IRES-Cre;Ai14-585633.05.04.01\n"
     ]
    },
    {
     "name": "stderr",
     "output_type": "stream",
     "text": [
      "c:\\Users\\sarah.wallingbell\\AppData\\Local\\anaconda3\\envs\\morph_utils_v3\\lib\\site-packages\\scipy\\interpolate\\_interpolate.py:698: RuntimeWarning: invalid value encountered in divide\n",
      "  slope = (y_hi - y_lo) / (x_hi - x_lo)[:, None]\n",
      "c:\\Users\\sarah.wallingbell\\AppData\\Local\\anaconda3\\envs\\morph_utils_v3\\lib\\site-packages\\scipy\\interpolate\\_interpolate.py:698: RuntimeWarning: invalid value encountered in divide\n",
      "  slope = (y_hi - y_lo) / (x_hi - x_lo)[:, None]\n",
      "c:\\Users\\sarah.wallingbell\\AppData\\Local\\anaconda3\\envs\\morph_utils_v3\\lib\\site-packages\\scipy\\interpolate\\_interpolate.py:698: RuntimeWarning: invalid value encountered in divide\n",
      "  slope = (y_hi - y_lo) / (x_hi - x_lo)[:, None]\n",
      "c:\\Users\\sarah.wallingbell\\AppData\\Local\\anaconda3\\envs\\morph_utils_v3\\lib\\site-packages\\scipy\\interpolate\\_interpolate.py:698: RuntimeWarning: invalid value encountered in divide\n",
      "  slope = (y_hi - y_lo) / (x_hi - x_lo)[:, None]\n",
      "c:\\Users\\sarah.wallingbell\\AppData\\Local\\anaconda3\\envs\\morph_utils_v3\\lib\\site-packages\\scipy\\interpolate\\_interpolate.py:698: RuntimeWarning: invalid value encountered in divide\n",
      "  slope = (y_hi - y_lo) / (x_hi - x_lo)[:, None]\n"
     ]
    },
    {
     "name": "stdout",
     "output_type": "stream",
     "text": [
      "Vip-IRES-Cre;Ai14-585633.05.04.02\n",
      "Vip-IRES-Cre;Ai14-585633.05.04.03\n",
      "\t\tno manual swc to register\n",
      "\t\tno pp14 autotrace swc to register\n",
      "\t\tno raw autotrace swc to register\n",
      "Vip-IRES-Cre;Ai14-594742.11.01.03\n",
      "Vip-IRES-Cre;Ai14-594742.11.01.02\n",
      "\t\tno manual swc to register\n",
      "\t\tno pp14 autotrace swc to register\n",
      "\t\tno raw autotrace swc to register\n",
      "Vip-IRES-Cre;Ai14-594742.11.01.01\n",
      "\t\tno manual swc to register\n",
      "\t\tno pp14 autotrace swc to register\n",
      "\t\tno raw autotrace swc to register\n",
      "Vip-IRES-Cre;Ai14-597353.09.01.01\n",
      "\t\tno manual swc to register\n",
      "\t\tno pp14 autotrace swc to register\n",
      "\t\tno raw autotrace swc to register\n",
      "Vip-IRES-Cre;Ai14-597353.09.01.02\n",
      "Vip-IRES-Cre;Ai14-597353.09.01.03\n",
      "Vip-IRES-Cre;Ai14-609322.06.03.01\n",
      "\t\tno manual swc to register\n",
      "\t\tno pp14 autotrace swc to register\n",
      "\t\tno raw autotrace swc to register\n",
      "Vip-IRES-Cre;Ai14-609322.06.03.02\n",
      "\t\tno manual swc to register\n",
      "\t\tno pp14 autotrace swc to register\n",
      "\t\tno raw autotrace swc to register\n",
      "Vip-IRES-Cre;Ai14-609322.06.03.03\n",
      "\t\tno manual swc to register\n",
      "\t\tno pp14 autotrace swc to register\n",
      "\t\tno raw autotrace swc to register\n",
      "Vip-IRES-Cre;Ai14-609322.06.03.04\n",
      "Vip-IRES-Cre;Ai14-585798.07.03.01\n",
      "\t\tno manual swc to register\n",
      "\t\tno pp14 autotrace swc to register\n",
      "\t\tno raw autotrace swc to register\n",
      "Vip-IRES-Cre;Ai14-585798.07.03.02\n",
      "\t\tno manual swc to register\n",
      "\t\tno pp14 autotrace swc to register\n",
      "\t\tno raw autotrace swc to register\n",
      "Vip-IRES-Cre;Ai14-585798.07.03.04\n",
      "\t\tno manual swc to register\n",
      "\t\tno pp14 autotrace swc to register\n",
      "\t\tno raw autotrace swc to register\n",
      "Vip-IRES-Cre;Ai14-585798.07.03.05\n",
      "\t\tno manual swc to register\n",
      "\t\tno pp14 autotrace swc to register\n",
      "\t\tno raw autotrace swc to register\n",
      "Vip-IRES-Cre;Ai14-585798.07.03.03\n",
      "\t\tno manual swc to register\n",
      "Vip-IRES-Cre;Ai14-609321.07.03.01\n",
      "\t\tno manual swc to register\n",
      "\t\tno pp14 autotrace swc to register\n",
      "\t\tno raw autotrace swc to register\n",
      "Vip-IRES-Cre;Ai14-609321.07.03.02\n",
      "Vip-IRES-Cre;Ai14-614430.07.04.01\n",
      "\t\tno manual swc to register\n",
      "\t\tno pp14 autotrace swc to register\n",
      "\t\tno raw autotrace swc to register\n",
      "Vip-IRES-Cre;Ai14-614430.07.04.02\n",
      "\t\tno manual swc to register\n",
      "Vip-IRES-Cre;Ai14-614430.07.04.03\n",
      "\t\tno manual swc to register\n",
      "\t\tno pp14 autotrace swc to register\n",
      "\t\tno raw autotrace swc to register\n",
      "Vip-IRES-Cre;Ai14-618853.06.04.01\n",
      "\t\tno manual swc to register\n",
      "\t\tno pp14 autotrace swc to register\n",
      "\t\tno raw autotrace swc to register\n",
      "Vip-IRES-Cre;Ai14-618853.06.04.02\n",
      "Vip-IRES-Cre;Ai14-609322.06.04.01\n",
      "\t\tno manual swc to register\n",
      "\t\tno pp14 autotrace swc to register\n",
      "\t\tno raw autotrace swc to register\n",
      "Vip-IRES-Cre;Ai14-609322.06.04.02\n",
      "Vip-IRES-Cre;Ai14-609322.06.04.03\n",
      "\t\tno manual swc to register\n",
      "\t\tno pp14 autotrace swc to register\n",
      "\t\tno raw autotrace swc to register\n",
      "Vip-IRES-Cre;Ai14-609322.06.04.04\n"
     ]
    },
    {
     "name": "stderr",
     "output_type": "stream",
     "text": [
      "c:\\Users\\sarah.wallingbell\\AppData\\Local\\anaconda3\\envs\\morph_utils_v3\\lib\\site-packages\\scipy\\interpolate\\_interpolate.py:698: RuntimeWarning: invalid value encountered in divide\n",
      "  slope = (y_hi - y_lo) / (x_hi - x_lo)[:, None]\n",
      "c:\\Users\\sarah.wallingbell\\AppData\\Local\\anaconda3\\envs\\morph_utils_v3\\lib\\site-packages\\scipy\\interpolate\\_interpolate.py:698: RuntimeWarning: invalid value encountered in divide\n",
      "  slope = (y_hi - y_lo) / (x_hi - x_lo)[:, None]\n",
      "c:\\Users\\sarah.wallingbell\\AppData\\Local\\anaconda3\\envs\\morph_utils_v3\\lib\\site-packages\\scipy\\interpolate\\_interpolate.py:698: RuntimeWarning: invalid value encountered in divide\n",
      "  slope = (y_hi - y_lo) / (x_hi - x_lo)[:, None]\n",
      "c:\\Users\\sarah.wallingbell\\AppData\\Local\\anaconda3\\envs\\morph_utils_v3\\lib\\site-packages\\scipy\\interpolate\\_interpolate.py:698: RuntimeWarning: invalid value encountered in divide\n",
      "  slope = (y_hi - y_lo) / (x_hi - x_lo)[:, None]\n",
      "c:\\Users\\sarah.wallingbell\\AppData\\Local\\anaconda3\\envs\\morph_utils_v3\\lib\\site-packages\\scipy\\interpolate\\_interpolate.py:698: RuntimeWarning: invalid value encountered in divide\n",
      "  slope = (y_hi - y_lo) / (x_hi - x_lo)[:, None]\n"
     ]
    },
    {
     "name": "stdout",
     "output_type": "stream",
     "text": [
      "Vip-IRES-Cre;Ai14-609322.06.04.05\n"
     ]
    },
    {
     "name": "stderr",
     "output_type": "stream",
     "text": [
      "c:\\Users\\sarah.wallingbell\\AppData\\Local\\anaconda3\\envs\\morph_utils_v3\\lib\\site-packages\\scipy\\interpolate\\_interpolate.py:698: RuntimeWarning: invalid value encountered in divide\n",
      "  slope = (y_hi - y_lo) / (x_hi - x_lo)[:, None]\n",
      "c:\\Users\\sarah.wallingbell\\AppData\\Local\\anaconda3\\envs\\morph_utils_v3\\lib\\site-packages\\scipy\\interpolate\\_interpolate.py:698: RuntimeWarning: invalid value encountered in divide\n",
      "  slope = (y_hi - y_lo) / (x_hi - x_lo)[:, None]\n",
      "c:\\Users\\sarah.wallingbell\\AppData\\Local\\anaconda3\\envs\\morph_utils_v3\\lib\\site-packages\\scipy\\interpolate\\_interpolate.py:698: RuntimeWarning: invalid value encountered in divide\n",
      "  slope = (y_hi - y_lo) / (x_hi - x_lo)[:, None]\n",
      "c:\\Users\\sarah.wallingbell\\AppData\\Local\\anaconda3\\envs\\morph_utils_v3\\lib\\site-packages\\scipy\\interpolate\\_interpolate.py:698: RuntimeWarning: invalid value encountered in divide\n",
      "  slope = (y_hi - y_lo) / (x_hi - x_lo)[:, None]\n",
      "c:\\Users\\sarah.wallingbell\\AppData\\Local\\anaconda3\\envs\\morph_utils_v3\\lib\\site-packages\\scipy\\interpolate\\_interpolate.py:698: RuntimeWarning: invalid value encountered in divide\n",
      "  slope = (y_hi - y_lo) / (x_hi - x_lo)[:, None]\n"
     ]
    },
    {
     "name": "stdout",
     "output_type": "stream",
     "text": [
      "Vip-IRES-Cre;Ai14-614426.05.03.01\n",
      "Vip-IRES-Cre;Ai14-614426.05.03.02\n",
      "\t\tno manual swc to register\n",
      "\t\tno pp14 autotrace swc to register\n",
      "\t\tno raw autotrace swc to register\n",
      "Vip-IRES-Cre;Ai14-614429.08.03.01\n",
      "\t\tno manual swc to register\n",
      "Vip-IRES-Cre;Ai14-614429.08.03.02\n",
      "\t\tno manual swc to register\n",
      "\t\tno pp14 autotrace swc to register\n",
      "\t\tno raw autotrace swc to register\n",
      "Vip-IRES-Cre;Ai14-614429.08.03.03\n",
      "\t\tno manual swc to register\n",
      "\t\tno pp14 autotrace swc to register\n",
      "\t\tno raw autotrace swc to register\n",
      "Vip-IRES-Cre;Ai14-614430.08.04.01\n",
      "\t\tno manual swc to register\n",
      "\t\tno pp14 autotrace swc to register\n",
      "\t\tno raw autotrace swc to register\n",
      "Vip-IRES-Cre;Ai14-614430.08.04.02\n",
      "\t\tno manual swc to register\n",
      "Vip-IRES-Cre;Ai14-616172.06.09.01\n",
      "\t\tno manual swc to register\n",
      "Vip-IRES-Cre;Ai14-618853.05.04.01\n",
      "\t\tno manual swc to register\n"
     ]
    },
    {
     "name": "stderr",
     "output_type": "stream",
     "text": [
      "c:\\Users\\sarah.wallingbell\\AppData\\Local\\anaconda3\\envs\\morph_utils_v3\\lib\\site-packages\\scipy\\interpolate\\_interpolate.py:698: RuntimeWarning: invalid value encountered in divide\n",
      "  slope = (y_hi - y_lo) / (x_hi - x_lo)[:, None]\n",
      "c:\\Users\\sarah.wallingbell\\AppData\\Local\\anaconda3\\envs\\morph_utils_v3\\lib\\site-packages\\scipy\\interpolate\\_interpolate.py:698: RuntimeWarning: invalid value encountered in divide\n",
      "  slope = (y_hi - y_lo) / (x_hi - x_lo)[:, None]\n",
      "c:\\Users\\sarah.wallingbell\\AppData\\Local\\anaconda3\\envs\\morph_utils_v3\\lib\\site-packages\\scipy\\interpolate\\_interpolate.py:698: RuntimeWarning: invalid value encountered in divide\n",
      "  slope = (y_hi - y_lo) / (x_hi - x_lo)[:, None]\n",
      "c:\\Users\\sarah.wallingbell\\AppData\\Local\\anaconda3\\envs\\morph_utils_v3\\lib\\site-packages\\scipy\\interpolate\\_interpolate.py:698: RuntimeWarning: invalid value encountered in divide\n",
      "  slope = (y_hi - y_lo) / (x_hi - x_lo)[:, None]\n",
      "c:\\Users\\sarah.wallingbell\\AppData\\Local\\anaconda3\\envs\\morph_utils_v3\\lib\\site-packages\\scipy\\interpolate\\_interpolate.py:698: RuntimeWarning: invalid value encountered in divide\n",
      "  slope = (y_hi - y_lo) / (x_hi - x_lo)[:, None]\n"
     ]
    },
    {
     "name": "stdout",
     "output_type": "stream",
     "text": [
      "Vip-IRES-Cre;Ai14-618853.05.04.02\n",
      "\t\tno manual swc to register\n",
      "\t\tno pp14 autotrace swc to register\n",
      "\t\tno raw autotrace swc to register\n",
      "Vip-IRES-Cre;Ai14-618853.05.04.03\n",
      "\t\tno manual swc to register\n"
     ]
    },
    {
     "name": "stderr",
     "output_type": "stream",
     "text": [
      "c:\\Users\\sarah.wallingbell\\AppData\\Local\\anaconda3\\envs\\morph_utils_v3\\lib\\site-packages\\scipy\\interpolate\\_interpolate.py:698: RuntimeWarning: invalid value encountered in divide\n",
      "  slope = (y_hi - y_lo) / (x_hi - x_lo)[:, None]\n",
      "c:\\Users\\sarah.wallingbell\\AppData\\Local\\anaconda3\\envs\\morph_utils_v3\\lib\\site-packages\\scipy\\interpolate\\_interpolate.py:698: RuntimeWarning: invalid value encountered in divide\n",
      "  slope = (y_hi - y_lo) / (x_hi - x_lo)[:, None]\n",
      "c:\\Users\\sarah.wallingbell\\AppData\\Local\\anaconda3\\envs\\morph_utils_v3\\lib\\site-packages\\scipy\\interpolate\\_interpolate.py:698: RuntimeWarning: invalid value encountered in divide\n",
      "  slope = (y_hi - y_lo) / (x_hi - x_lo)[:, None]\n",
      "c:\\Users\\sarah.wallingbell\\AppData\\Local\\anaconda3\\envs\\morph_utils_v3\\lib\\site-packages\\scipy\\interpolate\\_interpolate.py:698: RuntimeWarning: invalid value encountered in divide\n",
      "  slope = (y_hi - y_lo) / (x_hi - x_lo)[:, None]\n",
      "c:\\Users\\sarah.wallingbell\\AppData\\Local\\anaconda3\\envs\\morph_utils_v3\\lib\\site-packages\\scipy\\interpolate\\_interpolate.py:698: RuntimeWarning: invalid value encountered in divide\n",
      "  slope = (y_hi - y_lo) / (x_hi - x_lo)[:, None]\n"
     ]
    },
    {
     "name": "stdout",
     "output_type": "stream",
     "text": [
      "Vip-IRES-Cre;Ai14-624389.09.01.01\n",
      "\t\tno manual swc to register\n",
      "\t\tno pp14 autotrace swc to register\n",
      "Vip-IRES-Cre;Ai14-627402.08.04.01\n",
      "Vip-IRES-Cre;Ai14-627402.08.04.02\n",
      "\t\tno manual swc to register\n",
      "Vipr2-IRES2-Cre;Slc32a1-IRES2-FlpO;Ai65-561070.03.09.01\n",
      "\t\tno manual swc to register\n",
      "Vipr2-IRES2-Cre;Slc32a1-IRES2-FlpO;Ai65-561070.03.09.02\n",
      "Vipr2-IRES2-Cre;Slc32a1-IRES2-FlpO;Ai65-561070.05.09.01\n",
      "\t\tno manual swc to register\n",
      "\t\tno pp14 autotrace swc to register\n",
      "\t\tno raw autotrace swc to register\n",
      "Vipr2-IRES2-Cre;Slc32a1-IRES2-FlpO;Ai65-561070.05.09.02\n",
      "Vip-IRES-Cre;Ai14-633751.12.04.01\n",
      "\t\tno manual swc to register\n",
      "\t\tno pp14 autotrace swc to register\n",
      "\t\tno raw autotrace swc to register\n",
      "Vip-IRES-Cre;Ai14-633751.12.04.02\n",
      "Vipr2-IRES2-Cre;Slc32a1-IRES2-FlpO;Ai65-562071.12.09.03\n",
      "Vipr2-IRES2-Cre;Slc32a1-IRES2-FlpO;Ai65-562071.12.09.01\n",
      "\t\tno manual swc to register\n",
      "\t\tno pp14 autotrace swc to register\n",
      "\t\tno raw autotrace swc to register\n",
      "Vipr2-IRES2-Cre;Slc32a1-IRES2-FlpO;Ai65-562071.12.09.02\n",
      "\t\tno manual swc to register\n",
      "\t\tno pp14 autotrace swc to register\n",
      "\t\tno raw autotrace swc to register\n",
      "Vipr2-IRES2-Cre;Slc32a1-IRES2-FlpO;Ai65-562071.12.09.04\n",
      "\t\tno manual swc to register\n",
      "\t\tno pp14 autotrace swc to register\n",
      "\t\tno raw autotrace swc to register\n",
      "Htr3a-Cre_NO152;Ai14-578482.07.03.01\n",
      "\t\tno manual swc to register\n",
      "\t\tno pp14 autotrace swc to register\n",
      "\t\tno raw autotrace swc to register\n",
      "Htr3a-Cre_NO152;Ai14-578482.07.03.02\n",
      "Rbp4-Cre_KL100;Ai14-601913.06.04.02\n",
      "\t\tno manual swc to register\n",
      "\t\tno pp14 autotrace swc to register\n",
      "\t\tno raw autotrace swc to register\n",
      "Rbp4-Cre_KL100;Ai14-601913.06.04.01\n",
      "\t\tno manual swc to register\n",
      "\t\tno pp14 autotrace swc to register\n",
      "\t\tno raw autotrace swc to register\n",
      "Rbp4-Cre_KL100;Ai14-601913.06.04.03\n",
      "Ctgf-T2A-dgCre;Ai14-560652.09.06.01\n",
      "\t\tno manual swc to register\n",
      "\t\tno pp14 autotrace swc to register\n",
      "\t\tno raw autotrace swc to register\n",
      "Ctgf-T2A-dgCre;Ai14-560652.09.06.02\n",
      "Ctgf-T2A-dgCre;Ai14-560652.09.06.03\n",
      "\t\tno manual swc to register\n",
      "\t\tno pp14 autotrace swc to register\n",
      "\t\tno raw autotrace swc to register\n",
      "Ctgf-T2A-dgCre;Ai14-560652.09.06.04\n",
      "\t\tno manual swc to register\n",
      "\t\tno pp14 autotrace swc to register\n",
      "\t\tno raw autotrace swc to register\n",
      "Dbh-Cre_KH212;RCL-H2B-GFP-705577.07.06.01\n",
      "\t\tno manual swc to register\n",
      "\t\tno pp14 autotrace swc to register\n",
      "\t\tno raw autotrace swc to register\n",
      "Dbh-Cre_KH212;RCL-H2B-GFP-705577.07.06.02\n",
      "\t\tno manual swc to register\n",
      "\t\tno pp14 autotrace swc to register\n",
      "\t\tno raw autotrace swc to register\n",
      "Dbh-Cre_KH212;RCL-H2B-GFP-705577.07.06.03\n",
      "\t\tno manual swc to register\n",
      "Chat-IRES-Cre-neo;Ai14-600096.07.03.02\n",
      "Chat-IRES-Cre-neo;Ai14-600096.07.03.03\n",
      "Sst-IRES-Cre;Ai14-670417.06.03.01\n",
      "\t\tno manual swc to register\n",
      "\t\tno pp14 autotrace swc to register\n",
      "\t\tno raw autotrace swc to register\n",
      "Sst-IRES-Cre;Ai14-670417.06.03.02\n",
      "\t\tno manual swc to register\n",
      "\t\tno pp14 autotrace swc to register\n",
      "\t\tno raw autotrace swc to register\n",
      "Sst-IRES-Cre;Ai14-670417.06.03.03\n",
      "\t\tno manual swc to register\n",
      "Pvalb-IRES-Cre;Ai14-756291.08.04.01\n",
      "Pvalb-IRES-Cre;Ai14-756291.08.04.02\n",
      "Pvalb-IRES-Cre;Ai14-756291.08.04.03\n",
      "Pvalb-IRES-Cre;Ai14-756291.08.04.04\n",
      "C57BL6J-767150.10.03.02\n",
      "C57BL6J-767150.10.03.03\n",
      "C57BL6J-767150.10.03.04\n",
      "C57BL6J-767150.10.03.01\n",
      "Dbh-Cre-KI;Ai65-763842.08.06.01\n",
      "Dbh-Cre-KI;Ai65-763842.08.06.02\n",
      "Dbh-Cre-KI;Ai65-763842.08.06.03\n",
      "Dbh-Cre-KI;Ai65-763847.07.06.01\n",
      "Dbh-Cre-KI;Ai65-763847.07.06.02\n",
      "C57BL6J-767154.07.04.01\n",
      "C57BL6J-767154.07.04.02\n",
      "C57BL6J-767151.09.03.01\n",
      "C57BL6J-767151.09.03.02\n",
      "C57BL6J-767154.09.03.01\n",
      "C57BL6J-767154.09.03.02\n",
      "Dbh-Cre_KH212;RCL-H2B-GFP-764669.07.06.01\n",
      "Dbh-Cre_KH212;RCL-H2B-GFP-764669.07.06.02\n",
      "Slc17a6-IRES-Cre;Ai14-660758.08.09.05\n",
      "Dbh-Cre-KI;Ai65-752560.08.06.01\n",
      "Dbh-Cre-KI;Ai65-752560.08.06.02\n",
      "Dbh-Cre-KI;Ai65-752560.08.06.03\n",
      "Dbh-Cre-KI;Ai65-752560.08.06.04\n",
      "C57BL6J-755441.09.03.02\n",
      "C57BL6J-755441.09.03.03\n",
      "C57BL6J-661503.06.01.02\n",
      "C57BL6J-661503.06.01.01\n",
      "C57BL6J-664477.04.02.01\n",
      "C57BL6J-664477.04.02.02\n",
      "C57BL6J-755444.09.04.01\n",
      "C57BL6J-755444.09.04.02\n",
      "C57BL6J-755444.09.04.03\n",
      "Pvalb-IRES-Cre;Ai14-756513.08.03.01\n",
      "Pvalb-IRES-Cre;Ai14-756513.08.03.02\n",
      "Pvalb-IRES-Cre;Ai14-756513.08.03.03\n",
      "C57BL6J-755441.11.04.01\n",
      "C57BL6J-755441.11.04.02\n",
      "C57BL6J-755441.11.04.03\n",
      "C57BL6J-755441.11.04.04\n",
      "Pvalb-IRES-Cre;Ai14-756291.06.04.01\n",
      "Pvalb-IRES-Cre;Ai14-756291.06.04.02\n",
      "Pvalb-IRES-Cre;Ai14-756291.06.04.03\n",
      "Pvalb-IRES-Cre;Ai14-756291.06.04.04\n",
      "Pvalb-IRES-Cre;Ai14-756291.11.03.01\n",
      "Pvalb-IRES-Cre;Ai14-756291.11.03.02\n",
      "Pvalb-IRES-Cre;Ai14-756291.11.03.03\n",
      "Pvalb-IRES-Cre;Ai14-759603.08.04.01\n",
      "Pvalb-IRES-Cre;Ai14-759603.08.04.02\n",
      "C57BL6J-765843.09.03.01\n",
      "C57BL6J-765843.09.03.02\n",
      "Pvalb-IRES-Cre;Ai14-760997.11.03.01\n",
      "Pvalb-IRES-Cre;Ai14-760997.11.03.02\n",
      "Pvalb-IRES-Cre;Ai14-760997.11.03.03\n",
      "C57BL6J-767149.07.04.01\n",
      "C57BL6J-767149.07.04.02\n",
      "C57BL6J-767150.09.03.01\n",
      "C57BL6J-767150.09.03.02\n",
      "C57BL6J-767150.09.03.03\n",
      "Pvalb-IRES-Cre;Ai14-756513.09.03.01\n",
      "Pvalb-IRES-Cre;Ai14-756513.09.03.02\n",
      "Pvalb-IRES-Cre;Ai14-756513.09.03.03\n",
      "Sst-IRES-Cre;Ai14-581875.06.04.01\n",
      "Pvalb-IRES-Cre;Ai14-764353.10.03.01\n",
      "Pvalb-IRES-Cre;Ai14-764353.10.03.02\n",
      "Pvalb-IRES-Cre;Ai14-764353.10.03.03\n",
      "Pvalb-IRES-Cre;Ai14-764353.10.03.04\n",
      "Pvalb-IRES-Cre;Ai14-764353.10.03.05\n",
      "Dbh-Cre_KH212;RCL-H2B-GFP-734078.10.06.01\n",
      "Dbh-Cre_KH212;RCL-H2B-GFP-718807.10.06.01\n",
      "Dbh-Cre-KI;Ai65-731901.11.06.01\n",
      "Dbh-Cre_KH212;RCL-H2B-GFP-710877.11.06.01\n",
      "Dbh-Cre_KH212;RCL-H2B-GFP-710877.11.06.02\n",
      "Dbh-Cre_KH212;RCL-H2B-GFP-695527.09.06.01\n",
      "Gad2-IRES-Cre;Ai14-670838.11.06.01\n",
      "Gad2-IRES-Cre;Ai14-670838.11.06.02\n",
      "C57BL6J-724012.10.01.01\n",
      "C57BL6J-724012.10.01.02\n",
      "Dbh-Cre_KH212;RCL-H2B-GFP-718807.09.06.01\n",
      "Dbh-Cre_KH212;RCL-H2B-GFP-718807.09.06.02\n",
      "Dbh-Cre_KH212;RCL-H2B-GFP-734078.09.06.01\n",
      "Dbh-Cre_KH212;RCL-H2B-GFP-734078.09.06.02\n",
      "Dbh-Cre_KH212;RCL-H2B-GFP-734078.09.06.03\n",
      "Dbh-Cre_KH212;RCL-H2B-GFP-734079.11.06.01\n",
      "Dbh-Cre_KH212;RCL-H2B-GFP-734079.11.06.02\n",
      "Dbh-Cre_KH212;RCL-H2B-GFP-657884.09.06.02\n",
      "\t no soma pin\n",
      "Dbh-Cre_KH212;RCL-H2B-GFP-657884.09.06.01\n",
      "\t no soma pin\n",
      "Dbh-Cre_KH212;RCL-H2B-GFP-740851.11.06.01\n",
      "Dbh-Cre-KI;Ai65-751021.11.06.01\n",
      "Dbh-Cre-KI;Ai65-751021.11.06.02\n",
      "Dbh-Cre-KI;Ai65-751021.11.06.03\n",
      "C57BL6J-772653.06.02.01\n",
      "Dbh-Cre-KI;Ai65-763847.06.06.01\n",
      "Dbh-Cre-KI;Ai65-763847.06.06.02\n",
      "Pvalb-IRES-Cre;Ai14-759603.08.03.01\n",
      "Pvalb-IRES-Cre;Ai14-759603.08.03.02\n",
      "Pvalb-IRES-Cre;Ai14-759603.08.03.03\n",
      "Pvalb-IRES-Cre;Ai14-759603.08.03.04\n",
      "Pvalb-IRES-Cre;Ai14-764354.07.03.01\n",
      "Pvalb-IRES-Cre;Ai14-764354.07.03.02\n",
      "Pvalb-IRES-Cre;Ai14-764354.07.03.03\n",
      "C57BL6J-645072.13.09.01\n",
      "C57BL6J-755813.11.04.01\n",
      "C57BL6J-755865.05.01.01\n",
      "C57BL6J-764728.08.10.01\n",
      "C57BL6J-764728.08.10.02\n",
      "C57BL6J-764728.08.10.03\n",
      "C57BL6J-766606.09.04.01\n",
      "C57BL6J-766606.09.04.02\n",
      "C57BL6J-766606.09.04.03\n",
      "C57BL6J-766606.09.04.05\n",
      "C57BL6J-766606.09.04.06\n",
      "C57BL6J-766606.09.04.04\n",
      "C57BL6J-765856.11.03.01\n",
      "C57BL6J-766606.11.03.01\n",
      "C57BL6J-766606.11.03.02\n",
      "C57BL6J-766606.11.03.03\n",
      "C57BL6J-766606.11.03.04\n",
      "C57BL6J-766606.11.03.05\n",
      "C57BL6J-766607.09.04.01\n",
      "C57BL6J-766607.09.04.02\n",
      "C57BL6J-766608.07.04.01\n",
      "C57BL6J-766608.07.04.02\n",
      "C57BL6J-766608.07.04.03\n",
      "C57BL6J-769876.13.04.01\n",
      "C57BL6J-769876.13.04.02\n",
      "C57BL6J-771437.07.04.01\n",
      "C57BL6J-771437.07.04.02\n",
      "C57BL6J-771437.07.04.03\n",
      "C57BL6J-771437.07.04.04\n",
      "Dbh-Cre_KH212;RCL-H2B-GFP-692026.09.10.01\n",
      "\t no soma pin\n",
      "Dbh-Cre_KH212;RCL-Sun1sfGFP-neo-650884.09.06.01\n",
      "\t no soma pin\n",
      "Dbh-Cre_KH212;RCL-Sun1sfGFP-neo-650884.09.06.02\n",
      "\t no soma pin\n",
      "Dbh-Cre_KH212;RCL-Sun1sfGFP-neo-650884.09.06.03\n",
      "\t no soma pin\n",
      "Dbh-Cre_KH212;RCL-Sun1sfGFP-neo-650884.09.06.04\n",
      "Dbh-Cre_KH212;RCL-Sun1sfGFP-neo-650884.09.06.05\n",
      "\t no soma pin\n",
      "C57BL6J-665266.11.06.01\n",
      "\t no soma pin\n",
      "C57BL6J-665266.11.06.02\n",
      "\t no soma pin\n",
      "C57BL6J-665266.11.06.03\n",
      "\t no soma pin\n",
      "C57BL6J-665266.11.06.04\n",
      "\t no soma pin\n",
      "C57BL6J-665266.11.06.05\n",
      "\t no soma pin\n",
      "Dbh-Cre_KH212;RCL-H2B-GFP-692026.10.10.01\n",
      "\t\tno pp14 autotrace swc to register\n",
      "Dbh-Cre_KH212;RCL-H2B-GFP-692026.10.10.02\n",
      "\t no soma pin\n",
      "Slc17a8-IRES2-Cre-neo;Ai14-744794.01.09.01\n",
      "Dbh-Cre_KH212;RCL-H2B-GFP-705577.10.06.01\n",
      "\t no soma pin\n",
      "Dbh-Cre_KH212;RCL-H2B-GFP-705577.10.06.02\n",
      "Dbh-Cre_KH212;RCL-H2B-GFP-705577.10.06.03\n",
      "\t no soma pin\n",
      "Dbh-Cre_KH212;RCL-H2B-GFP-705581.10.06.01\n",
      "Dbh-Cre_KH212;RCL-H2B-GFP-705581.10.06.02\n",
      "\t\tno manual swc to register\n",
      "\t\tno pp14 autotrace swc to register\n",
      "\t\tno raw autotrace swc to register\n",
      "Dbh-Cre_KH212;RCL-H2B-GFP-705581.10.06.03\n",
      "Dbh-Cre_KH212;RCL-H2B-GFP-705581.10.06.04\n",
      "\t\tno manual swc to register\n",
      "\t\tno pp14 autotrace swc to register\n",
      "\t\tno raw autotrace swc to register\n",
      "Dbh-Cre_KH212;RCL-H2B-GFP-724916.11.06.02\n",
      "\t no soma pin\n",
      "Dbh-Cre_KH212;RCL-H2B-GFP-724916.11.06.01\n",
      "\t no soma pin\n",
      "Ndnf-IRES2-dgCre;Ai14-659663.11.06.01\n"
     ]
    },
    {
     "name": "stderr",
     "output_type": "stream",
     "text": [
      "c:\\Users\\sarah.wallingbell\\AppData\\Local\\anaconda3\\envs\\morph_utils_v3\\lib\\site-packages\\scipy\\interpolate\\_interpolate.py:698: RuntimeWarning: invalid value encountered in divide\n",
      "  slope = (y_hi - y_lo) / (x_hi - x_lo)[:, None]\n",
      "c:\\Users\\sarah.wallingbell\\AppData\\Local\\anaconda3\\envs\\morph_utils_v3\\lib\\site-packages\\scipy\\interpolate\\_interpolate.py:698: RuntimeWarning: invalid value encountered in divide\n",
      "  slope = (y_hi - y_lo) / (x_hi - x_lo)[:, None]\n",
      "c:\\Users\\sarah.wallingbell\\AppData\\Local\\anaconda3\\envs\\morph_utils_v3\\lib\\site-packages\\scipy\\interpolate\\_interpolate.py:698: RuntimeWarning: invalid value encountered in divide\n",
      "  slope = (y_hi - y_lo) / (x_hi - x_lo)[:, None]\n",
      "c:\\Users\\sarah.wallingbell\\AppData\\Local\\anaconda3\\envs\\morph_utils_v3\\lib\\site-packages\\scipy\\interpolate\\_interpolate.py:698: RuntimeWarning: invalid value encountered in divide\n",
      "  slope = (y_hi - y_lo) / (x_hi - x_lo)[:, None]\n",
      "c:\\Users\\sarah.wallingbell\\AppData\\Local\\anaconda3\\envs\\morph_utils_v3\\lib\\site-packages\\scipy\\interpolate\\_interpolate.py:698: RuntimeWarning: invalid value encountered in divide\n",
      "  slope = (y_hi - y_lo) / (x_hi - x_lo)[:, None]\n"
     ]
    },
    {
     "name": "stdout",
     "output_type": "stream",
     "text": [
      "Ndnf-IRES2-dgCre;Ai14-659663.11.06.02\n",
      "\t no soma pin\n",
      "Ndnf-IRES2-dgCre;Ai14-659663.11.06.03\n",
      "\t\tno pp14 autotrace swc to register\n",
      "Ndnf-IRES2-dgCre;Ai14-659663.11.06.04\n"
     ]
    },
    {
     "name": "stderr",
     "output_type": "stream",
     "text": [
      "c:\\Users\\sarah.wallingbell\\AppData\\Local\\anaconda3\\envs\\morph_utils_v3\\lib\\site-packages\\scipy\\interpolate\\_interpolate.py:698: RuntimeWarning: invalid value encountered in divide\n",
      "  slope = (y_hi - y_lo) / (x_hi - x_lo)[:, None]\n",
      "c:\\Users\\sarah.wallingbell\\AppData\\Local\\anaconda3\\envs\\morph_utils_v3\\lib\\site-packages\\scipy\\interpolate\\_interpolate.py:698: RuntimeWarning: invalid value encountered in divide\n",
      "  slope = (y_hi - y_lo) / (x_hi - x_lo)[:, None]\n",
      "c:\\Users\\sarah.wallingbell\\AppData\\Local\\anaconda3\\envs\\morph_utils_v3\\lib\\site-packages\\scipy\\interpolate\\_interpolate.py:698: RuntimeWarning: invalid value encountered in divide\n",
      "  slope = (y_hi - y_lo) / (x_hi - x_lo)[:, None]\n",
      "c:\\Users\\sarah.wallingbell\\AppData\\Local\\anaconda3\\envs\\morph_utils_v3\\lib\\site-packages\\scipy\\interpolate\\_interpolate.py:698: RuntimeWarning: invalid value encountered in divide\n",
      "  slope = (y_hi - y_lo) / (x_hi - x_lo)[:, None]\n",
      "c:\\Users\\sarah.wallingbell\\AppData\\Local\\anaconda3\\envs\\morph_utils_v3\\lib\\site-packages\\scipy\\interpolate\\_interpolate.py:698: RuntimeWarning: invalid value encountered in divide\n",
      "  slope = (y_hi - y_lo) / (x_hi - x_lo)[:, None]\n"
     ]
    },
    {
     "name": "stdout",
     "output_type": "stream",
     "text": [
      "Rbp4-Cre_KL100;Ai14-659002.11.06.01\n",
      "\t no soma pin\n",
      "Rbp4-Cre_KL100;Ai14-659002.11.06.02\n",
      "Ndnf-IRES2-dgCre;Ai14-659661.11.06.01\n",
      "Ndnf-IRES2-dgCre;Ai14-659661.11.06.02\n",
      "\t no soma pin\n",
      "Ndnf-IRES2-dgCre;Ai14-659661.11.06.03\n",
      "\t no soma pin\n",
      "Pvalb-IRES-Cre;Ai14-650959.11.06.01\n",
      "\t no soma pin\n",
      "Pvalb-IRES-Cre;Ai14-650959.11.06.02\n",
      "\t no soma pin\n",
      "Pvalb-IRES-Cre;Ai14-650959.11.06.03\n",
      "\t no soma pin\n",
      "Pvalb-IRES-Cre;Ai14-650959.11.06.04\n"
     ]
    },
    {
     "name": "stderr",
     "output_type": "stream",
     "text": [
      "c:\\Users\\sarah.wallingbell\\AppData\\Local\\anaconda3\\envs\\morph_utils_v3\\lib\\site-packages\\scipy\\interpolate\\_interpolate.py:698: RuntimeWarning: invalid value encountered in divide\n",
      "  slope = (y_hi - y_lo) / (x_hi - x_lo)[:, None]\n",
      "c:\\Users\\sarah.wallingbell\\AppData\\Local\\anaconda3\\envs\\morph_utils_v3\\lib\\site-packages\\scipy\\interpolate\\_interpolate.py:698: RuntimeWarning: invalid value encountered in divide\n",
      "  slope = (y_hi - y_lo) / (x_hi - x_lo)[:, None]\n",
      "c:\\Users\\sarah.wallingbell\\AppData\\Local\\anaconda3\\envs\\morph_utils_v3\\lib\\site-packages\\scipy\\interpolate\\_interpolate.py:698: RuntimeWarning: invalid value encountered in divide\n",
      "  slope = (y_hi - y_lo) / (x_hi - x_lo)[:, None]\n",
      "c:\\Users\\sarah.wallingbell\\AppData\\Local\\anaconda3\\envs\\morph_utils_v3\\lib\\site-packages\\scipy\\interpolate\\_interpolate.py:698: RuntimeWarning: invalid value encountered in divide\n",
      "  slope = (y_hi - y_lo) / (x_hi - x_lo)[:, None]\n",
      "c:\\Users\\sarah.wallingbell\\AppData\\Local\\anaconda3\\envs\\morph_utils_v3\\lib\\site-packages\\scipy\\interpolate\\_interpolate.py:698: RuntimeWarning: invalid value encountered in divide\n",
      "  slope = (y_hi - y_lo) / (x_hi - x_lo)[:, None]\n"
     ]
    },
    {
     "name": "stdout",
     "output_type": "stream",
     "text": [
      "Rbp4-Cre_KL100;Ai14-658998.09.06.01\n",
      "Rbp4-Cre_KL100;Ai14-658998.09.06.02\n",
      "\t no soma pin\n",
      "Rbp4-Cre_KL100;Ai14-658998.09.06.03\n",
      "Rbp4-Cre_KL100;Ai14-658998.09.06.04\n",
      "\t no soma pin\n",
      "Slc17a6-IRES-Cre;Ai14-651169.10.06.01\n",
      "\t no soma pin\n",
      "Slc17a6-IRES-Cre;Ai14-651169.10.06.02\n",
      "\t no soma pin\n",
      "Slc17a6-IRES-Cre;Ai14-651169.10.06.03\n",
      "Slc17a6-IRES-Cre;Ai14-651169.10.06.04\n",
      "Slc17a6-IRES-Cre;Ai14-670828.09.06.01\n",
      "Slc17a8-IRES2-Cre-neo;Ai14-744792.04.09.01\n",
      "Slc17a8-IRES2-Cre-neo;Ai14-744792.04.09.02\n",
      "\t no soma pin\n",
      "Slc17a6-IRES-Cre;Ai14-651168.10.06.01\n",
      "\t no soma pin\n",
      "Slc17a6-IRES-Cre;Ai14-651168.10.06.02\n",
      "Slc17a6-IRES-Cre;Ai14-651168.10.06.03\n"
     ]
    },
    {
     "name": "stderr",
     "output_type": "stream",
     "text": [
      "c:\\Users\\sarah.wallingbell\\AppData\\Local\\anaconda3\\envs\\morph_utils_v3\\lib\\site-packages\\scipy\\interpolate\\_interpolate.py:698: RuntimeWarning: invalid value encountered in divide\n",
      "  slope = (y_hi - y_lo) / (x_hi - x_lo)[:, None]\n",
      "c:\\Users\\sarah.wallingbell\\AppData\\Local\\anaconda3\\envs\\morph_utils_v3\\lib\\site-packages\\scipy\\interpolate\\_interpolate.py:698: RuntimeWarning: invalid value encountered in divide\n",
      "  slope = (y_hi - y_lo) / (x_hi - x_lo)[:, None]\n",
      "c:\\Users\\sarah.wallingbell\\AppData\\Local\\anaconda3\\envs\\morph_utils_v3\\lib\\site-packages\\scipy\\interpolate\\_interpolate.py:698: RuntimeWarning: invalid value encountered in divide\n",
      "  slope = (y_hi - y_lo) / (x_hi - x_lo)[:, None]\n",
      "c:\\Users\\sarah.wallingbell\\AppData\\Local\\anaconda3\\envs\\morph_utils_v3\\lib\\site-packages\\scipy\\interpolate\\_interpolate.py:698: RuntimeWarning: invalid value encountered in divide\n",
      "  slope = (y_hi - y_lo) / (x_hi - x_lo)[:, None]\n",
      "c:\\Users\\sarah.wallingbell\\AppData\\Local\\anaconda3\\envs\\morph_utils_v3\\lib\\site-packages\\scipy\\interpolate\\_interpolate.py:698: RuntimeWarning: invalid value encountered in divide\n",
      "  slope = (y_hi - y_lo) / (x_hi - x_lo)[:, None]\n"
     ]
    }
   ],
   "source": [
    "registered_cells = []\n",
    "uprighted_cells = []\n",
    "cells_with_issues = {}\n",
    "\n",
    "for idx, cell in somas.iterrows():\n",
    "    sp_name = cell['specimen_name']\n",
    "    sl_name = sp_name.rsplit('.', 1)[0]\n",
    "\n",
    "    print(sp_name)\n",
    "\n",
    "    try:\n",
    "        sp_id = get_id_by_name(sp_name)\n",
    "\n",
    "        #check if there's a transform for this slice \n",
    "        slice_path = os.path.join(out, sl_name)\n",
    "        if not os.path.isfile(os.path.join(slice_path, 'overview_to_virtual_slice_transform.txt')): continue #go on to next cell \n",
    "        if not os.path.isfile(os.path.join(slice_path, 'virtual_slice_to_ccf_transform.txt')): continue #go on to next cell \n",
    "        if not os.path.isfile(os.path.join(slice_path, 'alignment_output.csv')): continue #go on to next cell \n",
    "\n",
    "\n",
    "        #get soma loc in 20x \n",
    "        alignment_output = pd.read_csv(os.path.join(slice_path, 'alignment_output.csv'))\n",
    "        this_cell_alignment = alignment_output.query(\"draw_type == 'Soma'\")[alignment_output.specimen_name == sp_name]\n",
    "        if len(this_cell_alignment) == 0: \n",
    "            cells_with_issues[sp_name] = 'No soma pin'\n",
    "            print('\\t no soma pin')\n",
    "            continue\n",
    "        if len(this_cell_alignment) > 1: \n",
    "            cells_with_issues[sp_name] = 'Multiple soma pins'\n",
    "            print('\\t multiple soma pins')\n",
    "            continue\n",
    "        lims_soma = this_cell_alignment['center_micron'].values\n",
    "        lims_soma = lims_soma[0][1:-2].split(' ')\n",
    "        lims_soma = [float(i) for i in lims_soma if len(i) > 0]\n",
    "\n",
    "\n",
    "        #make folder to save registered swcs\n",
    "        swc_path = os.path.join(slice_path, 'SWC')\n",
    "        if not os.path.exists(swc_path): os.mkdir(swc_path)\n",
    "\n",
    "\n",
    "        #load affine transforms\n",
    "        overview_to_virtual_slice_transform =           sitk.ReadTransform(os.path.join(slice_path, 'overview_to_virtual_slice_transform.txt'))\n",
    "        overview_to_virtual_slice_upright_transform =   sitk.ReadTransform(os.path.join(slice_path, 'overview_to_virtual_slice_upright_transform.txt'))\n",
    "        virtual_slice_to_ccf_transform =                sitk.ReadTransform(os.path.join(slice_path, 'virtual_slice_to_ccf_transform.txt'))\n",
    "\n",
    "\n",
    "        #register manual swc \n",
    "        try: \n",
    "            swc_name = '{}'.format(sp_id)\n",
    "            lims_path = list(get_swc_from_lims(str(sp_id)))[1]\n",
    "            lims_path = edit_path(lims_path)\n",
    "\n",
    "            #register to CCF\n",
    "            morph = to_dict(lims_path)\n",
    "            register_morph(sp_name, sp_id, lims_soma, morph, swc_path, swc_name, somas, \n",
    "                        overview_to_virtual_slice_transform, virtual_slice_to_ccf_transform,\n",
    "                        resolution, volume_shape, z_midline)\n",
    "            registered_cells = registered_cells + [sp_name+'_manual']\n",
    "            \n",
    "            #upright \n",
    "            morph = to_dict(lims_path)\n",
    "            upright_morph(sp_name, sp_id, lims_soma, morph, swc_path, swc_name, somas, \n",
    "                        overview_to_virtual_slice_upright_transform, virtual_slice_to_ccf_transform,\n",
    "                        resolution, volume_shape, z_midline)\n",
    "            uprighted_cells = uprighted_cells + [sp_name+'_manual']\n",
    "            \n",
    "        except: print('\\t\\tno manual swc to register')\n",
    "\n",
    "\n",
    "        autotrace_registered = False\n",
    "        #register autotrace post processed step 14 swc\n",
    "        try: \n",
    "            pp14_path = get_autotrace_pp_path(sp_id, 14)\n",
    "            swc_name = pp14_path.rsplit('\\\\',1)[1].split('.swc',1)[0]\n",
    "\n",
    "            #register to CCF\n",
    "            morph = to_dict(pp14_path)\n",
    "            morph = convert_pixel_to_um_dictnrn(morph, sp_id)\n",
    "            register_morph(sp_name, sp_id, lims_soma, morph, swc_path, swc_name, somas, \n",
    "                    overview_to_virtual_slice_transform, virtual_slice_to_ccf_transform,\n",
    "                    resolution, volume_shape, z_midline)\n",
    "            registered_cells = registered_cells + [sp_name+'_pp14']\n",
    "\n",
    "            #upright \n",
    "            morph = to_dict(pp14_path)\n",
    "            morph = convert_pixel_to_um_dictnrn(morph, sp_id)\n",
    "            upright_morph(sp_name, sp_id, lims_soma, morph, swc_path, swc_name, somas, \n",
    "                        overview_to_virtual_slice_upright_transform, virtual_slice_to_ccf_transform,\n",
    "                        resolution, volume_shape, z_midline)\n",
    "            uprighted_cells = uprighted_cells + [sp_name+'_manual']\n",
    "\n",
    "            autotrace_registered = True\n",
    "        except: print('\\t\\tno pp14 autotrace swc to register')\n",
    "\n",
    "        \n",
    "        #register raw autotrace swc if no post processed version \n",
    "        if not autotrace_registered:\n",
    "            try: \n",
    "                raw_path = get_autotrace_raw_path(sp_id)\n",
    "                swc_name = raw_path.rsplit('\\\\',1)[1].split('.swc',1)[0]\n",
    "\n",
    "                #register to CCF\n",
    "                morph = to_dict(raw_path)\n",
    "                morph = convert_pixel_to_um_dictnrn(morph, sp_id)\n",
    "                register_morph(sp_name, sp_id, lims_soma, morph, swc_path, swc_name, somas, \n",
    "                        overview_to_virtual_slice_transform, virtual_slice_to_ccf_transform,\n",
    "                        resolution, volume_shape, z_midline)\n",
    "                registered_cells = registered_cells + [sp_name+'_raw']\n",
    "\n",
    "                #upright \n",
    "                morph = to_dict(raw_path)\n",
    "                morph = convert_pixel_to_um_dictnrn(morph, sp_id)\n",
    "                upright_morph(sp_name, sp_id, lims_soma, morph, swc_path, swc_name, somas, \n",
    "                            overview_to_virtual_slice_upright_transform, virtual_slice_to_ccf_transform,\n",
    "                            resolution, volume_shape, z_midline)\n",
    "                uprighted_cells = uprighted_cells + [sp_name+'_manual']\n",
    "\n",
    "            except: print('\\t\\tno raw autotrace swc to register')\n",
    "\n",
    "    except: \n",
    "        cells_with_issues[sp_name] = 'Issue with this cell'\n",
    "        continue"
   ]
  },
  {
   "cell_type": "code",
   "execution_count": 11,
   "metadata": {},
   "outputs": [],
   "source": [
    "cells_with_issues_df = pd.DataFrame.from_dict(list(cells_with_issues.items())) \n",
    "cells_with_issues_df.to_csv(os.path.join(out, 'cells_with_issues_{}.csv'.format(current_date)), index=False)"
   ]
  },
  {
   "cell_type": "code",
   "execution_count": 12,
   "metadata": {},
   "outputs": [],
   "source": [
    "registered_cells_df = pd.DataFrame(registered_cells)\n",
    "registered_cells_df.to_csv(os.path.join(out, 'registered_cells_{}.csv'.format(current_date)), index=False)"
   ]
  },
  {
   "cell_type": "code",
   "execution_count": null,
   "metadata": {},
   "outputs": [],
   "source": []
  },
  {
   "cell_type": "code",
   "execution_count": null,
   "metadata": {},
   "outputs": [],
   "source": []
  }
 ],
 "metadata": {
  "kernelspec": {
   "display_name": "morph_utils_v3",
   "language": "python",
   "name": "python3"
  },
  "language_info": {
   "codemirror_mode": {
    "name": "ipython",
    "version": 3
   },
   "file_extension": ".py",
   "mimetype": "text/x-python",
   "name": "python",
   "nbconvert_exporter": "python",
   "pygments_lexer": "ipython3",
   "version": "3.9.18"
  }
 },
 "nbformat": 4,
 "nbformat_minor": 4
}
